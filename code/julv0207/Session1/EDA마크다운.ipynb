{
 "cells": [
  {
   "cell_type": "markdown",
   "id": "a34ed4f1",
   "metadata": {},
   "source": [
    "# What's your EDA?"
   ]
  },
  {
   "cell_type": "markdown",
   "id": "2864500d",
   "metadata": {},
   "source": [
    "- 데이터 분석 프로세스에는 수집, 탐색, 전처리, 모델링이 있다\n",
    "- 그 중 EDA는 데이터 탐색을 뜻한다"
   ]
  },
  {
   "cell_type": "markdown",
   "id": "f43eabef",
   "metadata": {},
   "source": [
    "## 影. 데이터 분석 프로세스"
   ]
  },
  {
   "cell_type": "markdown",
   "id": "fd68daa1",
   "metadata": {},
   "source": [
    "### 데이터 수집\n",
    "- 다양한 형식의 <span style = \"color: blue\">데이터를 수집</span>"
   ]
  },
  {
   "cell_type": "markdown",
   "id": "d1b10f8d",
   "metadata": {},
   "source": [
    "### 데이터 탐색\n",
    "- 수집한 <span style = \"color: blue\">데이터를 여러 가지 방식으로 파악</span>"
   ]
  },
  {
   "cell_type": "markdown",
   "id": "e64ca7da",
   "metadata": {},
   "source": [
    "### 데이터 전처리\n",
    "- 데이터 분석을 위해 <span style = \"color: blue\">데이터를 적절한 방식으로 손질</span>하는 과정\n",
    "- 결측치(값 없음)나 이상치(너무 튀는 값)이 있으면 이를 적절히 처리해야함\n",
    "- 데이터의 왜곡을 피할 수 있음"
   ]
  },
  {
   "cell_type": "markdown",
   "id": "331a80aa",
   "metadata": {},
   "source": [
    "### 데이터 모델링\n",
    "- 데이터로부터 <span style = \"color: blue\">유용한 정보를 추출하기 위해 모델을 구축</span>하는 단계\n",
    "- e.g) 예측, 분류, 군집 등의 목적에 따라 모델을 선택하고 학습시키는 과정"
   ]
  },
  {
   "cell_type": "markdown",
   "id": "ad680382",
   "metadata": {},
   "source": [
    "## 一. EDA의 개념 "
   ]
  },
  {
   "cell_type": "markdown",
   "id": "dbf9957b",
   "metadata": {},
   "source": [
    "> 데이터 분석을 위해 데이터를 여러 가지 방식으로 파악하는 모든 과정"
   ]
  },
  {
   "cell_type": "markdown",
   "id": "6a552a12",
   "metadata": {},
   "source": [
    "- Exploratory Data Analysis\n",
    "- 탐색적 데이터 분석 과정\n",
    "- EDA과정에서 데이터를 잘못 해석하면 향후 분석 과정에서 난항을 겪게 됨"
   ]
  },
  {
   "cell_type": "markdown",
   "id": "014cc6d9",
   "metadata": {},
   "source": [
    "### EDA 진행 시 고려사항"
   ]
  },
  {
   "cell_type": "markdown",
   "id": "d69c2782",
   "metadata": {},
   "source": [
    "#### (1) EDA 대상\n",
    "##### Univariate(일변량)  \n",
    "- EDA를 통해 한 번에 파악하려는 변수가 한 개\n",
    "- 데이터를 설명하고 그 안에 존재하는 패턴 찾는 것이 목적\n",
    "                       \n",
    "##### Multi-variate(다변량) \n",
    "- EDA를 통해 한 번에 파악하려는 변수가 여러 개                          \n",
    "- 여러 변수들 간의 관계를 보는 것이 주요 목적\n",
    "- 변수를 동시에 확인하기 전에 개별 데이터를 먼저 파악하는 것이 오류에 대처하기 용이"
   ]
  },
  {
   "cell_type": "markdown",
   "id": "d2863792",
   "metadata": {},
   "source": [
    "#### (2) EDA 종류"
   ]
  },
  {
   "cell_type": "markdown",
   "id": "b2444ab9",
   "metadata": {},
   "source": [
    "#### Graphic(시각화)\n",
    "- 차트 혹은 그림 등을 이용하여 데이터를 확인하는 방법\n",
    "\n",
    "#### Non-Graphic(비시각화)\n",
    "- 그래프적인 요소를 사용하지 않고 주로 Summary Statics를 통해 데이터를 확인하는 방법"
   ]
  },
  {
   "cell_type": "markdown",
   "id": "c1951779",
   "metadata": {},
   "source": [
    "> 데이터를 그래프로 표현하게 되면 한눈에 데이터를 파악할 수 있으므로 graphic한 EDA를 통해 대략적인 형태를 파악할 수 있다. 반면에 정확한 값이 필요하다면 non-graphic한 EDA를 통해 파악할 수 있을 것이다"
   ]
  },
  {
   "cell_type": "markdown",
   "id": "c13117f5",
   "metadata": {},
   "source": [
    "#### (3) EDA 유형"
   ]
  },
  {
   "cell_type": "markdown",
   "id": "bab8069f",
   "metadata": {},
   "source": [
    "- Uni-Non Graphic(일변량 비시각화) : 주어진 데이터의 Distribution을 확인하는 것이 주목적\n",
    "- Uni-Graphic(일변량 시각화) : 주어진 데이터를 전체적으로 살펴보는 것이 주목적\n",
    "- Multi-Non Graphic(다변량 비시각화) : 주어진 둘 이상의 변수 간 관계를 확인하는 것이 주목적\n",
    "- Multi-Graphic(다변량 시각화) : 주어진 둘 이상의 변수 간 관계를 전체적으로 살펴보는 것이 주목적"
   ]
  },
  {
   "cell_type": "markdown",
   "id": "80d467ab",
   "metadata": {},
   "source": [
    "## 二. 데이터 확인"
   ]
  },
  {
   "cell_type": "markdown",
   "id": "5ac00cc2",
   "metadata": {},
   "source": [
    "### <span style = \"color: blue\">데이터 읽기/쓰기</span>"
   ]
  },
  {
   "cell_type": "markdown",
   "id": "de9281ee",
   "metadata": {},
   "source": [
    "(1) 절대경로와 상대경로\n",
    "- 절대경로: 처음(root 파일)부터 시작하여 목적지까지 전체적인 경로(URL), 해당 파일까지의 모든 경로\n",
    "\n",
    "- e.g) C:\\Users\\사용자 이름\\OneDrive\\Desktop\n",
    "<br>\n",
    "- 상대경로: 현재 작업하고 있는 디렉터리를 기준으로 상하위 디렉터리와 같이 상대적으로 표현되는 경로\n",
    "- e.g) ./ : 현재 디렉터리, ../ : 상위 디렉터리"
   ]
  },
  {
   "cell_type": "markdown",
   "id": "06608268",
   "metadata": {},
   "source": [
    "(2) 데이터 입출력\n",
    "- 데이터 파일의 형식에 따라 <p style = \"font-weight: bold\">데이터를 읽고 쓰는 함수가 다름</p>"
   ]
  },
  {
   "cell_type": "markdown",
   "id": "41209b35",
   "metadata": {},
   "source": [
    "> CSV와 EXCEL 파일을 주로 다룸"
   ]
  },
  {
   "cell_type": "markdown",
   "id": "27c8743e",
   "metadata": {},
   "source": [
    "(3) CSV와 EXCEL\n",
    "- CSV 파일: comma separated value의 약자로 데이터를 쉼표(,)로 구분하고 있는 텍스트 파일\n",
    "- 데이터의 크기가 작고 압축이 용이하기 때문에 가장 널리 사용되는 데이터 형식\n",
    "- pd.read_csv(\"파일경로.csv\")"
   ]
  },
  {
   "cell_type": "markdown",
   "id": "bb9628b4",
   "metadata": {},
   "source": [
    "- EXCEL 파일: 행과 열이 데이터프레임의 행, 열로 일대일 대응\n",
    "- 여러 개의 시트로 구성된 데이터를 읽을 때 불러올 특정 시트를 설정할 수 있음\n",
    "- 여러 sheet를 불러올 때는 list로 받으면 됨\n",
    "- pd.read_excel('파일경로.xlsx', sheet_name ='불러올 시트')"
   ]
  },
  {
   "cell_type": "markdown",
   "id": "b6da1409",
   "metadata": {},
   "source": [
    "<span style = \"color: red\">두 형식 모두 pandas를 통해 DataFrame형식으로 읽어올 수 있음</span>"
   ]
  },
  {
   "cell_type": "markdown",
   "id": "1d256826",
   "metadata": {},
   "source": [
    "### <span style = \"color: blue\">데이터셋 파악하기</span>"
   ]
  },
  {
   "cell_type": "markdown",
   "id": "56c2e461",
   "metadata": {},
   "source": [
    "1. 데이터 프레임 보기\n",
    "- head(): 데이터 프레임 상위 n개 데이터 보여줌<br>\n",
    "2. 데이터 변수 확인\n",
    "- 변수 = 데이터 프레임의 column = feature\n",
    "- 변수 정의 확인: 어떤 정보를 가지는 변수인지 확인\n",
    "- 변수 유형 확인: 범주형과 수치형으로 구분\n",
    "- 수치형 데이터 중 트렌드가 보이면 연속형, 없다면 이산형으로 구분\n",
    "- 변수 데이터 형식 확인 : 날짝, 수치, 텍스트, 이미지등의 구분<br>\n",
    "3. 데이터 분포 확인\n",
    "- 단변수 분석은 원시 데이터(raw data)의 평균값, 최빈값, 중간값 등 변수들의 분포를 산포도, 박스 플롯, 히스토그램 등의 그래프를 통해 단변수, 즉 하나의 데이터 분포를 확인해 분석할 수 있는 방법\n",
    "- 원시 데이터 분포의 확인을 통해 전처리 아이디어를 얻을 수 있음"
   ]
  },
  {
   "cell_type": "markdown",
   "id": "07eeeffd",
   "metadata": {},
   "source": [
    "## 三. 전처리"
   ]
  },
  {
   "cell_type": "markdown",
   "id": "9e9b9086",
   "metadata": {},
   "source": [
    "- 데이터 분석을 위해 데이터를 적절한 방식으로 손질하는 과정\n",
    "- 데이터 정제: 데이터에서 누락된 결측값을 보완, 튀는 값을 이상값으로 대체\n",
    "- 데이터 변환: 데이터 분석을 보다 쉽게 하기 위해 데이터를 변환해 일관성을 확보하고 데이터의 중복을 최소화해 데이터 분석 시간을 절약하는 기술\n",
    "- 데이터 필터링: 데이터의 오류를 발견하고 삭제 및 보정을 통해 데이터의 품질 향상시키는 기술\n",
    "- 데이터 통합: 데이터 분석을 수월하게 하기 위해 유사한 성질의 데이터를 연계하는 등 데이터를 통합하는 기술"
   ]
  },
  {
   "cell_type": "markdown",
   "id": "2b208cfa",
   "metadata": {},
   "source": [
    "### <span style = \"color: blue\">결측값 처리</span>"
   ]
  },
  {
   "cell_type": "markdown",
   "id": "0a282067",
   "metadata": {},
   "source": [
    "- 결측값: 데이터 수집 과정에서 측정되지 않거나 누락된 데이터"
   ]
  },
  {
   "cell_type": "markdown",
   "id": "166768f9",
   "metadata": {},
   "source": [
    "(1) 결측값 확인\n",
    "- info() : 데이터 프레임의 요약 정보를 출력(각 열에 속하는 유효한 값의 개수 보여줌)\n",
    "- value_counts(dropna=False) : 각 열의 결측값을 포함한 전체 데이터 확인 가능\n",
    "- isnull() : 누락 데이터면 True, 유효한 데이터면 False 반환\n",
    "- notnull(): 유효 데이터면 True, 누락 데이터면 False 반환\n",
    "- replace(): 결측값이 NaN이 아니라 0이나 ?등으로 입력되기도 하는데 이 때 사용하여 NaN으로 변환 가능"
   ]
  },
  {
   "cell_type": "markdown",
   "id": "523e485d",
   "metadata": {},
   "source": [
    "(2) 결측값 처리\n",
    "1. 삭제: 데이터가 있는 행 또는 열을 삭제\n",
    "- dropna() : DataFrame내의 결측값이 포함된 레이블을 제거하는 매서드\n",
    "- 삭제는 결측값이 무작위로 발생한 경우에 사용\n",
    "2. 대체: 결측값을 다른 값으로 대체\n",
    "- 평균값, 최빈값 등을 활용\n",
    "- fillna() : 결측값 대체"
   ]
  },
  {
   "cell_type": "markdown",
   "id": "364e28c3",
   "metadata": {},
   "source": [
    "### <span style = \"color: blue\">이상치 처리</span>"
   ]
  },
  {
   "cell_type": "markdown",
   "id": "45962710",
   "metadata": {},
   "source": [
    "- 이상치: 관측된 데이터의 범위에서 많이 벗어난 값\n",
    "- 이상치를 처리해주지 않으면 데이터 분석에 큰 영향을 끼치게 되기 때문에 알맞은 처리를 진행해주어야 함"
   ]
  },
  {
   "cell_type": "markdown",
   "id": "4fbef538",
   "metadata": {},
   "source": [
    "(1) 이상치 확인"
   ]
  },
  {
   "cell_type": "markdown",
   "id": "d0246f95",
   "metadata": {},
   "source": [
    "1. 통계를 통해 확인: describe()\n",
    "2. 시각화를 통해 확인: boxplot()\n",
    "3. Z-score을 통해 확인: 해당 데이터가 평균으로부터 얼마의 표준편차만큼 벗어나 있는지\n",
    "- z값이 음수면 평균 이하, 양수면 평균 이상\n",
    "4. Turkey Fences을 통해 확인: 사분위 범위(IQR)를 기반으로 두 가지 경우에 이상치라고 판단\n",
    "- Q1 - (1.5 * IQR) 미만\n",
    "- Q3 + (1.5 * IQR) 초과"
   ]
  },
  {
   "cell_type": "markdown",
   "id": "0b298e2b",
   "metadata": {},
   "source": [
    "(2) 이상치 제거"
   ]
  },
  {
   "cell_type": "markdown",
   "id": "19208767",
   "metadata": {},
   "source": [
    "1. 전체 삭제\n",
    "- 이상값이 Human error에 의해서 발생한 경우에는 해당 관측치를 삭제하면 됨\n",
    "- 단순 오타나, 주관식 설문 등의 비현실적인 응답, 데이터 처리 과정에서의 오류 등의 경우에 사용함\n",
    "2. 다른 값으로 대체\n",
    "- 절대적인 관측치의 숫자가 작은 경우, 단순 삭제를 통해 이상치를 제거하면 관측치의 절대량이 작아져 신뢰성 문제가 발생\n",
    "- 이상값이 Human error에 의해 발생했더라도 관측치를 삭제하는 대신 다른 값(평균 등)으로 대체\n",
    "3. 변수화\n",
    "- 이상값이 자연 발생한 경우, 단순 삭제나 대체의 방법을 통해 수립된 모델은 설명/예측하고자 하는 현상을 잘 설명하지 못할 수도 있음\n",
    "- 자연발생적인 이상값의 경우, 바로 삭제하지 말고 좀 더 찬찬히 이상값에 대해 파악하는 것이 중요\n",
    "4. 리샘플링\n",
    "- 자연발생한 이상값을 처리하는 또 다른 방법으로는 해당 이상값을 분리해서 모델을 만드는 방법이 있음"
   ]
  },
  {
   "cell_type": "markdown",
   "id": "db8e56ad",
   "metadata": {},
   "source": [
    "### <span style = \"color: blue\">피처 엔지니어링</span>"
   ]
  },
  {
   "cell_type": "markdown",
   "id": "771774f3",
   "metadata": {},
   "source": [
    "- 피처 엔지니어링: 해결하고자 하는 문제를 컴퓨터가 잘 이해할 수 있도록 피처(변수)들의 형태를 변형하거나 적절하게 처리하는 과정\n",
    "- 데이터 전처리의 마지막 단계로 새로운 데이터 또는 변수의 추가 없이 기존의 데이터를 보다 유용하게 만드는 방법"
   ]
  },
  {
   "cell_type": "markdown",
   "id": "d9a25a6e",
   "metadata": {},
   "source": [
    "피처 엔지니어링 방식\n",
    "1. 레이블인코딩 vs 원핫인코딩\n",
    "- 기계는 숫자만 이해하고 텍스트는 이해 못함 -> 텍스트값을 숫자로 바꿔줘야함\n",
    "- Label Encoding: 범주형 변수를 0부터 N-1까지의 숫자로 변환\n",
    "- One-Hot Encoding: 범주형 변수를 이진 벡터로 변환\n",
    "2. 구간화\n",
    "- 연속데이터를 일정한 구간으로 나눠서 분석하는 것이 효율적일 때가 있음\n",
    "- pd.cut(데이터프레임['컬럼명'], bins=[나누는 기준 리스트], labels=[지정할 label])\n",
    "3. 변환\n",
    "- 기존의 피처를 다른 피처로 변환하여 변수를 추가\n",
    "4. 스케일링\n",
    "- 서로 다른 변수의 값 범위를 일정한 수준으로 맞추는 작업\n",
    "- 정규화 작업을 수행\n",
    "- StandardScaler(): 각 feature의 평균을 0, 분산을 1로 변경하여 모든 피처들이 같은 스케일을 갖게 됨\n",
    "- MinMaxScaler(): 모든 feature가 0과 1 사이에 위치하게 만듦\n",
    "- 연산 속도를 높이고 알고리즘 최적화하는 데에 효과적\n",
    "- RobustScaler(): 중앙값과 IQR을 사용하여 이상치의 영향을 최소화하는 방법"
   ]
  },
  {
   "cell_type": "markdown",
   "id": "72c200fd",
   "metadata": {},
   "source": [
    "## 四. 시각화"
   ]
  },
  {
   "cell_type": "markdown",
   "id": "a56cf071",
   "metadata": {},
   "source": [
    "- 시각화는 데이터나 정보를 시각적인 형태로 표현하는 과정 또는 결과물\n",
    "- 시각화를 통해 숫자와 텍스트로 표현되는 정보를 그래프, 차트, 그림, 도표 등의 시각적 요소로 변환하고, 이를 통해 데이터 패턴, 관계, 추세 등을 쉽게 파악\n",
    "- Matplotlib과 Seaborn을 주로 사용"
   ]
  },
  {
   "cell_type": "markdown",
   "id": "ca9efeba",
   "metadata": {},
   "source": [
    "### <span style = \"color: blue\">파라미터</span>"
   ]
  },
  {
   "cell_type": "markdown",
   "id": "53a6ffa5",
   "metadata": {},
   "source": [
    "- 컴퓨터 프로그래밍에서 매개변수(parameter 파라미터)란 프로그래밍된 함수의 입력값을 의미"
   ]
  },
  {
   "cell_type": "markdown",
   "id": "374c1df3",
   "metadata": {},
   "source": [
    "### <span style = \"color: blue\">다양한 그래프 톺아보기</span>"
   ]
  },
  {
   "cell_type": "markdown",
   "id": "b7da97c5",
   "metadata": {},
   "source": [
    "1. boxplot(상자수염그림)\n",
    "- boxplot: 사분위수와 이상치를 보여주는 그래프\n",
    "2. countplot, histplot\n",
    "- countplot: 범주형 변수의 빈도수를 확인하는 그래프\n",
    "- histplot: 도수분포표를 그래프로 나타낸 것, 수치형 변수의 구간별 빈도수를 보여줌\n",
    "3. distplot, kdeplot(커널밀도추청 그래프)\n",
    "- 히스토그램을 연속적으로 곡선으로 연결한 그래프\n",
    "4. barplot,pointplot\n",
    "- barplot: 범주형 데이터값 x에 따른 수치형 데이터값 y의 평균값 제공\n",
    "- pointplot: 막대그래프와 모양만 다르고 동일한 정보 제공\n",
    "5. scatterplot(산점도 그래프), regplot(회귀선이 추가된 scatterplot)\n",
    "- scatterplot: 두 변수 간의 관계를 시각화하기 위해 사용되는 그래프 유형\n",
    "- 변수 간의 패턴, 상관관계, 분포 등을 쉽게 파악 가능\n",
    "- regplot: 두개의 연속 변수 사이의 산점도를 그리고 회귀선을 함께 나타내는 그래프\n",
    "6. catplot\n",
    "- catplot: categoryplot의 줄임말로, 수치형 데이터와 범주형 데이터의 관계 확인\n",
    "7. pieplot\n",
    "- 데이터의 부분관 전체 간의 비율을 표현하는 그래프\n",
    "8. heatmap\n",
    "- 변수간 상관계수를 직관적으로 볼 수 있는 그래프\n",
    "- corr() 매서드로 변수 간의 상관계수를 구하고 이를 히트맵에 표현 가능\n",
    "- 상관계수란 두 수치형 변수 사이의 상관관계의 정도를 수치적으로 나타낸 계수\n",
    "- -1과 1 사이의 값을 가지며 -1과 1에 가까울수록 큰 상관계수를 가짐\n",
    "9. violinplot\n",
    "- 박스플롯과 커널밀도추정 함수 그래프를 합쳐놓은 그래프\n",
    "10. pairplot\n",
    "- 여러 그래프를 한번에 찍을 수 있음"
   ]
  },
  {
   "cell_type": "code",
   "execution_count": null,
   "id": "f34a8af9",
   "metadata": {},
   "outputs": [],
   "source": []
  }
 ],
 "metadata": {
  "kernelspec": {
   "display_name": "Python 3 (ipykernel)",
   "language": "python",
   "name": "python3"
  },
  "language_info": {
   "codemirror_mode": {
    "name": "ipython",
    "version": 3
   },
   "file_extension": ".py",
   "mimetype": "text/x-python",
   "name": "python",
   "nbconvert_exporter": "python",
   "pygments_lexer": "ipython3",
   "version": "3.11.4"
  }
 },
 "nbformat": 4,
 "nbformat_minor": 5
}
