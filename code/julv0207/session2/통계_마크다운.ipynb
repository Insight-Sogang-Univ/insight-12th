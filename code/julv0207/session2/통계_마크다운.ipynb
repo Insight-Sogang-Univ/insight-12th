{
 "cells": [
  {
   "cell_type": "markdown",
   "id": "ed8e182c",
   "metadata": {},
   "source": [
    "# 一.통계란?"
   ]
  },
  {
   "cell_type": "markdown",
   "id": "1336ef5a",
   "metadata": {},
   "source": [
    "- 데이터를 수집, 분석, 해석하는 과정을 통해 패턴, 관계, 변동 등을 이해하고 결론을 도출하는 학문 및 방법론 <br>\n",
    "- 기술통계와 추론통계로 이루어져있음"
   ]
  },
  {
   "cell_type": "markdown",
   "id": "ce414962",
   "metadata": {},
   "source": [
    "### 기술통계학"
   ]
  },
  {
   "cell_type": "markdown",
   "id": "0a343233",
   "metadata": {},
   "source": [
    "> 측정이나 실험을 통해 수집한 자료를 정보로써 전환하기 위하여 요약하고 정리하여 그 특성을 기술하는 절차에 관한 개념"
   ]
  },
  {
   "cell_type": "markdown",
   "id": "d0c07792",
   "metadata": {},
   "source": [
    "- 데이터의 주요 특성을 요약하고 설명하는 방법을 다루는 분야\n",
    "- 평균값, 중앙값, 표준편차 \n",
    "- 데이터의 기본적인 특성 파악 가능"
   ]
  },
  {
   "cell_type": "markdown",
   "id": "55ceb05a",
   "metadata": {},
   "source": [
    "1. 수치 기술 통계\n",
    "- 숫자 형태로 데이터를 요약하는 방법\n",
    "2. 표와 그래프 기술 통계\n",
    "- 표와 그래프 형태로 정보를 시각화하는 방법"
   ]
  },
  {
   "cell_type": "markdown",
   "id": "fafdd0d7",
   "metadata": {},
   "source": [
    "### 추론 통계학"
   ]
  },
  {
   "cell_type": "markdown",
   "id": "a6848eb3",
   "metadata": {},
   "source": [
    ">전체 집단에서 일부를 뽑아 만든 표본 집단을 통해 전체 집단에 대한 정보를 추측하는 과정"
   ]
  },
  {
   "cell_type": "markdown",
   "id": "a3acac63",
   "metadata": {},
   "source": [
    "- 수집한 데이터를 기반으로 미래의, 혹은 조사하지 못한 전 정보를 추론하고 결론을 도출하는 방법을 다루는 분야"
   ]
  },
  {
   "cell_type": "markdown",
   "id": "a428f64a",
   "metadata": {},
   "source": [
    "# 二. 기술통계(수치 기술 통계)"
   ]
  },
  {
   "cell_type": "markdown",
   "id": "ee546d6a",
   "metadata": {},
   "source": [
    "## (1) 중심 위치 척도"
   ]
  },
  {
   "cell_type": "markdown",
   "id": "4ad21a1a",
   "metadata": {},
   "source": [
    "1. 평균(mean)\n",
    "- 데이터의 총합을 데이터의 개수로 나눈 값으로 데이터의 중심 경향성을 나타냄\n",
    "- 총합치를 사용하므로, 이상치에 민감할 수 있음\n",
    "2. 중앙값(median)\n",
    "- 데이터 값들을 크기 순서대로 나열했을 때 가운데 위치한 값\n",
    "- 이상치에 덜 민감, 데이터의 중심 경향성을 나타내는 대안적인 지표\n",
    "3. 최빈값(mode)\n",
    "- 데이터에서 가장 자주 나타나는 값\n",
    "- 주로 이산형 데이터에서 사용되며 데이터의 분포를 이해하는데 도움을 줌"
   ]
  },
  {
   "cell_type": "markdown",
   "id": "b9b17592",
   "metadata": {},
   "source": [
    "## (2) 변동성 척도"
   ]
  },
  {
   "cell_type": "markdown",
   "id": "14dd0ba1",
   "metadata": {},
   "source": [
    "1. 사분위수(quartile)\n",
    "- 데이터의 표본을 네 개의 동일한 크기로 나눈 값\n",
    "- Q1 = 하위 25퍼센트에 위치한 값\n",
    "- Q2 = 하위 50퍼센트에 위치한 값 \n",
    "- Q3 = 상위 25퍼센트에 위치한 값 \n",
    "2. 사분위간 범위(IQR)\n",
    "- Q3에서 Q1값을 제외한 범위\n",
    "- 이상치 탐지하는데에 유용\n",
    "- 아래쪽 이상치: Q1 - 1.5 * IQR 보다 작은 값\n",
    "- 위쪽 이상치: Q3 + 1.5 * IQR 보다 큰 값\n",
    "3. 범위(range)\n",
    "- 데이터의 최댓값과 최솟값의 차이를 나타내는 지표\n",
    "- 데이터의 전체 변동 범위를 알려줌\n",
    "4. 분산(variance)\n",
    "- 데이터 값들이 평균으로부터 얼마나 멀리 퍼져있는지를 나타내는 측정 지표\n",
    "- 편차 제곱의 평균\n",
    "5. 표준편차(standard variance)\n",
    "- 데이터 값들이 평균으로부터 얼마나 퍼져있는지를 나타내는 중요한 통계적 지표\n",
    "- 값이 높으면 데이터가 많이 퍼져있음을 의미\n",
    "6. 변동계수(coefficient of variation)\n",
    "- 데이터의 상대적인 변동성을 나타내는 통계적 지표\n",
    "- 표준편차를 해당 데이터의 평균으로 나눈 값 곱하기 100"
   ]
  },
  {
   "cell_type": "markdown",
   "id": "1ff99d65",
   "metadata": {},
   "source": [
    "## (3) 연관성 척도"
   ]
  },
  {
   "cell_type": "markdown",
   "id": "11e45dcf",
   "metadata": {},
   "source": [
    "1. 공분산(covariance)\n",
    "- 두 변수가 함께 어떤 방향으로 변화하는지와 그 크기를 표현하는 데 사용\n",
    "- 선형적인 관계는 없으나, 비선형적인 관계가 존재할 수도 있음\n",
    "2. 상관계수(correlation)\n",
    "- 두 변수 간의 선형적인 관계를 나타내는 통계적 지표\n",
    "- -1과 1사이의 값을 가짐\n",
    "- 음수면 음의 상관관계, 양수면 양의 상관관계"
   ]
  },
  {
   "cell_type": "markdown",
   "id": "80d92a7b",
   "metadata": {},
   "source": [
    "# 三. 추론통계1(모집단 분포 추정)"
   ]
  },
  {
   "cell_type": "markdown",
   "id": "28f595b0",
   "metadata": {},
   "source": [
    "### 모집단과 표본집단"
   ]
  },
  {
   "cell_type": "markdown",
   "id": "f4a38831",
   "metadata": {},
   "source": [
    "> 모집단은 전체 집단, 표본집단은 일부를 추출한 집단"
   ]
  },
  {
   "cell_type": "markdown",
   "id": "728c3478",
   "metadata": {},
   "source": [
    "## (1) 확률분포"
   ]
  },
  {
   "cell_type": "markdown",
   "id": "70ebadaf",
   "metadata": {},
   "source": [
    "> 확률변수가 특정한 값을 가질 확률을 나타내는 함수<br>\n",
    "  이산확률분포와 연속확률분포로 이루어짐"
   ]
  },
  {
   "cell_type": "markdown",
   "id": "447dca3e",
   "metadata": {},
   "source": [
    "- 확률 변수: 어떤 사건이나 실험의 가능한 결과를 숫자로 대응시키는 함수\n",
    "- 이산확률분포: 확률 변수가 이산적인 값을 가지는 경우\n",
    "- 연속확률분포: 확률 변수가 연속적인 값을 가지는 경우"
   ]
  },
  {
   "cell_type": "markdown",
   "id": "bab0f7de",
   "metadata": {},
   "source": [
    "## (2) 확률분포 종류"
   ]
  },
  {
   "cell_type": "markdown",
   "id": "ae70b567",
   "metadata": {},
   "source": [
    "1. 정규분표\n",
    "- 형태: 종 모양, 평균을 기준으로 대칭\n",
    "- 표준편차가 클수록 곡선이 평평해짐\n",
    "- 매개변수: 평균, 표준편차\n",
    "- 가장 잘 알려진 확률분포\n",
    "2. t분포\n",
    "- 형태: 종모양, 정규분포보다 꼬리가 두꺼움\n",
    "- 자유도가 커짐에 따라 표준정규분포에 수렴\n",
    "- 매개변수: 자유도\n",
    "- 표본으로 모평균을 추정할 때 사용되는 분포\n",
    "- 표본 크기가 작을 때 정규분포보다 더 정확한 결과를 제공하므로 사용\n",
    "- 자유도: 통계에서 얼마나 많은 정보가 독립적으로 변할 수 있는가를 나타내는 숫자\n",
    "3. 카이제곱분포\n",
    "- 형태: 0에서 시작하여 오른쪽으로 긴 꼬리를 가진 비대칭\n",
    "- 자유도가 증가함에 따라 중심이 오른쪽으로 이동\n",
    "- 매개변수: 자유도\n",
    "- 독립성 검증, 적합도 검정 등에 사용됨\n"
   ]
  },
  {
   "cell_type": "markdown",
   "id": "51fbde9e",
   "metadata": {},
   "source": [
    "# 四. 추론통계2 (가설 검정)"
   ]
  },
  {
   "cell_type": "markdown",
   "id": "c36b09c8",
   "metadata": {},
   "source": [
    "## (1)가설검정의 절차"
   ]
  },
  {
   "cell_type": "markdown",
   "id": "1f6470e9",
   "metadata": {},
   "source": [
    "1. 가설 설정\n",
    "- 귀무가설 H0와 대립가설 H1를 설정\n",
    "- 귀무가설은 주로 기각하고자 하는 명제\n",
    "- 대립가설은 내가 주장하고자하는 명제\n",
    "- 1종 오류: 귀무가설이 실제로 참이었는데 기각할 확률\n",
    "- 2종 오류: 귀무가설이 실제로 거짓인데 기각하지 못할 확률\n",
    "- 가설검정은 1종오류를 더 치명적인 것으로 파악\n",
    "2. 유의 수준 설정\n",
    "- 유의 수준: 정해진 수치를 벗어났을 때 귀무가설을 기각할 것인가를 판단하는 기준\n",
    "- 예를 들어 유의 수준을 0.05로 설정하는 것은 5%의 오류를 감수하면서 귀무가설을 기각할 준비가 됐다는 뜻\n",
    "3. 검정통계량 산출\n",
    "- 검정통계량: 가설 검정의 결과를 판단하는 데 사용되는 값\n",
    "- 데이터의 분포나 특징에 따라 t값, f값 등 어떤 통계량을 사용할지 정해야 함\n",
    "4. 가설 기각/채택 판단\n",
    "- 유의확률(p-value): 가설 검정에 쓰일 수 있는 또 다른 척도\n",
    "- 유의확률은 검정통계량에서 유도할 수 있으며 유의확률이 유의수준보다 작을 시에 귀무가설을 기각"
   ]
  },
  {
   "cell_type": "markdown",
   "id": "18a9995a",
   "metadata": {},
   "source": [
    "## (2) 여러 검정 방법"
   ]
  },
  {
   "cell_type": "markdown",
   "id": "d8e6349b",
   "metadata": {},
   "source": [
    "1. 피어슨 상관분석\n",
    "- 두 변수간 피어슨 상관계수가 얼마나 유의미한 지를 검정하는 방법\n",
    "2. ANOVA, t-test\n",
    "- t-test 수행 시 t값은 두 평균 간 차이를 표준 오차로 나눈 값(범주가 2개일 때)\n",
    "- 범주가 3개 이상일 때는 ANOVA 검정\n",
    "3. 카이제곱 검정\n",
    "- 범주 개수 제한 없음\n",
    "- (관측빈도 - 기대빈도)^2/기대빈도"
   ]
  }
 ],
 "metadata": {
  "kernelspec": {
   "display_name": "Python 3 (ipykernel)",
   "language": "python",
   "name": "python3"
  },
  "language_info": {
   "codemirror_mode": {
    "name": "ipython",
    "version": 3
   },
   "file_extension": ".py",
   "mimetype": "text/x-python",
   "name": "python",
   "nbconvert_exporter": "python",
   "pygments_lexer": "ipython3",
   "version": "3.11.4"
  }
 },
 "nbformat": 4,
 "nbformat_minor": 5
}
