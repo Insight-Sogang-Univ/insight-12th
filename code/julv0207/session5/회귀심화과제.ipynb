{
 "cells": [
  {
   "cell_type": "markdown",
   "id": "dac31286",
   "metadata": {},
   "source": [
    "# INSIGHT"
   ]
  },
  {
   "cell_type": "markdown",
   "id": "cba175e9",
   "metadata": {},
   "source": [
    "- df.describe() 뒤에 .T가 붙으면 행과 열이 전치되어서 결과가 나오는 걸 알았다.\n",
    "- 왜도가 왼쪽으로 치우쳐 있는 걸 자연로그를 통해 대칭적으로 바꿀 수 있다는 걸 알았다.\n",
    "- 오른쪽으로 치우지면 역수변환을 통해 조절할 수 있다.\n",
    "- separate_dtype() 함수는 데이터프레임에서 문자열 데이터와 숫자형 데이터를 분리하여 반환하는 함수라는 걸 알았다.\n",
    "- 시각화를 통해 종속변수와 독립변수간의 선형 관계를 대략적으로 파악하는 과정이 다음 과정으로 넘어가려 할 때 중요하다는 걸 알았다.\n",
    "- 히트맵 그리는 부분은 많이 어려웠다(그래도 그래프 색깔이 예쁘다)\n",
    "- 종속변수와 상관관계가 가장 높은 세가지 변수를 그려봤는데 분포가 비슷한걸 보아 다중공선성이 존재할 수도 있겠다고 생각했다.\n",
    "- 다중 선형 회귀분석에서는 다중공선성을 확인해야되는게 중요하다.\n",
    "- 다중공선성에 문제가 발생하면 원인과 해결책을 찾는 능력이 중요하다고 생각했다.\n",
    "- 확인한 모형의 유의성과 계수의 유의성이 확보되었다고 해도, 오차에 대한 가정을 만족하지 않으면 다른 대안을 찾아야 한다는 사실을 알았다.\n",
    "- 세션 때 이론만 들은 qqplot을 정규성 검정에서 직접 구현해봤다.\n",
    "- 가정을 확인할 때는 그래프를 해석하는 능력도 있어야 한다.\n",
    "- 선형회귀를 할 때는 유의성과 다중공선성뿐만 아니라 가정 진단도 중요하다는 걸 알았다."
   ]
  },
  {
   "cell_type": "code",
   "execution_count": null,
   "id": "6cdfdaee",
   "metadata": {},
   "outputs": [],
   "source": []
  }
 ],
 "metadata": {
  "kernelspec": {
   "display_name": "Python 3 (ipykernel)",
   "language": "python",
   "name": "python3"
  },
  "language_info": {
   "codemirror_mode": {
    "name": "ipython",
    "version": 3
   },
   "file_extension": ".py",
   "mimetype": "text/x-python",
   "name": "python",
   "nbconvert_exporter": "python",
   "pygments_lexer": "ipython3",
   "version": "3.11.4"
  }
 },
 "nbformat": 4,
 "nbformat_minor": 5
}
