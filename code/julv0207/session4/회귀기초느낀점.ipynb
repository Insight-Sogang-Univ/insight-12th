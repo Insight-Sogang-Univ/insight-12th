{
 "cells": [
  {
   "cell_type": "markdown",
   "id": "171968ff",
   "metadata": {},
   "source": [
    "전반적으로 지금까지 배운 데이터 프로세스를 한번에 볼 수 있어서 인상깊었고 이해가 더 잘 되었습니다. 앞으로 있을 1차 인사이콘을 준비할 때 많이 참고할 수 있을 거 같아서 좋았습니다. 세션 때 배우지 않았던 부분들도 알아갈 수 있었습니다. "
   ]
  },
  {
   "cell_type": "markdown",
   "id": "ceec89bc",
   "metadata": {},
   "source": [
    "# DATA QUALITY CHECK "
   ]
  },
  {
   "cell_type": "markdown",
   "id": "d77741c3",
   "metadata": {},
   "source": [
    "- 데이터를 불러온 후 결측치와 중복값이 있는지 확인하는 과정을 배웠다\n",
    "- 데이터를 본격적으로 분석하기 전에 기본적인 데이터의 상태를 파악하는 과정이라 중요하다고 생각했다"
   ]
  },
  {
   "cell_type": "markdown",
   "id": "efb15a3b",
   "metadata": {},
   "source": [
    "# 중복 및 원하지 않는 열 제거"
   ]
  },
  {
   "cell_type": "markdown",
   "id": "8a79768f",
   "metadata": {},
   "source": [
    "- 알아내고자 하는 값에서 상관이 없는 열을 제거하는 방법을 배웠다.\n",
    "- 데이터프레임을 보면서 각각의 데이터가 무슨 의미를 가지고 있는지 알고자 하는 값과 어떤 상관관계가 있을 지 생각해보는 시간이 필요하다고 느꼈다"
   ]
  },
  {
   "cell_type": "markdown",
   "id": "e0a98c8f",
   "metadata": {},
   "source": [
    "# Creating Dummy Variables"
   ]
  },
  {
   "cell_type": "markdown",
   "id": "0597c8dd",
   "metadata": {},
   "source": [
    "- 데이터 중 범주형 데이터값을 가진 열은 모델링에 사용할 수 없기 떄문에 get_dummies 함수를 통해 이진 변수로 변환해준다는 걸 알았다.\n",
    "- 또한 다중 공선성을 피하기 위해 첫번째 더미변수를 drop해줘야 한다는 걸 알았다.\n",
    "- random_state에 대해 자세히 몰랐는데 이번에 설명을 보며 배웠다."
   ]
  },
  {
   "cell_type": "markdown",
   "id": "470a6111",
   "metadata": {},
   "source": [
    "# EDA + RESCALING THE FEATURES"
   ]
  },
  {
   "cell_type": "markdown",
   "id": "9690d265",
   "metadata": {},
   "source": [
    "- 숫자 변수와 범주형 변수(더미변수 만들기 전)로 나누어 각각 시각화를 통해 cnt와의 관계를 알아봤다.\n",
    "- heatmap을 그려 직접적인 변수들간의 상관관계를 파악하고 다중공선성이 높은 변수도 찾았다.\n",
    "- heatmap을 통해 다중공선성이 높은 변수를 찾을 수 있다는 걸 알았다.\n",
    "- 숫자형 변수들의 값의 차이가 컸는데 MinMaxScaler을 통해 모든 feature들을 0과 1사이의 범위로 조정했다."
   ]
  },
  {
   "cell_type": "markdown",
   "id": "510042db",
   "metadata": {},
   "source": [
    "# 선형 모델 구축"
   ]
  },
  {
   "cell_type": "markdown",
   "id": "95dca96b",
   "metadata": {},
   "source": [
    "- cnt값은 종속 변수로 사용되므로 데이터프레임에서 분리한 뒤 트레인 데이터를 생성했다.\n",
    "- RFE를 통하여 모델링에 중요한 특성들을 골라냈다.\n",
    "- 선택된 특성들로 이루어진 col 변수를 사용하여 새로운 트레인 데이터프레임을 만들었다.\n",
    "- 앞전에서 중요하지 않다고 생각한 열들을 제거하고 학습을 시켰는데 다시 한번 중요한 특성들만 골라내는 작업을 하는 걸 통해 하나의 모델링을 위해서 정밀한 분석이 중요하다고 생각했다."
   ]
  },
  {
   "cell_type": "markdown",
   "id": "a3f1b3b1",
   "metadata": {},
   "source": [
    "# 'STATS MODEL'을 사용하여 선형 모델 구축"
   ]
  },
  {
   "cell_type": "markdown",
   "id": "eabeb7f1",
   "metadata": {},
   "source": [
    "- RFE를 통해 걸러진 변수들로 만들어진 데이터프레임을 학습시킨 뒤 VIF함수를 통해 vif 값으로 이루어진 새로운 데이터 프레임에 저장 후 sm을 사용해 학습시킨 후 통계지표를 출력했다.\n",
    "- 이전 모델링을 토대로 p-value와 VIF 값이 높은 변수를 제거 후 다시 학습 시키는 과정을 여러번 반복 후에 찾고자 하는 결과가 나왔을 때 멈췄다.\n",
    "- 한가지 인상깊었던 점은 우리가 현실에서 일반적으로 관계가 있을 것 같다고 느끼는 변수는 놔두고 진행할 수도 있다는 점이다."
   ]
  },
  {
   "cell_type": "markdown",
   "id": "a7e17761",
   "metadata": {},
   "source": [
    "# 최종 모델 해석 및 최종 모델을 사용한 예측"
   ]
  },
  {
   "cell_type": "markdown",
   "id": "70f191fe",
   "metadata": {},
   "source": [
    "- F통계값과 p-value가 유의한 값을 나타냄으로 성공적인 모델링을 했다고 볼 수 있다.\n",
    "- 앞전에 만들어진 모델을 가지고 예측을 진행하려 할 때, 예측 오차를 계산하고, 독립변수와 종속변수간에 선형 관계가 있다는걸 파악했다.\n",
    "- 모델을 적용한 예측값과 실제값이 선형적으로 나온걸 시각화를 통해 알 수 있었다.\n",
    "- 조정된 r2값이 82프로에 도달한 걸로 보아 모델이 데이터를 잘 설명한다고 볼 수 있다.\n",
    "- 예측을 통해 종속변수에 중요한 영향을 미치는 변수가 무엇인지를 파악할 수 있었다."
   ]
  }
 ],
 "metadata": {
  "kernelspec": {
   "display_name": "Python 3 (ipykernel)",
   "language": "python",
   "name": "python3"
  },
  "language_info": {
   "codemirror_mode": {
    "name": "ipython",
    "version": 3
   },
   "file_extension": ".py",
   "mimetype": "text/x-python",
   "name": "python",
   "nbconvert_exporter": "python",
   "pygments_lexer": "ipython3",
   "version": "3.11.4"
  }
 },
 "nbformat": 4,
 "nbformat_minor": 5
}
