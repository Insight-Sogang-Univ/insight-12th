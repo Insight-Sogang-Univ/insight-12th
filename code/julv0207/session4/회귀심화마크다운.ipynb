{
 "cells": [
  {
   "cell_type": "markdown",
   "id": "8264b34c",
   "metadata": {},
   "source": [
    "# <span style = \"color: blue\">Review: 회귀</span>\n"
   ]
  },
  {
   "cell_type": "markdown",
   "id": "5683c273",
   "metadata": {},
   "source": [
    "## 회귀란?"
   ]
  },
  {
   "cell_type": "markdown",
   "id": "02ba7c36",
   "metadata": {},
   "source": [
    "> 연속적인 데이터에서 패턴을 찾아내는 통계적 방법"
   ]
  },
  {
   "cell_type": "markdown",
   "id": "e128198b",
   "metadata": {},
   "source": [
    "- 종류: 선형회귀, 비선형 회귀, 로지스틱회귀, 다항회귀,릿지,라쏘\n",
    "- 활용: 데이터 요약, 예측, 시계열 모델링 및 변수 간 인과관계 발견 등\n",
    "- 평가지표: MSE, MAE, R-square,Adjusted R-square, AIC, BC\n",
    "- 회귀는 데이터분석의 유용한 통계적 도구이자 ML/DL 이해의 밑바탕"
   ]
  },
  {
   "cell_type": "markdown",
   "id": "341494a9",
   "metadata": {},
   "source": [
    "## 단순/다중선형회귀분석"
   ]
  },
  {
   "cell_type": "markdown",
   "id": "d52326d9",
   "metadata": {},
   "source": [
    "- 설명변수 개수에 차이가 있을 뿐, 두 회귀분석은 본질적으로 같음"
   ]
  },
  {
   "cell_type": "markdown",
   "id": "c8425a02",
   "metadata": {},
   "source": [
    "## 최소제곱법/최소자승법"
   ]
  },
  {
   "cell_type": "markdown",
   "id": "a427a4de",
   "metadata": {},
   "source": [
    "- OLS라고 함\n",
    "- 회귀선-관측된 데이터값 = 잔차\n",
    "- 잔차 제곱의 합(RSS)을 최소화하는 회귀선을 찾는 방법"
   ]
  },
  {
   "cell_type": "markdown",
   "id": "48577c04",
   "metadata": {},
   "source": [
    "# 一. 선형회귀"
   ]
  },
  {
   "cell_type": "markdown",
   "id": "53a04acd",
   "metadata": {},
   "source": [
    "## (1) 다중선형회귀의 수식적 이해"
   ]
  },
  {
   "cell_type": "markdown",
   "id": "dd8ff3f0",
   "metadata": {},
   "source": [
    "- y = b_1 + b_2*x_2_i + b_3*x_3_i + ... + bk*x_k_i + E_i\n",
    "- 선형회귀식은 종속변수 y에 대한 설명변수의 가중평균\n",
    "- 설명변수에 가중치를 곱해 더함으로써 y를 얼마나 잘 설명하는지 나타냄\n"
   ]
  },
  {
   "cell_type": "markdown",
   "id": "8b06f8bd",
   "metadata": {},
   "source": [
    "## (2) 다중선형회귀의 기본가정"
   ]
  },
  {
   "cell_type": "markdown",
   "id": "b371f834",
   "metadata": {},
   "source": [
    "- 여러가지 가정을 만족하지 않으면 분석 결과의 신뢰성이 떨어짐"
   ]
  },
  {
   "cell_type": "markdown",
   "id": "82bc9999",
   "metadata": {},
   "source": [
    "1. 선형성(linearity)\n",
    "- 종속변수와 설명 변수간의 관계가 선형적이어야 함\n",
    "2. 오차항의 평균 = 0\n",
    "3. 독립성(Independence)\n",
    "- 각각의 설명 변수가 서로 선형독립적이어야 함\n",
    "- 선형독립적이지 않은 경우 다중공선성이 있음\n",
    "4. 등분산성(Homoscedasticity)\n",
    "- 오차항의 분산이 일정해야 한다는 가정\n",
    "- 일정하지 않은 경우, 이분산성이 존재\n",
    "5. 오차항은 자기상관되어 있지 않다\n",
    "- 오차항의 공분산은 항상 0이어야 된다는 가정\n",
    "- 오차항의 공분산이 0이 아닌 경우, 자기상관이 있다고 함\n",
    "- 시계열 자료에서 많이 나타남\n",
    "6. 정규성(normality)\n",
    "- 오차항이 정규분포를 따른다는 가정"
   ]
  },
  {
   "cell_type": "markdown",
   "id": "be8ee688",
   "metadata": {},
   "source": [
    "## (3) 회귀분석 평가방법"
   ]
  },
  {
   "cell_type": "markdown",
   "id": "76d180fc",
   "metadata": {},
   "source": [
    "1. 시각화\n",
    "- 회귀선이 데이터 전반을 잘 요약하는 모습\n",
    "- 객관적인 비교를 위해서는 통계지표가 좋음\n",
    "2. 통계지표\n",
    "- 결정 계수(r-square): R^2는 결정 계수의 약어로, 회귀 분석에서 모델이 설명하는 데이터의 총 변동중에서 설명된 비율\n",
    "- 모델이 데이터를 얼마나 잘 설명하는지 측정하는 지표로, 0과 1 사이의 값으로 나타남\n",
    "- 조정된 결정 계수: R^2는 설명변수의 개수가 증가할수록 증가하기 때문에 변수의 개수 증가에 덜 민감하도록 조정한 지표\n",
    "- AIC, BIC(SC): 정보기준이라고 불리며, 값이 낮을수록 좋음"
   ]
  },
  {
   "cell_type": "markdown",
   "id": "5739f866",
   "metadata": {},
   "source": [
    "# 二. 비선형 회귀"
   ]
  },
  {
   "cell_type": "markdown",
   "id": "a473863c",
   "metadata": {},
   "source": [
    "- 데이터셋의 분포가 선형적이지 않을 수도 있음"
   ]
  },
  {
   "cell_type": "markdown",
   "id": "f9e674e7",
   "metadata": {},
   "source": [
    "## (1) 다항식 회귀모델"
   ]
  },
  {
   "cell_type": "markdown",
   "id": "c9ddfe65",
   "metadata": {},
   "source": [
    "- 다항식을 이용한 회귀 모델은 선형 모델의 feature을 다항식으로 만들어 선형 회귀를 사영\n",
    "- 장점: 선형 모델에 비해 회귀선을 잘 fit하도록 그릴 수 있음\n",
    "- 단점: 너무 많은 feature을 이용하면 결과가 overfitting될 수 있음"
   ]
  },
  {
   "cell_type": "markdown",
   "id": "04594aec",
   "metadata": {},
   "source": [
    "## (2) 지수/로그 회귀모델"
   ]
  },
  {
   "cell_type": "markdown",
   "id": "b54bca64",
   "metadata": {},
   "source": [
    "- 데이터를 분석하다보면 어떤 칼럼의 증/감소 형태가 지수적이거나 로그형태인 경우가 있음\n",
    "- 이 때 회귀선을 긋고 싶다면 지수/로그 식을 이용하면 좋음\n",
    "- 기존식에 지수/로그를 사용해 변형시킨 후, 선형 회귀 사용"
   ]
  }
 ],
 "metadata": {
  "kernelspec": {
   "display_name": "Python 3 (ipykernel)",
   "language": "python",
   "name": "python3"
  },
  "language_info": {
   "codemirror_mode": {
    "name": "ipython",
    "version": 3
   },
   "file_extension": ".py",
   "mimetype": "text/x-python",
   "name": "python",
   "nbconvert_exporter": "python",
   "pygments_lexer": "ipython3",
   "version": "3.11.4"
  }
 },
 "nbformat": 4,
 "nbformat_minor": 5
}
