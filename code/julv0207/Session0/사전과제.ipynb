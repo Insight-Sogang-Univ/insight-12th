{
 "cells": [
  {
   "cell_type": "markdown",
   "id": "a69ff59a",
   "metadata": {},
   "source": [
    "# 一. 판다스의 정의"
   ]
  },
  {
   "cell_type": "markdown",
   "id": "c0093dfa",
   "metadata": {},
   "source": [
    "> 영어:Pandas "
   ]
  },
  {
   "cell_type": "markdown",
   "id": "0cc4598b",
   "metadata": {},
   "source": [
    "## 정의: 데이터 분석에 특화된 파이썬 라이브러리\n",
    "- 데이터 분석 시 데이터프레임을 가장 기본 틀로 사용하며, \n",
    "  이를 불러오는 라이브러리가 판다스\n",
    "\n",
    "- 행과 열로 구성\n",
    "- Numpy의 확장판"
   ]
  },
  {
   "cell_type": "markdown",
   "id": "75fd82fb",
   "metadata": {},
   "source": [
    "## 실행방법\n",
    "- import pandas as pd 입력하여 판다스 불러오기\n",
    "- 데이터 불러오기\n",
    "- 이후 원하는 대로 데이터 조작"
   ]
  },
  {
   "cell_type": "markdown",
   "id": "cd16137e",
   "metadata": {},
   "source": [
    "# 二. 데이터 프레임의 구성"
   ]
  },
  {
   "cell_type": "markdown",
   "id": "e7a50718",
   "metadata": {},
   "source": [
    "> 데이터 프레임이란 컴퓨터로 정보를 정리하고 저장하는 도구"
   ]
  },
  {
   "cell_type": "markdown",
   "id": "930dbd86",
   "metadata": {},
   "source": [
    "## 데이터 프레임의 기본 구조는 행(index)과 열(columns)"
   ]
  },
  {
   "cell_type": "markdown",
   "id": "6f0ed234",
   "metadata": {},
   "source": [
    "<span style = \"color: blue\">index는 데이터 순서</span>\n",
    "\n",
    "<span style = \"color: red\">column은 데이터 카테고리</span>"
   ]
  },
  {
   "cell_type": "markdown",
   "id": "eec91ab1",
   "metadata": {},
   "source": [
    "## 데이터 프레임 구성 방법"
   ]
  },
  {
   "cell_type": "markdown",
   "id": "c51fd368",
   "metadata": {},
   "source": [
    "- 데이터와 각 카테고리 별 네이밍을 컬럼으로 하는 딕셔너리 생성\n",
    "- 사용하고자 하는 인덱스와 컬럼 설정\n",
    "\n",
    "- <span style = \"color: blue\">pd.DataFrame</span>을 사용하여 데이터 프레임 구성"
   ]
  },
  {
   "cell_type": "markdown",
   "id": "d293462b",
   "metadata": {},
   "source": [
    "## 데이터 추출"
   ]
  },
  {
   "cell_type": "markdown",
   "id": "e6ae0691",
   "metadata": {},
   "source": [
    "> 인덱싱(INDEXING) & 슬라이싱(SLICING)"
   ]
  },
  {
   "cell_type": "markdown",
   "id": "23d88a79",
   "metadata": {},
   "source": [
    "<span style = \"color: blue\">인덱싱</span> : 입력하는 조건이 범위가 아니라 단순 지목일 경우\n",
    "\n",
    "<span style = \"color: blue\">슬라이싱</span> : 범위를 조건으로 할 경우"
   ]
  },
  {
   "cell_type": "markdown",
   "id": "33bdd252",
   "metadata": {},
   "source": [
    "### set_index: 기존의 열 중 하나를 인덱스로 설정\n",
    "### reset_index: 인덱스를 리셋하고 기존 인덱스를 열에 추가\n",
    "### DataFrame객체.reindex(인덱스 배열): 행 재배치 혹은 새로운 인덱스 추가"
   ]
  },
  {
   "cell_type": "markdown",
   "id": "ec9a3a3a",
   "metadata": {},
   "source": [
    "# 三. 데이터 조작"
   ]
  },
  {
   "cell_type": "markdown",
   "id": "53471033",
   "metadata": {},
   "source": [
    "### 1) 데이터 확인하기\n",
    "- df.head(n): 앞 n개의 행 반환\n",
    "- df.tail(n): 뒤 n개의 행 반환\n",
    "- df.shape: (행 개수, 열 개수) 반환\n",
    "- df.dtypes: 데이터프레임 컬럼 자료형 타입만 확인\n",
    "- df.info(): 데이터프레임 열 타입, 결측값 개수 확인\n",
    "- df.describe(): 데이터의 통계적인 수치 확인\n",
    "- df.insull(): 결측치 존재 여부 확인 \n",
    "- df.count(): NaN의 개수를 제외한 데이터 수 반환\n",
    "- df[column명].value_counts() : 특정 열의 값들이 몇 번 나타나는지를 계산하여 빈도수를 반환"
   ]
  },
  {
   "cell_type": "markdown",
   "id": "b1264689",
   "metadata": {},
   "source": [
    "### 2) 데이터 추가, 삭제 \n",
    "- df['새로운 열 이름'] = some_list 방식으로 특정 리스트를 데이터프레임에 추가\n",
    "- del.df['열 이름'], df.drop(labels, axis)"
   ]
  },
  {
   "cell_type": "markdown",
   "id": "c4cf0226",
   "metadata": {},
   "source": [
    "### 3) 데이터 정렬\n",
    "- df.sort_index 인덱스를 기준으로 정렬\n",
    "- df.sort_values[\"column명\"] 특정 열의 값을 기준으로 정렬"
   ]
  },
  {
   "cell_type": "markdown",
   "id": "7f56a4a4",
   "metadata": {},
   "source": [
    "### 4) 데이터 변환\n",
    "- df['컬럼 명'] = df['컬럼 명'].astype(원하는 자료형)\n",
    "- df.replace(바꾸고 싶은 변수, 넣을 값) : 데이터 자체를 변환"
   ]
  },
  {
   "cell_type": "markdown",
   "id": "b8046941",
   "metadata": {},
   "source": [
    "### 5) 연산 메소드\n",
    "- df['컬럼 명'].mean() : 평균\n",
    "- df['컬럼 명'].median() : 중앙값\n",
    "- df['컬럼 명'].std() : 표준편차\n",
    "- df['컬럼 명'].sum() : 합계\n",
    "- df['컬럼 명'].max() : 최댓값\n",
    "- df['컬럼 명'].min() : 최솟값"
   ]
  },
  {
   "cell_type": "markdown",
   "id": "1ac53c23",
   "metadata": {},
   "source": [
    "### 6) 그룹화\n",
    "- df.groupby('컬럼 명1')['컬럼 명2'].mean() :컬럼1로 그룹화를 하고 컬럼2에 대한 평균 반환\n",
    "### 7) 데이터 합치기\n",
    "- <span style = \"color: red\">concat</span> : 단순히 두 데이터 프레임 이어 붙이는 것\n",
    "\n",
    "  df=pd.concat([df1,df2])\n",
    "  \n",
    "- <span style = \"color: red\">merge</span> : \"공통 항목\"을 기준으로 병합하는 것\n",
    "\n",
    "  pd.merge(df1,df2, how=\"inner\", on=\"~~\")"
   ]
  },
  {
   "cell_type": "code",
   "execution_count": null,
   "id": "f71ffdd7",
   "metadata": {},
   "outputs": [],
   "source": []
  }
 ],
 "metadata": {
  "kernelspec": {
   "display_name": "Python 3 (ipykernel)",
   "language": "python",
   "name": "python3"
  },
  "language_info": {
   "codemirror_mode": {
    "name": "ipython",
    "version": 3
   },
   "file_extension": ".py",
   "mimetype": "text/x-python",
   "name": "python",
   "nbconvert_exporter": "python",
   "pygments_lexer": "ipython3",
   "version": "3.11.4"
  }
 },
 "nbformat": 4,
 "nbformat_minor": 5
}
