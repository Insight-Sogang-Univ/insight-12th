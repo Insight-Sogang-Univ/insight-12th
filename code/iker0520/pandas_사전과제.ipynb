{
 "cells": [
  {
   "cell_type": "markdown",
   "id": "ba9cbed4-94b2-4571-b91f-5cae0addbd33",
   "metadata": {},
   "source": [
    "여기에 사전과제를 진행해주시면 됩니다!"
   ]
  },
  {
   "cell_type": "markdown",
   "id": "c907530e-b53d-42f2-a803-68e27ba051e9",
   "metadata": {},
   "source": [
    "# 판다스의 정의"
   ]
  },
  {
   "cell_type": "markdown",
   "id": "d5c4c21b-de3a-4c55-9bb1-ec0909a42fe8",
   "metadata": {},
   "source": [
    "- 판다스(pandas)란 테이블 형태, 즉 행과 열로 이루어진 데이터 객체와 그러한 데이터 구조를 편하게 다루기 위한 패키지입니다.\n",
    "- 데이터 분석 시에 유용하게 사용됩니다.\n",
    "- 행렬의 계산이 용이한 numpy를 기반으로 작성되었기 때문에 데이터 조작 및 분석에 특화되어 있습니다."
   ]
  },
  {
   "cell_type": "markdown",
   "id": "996da1b0-0c30-47a1-a746-f0529daed4fd",
   "metadata": {},
   "source": [
    "# 데이터프레임의 구성"
   ]
  },
  {
   "cell_type": "markdown",
   "id": "fe8e07ff-62ae-43b6-a00e-6a87897efd73",
   "metadata": {},
   "source": [
    "- 데이터프레임은 시리즈(Series)의 집합으로 이루어져 있습니다.\n",
    "- 시리즈란, 값(value)과 인덱스만으로 구성된 가장 간단한 1차원 자료구조입니다.\n",
    "- 여기서 인덱스는 파이썬 딕셔너리의 키와 대응한다는 점에서 딕셔너리와 다소 유사한 구조라고도 볼 수 있습니다.\n",
    "    - 인덱스에는 이름을 붙여줄 수 있고, 별도의 인덱스 레이블을 지정하지 않는다면 0부터 시작되는 디폴트 정수 인덱스가 자동으로 사용됩니다.\n",
    "- 시리즈는 배열, 리스트와 같은 일련의 시퀀스데이터(순서가 있는 데이터)들을 받아 인덱스가 있는 객체를 생성합니다."
   ]
  },
  {
   "cell_type": "markdown",
   "id": "3b8e9dea-45de-4a37-b126-a48db5f2015c",
   "metadata": {},
   "source": [
    "- 데이터프레임은 행과 열로 이루어진 2차원 배열 구조입니다.\n",
    "- 축이 인덱스 하나밖에 없는 시리즈와 달리, 컬럼이라는 새로운 축이 등장합니다.\n",
    "- 보통 행을 구분해주는 것을 행 인덱스(row index), 열을 구분해주는 것을 열 이름(column name)이라고 표현합니다."
   ]
  },
  {
   "cell_type": "markdown",
   "id": "ee969b4b-81e0-4510-9bfc-0eee2aa611e6",
   "metadata": {},
   "source": [
    "# 데이터 프레임 조작법"
   ]
  },
  {
   "cell_type": "markdown",
   "id": "5960c230-6056-4b2c-9b79-0f21c4b6d809",
   "metadata": {},
   "source": [
    "## 데이터프레임 생성"
   ]
  },
  {
   "cell_type": "markdown",
   "id": "f38cab94-432c-44f2-9437-72e70350c406",
   "metadata": {},
   "source": [
    "- 먼저 데이터프레임을 만들어주는 함수로는 pd.DataFrame()이 있습니다.\n",
    "- dictionary형 데이터에 사용할 수 있으며 이때 dict의 key는 열 이름으로, dict의 value는 열의 값으로 지정됩니다.\n",
    "    - 인덱스는 따로 지정해주지 않으면 디폴트 정수 인덱스로 자동 지정됩니다.\n",
    "- 딕셔너리 외에도 리스트, 2차원 ndarray, 시리즈를 이용해서 데이터프레임 객체를 생성할 수 있습니다. "
   ]
  },
  {
   "cell_type": "code",
   "execution_count": 22,
   "id": "a7e58778-6579-47e1-97e4-098bf2273e37",
   "metadata": {},
   "outputs": [
    {
     "data": {
      "text/html": [
       "<div>\n",
       "<style scoped>\n",
       "    .dataframe tbody tr th:only-of-type {\n",
       "        vertical-align: middle;\n",
       "    }\n",
       "\n",
       "    .dataframe tbody tr th {\n",
       "        vertical-align: top;\n",
       "    }\n",
       "\n",
       "    .dataframe thead th {\n",
       "        text-align: right;\n",
       "    }\n",
       "</style>\n",
       "<table border=\"1\" class=\"dataframe\">\n",
       "  <thead>\n",
       "    <tr style=\"text-align: right;\">\n",
       "      <th></th>\n",
       "      <th>0</th>\n",
       "      <th>1</th>\n",
       "      <th>2</th>\n",
       "      <th>3</th>\n",
       "    </tr>\n",
       "  </thead>\n",
       "  <tbody>\n",
       "    <tr>\n",
       "      <th>0</th>\n",
       "      <td>0</td>\n",
       "      <td>1</td>\n",
       "      <td>2</td>\n",
       "      <td>3</td>\n",
       "    </tr>\n",
       "    <tr>\n",
       "      <th>1</th>\n",
       "      <td>4</td>\n",
       "      <td>5</td>\n",
       "      <td>6</td>\n",
       "      <td>7</td>\n",
       "    </tr>\n",
       "    <tr>\n",
       "      <th>2</th>\n",
       "      <td>8</td>\n",
       "      <td>9</td>\n",
       "      <td>10</td>\n",
       "      <td>11</td>\n",
       "    </tr>\n",
       "  </tbody>\n",
       "</table>\n",
       "</div>"
      ],
      "text/plain": [
       "   0  1   2   3\n",
       "0  0  1   2   3\n",
       "1  4  5   6   7\n",
       "2  8  9  10  11"
      ]
     },
     "execution_count": 22,
     "metadata": {},
     "output_type": "execute_result"
    }
   ],
   "source": [
    "# 예시\n",
    "import numpy as np\n",
    "import pandas as pd\n",
    "df = pd.DataFrame(np.arange(12).reshape([3,4]))\n",
    "df"
   ]
  },
  {
   "cell_type": "markdown",
   "id": "67b99b7b-7867-467c-947e-50bb1bff2761",
   "metadata": {},
   "source": [
    "## 데이터 확인"
   ]
  },
  {
   "cell_type": "markdown",
   "id": "dd7e28e2-fcbf-4768-a77f-26a97a455717",
   "metadata": {},
   "source": [
    "- 데이터프레임을 다룰 때 필수적으로 확인해야하는 사항이 몇가지 있습니다.\n",
    "- 일단 가장 먼저 데이터의 구조(행, 열의 개수)를 파악해야 하는데, 이는 df.shape를 통해 가능합니다.\n",
    "- 또 df.head, df.tail을 통해 데이터프레임의 상위/하위 행들을 간단하게 확인할 수 있습니다.\n",
    "- 데이터의 컬럼별 자료형은 df.dtypes를 통해 확인할 수 있습니다. 만약 컬럼과 맞지 않는 데이터타입이 있다면, 오류 데이터를 의심해봐야 합니다.\n",
    "- df.info는 앞서 말한 내용들을 한눈에 확인할 수 있도록 해줍니다."
   ]
  },
  {
   "cell_type": "code",
   "execution_count": 23,
   "id": "936205cf-12ff-4a68-81d0-e0bb5cf1fa53",
   "metadata": {},
   "outputs": [
    {
     "data": {
      "text/plain": [
       "(3, 4)"
      ]
     },
     "execution_count": 23,
     "metadata": {},
     "output_type": "execute_result"
    }
   ],
   "source": [
    "# 예시\n",
    "df.shape"
   ]
  },
  {
   "cell_type": "code",
   "execution_count": 24,
   "id": "93e82407-92f3-470c-864b-7050d5755731",
   "metadata": {},
   "outputs": [
    {
     "data": {
      "text/html": [
       "<div>\n",
       "<style scoped>\n",
       "    .dataframe tbody tr th:only-of-type {\n",
       "        vertical-align: middle;\n",
       "    }\n",
       "\n",
       "    .dataframe tbody tr th {\n",
       "        vertical-align: top;\n",
       "    }\n",
       "\n",
       "    .dataframe thead th {\n",
       "        text-align: right;\n",
       "    }\n",
       "</style>\n",
       "<table border=\"1\" class=\"dataframe\">\n",
       "  <thead>\n",
       "    <tr style=\"text-align: right;\">\n",
       "      <th></th>\n",
       "      <th>0</th>\n",
       "      <th>1</th>\n",
       "      <th>2</th>\n",
       "      <th>3</th>\n",
       "    </tr>\n",
       "  </thead>\n",
       "  <tbody>\n",
       "    <tr>\n",
       "      <th>0</th>\n",
       "      <td>0</td>\n",
       "      <td>1</td>\n",
       "      <td>2</td>\n",
       "      <td>3</td>\n",
       "    </tr>\n",
       "    <tr>\n",
       "      <th>1</th>\n",
       "      <td>4</td>\n",
       "      <td>5</td>\n",
       "      <td>6</td>\n",
       "      <td>7</td>\n",
       "    </tr>\n",
       "  </tbody>\n",
       "</table>\n",
       "</div>"
      ],
      "text/plain": [
       "   0  1  2  3\n",
       "0  0  1  2  3\n",
       "1  4  5  6  7"
      ]
     },
     "execution_count": 24,
     "metadata": {},
     "output_type": "execute_result"
    }
   ],
   "source": [
    "df.head(2)"
   ]
  },
  {
   "cell_type": "code",
   "execution_count": 25,
   "id": "4659865a-759c-4250-9e71-fa3d522fe5e1",
   "metadata": {},
   "outputs": [
    {
     "data": {
      "text/plain": [
       "0    int32\n",
       "1    int32\n",
       "2    int32\n",
       "3    int32\n",
       "dtype: object"
      ]
     },
     "execution_count": 25,
     "metadata": {},
     "output_type": "execute_result"
    }
   ],
   "source": [
    "df.dtypes"
   ]
  },
  {
   "cell_type": "code",
   "execution_count": 26,
   "id": "5251f825-a75b-4944-aa7a-133dc7078828",
   "metadata": {},
   "outputs": [
    {
     "name": "stdout",
     "output_type": "stream",
     "text": [
      "<class 'pandas.core.frame.DataFrame'>\n",
      "RangeIndex: 3 entries, 0 to 2\n",
      "Data columns (total 4 columns):\n",
      " #   Column  Non-Null Count  Dtype\n",
      "---  ------  --------------  -----\n",
      " 0   0       3 non-null      int32\n",
      " 1   1       3 non-null      int32\n",
      " 2   2       3 non-null      int32\n",
      " 3   3       3 non-null      int32\n",
      "dtypes: int32(4)\n",
      "memory usage: 180.0 bytes\n"
     ]
    }
   ],
   "source": [
    "df.info()"
   ]
  },
  {
   "cell_type": "markdown",
   "id": "384c3c5b-14f9-4da0-9361-e3fbf3337222",
   "metadata": {},
   "source": [
    "## 인덱스/컬럼명 변경"
   ]
  },
  {
   "cell_type": "markdown",
   "id": "a0d1dec7-304e-4235-b4f4-653ca4830a17",
   "metadata": {},
   "source": [
    "- 데이터프레임의 인덱스와 컬럼을 가져오고 싶을 땐, df.index와 df.column을 사용하면 됩니다.\n",
    "- 인덱스/컬럼의 이름을 바꾸고 싶다면 리스트 등의 형태로 값을 전달해주면 됩니다.\n",
    "- 다만 위의 방법은 인덱스/컬럼명을 전부 바꾸게 되므로 일부만 변경하고 싶다면 rename을 사용하면 됩니다."
   ]
  },
  {
   "cell_type": "code",
   "execution_count": 27,
   "id": "51603baf-b7fa-4d4f-9f84-d6536caa6b3b",
   "metadata": {},
   "outputs": [
    {
     "name": "stdout",
     "output_type": "stream",
     "text": [
      "RangeIndex(start=0, stop=3, step=1)\n",
      "RangeIndex(start=0, stop=4, step=1)\n",
      "Index(['A', 'b', 'c', 'd'], dtype='object')\n"
     ]
    }
   ],
   "source": [
    "# 예시\n",
    "print(df.index)\n",
    "print(df.columns)\n",
    "df.columns = ['a','b','c','d']\n",
    "df.rename(columns={'a':'A'}, inplace = True)\n",
    "print(df.columns)"
   ]
  },
  {
   "cell_type": "markdown",
   "id": "b210abfa-b1b2-450b-a221-f90132abdd4e",
   "metadata": {},
   "source": [
    "## 행/열 삭제"
   ]
  },
  {
   "cell_type": "markdown",
   "id": "96962ea6-95b4-45f0-ae5b-73a64acebce8",
   "metadata": {},
   "source": [
    "- 데이터프레임을 다룰 땐 굳이 볼 필요가 없는 행이나 열은 삭제해주는 편이 좋습니다.\n",
    "- drop()을 통해 이것을 실현할 수 있으며 이때 삭제하고 싶은 것이 행인지 열인지에 따라 방향 설정을 달리 해야하므로 주의가 필요합니다.\n",
    "- 행을 삭제하고 싶을 땐 axis=0(디폴트), 열을 삭제하고 싶을 땐 axis=1이 되도록 지정해주면 됩니다.\n",
    "- drop은 원본 데이터를 변형시킬수도 있는 파괴적인 함수기 때문에 기존 객체가 아닌 새로운 객체에 대해 반환됩니다. 만약 원본을 직접적으로 바꾸고 싶다면 inplace = True 옵션을 추가하면 됩니다."
   ]
  },
  {
   "cell_type": "code",
   "execution_count": 28,
   "id": "56902037-7fec-4fd5-921d-87dafc9f5408",
   "metadata": {},
   "outputs": [
    {
     "data": {
      "text/html": [
       "<div>\n",
       "<style scoped>\n",
       "    .dataframe tbody tr th:only-of-type {\n",
       "        vertical-align: middle;\n",
       "    }\n",
       "\n",
       "    .dataframe tbody tr th {\n",
       "        vertical-align: top;\n",
       "    }\n",
       "\n",
       "    .dataframe thead th {\n",
       "        text-align: right;\n",
       "    }\n",
       "</style>\n",
       "<table border=\"1\" class=\"dataframe\">\n",
       "  <thead>\n",
       "    <tr style=\"text-align: right;\">\n",
       "      <th></th>\n",
       "      <th>A</th>\n",
       "      <th>b</th>\n",
       "      <th>c</th>\n",
       "    </tr>\n",
       "  </thead>\n",
       "  <tbody>\n",
       "    <tr>\n",
       "      <th>1</th>\n",
       "      <td>4</td>\n",
       "      <td>5</td>\n",
       "      <td>6</td>\n",
       "    </tr>\n",
       "    <tr>\n",
       "      <th>2</th>\n",
       "      <td>8</td>\n",
       "      <td>9</td>\n",
       "      <td>10</td>\n",
       "    </tr>\n",
       "  </tbody>\n",
       "</table>\n",
       "</div>"
      ],
      "text/plain": [
       "   A  b   c\n",
       "1  4  5   6\n",
       "2  8  9  10"
      ]
     },
     "execution_count": 28,
     "metadata": {},
     "output_type": "execute_result"
    }
   ],
   "source": [
    "# 예시\n",
    "df = df.drop(0)\n",
    "df.drop('d', axis = 1, inplace = True)\n",
    "df"
   ]
  },
  {
   "cell_type": "markdown",
   "id": "ddab600e-f2ac-4e20-abf2-c77bccf735c8",
   "metadata": {},
   "source": [
    "## 행 선택"
   ]
  },
  {
   "cell_type": "markdown",
   "id": "8b74a2a2-c433-46e7-89cd-db5188cded2d",
   "metadata": {},
   "source": [
    "- 데이터프레임을 자유자재로 다루기 위해서는 원하는 행과 열을 선택하는 방법에 대해 알아야 합니다.\n",
    "- loc과 iloc은 행을 선택할 때 유용하게 사용되는 메서드입니다.\n",
    "- loc은 인덱스 이름을 기준으로 하고, iloc은 정수형 위치 인덱스를 기준으로 한다는 점에서 약간 차이가 있습니다.\n",
    "- loc과 iloc은 행뿐만 아니라 열, 그리고 개별적인 데이터에까지 접근할 수 있기 때문에 사용법을 잘 익혀두면 좋습니다."
   ]
  },
  {
   "cell_type": "code",
   "execution_count": 29,
   "id": "c8a1b2ac-1d84-4095-96bb-94459d08ed42",
   "metadata": {},
   "outputs": [
    {
     "data": {
      "text/plain": [
       "A    4\n",
       "b    5\n",
       "c    6\n",
       "Name: 1, dtype: int32"
      ]
     },
     "execution_count": 29,
     "metadata": {},
     "output_type": "execute_result"
    }
   ],
   "source": [
    "# 예시\n",
    "df.loc[1] # 인덱스 이름이 1인 행을 찾는다"
   ]
  },
  {
   "cell_type": "code",
   "execution_count": 31,
   "id": "c08f12e7-8100-4f56-847e-c1f592864499",
   "metadata": {},
   "outputs": [
    {
     "data": {
      "text/plain": [
       "A     8\n",
       "b     9\n",
       "c    10\n",
       "Name: 2, dtype: int32"
      ]
     },
     "execution_count": 31,
     "metadata": {},
     "output_type": "execute_result"
    }
   ],
   "source": [
    "df.iloc[1] # 정수형 위치 인덱스가 1인 행을 찾는다 (항상 시작은 0부터)"
   ]
  },
  {
   "cell_type": "code",
   "execution_count": 33,
   "id": "1f577d51-92ae-4a20-9574-238a39e5a4d3",
   "metadata": {},
   "outputs": [
    {
     "data": {
      "text/plain": [
       "1    4\n",
       "2    8\n",
       "Name: A, dtype: int32"
      ]
     },
     "execution_count": 33,
     "metadata": {},
     "output_type": "execute_result"
    }
   ],
   "source": [
    "df.loc[:,'A'] # 열 선택"
   ]
  },
  {
   "cell_type": "code",
   "execution_count": 34,
   "id": "c813c061-7051-4a45-8ebc-83914f52936d",
   "metadata": {},
   "outputs": [
    {
     "data": {
      "text/plain": [
       "4"
      ]
     },
     "execution_count": 34,
     "metadata": {},
     "output_type": "execute_result"
    }
   ],
   "source": [
    "df.iloc[0,0] # 개별적인 값 선택"
   ]
  },
  {
   "cell_type": "code",
   "execution_count": 43,
   "id": "01172178-f844-4aa7-893f-b7684e38c70e",
   "metadata": {},
   "outputs": [
    {
     "data": {
      "text/html": [
       "<div>\n",
       "<style scoped>\n",
       "    .dataframe tbody tr th:only-of-type {\n",
       "        vertical-align: middle;\n",
       "    }\n",
       "\n",
       "    .dataframe tbody tr th {\n",
       "        vertical-align: top;\n",
       "    }\n",
       "\n",
       "    .dataframe thead th {\n",
       "        text-align: right;\n",
       "    }\n",
       "</style>\n",
       "<table border=\"1\" class=\"dataframe\">\n",
       "  <thead>\n",
       "    <tr style=\"text-align: right;\">\n",
       "      <th></th>\n",
       "      <th>A</th>\n",
       "      <th>b</th>\n",
       "      <th>c</th>\n",
       "    </tr>\n",
       "  </thead>\n",
       "  <tbody>\n",
       "    <tr>\n",
       "      <th>1</th>\n",
       "      <td>4</td>\n",
       "      <td>5</td>\n",
       "      <td>6</td>\n",
       "    </tr>\n",
       "    <tr>\n",
       "      <th>2</th>\n",
       "      <td>8</td>\n",
       "      <td>9</td>\n",
       "      <td>10</td>\n",
       "    </tr>\n",
       "  </tbody>\n",
       "</table>\n",
       "</div>"
      ],
      "text/plain": [
       "   A  b   c\n",
       "1  4  5   6\n",
       "2  8  9  10"
      ]
     },
     "execution_count": 43,
     "metadata": {},
     "output_type": "execute_result"
    }
   ],
   "source": [
    "df.loc[[1,2]] # 여러 행 선택 (데이터프레임 형태로 추출됨)"
   ]
  },
  {
   "cell_type": "markdown",
   "id": "78086168-2128-48c3-900a-1cb1315f11f1",
   "metadata": {},
   "source": [
    "## 열 선택"
   ]
  },
  {
   "cell_type": "markdown",
   "id": "e56324d2-b9b3-40c6-91f3-74949c731f27",
   "metadata": {},
   "source": [
    "- loc과 iloc을 통해서도 열을 선택할 수 있었지만, df['열이름']을 통해 더 쉽게 열을 불러올 수 있습니다.\n",
    "    - 열이름이 영어인 경우 df.열이름 도 가능한 방법입니다.\n",
    "- 여러 열을 선택하고 싶으면 리스트로 묶어주면 됩니다."
   ]
  },
  {
   "cell_type": "code",
   "execution_count": 40,
   "id": "f7dd59cd-d938-4f46-a478-0d11394c6037",
   "metadata": {},
   "outputs": [
    {
     "data": {
      "text/plain": [
       "1    4\n",
       "2    8\n",
       "Name: A, dtype: int32"
      ]
     },
     "execution_count": 40,
     "metadata": {},
     "output_type": "execute_result"
    }
   ],
   "source": [
    "# 예시\n",
    "df['A']"
   ]
  },
  {
   "cell_type": "code",
   "execution_count": 41,
   "id": "b7a27191-da38-4f59-989f-0f8229442d94",
   "metadata": {},
   "outputs": [
    {
     "data": {
      "text/plain": [
       "1    5\n",
       "2    9\n",
       "Name: b, dtype: int32"
      ]
     },
     "execution_count": 41,
     "metadata": {},
     "output_type": "execute_result"
    }
   ],
   "source": [
    "df.b"
   ]
  },
  {
   "cell_type": "code",
   "execution_count": 42,
   "id": "26bf3a7f-e455-47e7-8a96-74442db7a1ec",
   "metadata": {},
   "outputs": [
    {
     "data": {
      "text/html": [
       "<div>\n",
       "<style scoped>\n",
       "    .dataframe tbody tr th:only-of-type {\n",
       "        vertical-align: middle;\n",
       "    }\n",
       "\n",
       "    .dataframe tbody tr th {\n",
       "        vertical-align: top;\n",
       "    }\n",
       "\n",
       "    .dataframe thead th {\n",
       "        text-align: right;\n",
       "    }\n",
       "</style>\n",
       "<table border=\"1\" class=\"dataframe\">\n",
       "  <thead>\n",
       "    <tr style=\"text-align: right;\">\n",
       "      <th></th>\n",
       "      <th>A</th>\n",
       "      <th>c</th>\n",
       "    </tr>\n",
       "  </thead>\n",
       "  <tbody>\n",
       "    <tr>\n",
       "      <th>1</th>\n",
       "      <td>4</td>\n",
       "      <td>6</td>\n",
       "    </tr>\n",
       "    <tr>\n",
       "      <th>2</th>\n",
       "      <td>8</td>\n",
       "      <td>10</td>\n",
       "    </tr>\n",
       "  </tbody>\n",
       "</table>\n",
       "</div>"
      ],
      "text/plain": [
       "   A   c\n",
       "1  4   6\n",
       "2  8  10"
      ]
     },
     "execution_count": 42,
     "metadata": {},
     "output_type": "execute_result"
    }
   ],
   "source": [
    "df[['A','c']]"
   ]
  },
  {
   "cell_type": "markdown",
   "id": "846f83d1-ed32-4c66-a8c2-e80763a799dc",
   "metadata": {},
   "source": [
    "## 데이터 정렬"
   ]
  },
  {
   "cell_type": "markdown",
   "id": "46bcfd2e-7d96-4b3e-b33a-8eae1476b73a",
   "metadata": {},
   "source": [
    "- 데이터를 순서대로 정렬시켜놓고 관찰하고 싶을 땐 기준이 행 인덱스인지, 특정 열인지에 따라 sort_index()나 sort_values()를 사용할 수 있습니다.\n",
    "- ascending 옵션을 통해 오름차순으로 정렬시킬지(디폴트), 내림차순으로 정렬시킬지 결정할 수 있습니다.\n",
    "- value_counts()를 통해 데이터들의 빈도 또한 알 수 있습니다."
   ]
  },
  {
   "cell_type": "code",
   "execution_count": 68,
   "id": "4e7292f3-6a3b-4cff-924b-bb6c5ae59c4d",
   "metadata": {},
   "outputs": [
    {
     "data": {
      "text/html": [
       "<div>\n",
       "<style scoped>\n",
       "    .dataframe tbody tr th:only-of-type {\n",
       "        vertical-align: middle;\n",
       "    }\n",
       "\n",
       "    .dataframe tbody tr th {\n",
       "        vertical-align: top;\n",
       "    }\n",
       "\n",
       "    .dataframe thead th {\n",
       "        text-align: right;\n",
       "    }\n",
       "</style>\n",
       "<table border=\"1\" class=\"dataframe\">\n",
       "  <thead>\n",
       "    <tr style=\"text-align: right;\">\n",
       "      <th></th>\n",
       "      <th>a</th>\n",
       "      <th>b</th>\n",
       "      <th>c</th>\n",
       "      <th>d</th>\n",
       "    </tr>\n",
       "  </thead>\n",
       "  <tbody>\n",
       "    <tr>\n",
       "      <th>0</th>\n",
       "      <td>11</td>\n",
       "      <td>10</td>\n",
       "      <td>9</td>\n",
       "      <td>8</td>\n",
       "    </tr>\n",
       "    <tr>\n",
       "      <th>1</th>\n",
       "      <td>7</td>\n",
       "      <td>6</td>\n",
       "      <td>5</td>\n",
       "      <td>4</td>\n",
       "    </tr>\n",
       "    <tr>\n",
       "      <th>2</th>\n",
       "      <td>3</td>\n",
       "      <td>2</td>\n",
       "      <td>1</td>\n",
       "      <td>4</td>\n",
       "    </tr>\n",
       "  </tbody>\n",
       "</table>\n",
       "</div>"
      ],
      "text/plain": [
       "    a   b  c  d\n",
       "0  11  10  9  8\n",
       "1   7   6  5  4\n",
       "2   3   2  1  4"
      ]
     },
     "execution_count": 68,
     "metadata": {},
     "output_type": "execute_result"
    }
   ],
   "source": [
    "# 예시\n",
    "df1 = pd.DataFrame(np.arange(12)[::-1].reshape(3,4), columns=['a','b','c','d']) # 새로운 데이터프레임 생성\n",
    "df1.replace(0,4, inplace = True)\n",
    "df1"
   ]
  },
  {
   "cell_type": "code",
   "execution_count": 62,
   "id": "16efea9e-0db4-4e26-b931-dc5a2098f311",
   "metadata": {},
   "outputs": [
    {
     "data": {
      "text/html": [
       "<div>\n",
       "<style scoped>\n",
       "    .dataframe tbody tr th:only-of-type {\n",
       "        vertical-align: middle;\n",
       "    }\n",
       "\n",
       "    .dataframe tbody tr th {\n",
       "        vertical-align: top;\n",
       "    }\n",
       "\n",
       "    .dataframe thead th {\n",
       "        text-align: right;\n",
       "    }\n",
       "</style>\n",
       "<table border=\"1\" class=\"dataframe\">\n",
       "  <thead>\n",
       "    <tr style=\"text-align: right;\">\n",
       "      <th></th>\n",
       "      <th>a</th>\n",
       "      <th>b</th>\n",
       "      <th>c</th>\n",
       "      <th>d</th>\n",
       "    </tr>\n",
       "  </thead>\n",
       "  <tbody>\n",
       "    <tr>\n",
       "      <th>2</th>\n",
       "      <td>3</td>\n",
       "      <td>2</td>\n",
       "      <td>1</td>\n",
       "      <td>0</td>\n",
       "    </tr>\n",
       "    <tr>\n",
       "      <th>1</th>\n",
       "      <td>7</td>\n",
       "      <td>6</td>\n",
       "      <td>5</td>\n",
       "      <td>4</td>\n",
       "    </tr>\n",
       "    <tr>\n",
       "      <th>0</th>\n",
       "      <td>11</td>\n",
       "      <td>10</td>\n",
       "      <td>9</td>\n",
       "      <td>8</td>\n",
       "    </tr>\n",
       "  </tbody>\n",
       "</table>\n",
       "</div>"
      ],
      "text/plain": [
       "    a   b  c  d\n",
       "2   3   2  1  0\n",
       "1   7   6  5  4\n",
       "0  11  10  9  8"
      ]
     },
     "execution_count": 62,
     "metadata": {},
     "output_type": "execute_result"
    }
   ],
   "source": [
    "df1.sort_index(ascending=False)"
   ]
  },
  {
   "cell_type": "code",
   "execution_count": 64,
   "id": "959fd128-6554-4b22-a6bb-1c900a6c4d25",
   "metadata": {},
   "outputs": [
    {
     "data": {
      "text/html": [
       "<div>\n",
       "<style scoped>\n",
       "    .dataframe tbody tr th:only-of-type {\n",
       "        vertical-align: middle;\n",
       "    }\n",
       "\n",
       "    .dataframe tbody tr th {\n",
       "        vertical-align: top;\n",
       "    }\n",
       "\n",
       "    .dataframe thead th {\n",
       "        text-align: right;\n",
       "    }\n",
       "</style>\n",
       "<table border=\"1\" class=\"dataframe\">\n",
       "  <thead>\n",
       "    <tr style=\"text-align: right;\">\n",
       "      <th></th>\n",
       "      <th>a</th>\n",
       "      <th>b</th>\n",
       "      <th>c</th>\n",
       "      <th>d</th>\n",
       "    </tr>\n",
       "  </thead>\n",
       "  <tbody>\n",
       "    <tr>\n",
       "      <th>2</th>\n",
       "      <td>3</td>\n",
       "      <td>2</td>\n",
       "      <td>1</td>\n",
       "      <td>0</td>\n",
       "    </tr>\n",
       "    <tr>\n",
       "      <th>1</th>\n",
       "      <td>7</td>\n",
       "      <td>6</td>\n",
       "      <td>5</td>\n",
       "      <td>4</td>\n",
       "    </tr>\n",
       "    <tr>\n",
       "      <th>0</th>\n",
       "      <td>11</td>\n",
       "      <td>10</td>\n",
       "      <td>9</td>\n",
       "      <td>8</td>\n",
       "    </tr>\n",
       "  </tbody>\n",
       "</table>\n",
       "</div>"
      ],
      "text/plain": [
       "    a   b  c  d\n",
       "2   3   2  1  0\n",
       "1   7   6  5  4\n",
       "0  11  10  9  8"
      ]
     },
     "execution_count": 64,
     "metadata": {},
     "output_type": "execute_result"
    }
   ],
   "source": [
    "df1.sort_values(by='b')"
   ]
  },
  {
   "cell_type": "code",
   "execution_count": 70,
   "id": "838bdb47-64f3-45c4-8d1b-564030744aaf",
   "metadata": {},
   "outputs": [
    {
     "data": {
      "text/plain": [
       "d\n",
       "4    2\n",
       "8    1\n",
       "Name: count, dtype: int64"
      ]
     },
     "execution_count": 70,
     "metadata": {},
     "output_type": "execute_result"
    }
   ],
   "source": [
    "df1['d'].value_counts()"
   ]
  },
  {
   "cell_type": "markdown",
   "id": "e542f023-d2ac-42cc-900f-ccb3d3d07fa3",
   "metadata": {},
   "source": [
    "## 데이터프레임 병합"
   ]
  },
  {
   "cell_type": "markdown",
   "id": "3e2a2f86-d9a9-4ce2-8c09-00fc6266bf32",
   "metadata": {},
   "source": [
    "- 서로 다른 두 데이터프레임을 pd.concat 함수를 사용하여 병합시킬 수 있습니다.\n",
    "- 이때도 행방향으로 병합할지, 열방향으로 병합할지에 따라 axis를 잘 설정해주어야 합니다.\n",
    "- df 병합 시 병합되는 df의 개별적인 값들은 자신의 인덱스/컬럼명을 찾아 들어갑니다. 해당사항이 없다면 새로운 인덱스/컬럼명이 만들어지고, 빈자리는 결측치(NaN)로 채워지게 됩니다."
   ]
  },
  {
   "cell_type": "code",
   "execution_count": 71,
   "id": "30cc44b9-d485-4766-97c1-f99c98af8f9b",
   "metadata": {},
   "outputs": [
    {
     "data": {
      "text/html": [
       "<div>\n",
       "<style scoped>\n",
       "    .dataframe tbody tr th:only-of-type {\n",
       "        vertical-align: middle;\n",
       "    }\n",
       "\n",
       "    .dataframe tbody tr th {\n",
       "        vertical-align: top;\n",
       "    }\n",
       "\n",
       "    .dataframe thead th {\n",
       "        text-align: right;\n",
       "    }\n",
       "</style>\n",
       "<table border=\"1\" class=\"dataframe\">\n",
       "  <thead>\n",
       "    <tr style=\"text-align: right;\">\n",
       "      <th></th>\n",
       "      <th>A</th>\n",
       "      <th>b</th>\n",
       "      <th>c</th>\n",
       "      <th>a</th>\n",
       "      <th>d</th>\n",
       "    </tr>\n",
       "  </thead>\n",
       "  <tbody>\n",
       "    <tr>\n",
       "      <th>1</th>\n",
       "      <td>4.0</td>\n",
       "      <td>5</td>\n",
       "      <td>6</td>\n",
       "      <td>NaN</td>\n",
       "      <td>NaN</td>\n",
       "    </tr>\n",
       "    <tr>\n",
       "      <th>2</th>\n",
       "      <td>8.0</td>\n",
       "      <td>9</td>\n",
       "      <td>10</td>\n",
       "      <td>NaN</td>\n",
       "      <td>NaN</td>\n",
       "    </tr>\n",
       "    <tr>\n",
       "      <th>0</th>\n",
       "      <td>NaN</td>\n",
       "      <td>10</td>\n",
       "      <td>9</td>\n",
       "      <td>11.0</td>\n",
       "      <td>8.0</td>\n",
       "    </tr>\n",
       "    <tr>\n",
       "      <th>1</th>\n",
       "      <td>NaN</td>\n",
       "      <td>6</td>\n",
       "      <td>5</td>\n",
       "      <td>7.0</td>\n",
       "      <td>4.0</td>\n",
       "    </tr>\n",
       "    <tr>\n",
       "      <th>2</th>\n",
       "      <td>NaN</td>\n",
       "      <td>2</td>\n",
       "      <td>1</td>\n",
       "      <td>3.0</td>\n",
       "      <td>4.0</td>\n",
       "    </tr>\n",
       "  </tbody>\n",
       "</table>\n",
       "</div>"
      ],
      "text/plain": [
       "     A   b   c     a    d\n",
       "1  4.0   5   6   NaN  NaN\n",
       "2  8.0   9  10   NaN  NaN\n",
       "0  NaN  10   9  11.0  8.0\n",
       "1  NaN   6   5   7.0  4.0\n",
       "2  NaN   2   1   3.0  4.0"
      ]
     },
     "execution_count": 71,
     "metadata": {},
     "output_type": "execute_result"
    }
   ],
   "source": [
    "# 예시\n",
    "pd.concat([df,df1]) # 행방향 (axis=0), 디폴트값\n",
    "# df와 df1간에 공통되는 컬럼명은 'b','c'뿐이기에 이곳을 중심으로 병합되고, 빈자리는 결측치로 처리됨"
   ]
  },
  {
   "cell_type": "code",
   "execution_count": 72,
   "id": "d2d70006-08ea-4f5d-a8f3-d15c15278ee0",
   "metadata": {},
   "outputs": [
    {
     "data": {
      "text/html": [
       "<div>\n",
       "<style scoped>\n",
       "    .dataframe tbody tr th:only-of-type {\n",
       "        vertical-align: middle;\n",
       "    }\n",
       "\n",
       "    .dataframe tbody tr th {\n",
       "        vertical-align: top;\n",
       "    }\n",
       "\n",
       "    .dataframe thead th {\n",
       "        text-align: right;\n",
       "    }\n",
       "</style>\n",
       "<table border=\"1\" class=\"dataframe\">\n",
       "  <thead>\n",
       "    <tr style=\"text-align: right;\">\n",
       "      <th></th>\n",
       "      <th>A</th>\n",
       "      <th>b</th>\n",
       "      <th>c</th>\n",
       "      <th>a</th>\n",
       "      <th>b</th>\n",
       "      <th>c</th>\n",
       "      <th>d</th>\n",
       "    </tr>\n",
       "  </thead>\n",
       "  <tbody>\n",
       "    <tr>\n",
       "      <th>1</th>\n",
       "      <td>4.0</td>\n",
       "      <td>5.0</td>\n",
       "      <td>6.0</td>\n",
       "      <td>7</td>\n",
       "      <td>6</td>\n",
       "      <td>5</td>\n",
       "      <td>4</td>\n",
       "    </tr>\n",
       "    <tr>\n",
       "      <th>2</th>\n",
       "      <td>8.0</td>\n",
       "      <td>9.0</td>\n",
       "      <td>10.0</td>\n",
       "      <td>3</td>\n",
       "      <td>2</td>\n",
       "      <td>1</td>\n",
       "      <td>4</td>\n",
       "    </tr>\n",
       "    <tr>\n",
       "      <th>0</th>\n",
       "      <td>NaN</td>\n",
       "      <td>NaN</td>\n",
       "      <td>NaN</td>\n",
       "      <td>11</td>\n",
       "      <td>10</td>\n",
       "      <td>9</td>\n",
       "      <td>8</td>\n",
       "    </tr>\n",
       "  </tbody>\n",
       "</table>\n",
       "</div>"
      ],
      "text/plain": [
       "     A    b     c   a   b  c  d\n",
       "1  4.0  5.0   6.0   7   6  5  4\n",
       "2  8.0  9.0  10.0   3   2  1  4\n",
       "0  NaN  NaN   NaN  11  10  9  8"
      ]
     },
     "execution_count": 72,
     "metadata": {},
     "output_type": "execute_result"
    }
   ],
   "source": [
    "pd.concat([df,df1], axis=1) # 열방향\n",
    "# 인덱스 1,2가 서로 겹치지만, df에는 0이라는 인덱스가 존재하지 않기 때문에 해당부분들은 결측치로 처리됨"
   ]
  },
  {
   "cell_type": "markdown",
   "id": "74073467-481d-410c-9498-e97ffcfc2686",
   "metadata": {},
   "source": [
    "- 단순히 데이터프레임을 이어붙이는 concat과 달리, merge방식을 사용하면 형태가 다르더라도 공통된 항목을 기준으로 데이터프레임을 병합시킬 수 있습니다.\n",
    "- 집합 연산과 유사한 측면이 있는데, A와 B를 결합시킬 때 left join은 A를 기준으로, Inner join은 교집합을 기준으로, outer join은 합집합을 기준으로 병합됩니다."
   ]
  },
  {
   "cell_type": "markdown",
   "id": "e2ec8165-5254-4cae-84cf-7ad6ab7993ea",
   "metadata": {},
   "source": [
    "## 결측치 처리"
   ]
  },
  {
   "cell_type": "markdown",
   "id": "2c89ba1f-42d3-4136-9462-4f85ea2e19c9",
   "metadata": {},
   "source": [
    "- 데이터는 완전 무결하지 않기 때문에, 데이터를 다루다 보면 결측치를 마주하는 경우가 많습니다.\n",
    "- 상황에 따라 다르지만, 결측치가 분석을 방해할 수 있기 때문에 필요에 따라 이를 특정값으로 대체하거나 제거해야 합니다.\n",
    "- fillna()는 결측치들을 특정값으로 대체할 수 있게 해줍니다."
   ]
  },
  {
   "cell_type": "code",
   "execution_count": 91,
   "id": "8ace8322-ef85-4baa-8135-6d79587c5603",
   "metadata": {},
   "outputs": [
    {
     "data": {
      "text/html": [
       "<div>\n",
       "<style scoped>\n",
       "    .dataframe tbody tr th:only-of-type {\n",
       "        vertical-align: middle;\n",
       "    }\n",
       "\n",
       "    .dataframe tbody tr th {\n",
       "        vertical-align: top;\n",
       "    }\n",
       "\n",
       "    .dataframe thead th {\n",
       "        text-align: right;\n",
       "    }\n",
       "</style>\n",
       "<table border=\"1\" class=\"dataframe\">\n",
       "  <thead>\n",
       "    <tr style=\"text-align: right;\">\n",
       "      <th></th>\n",
       "      <th>A</th>\n",
       "      <th>b</th>\n",
       "      <th>c</th>\n",
       "      <th>a</th>\n",
       "      <th>d</th>\n",
       "    </tr>\n",
       "  </thead>\n",
       "  <tbody>\n",
       "    <tr>\n",
       "      <th>1</th>\n",
       "      <td>4.000000</td>\n",
       "      <td>5</td>\n",
       "      <td>6</td>\n",
       "      <td>5.833333</td>\n",
       "      <td>5.833333</td>\n",
       "    </tr>\n",
       "    <tr>\n",
       "      <th>2</th>\n",
       "      <td>8.000000</td>\n",
       "      <td>9</td>\n",
       "      <td>10</td>\n",
       "      <td>5.833333</td>\n",
       "      <td>5.833333</td>\n",
       "    </tr>\n",
       "    <tr>\n",
       "      <th>0</th>\n",
       "      <td>5.833333</td>\n",
       "      <td>10</td>\n",
       "      <td>9</td>\n",
       "      <td>11.000000</td>\n",
       "      <td>8.000000</td>\n",
       "    </tr>\n",
       "    <tr>\n",
       "      <th>1</th>\n",
       "      <td>5.833333</td>\n",
       "      <td>6</td>\n",
       "      <td>5</td>\n",
       "      <td>7.000000</td>\n",
       "      <td>4.000000</td>\n",
       "    </tr>\n",
       "    <tr>\n",
       "      <th>2</th>\n",
       "      <td>5.833333</td>\n",
       "      <td>2</td>\n",
       "      <td>1</td>\n",
       "      <td>3.000000</td>\n",
       "      <td>4.000000</td>\n",
       "    </tr>\n",
       "  </tbody>\n",
       "</table>\n",
       "</div>"
      ],
      "text/plain": [
       "          A   b   c          a         d\n",
       "1  4.000000   5   6   5.833333  5.833333\n",
       "2  8.000000   9  10   5.833333  5.833333\n",
       "0  5.833333  10   9  11.000000  8.000000\n",
       "1  5.833333   6   5   7.000000  4.000000\n",
       "2  5.833333   2   1   3.000000  4.000000"
      ]
     },
     "execution_count": 91,
     "metadata": {},
     "output_type": "execute_result"
    }
   ],
   "source": [
    "# 예시\n",
    "dfc = pd.concat([df,df1])\n",
    "dfc.fillna(df1.mean().mean(), inplace = True) # 병합한 데이터프레임의 결측치를 df1의 평균값으로 대체\n",
    "dfc"
   ]
  },
  {
   "cell_type": "markdown",
   "id": "a9c112db-8dc5-45b3-9a65-a663795c8812",
   "metadata": {},
   "source": [
    "## 그룹화"
   ]
  },
  {
   "cell_type": "markdown",
   "id": "95d8bb63-e857-43a5-bea0-60a372c1e366",
   "metadata": {},
   "source": [
    "- 원하는 그룹에 대해서만 연산처리를 하고 싶을 땐 그룹화를 해주는 groupby 메서드를 사용할 수 있습니다.\n",
    "- 추후 상위 레벨에서 그룹을 계층화시키는 Hierarchical Indexing에서도 활용할 수 있습니다."
   ]
  },
  {
   "cell_type": "code",
   "execution_count": 93,
   "id": "9740d112-916b-40ea-beec-0b11ea63b347",
   "metadata": {},
   "outputs": [
    {
     "data": {
      "text/plain": [
       "A\n",
       "4.000000    5.833333\n",
       "5.833333    5.333333\n",
       "8.000000    5.833333\n",
       "Name: d, dtype: float64"
      ]
     },
     "execution_count": 93,
     "metadata": {},
     "output_type": "execute_result"
    }
   ],
   "source": [
    "# 예시\n",
    "dfc.groupby('A')['d'].mean() # 컬럼 A의 값들을 기준으로 그룹화를 진행한 뒤 컬럼 d에 대한 평균값 계산"
   ]
  }
 ],
 "metadata": {
  "kernelspec": {
   "display_name": "Python 3 (ipykernel)",
   "language": "python",
   "name": "python3"
  },
  "language_info": {
   "codemirror_mode": {
    "name": "ipython",
    "version": 3
   },
   "file_extension": ".py",
   "mimetype": "text/x-python",
   "name": "python",
   "nbconvert_exporter": "python",
   "pygments_lexer": "ipython3",
   "version": "3.11.7"
  }
 },
 "nbformat": 4,
 "nbformat_minor": 5
}
