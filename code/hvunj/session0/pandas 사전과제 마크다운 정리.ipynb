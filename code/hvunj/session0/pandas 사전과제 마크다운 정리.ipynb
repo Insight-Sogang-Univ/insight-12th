{
 "cells": [
  {
   "cell_type": "markdown",
   "id": "292491df-6f9f-44b1-94fa-474da520387d",
   "metadata": {},
   "source": [
    "* Pandas: 데이터 분석에 특화된 파이썬 라이브러리로 Numpy의 확장판, Numpy의 기능 + 구조화 된 데이터 처리 기능을 보유\r\n",
    "Import pandas as pd를 입력하여 판다스 불러올 수 있음*2. 데이터프레임 \n",
    "데이터프레임: 컴퓨터로 정보를 정리하고 저장하는 도구. 판다스에서 사용하는 주요 데이터 구조\n",
    "기본 구조는 '행'과 '열' - 데이터의 위치를 나타내는 역할\n",
    "#생성방법\n",
    "1. 데이터와 각 카테고리 별 네이밍을 컬럼으로 하는 딕셔너리 생성\n",
    "2. 사용하고자 하는 인덱스와 컬럼 설정\n",
    "3. pd.DataFrame을 사용하여 데이터프레임 구성\n",
    "\n",
    "* 데이터 조작\n",
    "- `df.head(n)`: 앞 n개의 행 반환   \r\n",
    "- `df.tail(n)`: 뒤 n개의 반환\r",
    ")\r\n",
    "    \r\n",
    "- `df.shape`: (행 개수, \n",
    "<데이터 정보 확인>\n",
    "- df.dtypes\n",
    "- df.info()\n",
    "- df.describe()\n",
    "- df.isnull()\n",
    "<데이터 개수 세기>\n",
    "- df.count()\n",
    "- df[column명].value_counts()\n",
    "<데이터 프레임 합치기>\n",
    "concat: 단순히 두 데이터 프레임을 이어붙이는 것\n",
    "df=pd.concat([df1,df2])\n",
    "merge: '공통 항목'을 기준으로 병합하는 것\n",
    "pd.merge(df1,df2,how='inner',on='~~')열08.42.png)구성"
   ]
  }
 ],
 "metadata": {
  "kernelspec": {
   "display_name": "Python 3 (ipykernel)",
   "language": "python",
   "name": "python3"
  },
  "language_info": {
   "codemirror_mode": {
    "name": "ipython",
    "version": 3
   },
   "file_extension": ".py",
   "mimetype": "text/x-python",
   "name": "python",
   "nbconvert_exporter": "python",
   "pygments_lexer": "ipython3",
   "version": "3.12.0"
  }
 },
 "nbformat": 4,
 "nbformat_minor": 5
}
