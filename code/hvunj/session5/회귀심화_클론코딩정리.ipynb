{
 "cells": [
  {
   "cell_type": "markdown",
   "id": "c23a48e0-7d6f-45e9-9053-0a9e7fb970a3",
   "metadata": {},
   "source": [
    "### 회귀심화 클론코딩 정리\n",
    "#### 다중회귀분석을 통한 집값 예측\n",
    "#### 1. 단순 선형 회귀\n",
    "* describe()를 통해 기본적인 기숙 통계 값을 확인해 보니, price의 왜도가 4.02로 왼쪽으로 치우쳐 있는 것을 확인할 수 있었고 따라서 자연로그를 활용하여 분포를 조정이 필요하다는 것을 알았다. 그리고 자연로그를 취한 결과 price의 분포가 정규분포 형태를 띄는 것을 확인할 수 있었다.\n",
    "* df_obj.head() 함수를 통해 date의 전처리가 필요함을 알 수 있어서 date column을 앞에서 4자리만 추출하고 type을 int64로 변경하여 date2로 저장한 후 집이 매각된 연도와 지어진 연도의 기간 차이를 비교하여 sold-built_years라는 새로운 변수를 추가하여 데이터의 전처리를 할 수 있었다.\n",
    "* 히스토그램을 통해 각각의 독립 변수 데이터의 분포를 확인하여 price와 선형 관계가 있을 것 같은 독립 변수들을 선정해 산점도 그래프를 그렸다. 그리고 산점도를 통해 price와 독립 변수들 간의 선형 관계를 파악하였고 특히 price와 sqft_living 간의 선형관계를 확인할 수 있었다.\n",
    "* 히트맵을 통해 price와 상관관계가 높은 독립변수, 그리고 독립 변수들 간 상관관계가 높은 것들이 어떤 것이 있는지 확인하였다. 그 결과 sqft_living, sqft_above, sqft_living15 세 변수들이 상관관계가 높다는 것을 확인할 수 있었다. 이들의 데이터 분포를 살펴보니 분포가 비슷하다는 것을 알 수 있었고 따라서 다중공선성이 존재할 경우 이 중 price와 상관관계가 가장 높은 sqft_living 변수를 독립변수로 단순 선형 회귀 분석을 실시했다.\n",
    "\n",
    "#### 2. 다중 선형 회귀\n",
    "* 단순 선형 회귀와 달리 다중 선형 회귀 분석에서는 모든 변수의 경우 다중공선성 문제를 확인해 볼 필요가 있기에 VIF 값을 이용하여 다중공선성이 있을 변수에 대해 확인하였다. 또한 bedrooms, \n",
    "sqrt_livin, \r\n",
    "waterfro, 형)\r\n",
    "v, 형)\r\n",
    "sold-built_years : date - yr_bu변수들을 선택하여 다중 선형 회귀분석을 실시한 결과 모든 독립 변수들의 유의확률이 유의수준인 0.05 보다 훨씬 작아 통계학적 유의성을 확인할 수 있었다. 또한 다중공선성 문제가 확실히 줄어들었음을 확인할 수 있었다.\n",
    "\n",
    "#### 3. 회귀모형의 가정 판단\n",
    "* 모형의 유의성과 계수의 유의성이 확보되었다고 해도, 오차에 대한 가정을 만족해야 하기 때문에 정규성, 독립성, 등분산성 검정을 실시하였다.\n",
    "* Q-Q 플롯, 잔차 패턴, 샤피로-윌크 검정을 통해 정규성을 만족하는 것을 확인할 수 있었다. 또한 잔차 그래프와 ACF를 이용하여 독립성 만족 여부를 확인할 수 있었다. 마지막으로 잔차 그래프를 통해서 오차의 등분산성 가정을 만족하는 것을 확인할 수 있었다.연속형)"
   ]
  },
  {
   "cell_type": "code",
   "execution_count": null,
   "id": "9c9e3636-20ca-4105-a35c-44f3eb361225",
   "metadata": {},
   "outputs": [],
   "source": []
  }
 ],
 "metadata": {
  "kernelspec": {
   "display_name": "Python 3 (ipykernel)",
   "language": "python",
   "name": "python3"
  },
  "language_info": {
   "codemirror_mode": {
    "name": "ipython",
    "version": 3
   },
   "file_extension": ".py",
   "mimetype": "text/x-python",
   "name": "python",
   "nbconvert_exporter": "python",
   "pygments_lexer": "ipython3",
   "version": "3.12.0"
  }
 },
 "nbformat": 4,
 "nbformat_minor": 5
}
