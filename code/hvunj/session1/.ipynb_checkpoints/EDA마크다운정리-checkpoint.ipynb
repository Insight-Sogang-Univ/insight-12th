{
 "cells": [
  {
   "cell_type": "markdown",
   "id": "cd7d8b03-5237-483a-a85c-e20786ab5004",
   "metadata": {},
   "source": [
    "## EDA 마크다운 정리\n",
    "### EDA: 데이터 분석(모델링)을 위해 데이터를 여러 가지 방식으로 파악하는 모든 과정"
   ]
  },
  {
   "cell_type": "markdown",
   "id": "fab6e212-a621-494f-9176-e0621c139089",
   "metadata": {},
   "source": [
    "## 1 EDA 진행시 고려해야 할 방향성"
   ]
  },
  {
   "cell_type": "markdown",
   "id": "012dd758-6322-4ae3-b9cc-134161a32f39",
   "metadata": {},
   "source": [
    "(1) EDA 대상\n",
    "* 일변량\n",
    "* 다변량\n",
    "\n",
    "(2) EDA 종류\n",
    "* 시각화\n",
    "* 비시각화\n",
    "\n",
    "(3) EDA 유형\n",
    "* 일변량 비시각화\n",
    "* 일변량 시각화\n",
    "* 다변량 비시각화\n",
    "* 다변량 시각화"
   ]
  },
  {
   "cell_type": "markdown",
   "id": "10727fb2-e9d8-4683-bd60-d3d3acdbfb92",
   "metadata": {},
   "source": [
    "## 2 데이터 확인\n",
    "데이터를 분석하려면 데이터가 필요. 작업 공간에 데이터를 불러오는 것이 읽기, 새로운 데이터를 만드는 것이 쓰기에 해당\n",
    "\n",
    "(1) 절대경로와 상대경로\n",
    "* 절대경로: 처음부터 시작하여 목적지까지 전체적인 경로, 해당 파일까지의 모든 경로\n",
    "* 상대경로: 현재 작업하고 있는 디렉터리를 기준으로 상하위 디렉터리와 같이 상대적으로 표현되는 경로\n",
    "\n",
    "(2) 데이터 입출력\n",
    ": read_*** / to_***\n",
    "\n",
    "(3) CSV와 EXCEL\n",
    "* CSV 파일: 데이터를 쉼표로 구분하고 있는 텍스트 파일\n",
    "* EXCEL 파일: 행과 열이 데이터프레임의 행,열로 일대일 대응\n",
    "-> 두 형식 모두 판다스를 통해 데이터프레임 형식으로 읽어올 수 있음"
   ]
  },
  {
   "cell_type": "markdown",
   "id": "cadb2ffc-19d5-4381-9be5-ec58d5dd595a",
   "metadata": {},
   "source": [
    "## 3 전처리\n",
    "데이터 분석을 위해 데이터를 적절한 방식으로 손질하는 과정\n",
    "\n",
    "* 결측값 처리\n",
    "결측값: 데이터 수집 과정에서 측정되지 않거나 누락된 데이터\n",
    "\n",
    "(1) 결측값 확인: 데이터프레임 상에서 NaN, ?, 0 등의 값으로 나타나 있는 결측값 확인\n",
    "\n",
    "(2) 결측값 처리\n",
    "\n",
    "a. 삭제: 데이터가 있는 행 또는 열을 삭제 - dropna()\n",
    "\n",
    "b. 대체: 결측값을 다른 값으로 대체 - fillna()\n",
    "\n",
    "*이상치 처리\n",
    "이상치: 관측된 데이터의 범위에서 많이 벗어난 값\n",
    "\n",
    "(1) 이상치 확인\n",
    "\n",
    "a. 통계를 통해 확인 - describe()\n",
    "\n",
    "b. 시각화를 통해 확인 BoxPlot\n",
    "\n",
    "c. Z-score을 통해 확인: 해당 데이터가 평균으로부터 얼마의 표준 편차만큼 벗어나 있는지\n",
    "   Z값이 음수면 평균 이하 / 양수면 평균 이상 -> 데이터가 정규 분포를 따르면 이상치 판단 기준이 됨\n",
    "\n",
    "d. Tukey Fences을 통해 확인: 사분위 범위를 기반으로, 두 가지 경우에 이상치라고 판단\n",
    "\n",
    "(2) 이상치 제거\n",
    "\n",
    "a. 전체 삭제\n",
    "\n",
    "b. 다른 값으로 대체\n",
    "\n",
    "c. 변수화\n",
    "\n",
    "d. 리샘플링\n"
   ]
  },
  {
   "cell_type": "markdown",
   "id": "c59b7598-ebf5-4709-9fb3-200be5f2d29b",
   "metadata": {},
   "source": [
    "## 4 시각화\n",
    "데이터나 정보를 시각적인 형태로 표현하는 과정 또는 결과물. 시각화를 통해 숫자와 텍스트로 표현되는 정보를 그래프, 차트, 그림, 도표 등의 시각적 요소로 변환하고, 이를 통해 데이터 패턴, 관계, 추세 등을 쉽게 파악 - Matplotlib과 Seaborn 사용\n",
    "\n",
    "### 그래프 종류\n",
    "* boxplot\n",
    "* countplot/histplot\n",
    "* distplot/kdeplot\n",
    "* barplot/pointplot\n",
    "* scatterplot/regplot\n",
    "* catplot\n",
    "* pieplot\n",
    "* heatplot\n",
    "* violinplot\n",
    "* pairplot"
   ]
  },
  {
   "cell_type": "code",
   "execution_count": null,
   "id": "750588d2-038a-47f1-bb9b-d51eb4367613",
   "metadata": {},
   "outputs": [],
   "source": []
  }
 ],
 "metadata": {
  "kernelspec": {
   "display_name": "Python 3 (ipykernel)",
   "language": "python",
   "name": "python3"
  },
  "language_info": {
   "codemirror_mode": {
    "name": "ipython",
    "version": 3
   },
   "file_extension": ".py",
   "mimetype": "text/x-python",
   "name": "python",
   "nbconvert_exporter": "python",
   "pygments_lexer": "ipython3",
   "version": "3.12.0"
  }
 },
 "nbformat": 4,
 "nbformat_minor": 5
}
