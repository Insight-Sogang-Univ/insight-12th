{
 "cells": [
  {
   "cell_type": "markdown",
   "id": "6b341f6e-389b-47de-8d23-994b1d643f62",
   "metadata": {},
   "source": [
    "### 회귀 클론코딩 정리\n",
    "#### 공유 자전거 수요 의존 요인\n",
    "* DATA QUALITY CHECK\n",
    "데이터셋에 결측값 및 중복 값이 없으며 자전거 수요 의존 요인 분석에서 필요 없는 열을 지워 새로운 데이터 프레임 생성\n",
    "* Creating Dummy Variables\n",
    "mnth, weekdau, season, weathersit 네 가지 범주형 변수를 가지고 Dummy Variables 생성\n",
    "* EDA\n",
    "시각화를 통해 temp, atemp와 cnt 사이에 선형 관계가 있음을 확인 또한 범주형 변수의 박스 플롯을 통해  season, mnth, weathersit, workingday가 종속 변수에 대한 좋은 예측 변수가 될 수 있음을 확인함\n",
    "* Rescaling the features\n",
    "모든 feature들을 동일한 스케일로 조정\n",
    "* 선형 모델 구축\n",
    "높은 pvalue와 높은 다중공선성을 가진 atemp 변수를 제거하고 매우 높은 VIF 값을 기준으로 hum 변수 제거. </br>\n",
    "이때 hum의 VIF가 두 번째로 높긴 하지만 온도가 자전거 대여 사업에 중요한 요소가 될 수 있다는 지식을 바탕으로 temp를 유지하고 hum을 제거함. 또한 season3, mnth_10, mnth_3 변수를 제거하여 다중공선성이 낮은 모형을 구축\n",
    "* 최종 모델 해석\n",
    "자전거 예약에 영향을 미치는 상위 3개의 예측 변수에는 온도, 날씨 상황3, 연도가 있으며 그 다음으로 season_4와 풍속을 고려할 수 있다.\n",
    "#### 느낀점\n",
    "pvalue와 VIF를 기준으로 변수를 제거하며 더 유의미한 변수들로 선형 모델을 구축할 수 있음을 직접 클론 코딩을 하면서 제대로 배워볼 수 있었다. 또한 높은 VIF 값을 가짐에도 불구하고 중요한 요소가 될 수 있다는 점을 고려하여 제거하지 않을 수도 있다는 것을 알게 되었다"
   ]
  }
 ],
 "metadata": {
  "kernelspec": {
   "display_name": "Python 3 (ipykernel)",
   "language": "python",
   "name": "python3"
  },
  "language_info": {
   "codemirror_mode": {
    "name": "ipython",
    "version": 3
   },
   "file_extension": ".py",
   "mimetype": "text/x-python",
   "name": "python",
   "nbconvert_exporter": "python",
   "pygments_lexer": "ipython3",
   "version": "3.12.0"
  }
 },
 "nbformat": 4,
 "nbformat_minor": 5
}
