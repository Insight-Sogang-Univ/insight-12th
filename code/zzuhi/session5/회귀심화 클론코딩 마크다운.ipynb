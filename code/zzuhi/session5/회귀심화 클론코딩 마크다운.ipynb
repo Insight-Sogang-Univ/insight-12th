{
 "cells": [
  {
   "cell_type": "markdown",
   "id": "0c480e15-452c-4942-a2a7-16da91d06840",
   "metadata": {},
   "source": [
    "## 회귀심화 클론코딩\n",
    "#### house-sale 다중회귀분석"
   ]
  },
  {
   "cell_type": "markdown",
   "id": "3c0a06b8-551f-444b-ac06-5a06c61394af",
   "metadata": {},
   "source": [
    "**1. 데이터 확인 및 전처리**\n",
    "- 결측치 확인 : df.isnull().sum()\n",
    "- 각 컬럼별 type 확인 : df.info()\n",
    "- 기본적인 기술 통계값 확인 : df.describe() <br>\n",
    "-> 추가 : 중앙값(median), 결측치(missing), 왜도(skewness), 첨도(kurtosis)\n",
    "- dtype별로 분류하여 데이터 살펴본 후 필요한 것 전처리\n",
    "\n",
    "**2. 데이터 특징 파악 - 시각화**\n",
    "- scatterplot : 종속변수-독립변수 간 선형 관계 파악\n",
    "- heatmap : 종속변수와 상관관계 높은 독립변수 파악, 독립변수 간 상관관계 높은 것들 파악\n",
    "\n",
    "**3. 선형회귀분석** <br>\n",
    "\n",
    "(1) 단순선형회귀분석\n",
    "- 종속변수와 가장 상관관계 높은 것 독립변수로 설정\n",
    "- 상수항 추가 (sm.add_constant), 모델 fit\n",
    "- p값 0.05 이하인 경우 귀무가설 기각 - 모형 통계학적 유의성 확보\n",
    "- resid.plot() : 잔차 확인 및 시각화\n",
    "\n",
    "(2) 다중선형회귀분석 <br>\n",
    "- 모든 독립 변수 사용하여 1차 -> 선별한 독립 변수들로 2차\n",
    "- 상수항 추가 (sm.add_constant), 모델 fit, summary 확인\n",
    "- p값 0.05 이하인 경우 - 모형 통계학적 유의성 확보\n",
    "- 다중공선성 확인 (**단순선형회귀와의 차이점!)\n",
    "- 독립변수 선택, 반응변수 자연로그, 모델 fit, summary 확인\n",
    "\n",
    "**4. 회귀모형 가정 진단** <br>\n",
    "\n",
    "(1) 정규성 검정\n",
    "- Q-Q 도표 : sm.qqplot(result_mode_2.resid, line=\"s\")\n",
    "- 잔차 패턴 확인 : predict 후 산점도 확인\n",
    "- 샤피로-윌크 검정 : stats.shapiro(result_model_2.resid), F-value/p-value 확인\n",
    "<br>\n",
    "\n",
    "(2) 독립성 검정\n",
    "- 잔차 그래프 : resid.plot\n",
    "- ACF : sm.graphics.tsa.plot_acf(result_model_2.resid)\n",
    "<br>\n",
    "\n",
    "(3) 등분산성\n",
    "- 잔차 그래프 : sns.distplot, resid.plot"
   ]
  },
  {
   "cell_type": "markdown",
   "id": "4f97268d-03b0-4c0f-a106-7cb110093e45",
   "metadata": {},
   "source": [
    "---"
   ]
  },
  {
   "cell_type": "markdown",
   "id": "6c4500a1-0fca-4132-92f2-9be23b5b5ef2",
   "metadata": {},
   "source": [
    "추가적으로 알게된 것"
   ]
  },
  {
   "cell_type": "markdown",
   "id": "07a34b66-41e8-4db6-af67-cae500fa4379",
   "metadata": {},
   "source": [
    "- df.index += 1 : 인덱스 1로 시작하도록 수정\n",
    "- 왜도가 치우쳐져 있는 경우 자연로그 사용하여 정규분포 형태로 조정 가능\n",
    "- date column 앞 4자리 추출 : df_obj['date'].apply(lambda x: x[0:4])\n",
    "- sns.diverging_palette : 상관계수 시각적으로 구분하기 위한 색상 팔레트 설정\n",
    "- np.zeros_like : 상관관계 행렬과 같은 크기, 데이터 타입의 0으로 채워진 마스크 배열 생성\n",
    "- 상관관계 높은 변수들 있을 때 distplot으로 분포 파악 -> 비슷할 경우 다중공선성 존재한다면 종속변수와 상관관계 가장 높은 것 이용하여 분석\n",
    "- sns.jointplot : 산점도와 도수분포 모두 나타냄\n",
    "- 회귀분석 통해 모형/계수의 유의성 확보되었더라도 오차에 대한 가정 만족하지 않으면 다른 대안 찾아야 함 (오차에 대한 독립성, 정규성, 등분산성)"
   ]
  }
 ],
 "metadata": {
  "kernelspec": {
   "display_name": "Python 3 (ipykernel)",
   "language": "python",
   "name": "python3"
  },
  "language_info": {
   "codemirror_mode": {
    "name": "ipython",
    "version": 3
   },
   "file_extension": ".py",
   "mimetype": "text/x-python",
   "name": "python",
   "nbconvert_exporter": "python",
   "pygments_lexer": "ipython3",
   "version": "3.12.6"
  }
 },
 "nbformat": 4,
 "nbformat_minor": 5
}
