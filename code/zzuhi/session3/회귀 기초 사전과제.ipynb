{
 "cells": [
  {
   "cell_type": "markdown",
   "id": "369cf1ac-6da6-479b-a85e-471b034fcd15",
   "metadata": {},
   "source": [
    "# 회귀 기초 사전과제"
   ]
  },
  {
   "cell_type": "markdown",
   "id": "ec4074f1-bd31-4aa2-a3dd-bbee1bcd031b",
   "metadata": {},
   "source": [
    "### 머신러닝\n",
    "데이터에서 패턴을 찾아내고, 그것을 바탕으로 새로운 데이터에 대해 예측하는 기술\n",
    "- 지도학습 : 정답이 있는 데이터로 학습 (ex. 회귀, 분류)\n",
    "- 비지도학습 : 정답이 없는 데이터로 학습 (ex. 군집화, 클러스터링)\n",
    "- 강화학습 (ex. model based, model free)"
   ]
  },
  {
   "cell_type": "markdown",
   "id": "d047e40a-6d08-4b75-b375-0df0fb48d9c1",
   "metadata": {},
   "source": [
    "### 모델링\n",
    "머신러닝 모델 생성 과정 <br> <br>\n",
    "전체 데이터 -> 데이터 분리 (훈련 데이터/테스트 데이터) -> <br>\n",
    "훈련 데이터로 만든 모델을 테스트 데이터로 반복 성능 평가 -> 최종 모델 생성\n",
    "\n",
    "- 훈련 데이터 (train_set) : for 학습, 훈련\n",
    "- 테스트 데이터 (test_set) : for 검증 <br>\n",
    "-> train data를 통해 학습시킨 모델이 새로운 data의 예측을 잘 수행하는지 공정하게 평가하기 위해 분리"
   ]
  },
  {
   "cell_type": "markdown",
   "id": "27c7d303-11e4-4970-a9c8-39ff599c2ad9",
   "metadata": {},
   "source": [
    "### 회귀\n",
    "- 데이터에서 패턴을 찾아내어 미래 값을 예측하는 것\n",
    "- 연속적인 숫자 (ex. 집값, 주식 가격 등) 다룸\n",
    "- 통계, 머신러닝의 주요 개념\n",
    "- 선형/비선형/로지스틱/릿지/라쏘/다항회귀 등 다양한 기법"
   ]
  },
  {
   "cell_type": "markdown",
   "id": "02362d3e-8c5d-4475-8158-d356709ac865",
   "metadata": {},
   "source": [
    "### 선형회귀\n",
    "데이터를 가장 잘 설명하는 회귀선 (y=ax+b) 을 찾아 예측하는 과정 <br>\n",
    "- 독립변수(x) : 예측을 위해 사용하는 것\n",
    "- 종속변수(y) : 예측하고자 하는 것\n",
    "- 기본 가정 : 선형성, 독립성, 등분산성, 정규성"
   ]
  },
  {
   "cell_type": "markdown",
   "id": "2bb2de44-a394-4c8c-8089-e604607d8e02",
   "metadata": {},
   "source": [
    "#### 1. 단순선형회귀분석\n",
    "데이터를 직선 형태 (하나의 독립변수) 로 표현하는 것 --- y=ax+b\n",
    "- a : 회귀계수(기울기), b : y절편\n",
    "- 잔차 : 실제값 - 예측값\n",
    "\n",
    "최소제곱법 (최소자승법)\n",
    "- 잔차의 제곱의 합 (RSS) 이 최소가 되는 지점 = 최적의 회귀선\n",
    "- 회귀선과 실제 데이터 간 사이를 최소화하려는 것"
   ]
  },
  {
   "cell_type": "markdown",
   "id": "515c76e7-2fb4-4e6c-b68e-bef3a41c1fee",
   "metadata": {},
   "source": [
    "#### 2. 다중선형회귀분석\n",
    "데이터를 두 개 이상의 독립변수를 사용하여 표현하는 것 --- y=W1x1+W2x2+...+Wnxn+b\n",
    "- 회귀선 평면으로 3차원 공간에 표현\n",
    "- 잔차 : 관측치 - 평면\n",
    "- 최소제곱법 사용 가능"
   ]
  },
  {
   "cell_type": "markdown",
   "id": "4c40c90c-ff1f-4d40-a9d5-5d6a52e6bd8c",
   "metadata": {},
   "source": [
    "#### ** 다중공선성\n",
    "독립변수들 간 상관관계가 큰 경우 발생 <br>\n",
    "높은 경우, 독립변수-종속변수 간 영향에 대해 명확한 설명이 어려워짐 -> 분석 정확도 <br>\n",
    "\n",
    "상관계수\n",
    "- 상관관계의 정도를 수치로 나타낸 것으로, -1~1 사이 존재\n",
    "- -1, 1에 가까울 수록 상관성 높음\n",
    "- (-)이면 음의 상관관계, (+)이면 양의 상관관계, 0은 선형 상관관계 없음\n",
    "- 확인법 : heatmap / corr() / pairplot 등\n",
    "\n",
    "VIF지수\n",
    "- 분산 팽창 인수\n",
    "- VIF=1 : 상관관계 전혀 없음\n",
    "- VIF<5 : 일반적으로 다중공선성 문제 없음\n",
    "- VIF>5 : 다중공선성 징후 있음, 주의 요함\n",
    "- VIF>10 : 다중공선성 심각, 조치 필요"
   ]
  },
  {
   "cell_type": "markdown",
   "id": "ebf5a653-2b9d-43dd-9f6c-c1c02e5fddde",
   "metadata": {},
   "source": [
    "대처 방법\n",
    "1. 변수 제거 : 독립변수로 사용할 변수 선택\n",
    "2. 변수 변환 : 변수들 더하거나 빼서 새로운 변수 생성\n",
    "3. 규제 선형 모델 활용 : 릿지, 라쏘, 엘라스틱넷 등 -> 모델의 복잡도 ↓\n",
    "4. PCA(주성분 분석) : 데이터의 차원 축소. 중요한 정보 최대한 보존하며 복잡성 줄이는 것"
   ]
  },
  {
   "cell_type": "markdown",
   "id": "962a56e6-dd52-460f-a242-3b4cda902469",
   "metadata": {},
   "source": [
    "#### ** 모델 성능 및 유의성 평가\n",
    "\n",
    "예측 성능 평가\n",
    "- 평균 제곱 오차 (MSE) : 예측값과 실제 관측값 사이 오차 제곱의 평균 / 큰 오차, 이상치에 민감\n",
    "- 평균 절대 오차 (MAE) : 예측값과 실제 관측값 사이 절댓값 오차의 평균 / 모든 오차 동일 취급, 이상치에 덜 민감\n",
    "\n",
    "변수 유성 평가 <br><br>\n",
    "[t검정]\n",
    "- 가설 : 독립변수의 회귀계수가 0인지 아닌지\n",
    "- p-value(0.05)보다 작다면 해당 변수는 유의하다고 판단\n",
    "- 유의성이 크다 = 종속변수에 영향을 주는 변수이다"
   ]
  }
 ],
 "metadata": {
  "kernelspec": {
   "display_name": "Python 3 (ipykernel)",
   "language": "python",
   "name": "python3"
  },
  "language_info": {
   "codemirror_mode": {
    "name": "ipython",
    "version": 3
   },
   "file_extension": ".py",
   "mimetype": "text/x-python",
   "name": "python",
   "nbconvert_exporter": "python",
   "pygments_lexer": "ipython3",
   "version": "3.12.6"
  }
 },
 "nbformat": 4,
 "nbformat_minor": 5
}
