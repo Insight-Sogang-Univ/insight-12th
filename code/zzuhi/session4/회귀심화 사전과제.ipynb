{
 "cells": [
  {
   "cell_type": "markdown",
   "id": "b9249c9f-bebb-4f38-aed6-a6645cf61222",
   "metadata": {},
   "source": [
    "## **회귀심화 사전과제**"
   ]
  },
  {
   "cell_type": "markdown",
   "id": "0412c27f-a31a-4315-8b33-3b2a46942684",
   "metadata": {},
   "source": [
    "### **0. 회귀**\n",
    "- 연속적인 데이터로부터 패턴을 찾아내어 미래 값을 예측하는 통계적 도구\n",
    "- 지도학습의 종류 (*정답이 있는 데이터)\n",
    "- 평가지표 : MSE (평균제곱오차), MAE (평균절대오차), R-square (결정계수), Adjusted R-square, AIC, BC(SC)"
   ]
  },
  {
   "cell_type": "markdown",
   "id": "eb3fe1ef-33f0-4f4d-91a8-ce7158536c47",
   "metadata": {},
   "source": [
    "단순선형회귀분석 : 독립변수 1개, 직선 형태의 회귀선 (y=ax+b) <br>\n",
    "다중선형회귀분석 : 독립변수 두 개 이상, 평면 형태의 회귀선 (y=W1x1+W2x2+...+Wnxn+b) <br>"
   ]
  },
  {
   "cell_type": "markdown",
   "id": "87fd07b2-921e-436d-88d2-96e4d96a3dfb",
   "metadata": {},
   "source": [
    "**최소제곱법 (OLS)**\n",
    "- 잔차의 제곱의 합이 최소가 되는 회귀선을 찾는 것\n",
    "- 잔차 = 예측값($\\hat{y}$) -관측값(y)"
   ]
  },
  {
   "cell_type": "markdown",
   "id": "007653f7-eb4b-422b-b934-9a42654fa789",
   "metadata": {},
   "source": [
    "### **1. 선형회귀**"
   ]
  },
  {
   "cell_type": "markdown",
   "id": "d54102db-9551-4f84-8b19-8f2ef46bdf16",
   "metadata": {},
   "source": [
    "다중선형회귀의 기본 식 : 종속변수에 대한 설명변수의 가중평균 <br>\n",
    "(설명변수*가중치 한 후 더하여 종속변수를 얼마나 잘 설명하는지 나타낼 수 있음)"
   ]
  },
  {
   "cell_type": "markdown",
   "id": "e1a0a55c-f233-4280-a6ca-4b8f31ce0033",
   "metadata": {},
   "source": [
    "#### 다중선형회귀의 기본 가정 <br>\n",
    "1. **선형성**\n",
    "- 종속변수-설명변수 간 관계가 선형적이어야 함\n",
    "2. **오차항의 평균 = 0**\n",
    "- 백색 잡음(=오차항)의 성질을 만족하기 위해 필요\n",
    "3. **독립성**\n",
    "- 각각의 설명 변수가 서로 선형독립적이어야 함\n",
    "- 만족 X) 다중공선성 발생 (for 확인 : 상관계수, VIF, PCA)\n",
    "4. **등분산성**\n",
    "- 오차항의 분산이 일정해야 함 \n",
    "- 만족 X) 이분산성 발생, 분석 정확도 하락 (특히 횡단면 자료)\n",
    "5. **오차항의 공분산 = 0**\n",
    "- 만족 X) 자기상관 존재 (특히 시계열 자료)\n",
    "6. 정규성 (*필수 X)\n",
    "- 오차항이 정규분포를 따름"
   ]
  },
  {
   "cell_type": "markdown",
   "id": "9b3df042-8a46-490f-9782-c5061b39f3c8",
   "metadata": {},
   "source": [
    "#### 회귀분석 평가 방법 <br>\n",
    "\n",
    "1. **시각화**\n",
    "- 회귀선을 데이터와 함께 시각화\n",
    "- 데이터 전반을 잘 요약하나 객관적인 비교 및 평가가 어려움\n",
    "\n",
    "\n",
    "2. **통계지표** <br>\n",
    "\n",
    "(1) 결정계수 (R-squared)\n",
    "- 회귀 분석에서 모델이 설명하는 데이터의 총 변동 (평균과의 차이) 중 설명된 비율\n",
    "- 총 편차 (SST) = 회귀선에 의해 설명되는 편차 (SSR) + 회귀선에 의해 설명되지 않는 편차 (SSE)\n",
    "- R^2 = SSR/SST = 1-SSE/SST\n",
    "- 0~1 사이의 값\n",
    "- 1에 가까울수록 SSR과 SST 비슷, 모델이 데이터를 잘 설명한다는 의미\n",
    "- 한계 : 데이터와 관련없는 변수일지라도, 설명변수의 개수 증가할 수록 자연스레 증가\n",
    "\n",
    "\n",
    "\n",
    "(2) 조정된 결정계수 (Adjusted R-squared)\n",
    "- 결정계수에서 변수의 개수 증가에 덜 민감하도록 조정된 지표\n",
    "- Adjusted R^2 = SSR(n-1) / SST(n-k)\n",
    "- 변수의 개수 (k) 증가하면 전체 값 감소 -> 결정계수의 한계 상쇄 가능 (penalty 부여)\n",
    "\n",
    "\n",
    "\n",
    "(3) AIC\n",
    "- 정보기준이라고도 불리며, 값이 낮을수록 좋음\n",
    "- BIC에 비해 복잡성에 대한 페널티가 비교적 작음\n",
    "\n",
    "\n",
    "(4) BIC(SC)\n",
    "- 정보기준이라고도 불리며, 값이 낮을수록 좋음\n",
    "- AIC보다 엄격한 기준, 데이터의 양에 따라 더 강한 페널티 부여 "
   ]
  },
  {
   "cell_type": "markdown",
   "id": "f262308f-fa0c-4e47-a28d-1366b8696288",
   "metadata": {},
   "source": [
    "### **2. 비선형 회귀**\n",
    "데이터의 분포가 선형적이지 않은 경우, 선형적이지 않은 식을 작성하면 됨"
   ]
  },
  {
   "cell_type": "markdown",
   "id": "f2232d47-f33a-4ead-b4f1-992d0e852f01",
   "metadata": {},
   "source": [
    "#### 다항식 회귀모델\n",
    "선형 모델의 변수를 다항식으로 만듦\n",
    "- 장점 : 선형 모델에 비해 fit한 회귀선 그릴 수 있음\n",
    "- 단점 : 변수가 너무 많으면 overfitting될 수 있음 (-> 릿지, 랏쏘 규제)\n",
    "- sklearn.preprocessing 패키지의 PolynomialFeatures 사용"
   ]
  },
  {
   "cell_type": "markdown",
   "id": "e76356ad-f38e-444b-96a6-d7b6db47f5cf",
   "metadata": {},
   "source": [
    "#### 지수/로그 회귀모델\n",
    "특정 칼럼의 증가/감소 형태가 지수적인 경우(or 그 역인 경우), 회귀선 그을 때 지수/로그 식 사용\n",
    "- 기존 식에 지수/로그 사용해 변형시킨 후 선형회귀\n",
    "- ex) y=np.log(cancer.data[:,col2]+0.01)\n",
    "- ex) y=np.exp(xs*model.coef_[0] + model.intercept_) - 0.01"
   ]
  }
 ],
 "metadata": {
  "kernelspec": {
   "display_name": "Python 3 (ipykernel)",
   "language": "python",
   "name": "python3"
  },
  "language_info": {
   "codemirror_mode": {
    "name": "ipython",
    "version": 3
   },
   "file_extension": ".py",
   "mimetype": "text/x-python",
   "name": "python",
   "nbconvert_exporter": "python",
   "pygments_lexer": "ipython3",
   "version": "3.12.6"
  }
 },
 "nbformat": 4,
 "nbformat_minor": 5
}
