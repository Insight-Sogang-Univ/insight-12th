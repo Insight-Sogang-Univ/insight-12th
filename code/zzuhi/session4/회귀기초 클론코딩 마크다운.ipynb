{
 "cells": [
  {
   "cell_type": "markdown",
   "id": "ec3744c1-7cad-4177-a51c-8bbd48c39d2e",
   "metadata": {},
   "source": [
    "## 회귀기초 클론코딩\n",
    "#### 자전거 공유 시스템 회귀분석 과정"
   ]
  },
  {
   "cell_type": "markdown",
   "id": "b5a238f7-138c-4a33-ac1f-c9ac84cd37ef",
   "metadata": {},
   "source": [
    "**1. 데이터 불러오기, 기본 정보 확인**\n",
    "- df.info() : 데이터프레임 기본 정보 & 각 컬럼 별 non-null값 및 데이터 타입 요약\n",
    "- df.describe() : 컬럼 별 요약 통계 (평균, 분산, 표준편차, 최댓값, 최솟값, 사분위값)\n",
    "- df.shape : (행 개수, 열 개수)\n",
    "<br>\n",
    "\n",
    "**2. 데이터 값 확인** \n",
    "- 결측값 확인\n",
    "  - df.isnull.sum() : 결측치 개수 세기\n",
    "- 중복 확인\n",
    "  - df.drop_duplicates() : 중복 행 제거\n",
    "- 전처리\n",
    "  - df.iloc[:,1:16] : 인덱스 열 제외한 새로운 데이터프레임 생성\n",
    "  - for문 - value_counts() 통해 각 열의 고유값 개수 출력, junk/unknown값 존재 여부 확인\n",
    "<br>\n",
    "\n",
    "**3. 중복 및 원하지 않는 열 제거** \n",
    "- 인덱스 값\n",
    "- 날짜, 연도, 월에 대한 열이 있는 경우 전체 날짜\n",
    "- 분석 목적과 관련 없는 정보를 담고 있는 열\n",
    "- 새로운 데이터프레임 정의\n",
    "\n",
    "**4. 더미 변수 만들기**\n",
    "- df.astype : 숫자형(int, float)이지만 수치형 데이터는 아닌 것들 -> 범주형(category)으로 변환\n",
    "- pd.get_dummies : 범주형 변수 원핫인코딩\n",
    "- train_test_split : train 데이터, test 데이터 분할\n",
    "\n",
    "**5. EDA**\n",
    "- 숫자형 변수 시각화\n",
    "  - info() 통해 자료형 확인 후, 숫자형 변수만을 이용해 새로운 데이터프레임 제작\n",
    "  - sns.pairplot() 이용하여 숫자형 변수들 간 선형 관계 확인\n",
    "- 범주형 변수 시각화\n",
    "  - sns.boxplot() 이용하여 모든 범주형 변수들이 종속변수에 미치는 영향 확인\n",
    "  - 비율, 중앙값, 분포 형태에 주목하여 좋은 예측 변수가 될 수 있는지 판단\n",
    "- heatmap 생성\n",
    "  - 상관관계 높은 변수들 확인\n",
    "  - 변수 간 다중공선성 판단\n",
    "\n",
    "**6. 스케일링**\n",
    "- MinMaxScaler() : 모든 변수 동일한 스케일로 조정\n",
    "- 수치형 변수 list로 묶어 scaler.fit_transform()\n",
    "\n",
    "**7. RFE** \n",
    "- 종속변수 분리, 독립/종속변수 정의\n",
    "- 선형회귀 모델 학습, RFE 사용하여 가장 중요한 feature 선택 <br>\n",
    "(모델 학습 - 변수 중요도 계산 - 중요도 낮은 변수들 제거 - 지정 개수만큼 변수 남을 때까지 반복)\n",
    "- 선택된 특성들로 이루어진 변수로 새로운 데이터프레임 생성\n",
    "\n",
    "**8. 모델링**\n",
    "- 회귀모델 학습 (fit), VIF 확인, 높은 p-value와 VIF 갖는 변수 제거하며 학습 반복\n",
    "- 높은 VIF 값 기준으로 변수 drop시키지만 일반적인 지식 활용하여 유지, 제거 판단 가능\n",
    "- 최종적으로 summary() 확인하여 다중공선성 유의한지, 양호한 모델인지 판단\n",
    "\n",
    "**9. 모델 해석**\n",
    "- 가설 검정 - 귀무가설, 대립가설 설정\n",
    "- F-통계 : 모형의 전반적인 유의성 검증. F값 높을 수록 유의성 높음\n",
    "- 상관계수 해석\n",
    "\n",
    "**10. 훈련 데이터를 통한 모델 예측**\n",
    "- 훈련 데이터셋에서 예측 수행, 예측값 저장\n",
    "- 선형회귀모델 예측 오차 계산, 히스토그램 시각화\n",
    "- pairplot 통해 선형 관계 확인\n",
    "- 예측변수 간 VIF 유무 파악\n",
    "\n",
    "**11. 테스트 데이터를 통한 최종 모델 예측**\n",
    "- 스케일링, 독립/종속변수 구분, 전처리 (앞서 훈련 데이터 모델 만들 때 했던 과정 반복)\n",
    "- test 데이터에 대한 예측 수행 및 저장\n",
    "\n",
    "**12. 모델 평가**\n",
    "- plt.scatter (산점도) 통해 y_test, y_pred 비교\n",
    "- 결정계수 확인 <br>\n",
    "  (본 과정에서는 0.8 정도로 1에 가까운 값 -> 다양한 데이터셋을 잘 일반화하는 좋은 모델이라고 판단)"
   ]
  },
  {
   "cell_type": "markdown",
   "id": "40018d87-df1b-4a22-b019-97962ee19e63",
   "metadata": {},
   "source": [
    "---"
   ]
  },
  {
   "cell_type": "markdown",
   "id": "f20176b3-a563-4a1a-af79-ec46ada801a9",
   "metadata": {},
   "source": [
    "#### 추가적으로 알게된 것 정리\n",
    "\n",
    "- warning 라이브러리 : 경고창 숨기기\n",
    "- matplotlib inline : 생성한 그래프들 jupyter notebook에서 바로 볼 수 있도록 하기\n",
    "- df.drop_duplicates(subset=None, inplace=True) 에서 subset은 기준열인데 ['열 이름'] 지정해도 되고, 지정하지 않아도 됨 (None)\n",
    "- df.drop_duplicates() 에서 keep='first'가 디폴트 값 (처음 데이터 남기고 나머지 삭제), keep='last'는 마지막 남기고 삭제, keep='False'는 중복 모두 삭제\n",
    "- pd.get_dummies()에서 drop_first=True는 생성된 각 더미 세트의 첫 번째 더미 변수 drop (다중공선성 피하기 위해)\n",
    "- sns.pairplot(bike_num, diag_kind='kde')에서 diag_kind는 대각선 밀도 그래프 종류 (기본값 hist)\n",
    "- y_train = df.train_pop('cnt') : y_train에 cnt열의 값 대입 후 삭제\n",
    "- rfe.support_ : 선택된 특성은 True, 선택되지 않은 특성은 False로 표시\n",
    "- rfe.ranking_ : 숫자 낮을 수록 더 중요한 특성"
   ]
  },
  {
   "cell_type": "markdown",
   "id": "9b621135-286c-4b54-9c79-f3812c375a90",
   "metadata": {},
   "source": [
    "---"
   ]
  },
  {
   "cell_type": "markdown",
   "id": "a3917270-5aa8-42dd-95cb-1e2bbef66b1a",
   "metadata": {},
   "source": [
    "#### 느낀 점"
   ]
  },
  {
   "cell_type": "markdown",
   "id": "7e59dcb0-bbbd-48a8-8ca0-ffe46a319d80",
   "metadata": {},
   "source": [
    "클론코딩을 통해 회귀모델 생성-예측-평가 과정을 학습해 보았는데, 지금까지 교육 세션들에서 배운 내용들이 실제로 어떻게 쓰이는지 적용해볼 수 있어 도움이 많이 되었습니다. 어떤 feature를 사용하느냐에 따라 모델의 정확도가 달라질 수 있기 때문에 그것을 판단하기 위한 EDA 과정이 매우 중요하다는 것을 다시 한번 느꼈습니다. 선형 모델 구축 파트 중 RFE는 과제를 통해 처음 접하였는데, 학습한 모델을 기반으로 하여 중요한 피처를 자동적으로 선택해준다는 점에서 편리한 기능이라고 생각했습니다. 직접 해보니 모델링 과정이 정말 복잡하고 길다.. 는 생각이 들었습니다. 아직은 많이 버벅거리지만 얼른 익숙해질 수 있도록 많이 복습해야 할 것 같습니다!"
   ]
  }
 ],
 "metadata": {
  "kernelspec": {
   "display_name": "Python 3 (ipykernel)",
   "language": "python",
   "name": "python3"
  },
  "language_info": {
   "codemirror_mode": {
    "name": "ipython",
    "version": 3
   },
   "file_extension": ".py",
   "mimetype": "text/x-python",
   "name": "python",
   "nbconvert_exporter": "python",
   "pygments_lexer": "ipython3",
   "version": "3.12.6"
  }
 },
 "nbformat": 4,
 "nbformat_minor": 5
}
