{
 "cells": [
  {
   "cell_type": "markdown",
   "id": "d3f230db-6ee2-4a89-863e-d271066d9ca5",
   "metadata": {},
   "source": [
    "session1\n",
    "pandas 사전과제"
   ]
  },
  {
   "cell_type": "markdown",
   "id": "5eef784f-1e1e-4bc4-bfe1-f39005e5adcd",
   "metadata": {},
   "source": [
    "1. 판다스 (Pandas)\n",
    "- 데이터 분석 시 가장 많이 사용되는 파이썬 라이브러리\n",
    "- 대표적으로 Series(1차원), DataFrame(2차원)을 다룸\n",
    "- Numpy 기능 + 구조화된 데이터 처리 기능\n",
    "- 불러오려면 import pandas as pd"
   ]
  },
  {
   "cell_type": "markdown",
   "id": "649a75ad-3a50-4cc9-8b21-dd2f75b2931c",
   "metadata": {},
   "source": [
    "2. 데이터프레임 (DataFrame)\n",
    "\n",
    "(1) 기본 구조\n",
    " - 행(Index) : 가로, 데이터의 순서 (몇 번째 자료인지)\n",
    " - 열(Column) : 세로, 데이터의 카테고리 (어떤 자료인지)\n",
    "\n",
    "(2) 추출\n",
    " - 인덱싱(Indexing) : 단순 지목일 경우\n",
    " ex) df.loc[행이름,열이름] / df.iloc[행,열]\n",
    " - 슬라이싱(Slicing) : 범위를 조건으로 할 경우\n",
    " ex) df[1:2] / df.loc[행이름:열이름] / df.iloc[행:열]"
   ]
  },
  {
   "cell_type": "markdown",
   "id": "9b077c64-e4fc-4249-a6d2-9c3769bc60b1",
   "metadata": {},
   "source": [
    "3. 데이터 조작\n",
    "\n",
    "(1) 확인\n",
    "- df.head(n) : 앞 n개의 행\n",
    "- df.tail(n) : 뒤 n개의 행\n",
    "- df.shape : (행 개수, 열 개수)\n",
    "- df.info(), df.describe(), df.isnull()\n",
    "- df.count() : 데이터 개수 (NaN 제외)\n",
    "- df[열].value_counts() : 특정 열의 값이 나타나는 빈도수\n",
    "\n",
    "(2) 추가/삭제\n",
    "- df['열 이름'] = some_list : 특정 리스트 추가\n",
    "- del df['열 이름'] : 삭제\n",
    "- df.drop(labels, axis) : 삭제 (*원본 데이터 삭제 X)\n",
    "** axis : 2차원 데이터프레임에서 =0은 행, =1은 열\n",
    "\n",
    "(3) 정렬\n",
    "- df.sort_index : 인덱스 기준 정렬\n",
    "- df.sort_values['열 이름'] : 특정 열의 값 기준 정렬\n",
    "\n",
    "(4) 변환\n",
    "- df.dtypes : 자료형 확인\n",
    "- df['열 이름']=df['열 이름'].astype(자료형) : 자료형 변환\n",
    "- df.replace('바꿀 변수', '새로운 값') : 데이터 변환"
   ]
  },
  {
   "cell_type": "markdown",
   "id": "5d431f9d-3495-4cab-b003-748ef1c38ac4",
   "metadata": {},
   "source": [
    "4. 데이터프레임 조작\n",
    "\n",
    "(1) 연산\n",
    "- df['열 이름'].mean(평균)/median(중앙값)/std(표준편차)/sum(합계)/max(최댓값)/min(최솟값)\n",
    "\n",
    "(2) 그룹화\n",
    "- df.groupby('열 이름1')['열 이름2'].mean()\n",
    "(ex. 수확 지역 별 사과 무게 비교 - df.groupby('수확 지역')['사과 무게'].mean())\n",
    "\n",
    "(3) 여러 개 합치기\n",
    "- concat : 행 방향 or 열 방향으로 이어붙이기 (동일 구조)\n",
    "- merge : 공통 항목(열, 인덱스) 기준 병합 (동일 구조 아니어도 됨)"
   ]
  }
 ],
 "metadata": {
  "kernelspec": {
   "display_name": "Python 3 (ipykernel)",
   "language": "python",
   "name": "python3"
  },
  "language_info": {
   "codemirror_mode": {
    "name": "ipython",
    "version": 3
   },
   "file_extension": ".py",
   "mimetype": "text/x-python",
   "name": "python",
   "nbconvert_exporter": "python",
   "pygments_lexer": "ipython3",
   "version": "3.12.6"
  }
 },
 "nbformat": 4,
 "nbformat_minor": 5
}
