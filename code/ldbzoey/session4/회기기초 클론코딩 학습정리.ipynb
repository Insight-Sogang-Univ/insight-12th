{
 "cells": [
  {
   "cell_type": "markdown",
   "id": "e523802a-fea5-4819-a2a9-13c8e4f6840f",
   "metadata": {},
   "source": [
    "## 자전거 공유 시스템 - 바이크 인디아\n",
    "\n",
    "### business goal\n",
    "- 공유 자전거의 수요 의존하는 요인의 이해\n",
    "    - 수요 예측 시 가장 중요한 변수는 무엇인지\n",
    "    - 그 변수가 공유 자전거 수요 얼마나 잘 설명하는지\n",
    "- 다양한 기상 조사, 사람들의 스타일 등을 기반으로 한 데이터 셋"
   ]
  },
  {
   "cell_type": "markdown",
   "id": "60372797-1deb-4f29-9659-361276f6fb90",
   "metadata": {},
   "source": [
    "### Finding\n",
    "- 730개 행과 16개 열로 구성\n",
    "- dteday 열은 날짜유형, 이외 열은 float, integer 형식 "
   ]
  },
  {
   "cell_type": "markdown",
   "id": "24d6355a-53ca-45bb-9c43-8da57466b8eb",
   "metadata": {},
   "source": [
    "### 전처리\n",
    "\n",
    "- 결측값과 중복값에 대한 확인 후\n",
    "- dummy 객체 생성하여 junk/unknown값을 확인함으로써 전처리 진행\n",
    "- 필요하지 않은 열을 제거\n",
    "\n",
    "상위과정 통해 분석에 유효한 행과 열의 정보 만을 남길 수 있다! \n"
   ]
  },
  {
   "cell_type": "markdown",
   "id": "a3209096-3ead-4022-8474-ea64820c20b6",
   "metadata": {},
   "source": [
    "###  creating dummyvariables\n",
    "\n",
    "네 가지 범주형 변수 'mnth', 'weekday', 'season' , 'weathersit' -> 더미 변수 만드는 이유?\\\n",
    "-> 숫자로 이루어져있어 dtype이 integer로 확인되나 대소관계를 나타내지 않기 때문에 category화 시킬 필요가 있기때문에! \n",
    "-> 또 drop_first = True로 하나의 더미변수 drop의 이유가 궁금했었는데 이는 다중공선성 피하기 위함이다! "
   ]
  },
  {
   "cell_type": "markdown",
   "id": "6504ccff-1b44-4323-92d5-99a3a6b6eaeb",
   "metadata": {},
   "source": [
    "### 숫자형 변수만을 사용하여 새로운 데이터 프레임 제작 \n",
    "\n",
    "범주형 변수를 더미로 모으고, 수수치형을 새로운 데이터 프레임으로 제작하면 선형관계, 상관관계, 다중공선성 등을 파악하기 쉬워진다.\n",
    "또한 이를 MinMazScaler 통해 스케일링을 진행하면 수치형 feature를 동일한 스케일을 기준으로 파악하기 용이해진다. "
   ]
  },
  {
   "cell_type": "markdown",
   "id": "32a22d07-b13e-4e0b-8a9e-d53561f45ad5",
   "metadata": {},
   "source": [
    "### RFE : 재귀적 기능 제거 \n",
    "\n",
    "반복적으로 피쳐들을 제거하며 모델의 성능을 평가하고 성능이 가장 떨어지는 feature을 제거하여 최종 중요한 feature 선택\\\n",
    ": 지난 실습 과제에서 모델을 구현하는 과정에서 여러 feature를 제거하며 그 성능을 보아야 최적의 성능을 선택할 수 있을 것이라 생각했는데 이럴 때 RFE를 사용하면 되는구나! "
   ]
  },
  {
   "cell_type": "markdown",
   "id": "764ea568-d181-4a4a-807c-2f40e4eb058c",
   "metadata": {},
   "source": [
    "### STATS MODEL 사용한 선형 모델 구축\n",
    "\n",
    "#### model\n",
    "\n",
    "- VIF check\n",
    "- Add a constant\n",
    "- Create a fitted model\n",
    "- Check the patameters\n",
    "- Check the summary of the model\n",
    "상기과정을 확인\n",
    "\n",
    "high p-value, high VIF 기반으로 변수 제거하는 과정 반복으로 모델 개선 \\\n",
    "이때 '온도가 자전거 대여 사업에 중요한 요소가 될 수 있음'이라는 일반적 지식을 기반으로 예외 두기도 한다! \n",
    "\n"
   ]
  },
  {
   "cell_type": "markdown",
   "id": "02156464-e517-4770-8e0b-b738e5e119a8",
   "metadata": {},
   "source": [
    "### 잔차 분석 \n",
    "\n",
    "예측오차를 계산하고 히스토그램으로 시각화하며 모델 오차를 분석할 수 있다 \n"
   ]
  }
 ],
 "metadata": {
  "kernelspec": {
   "display_name": "Python 3 (ipykernel)",
   "language": "python",
   "name": "python3"
  },
  "language_info": {
   "codemirror_mode": {
    "name": "ipython",
    "version": 3
   },
   "file_extension": ".py",
   "mimetype": "text/x-python",
   "name": "python",
   "nbconvert_exporter": "python",
   "pygments_lexer": "ipython3",
   "version": "3.12.4"
  }
 },
 "nbformat": 4,
 "nbformat_minor": 5
}
