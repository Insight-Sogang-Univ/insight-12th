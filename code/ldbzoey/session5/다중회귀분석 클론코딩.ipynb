{
 "cells": [
  {
   "cell_type": "markdown",
   "id": "dc4e0e42-72e2-4e2d-8c0b-8f9699e18fc8",
   "metadata": {},
   "source": [
    "# House Sales in King Country, USA\n",
    "\n",
    "선형 회귀분석을 통한 집값 예측\n",
    "\n",
    "price를 종속변수로, 이외의 변수를 독립변수로 설정함 \n",
    "이 과정에서 각 변수의 의미를 정확히 알아야 하며 특히 부지 면적에 영향을 미치는지 아닌지 등 다중공선성에 대한 주의도 필수적일 것이다.\n",
    "\n",
    "df.index += 1 통해 인덱스 1로 시작하도록 수정 가능함\n",
    "\n",
    "또한 모든 분석에 앞서 \n",
    "1. 결측치 확인\n",
    "2. 각 변수의 data type 확인\n",
    "3. 기본적인 기술 통계값 확인\n",
    "을 하면 도움이 됨\n",
    "\n",
    "특히 기술 통계값 확인 시 중간값, 결측치, 왜도, 첨도 표시하며 확인하는데, \n",
    "종속변수의 왜도가 4.02로 왼쪽으로 치우쳐 있는 걸 확인할 수 있는데 이땐 자연로그 활용하여 분포를 조정할 필요가 있다. \n",
    "정보의 비대칭이 심하기 때문에 회귀분석 시 가정하는 정규분포와 거리가 있기 때문이다. \n",
    "\n",
    "데이터 타입 별 분류 후 각 전처리를 거친 후 필요한 새로운 변수를 추가하기도 한다. \n",
    "\n",
    "산점도(scatter plot)을 그리며 종속변수와 선형 관계가 있는지 확인한다. \n",
    "특히 sqft_living간의 선형관계를 볼 수 있다.\n",
    "\n",
    "heatmap과 정렬을 통해 상관관계가 있는 변수를 확인한다. \n",
    "\n",
    "상관관계의 정도가 높게 나타나더라도, 일반적 지식에 의한 판단으로 상관관계가 없을 변수는 제거하기도 하고, 각 변수의 분포가 비슷하게 나타나 다중공선성이 의심될 경우 단 하나만 채택하기도 한다. \n",
    "상관관계가 가장 높은 sqft_living 변수를 설명변수로 둔 뒤 price와의 선형관계를 확인해보면 된다. \n",
    "\n",
    "또 회귀분석에서는 항상 상수항을 추가해줘야 하며 그 이유에는 모델의 유연성을 증가시키거나, 편향된 예측을 방지하는 효과가 있다. \n",
    "\n",
    "선형모델을 통해 단순 선형회귀분석을 진행한 뒤 summary로 그 장표를 확인할 때\n",
    "대표적으로 p value 의 확인을 통해 모형의 유의성 확보 여부를 결정할 수 있다. \n",
    "\n",
    "시각화를 통해 residual을 확인할 수 있다. \n",
    "\n",
    "더욱 확장하여 다중 선형회귀 모형을 돌려볼 수 있다. \n",
    "이전 단순 선형회귀 모델을 돌리는 과정에서 전처리된 column 은 제외시켜야 한다. \n",
    "단순회귀분석과 마찬가지로 상수항 추가해준 뒤 price를 종속변수로 feature columns에 저장한다. \n",
    "\n",
    "특히 다중선형회귀 분석에서는 다중공선성 문제를 확인해야 한다. \n",
    "VIF 지수를 통해 이를 확인한다.\n",
    "\n",
    "\n",
    "특히나 이번 다중회귀분석에서는 회귀모형의 가정을 진단하는 과정을 거친다. 이는 분석 결과의 신뢰도와 관련된 부분으로 중요성을 지닌다. \n",
    "\n"
   ]
  },
  {
   "cell_type": "code",
   "execution_count": null,
   "id": "7c05db98-01e9-40a4-b01d-c6eb68dc5be5",
   "metadata": {},
   "outputs": [],
   "source": []
  }
 ],
 "metadata": {
  "kernelspec": {
   "display_name": "Python 3 (ipykernel)",
   "language": "python",
   "name": "python3"
  },
  "language_info": {
   "codemirror_mode": {
    "name": "ipython",
    "version": 3
   },
   "file_extension": ".py",
   "mimetype": "text/x-python",
   "name": "python",
   "nbconvert_exporter": "python",
   "pygments_lexer": "ipython3",
   "version": "3.12.4"
  }
 },
 "nbformat": 4,
 "nbformat_minor": 5
}
