{
 "cells": [
  {
   "cell_type": "code",
   "execution_count": 18,
   "id": "e2640235-49ce-43b5-8e9a-71724cfa47d2",
   "metadata": {},
   "outputs": [
    {
     "data": {
      "text/plain": [
       "('89', '07', '24')"
      ]
     },
     "execution_count": 18,
     "metadata": {},
     "output_type": "execute_result"
    }
   ],
   "source": [
    "#과제1\n",
    "bth = 890724\n",
    "bth_str = str(bth)\n",
    "bth_str\n",
    "bth_str[:2],bth_str[2:4],bth_str[4:]"
   ]
  },
  {
   "cell_type": "code",
   "execution_count": 22,
   "id": "8e1649e6-c287-4d3b-841c-9642d26d443b",
   "metadata": {},
   "outputs": [
    {
     "data": {
      "text/plain": [
       "'01012345678'"
      ]
     },
     "execution_count": 22,
     "metadata": {},
     "output_type": "execute_result"
    }
   ],
   "source": [
    "#과제2\n",
    "pn = '010-1234-5678'\n",
    "pn.replace('-','')"
   ]
  },
  {
   "cell_type": "code",
   "execution_count": 36,
   "id": "3291c8cf-a083-4622-8c42-8fc667675084",
   "metadata": {},
   "outputs": [
    {
     "name": "stdin",
     "output_type": "stream",
     "text": [
      "1부터 10까지 숫자 영어로 입력 :  Three\n"
     ]
    },
    {
     "name": "stdout",
     "output_type": "stream",
     "text": [
      "셋\n"
     ]
    }
   ],
   "source": [
    "#과제3\n",
    "en_dict = {\"one\": \"하나\", \"two\": \"둘\", \"three\": \"셋\", \"four\": \"넷\", \n",
    "           \"five\": \"다섯\",\"six\": \"여섯\",\"seven\": \"일곱\",\"eight\": \"여덟\",\n",
    "    \"nine\": \"아홉\",\"ten\": \"열\"\n",
    "          }\n",
    "en_input = input( \"1부터 10까지 숫자 영어로 입력 : \").lower() \n",
    "if en_input in en_dict : \n",
    "    print(en_dict[en_input])\n",
    "else:\n",
    "    print(\"1부터 10에 해당하는 숫자만 영어로 입력.\")\n",
    "    "
   ]
  },
  {
   "cell_type": "code",
   "execution_count": 44,
   "id": "b86e4540-4cc0-4ffe-95bf-74540bf675a8",
   "metadata": {},
   "outputs": [
    {
     "name": "stdin",
     "output_type": "stream",
     "text": [
      "원의 반지름:  2\n"
     ]
    },
    {
     "name": "stdout",
     "output_type": "stream",
     "text": [
      "12.56\n"
     ]
    }
   ],
   "source": [
    "#과제4\n",
    "pi = 3.14\n",
    "r = float(input(\"원의 반지름: \"))\n",
    "y = pi * (r **2)\n",
    "print(y)"
   ]
  },
  {
   "cell_type": "code",
   "execution_count": 64,
   "id": "8a1b109e-50ed-4a89-827b-ab76beba5f3e",
   "metadata": {},
   "outputs": [
    {
     "name": "stdin",
     "output_type": "stream",
     "text": [
      "금액 :  1000\n",
      "상품가격 :  100\n"
     ]
    },
    {
     "name": "stdout",
     "output_type": "stream",
     "text": [
      "잔돈  900 원은 500원  1 개, 100원  4 개, 50원  0 개, 10원  0 개로 반환\n"
     ]
    }
   ],
   "source": [
    "#과제5\n",
    "amt  = int(input(\"금액 : \"))\n",
    "prc = int(input(\"상품가격 : \"))\n",
    " #잔돈 \n",
    "chg = amt - prc\n",
    " #나머지\n",
    " #500원 개수\n",
    "a = chg // 500\n",
    " #100원 개수 \n",
    "b = (chg - a*500) // 100\n",
    " #50원 개수\n",
    "c = (chg - a*500 - b*100) //50\n",
    " #10원 개수 \n",
    "d = (chg - a*500 - b*100 - c*50) // 10\n",
    "print(\"잔돈 \",chg,\"원은 500원 \",a,\"개, 100원 \",b,\"개, 50원 \",c,\"개, 10원 \",d,\"개로 반환\")\n"
   ]
  },
  {
   "cell_type": "code",
   "execution_count": 74,
   "id": "df4dfbeb-77b6-4d22-8c8b-66ce6d8b8321",
   "metadata": {},
   "outputs": [
    {
     "name": "stdin",
     "output_type": "stream",
     "text": [
      "값 입력 :  1\n"
     ]
    },
    {
     "name": "stdout",
     "output_type": "stream",
     "text": [
      "홀수\n"
     ]
    }
   ],
   "source": [
    "#과제6\n",
    "num = int(input(\"값 입력 : \"))\n",
    "\n",
    "#짝수일 때\n",
    "if num%2 == 0 : \n",
    "    print(\"짝수\")\n",
    "else : \n",
    "    print(\"홀수\")"
   ]
  },
  {
   "cell_type": "code",
   "execution_count": 135,
   "id": "de002ae9-8bd8-4733-b525-df92f602e52c",
   "metadata": {},
   "outputs": [
    {
     "name": "stdout",
     "output_type": "stream",
     "text": [
      "*\n",
      "**\n",
      "***\n",
      "****\n",
      "*****\n"
     ]
    }
   ],
   "source": [
    "#과제7\n",
    "for i in range(1,6) :\n",
    "    for j in range(i) :\n",
    "        print(\"*\", end ='')\n",
    "    print()"
   ]
  },
  {
   "cell_type": "code",
   "execution_count": 141,
   "id": "c913f1d3-eae8-4536-b15e-8a18accb92fa",
   "metadata": {},
   "outputs": [
    {
     "name": "stdout",
     "output_type": "stream",
     "text": [
      "list =  [1, 24, 3, 44, 1000, 2, 0, 74]\n",
      "결과 :  1000\n"
     ]
    }
   ],
   "source": [
    "#과제8\n",
    "list = [1,24,3,44,1000,2,0,74]\n",
    "print(\"list = \", list)\n",
    "\n",
    "    #최댓값 임의 설정\n",
    "max = list[0]\n",
    "\n",
    "for i in list :\n",
    "    if i >max :\n",
    "        max = i\n",
    "\n",
    "print (\"결과 : \",max)"
   ]
  },
  {
   "cell_type": "code",
   "execution_count": 165,
   "id": "abaf9211-4f95-4336-9451-1871f7d1e8ba",
   "metadata": {},
   "outputs": [
    {
     "name": "stdout",
     "output_type": "stream",
     "text": [
      "48.2\n"
     ]
    }
   ],
   "source": [
    "#과제9\n",
    "def means(*args):\n",
    "    ttl = sum(args)\n",
    "    num = len(args)\n",
    "    average = ttl / num\n",
    "    return average\n",
    "\n",
    "print(means(1,5,6,7,222))"
   ]
  },
  {
   "cell_type": "code",
   "execution_count": 255,
   "id": "c14628fc-7ebb-42ce-a1c1-72249e681e2b",
   "metadata": {},
   "outputs": [
    {
     "name": "stdout",
     "output_type": "stream",
     "text": [
      "[[0.47484952 0.27110257]\n",
      " [0.75855499 0.07695093]\n",
      " [0.42543372 0.87743786]\n",
      " [0.4796592  0.91651156]\n",
      " [0.77701288 0.83223921]]\n",
      "전체 합 :  5.889752437405335\n",
      "전체 평균 :  0.5889752437405334\n",
      "각 열의 합 :  [2.9155103  2.97424214]\n",
      "각 행의 합 :  [0.74595209 0.83550592 1.30287158 1.39617076 1.60925209]\n",
      "각 열의 평균 : [0.58310206 0.59484843]\n",
      "각 열의 평균 : [0.37297605 0.41775296 0.65143579 0.69808538 0.80462605]\n"
     ]
    }
   ],
   "source": [
    "#과제10\n",
    "import numpy as np\n",
    "arr1= np.random.rand(5,2)\n",
    "print(arr1)\n",
    "#전체합\n",
    "sum =np.sum(arr1)\n",
    "print(\"전체 합 : \",sum)\n",
    "#전체평균\n",
    "avrg = np.mean(arr1)\n",
    "print(\"전체 평균 : \",avrg)\n",
    "#각 열의 합\n",
    "axis0_sum = np.sum(arr1, axis=0)\n",
    "print(\"각 열의 합 : \", axis0_sum)\n",
    "#각 행의 합 \n",
    "axis1_sum = np.sum(arr1, axis=1)\n",
    "print(\"각 행의 합 : \",axis1_sum)\n",
    "#각 열의 평균\n",
    "axis0_avrg = np.mean(arr1, axis=0)\n",
    "print(\"각 열의 평균 :\", axis0_avrg)\n",
    "#각 행의 평균 \n",
    "axis1_avrg = np.mean(arr1, axis=1)\n",
    "print(\"각 열의 평균 :\", axis1_avrg)"
   ]
  },
  {
   "cell_type": "code",
   "execution_count": 309,
   "id": "0f795821-f866-4733-a2b1-7bd00aa90c01",
   "metadata": {},
   "outputs": [
    {
     "name": "stdout",
     "output_type": "stream",
     "text": [
      "90\n",
      "0    90\n",
      "dtype: int64\n",
      "0    30\n",
      "dtype: int64\n"
     ]
    }
   ],
   "source": [
    "#과제 11\n",
    "import pandas as pd\n",
    "grade_ttl = pd.Series({'국어':70,\"영어\":30,\"수학\":80,\"과학\":90},name='성적표')\n",
    "print(grade)\n",
    "\n",
    "#각 과목의 합격/불합격 여부 출력하기 (50점 이상 , 합격)\n",
    "for grade in grade_ttl :\n",
    "    if grade >50 :\n",
    "        grade_Y = pd.Series(grade)\n",
    "   \n",
    "    else :\n",
    "        grade_N = pd.Series(grade)\n",
    "    \n",
    "print (grade_Y)\n",
    "print (grade_N)\n",
    "        "
   ]
  },
  {
   "cell_type": "code",
   "execution_count": 333,
   "id": "fe5c872e-5647-4783-b294-2586b8370cdd",
   "metadata": {},
   "outputs": [
    {
     "name": "stdout",
     "output_type": "stream",
     "text": [
      "합격\n",
      "국어    70\n",
      "수학    80\n",
      "과학    90\n",
      "Name: 성적표, dtype: int64\n",
      "\n",
      "불합격\n",
      "영어    30\n",
      "Name: 성적표, dtype: int64\n"
     ]
    }
   ],
   "source": [
    "#과제12\n",
    "import pandas as pd\n",
    "grades = pd.Series({'국어':70,\"영어\":30,\"수학\":80,\"과학\":90},name='성적표')\n",
    "\n",
    "up = pd.Series(name='성적표')\n",
    "down = pd.Series(name='성적표')\n",
    "for i, gr in enumerate(grades):\n",
    "  index = grades.index[i]\n",
    "  if gr > 50:\n",
    "    up.loc[index] = gr\n",
    "  else:\n",
    "    down.loc[index] = gr\n",
    "\n",
    "print('합격')\n",
    "print(up)\n",
    "\n",
    "print()\n",
    "print('불합격')\n",
    "print(down)\n"
   ]
  },
  {
   "cell_type": "code",
   "execution_count": null,
   "id": "f2972dfa-5953-4980-a6a8-827a34660b6d",
   "metadata": {},
   "outputs": [],
   "source": []
  }
 ],
 "metadata": {
  "kernelspec": {
   "display_name": "Python 3 (ipykernel)",
   "language": "python",
   "name": "python3"
  },
  "language_info": {
   "codemirror_mode": {
    "name": "ipython",
    "version": 3
   },
   "file_extension": ".py",
   "mimetype": "text/x-python",
   "name": "python",
   "nbconvert_exporter": "python",
   "pygments_lexer": "ipython3",
   "version": "3.12.4"
  }
 },
 "nbformat": 4,
 "nbformat_minor": 5
}
