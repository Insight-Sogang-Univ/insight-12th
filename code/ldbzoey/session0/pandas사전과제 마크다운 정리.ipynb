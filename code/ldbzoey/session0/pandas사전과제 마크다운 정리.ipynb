{
 "cells": [
  {
   "cell_type": "markdown",
   "id": "8d187f6b-7249-4513-b536-db8cf6b71e72",
   "metadata": {},
   "source": [
    "- 판다스의 정의\n",
    "- 데이터 프레임의 구성\n",
    "- 데이터 프레임 조작\n",
    "  "
   ]
  },
  {
   "cell_type": "markdown",
   "id": "b842c9a5-6764-4e48-ab9d-73fd0051759b",
   "metadata": {},
   "source": [
    "# 판다스의 정의 \n",
    "1. 판다스란\n",
    "    - 데이터 분석용 파이썬 라이브러리 \n",
    "    - 데이터 프레임을 가장 기본 틀로 하며, 행과 열로 구성된 형태\n",
    "    - Numpy의 확장판 \n",
    "\n",
    "2. 판다스 실행\n",
    "\n",
    "   import pandas as pd\n",
    "\n",
    "   #pandas 라이브러리를 앞으로 pd라는 이름으로 사용\n",
    "\n",
    "   "
   ]
  },
  {
   "cell_type": "markdown",
   "id": "ae49a4c0-0432-4d37-ad98-8fa84c929c40",
   "metadata": {},
   "source": [
    "#데이터 프레임의 구성 \n",
    "1. 기본구조\n",
    "   - 행(index)과 열(column)의 구조\n",
    "   - 이로써 함수의 (x,y) 좌표와 같이 데이터의 위치를 나타낼 수 있음\n",
    "   - 일반적으로 인덱스는 데이터의 순서, 컬럼은 데이터의 카테고리를 의미\n",
    "   \n",
    "2. 데이터 프레임 구성 방법\n",
    "\n",
    "   - 데이터, 인덱스, 컬럼 설정\n",
    "     1. 데이터와 각 카테고리별 네이밍 컬럼의 딕셔너리 생성\n",
    "     2. 사용하고자 하는 인덱스와 컬럼 설정 (기본값의 경우 생략 가능)\n",
    "     3. df = pd.DataFrame(data, index=index, columns=columns)와 같이 데이터프레임 구성\n",
    "\n",
    "3. 데이터 추출\n",
    "\n",
    "   - 인덱싱, 슬라이싱\n",
    "     1. 인덱싱\n",
    "        - 입력 조건이 범위 아닌 단순 지목일 경우\n",
    "        1. 열 이름으로 인덱싱\n",
    "        2. 행과 열 이름으로 인덱싱\n",
    "           df.loc[행 인덱싱값, 열 인덱싱값]\n",
    "        3. 행과 열의 순서로 인덱싱\n",
    "           df.iloc[행 인덱스, 열 인덱스]\n",
    "     2. 슬라이싱\n",
    "        - 범위를 조건으로 할 경우\n",
    "        1. 행 순서로 슬라이싱\n",
    "           df[start:end]\n",
    "        2. 행과 열 이름으로 인덱싱\n",
    "           df.loc[행 인덱싱값1 : 행 인덱싱값2, 열 인덱싱값1 : 열 인덱싱값2]\n",
    "        3. 행과 열 순서로 인덱싱\n",
    "           df.iloc[행 인덱스1 : 행 인덱스2, 열 인덱스1 : 열 인덱스2]\n",
    "4. 인덱스 설정\n",
    "\n",
    "   - 인덱스 수정가능\n",
    "     1. set_index :: 기존의 열 중 하나를 인덱스로 설정\n",
    "     2. reset_index :: 인덱스를 리셋하고 기존 인덱스를 열에 추가\n",
    "     3. DataFrame객체.reindex(인덱스 배열) :: 행 재배치 혹은 새로운 인덱스 추가\n",
    "     "
   ]
  },
  {
   "cell_type": "markdown",
   "id": "2ce4dae6-7a09-42ec-b3a3-40b87c69b4db",
   "metadata": {},
   "source": [
    "# 데이터 조작\n",
    "1. 데이터 확인하기\n",
    "   - 데이터 확인 방법\n",
    "     1. 데이터 프레임의 간략한 확인\n",
    "        - df.head(n): 앞 n개의 행 반환\n",
    "        - df.tail(n): 뒤 n개의 행 반환\n",
    "        - df.shape: (행 개수, 열 개수) 반환\n",
    "     2. 데이터에 대한 정보 확인\n",
    "        - df.dtypes\n",
    "        - df.info()\n",
    "        - df.describe()\n",
    "        - df.isnull()\n",
    "     3. 데이터 개수 세기\n",
    "        - df.count()\n",
    "        - df[column명].value_counts()\n",
    "2. 데이터 추가, 삭제하기\n",
    "   - 열 추가 : 특정 데이터 셋의 추가\n",
    "     df['새로운 열 이름'] = some_list\n",
    "   - 열 삭제\n",
    "     del df[’열 이름’]\n",
    "     df.drop(labels, axis)\n",
    "3. 데이터 정렬\n",
    "\n",
    "   - 데이터를 새로운 방식으로 정렬\n",
    "   -  df.sort_index :: 인덱스 기준 정렬\n",
    "   -  df.sort_values[\"column명\"] :: 특정 열의 값 기준 정렬\n",
    "4. 데이터 변환\n",
    "\n",
    "   - 특정 컬럼 내 데이터의 자료형 변환 가능\n",
    "   - df.dtypes :: 변환하고자 하는 열의 자료형 확인\n",
    "   - df[’컬럼 명’]=df[’컬럼 명’].astype(원하는 자료형) :: 자료형 변환\n"
   ]
  },
  {
   "cell_type": "code",
   "execution_count": null,
   "id": "34a0e41a-2194-4e66-9c22-5b40b2e55d18",
   "metadata": {},
   "outputs": [],
   "source": [
    "#데이터 조작 (심화)\n",
    "1. 연산 메소드 \n",
    "    - `df['컬럼 명'].mean()` - 평균\n",
    "    - `df['컬럼 명'].median()` - 중앙값\n",
    "    - `df['컬럼 명'].std()` - 표준편차\n",
    "    - `df['컬럼 명'].sum()` - 합계\n",
    "    - `df['컬럼 명'].max()` - 최대값\n",
    "    - `df['컬럼 명'].min()` - 최소값\n",
    "2. 그룹화\n",
    "    - df.groupby('column명1')[’column명2'].mean() : column1로 그룹화를 하고, column2에 대한 평균 반환 \n",
    "3. 데이터프레임 합치기 \n",
    "    1. concat : 두 데이터 프레임 이어 붙이기\n",
    "        df=pd.concat([df1,df2])\n",
    "    2. merge : 공통항목 기준으로 병합 \n",
    "        pd.merge(df1, df2, how =\"inner\", on=\"~~\")"
   ]
  }
 ],
 "metadata": {
  "kernelspec": {
   "display_name": "Python 3 (ipykernel)",
   "language": "python",
   "name": "python3"
  },
  "language_info": {
   "codemirror_mode": {
    "name": "ipython",
    "version": 3
   },
   "file_extension": ".py",
   "mimetype": "text/x-python",
   "name": "python",
   "nbconvert_exporter": "python",
   "pygments_lexer": "ipython3",
   "version": "3.12.4"
  }
 },
 "nbformat": 4,
 "nbformat_minor": 5
}
