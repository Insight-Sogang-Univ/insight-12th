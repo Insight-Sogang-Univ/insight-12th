{
 "cells": [
  {
   "cell_type": "markdown",
   "id": "9706b06b-6f55-4854-a793-91b38297b42d",
   "metadata": {},
   "source": [
    "# 회귀기초\n"
   ]
  },
  {
   "cell_type": "markdown",
   "id": "732aa797-fc90-4785-8444-e24350486658",
   "metadata": {},
   "source": [
    "### 머신러닝 \n",
    "\n",
    "1. 비지도학습\n",
    "   정답이 없는 데이터로 학습\n",
    "   군집화, 클러스터링\n",
    "2. 지도학습\n",
    "   회귀, 분류\n",
    "3. 강화학습\n"
   ]
  },
  {
   "cell_type": "markdown",
   "id": "5a180562-e2fa-48af-baf4-e10d8ce8444a",
   "metadata": {},
   "source": [
    "### 모델링"
   ]
  },
  {
   "cell_type": "markdown",
   "id": "2b68828d-dfb0-42f6-ac5e-98c6812ce886",
   "metadata": {},
   "source": [
    "![이미지](./Untitled.png)"
   ]
  },
  {
   "cell_type": "markdown",
   "id": "42045a73-dcd1-4ebf-ac51-dceb6cabbb9d",
   "metadata": {},
   "source": [
    "훈련 데이터 : 학습, 훈련을 위한 데이터\\\n",
    "테스트 데이터 : 학습된 모델을 검증하기 위함 \\\n",
    "\n",
    "    unseen data에 대해 얼마나 예측을 잘 수행하는지 공정하게 평가하기 위해 train data, test data를 구별함"
   ]
  },
  {
   "cell_type": "markdown",
   "id": "a23a3195-1a7c-4f13-af48-8dd1ff3b015e",
   "metadata": {},
   "source": [
    "### 회귀란\n",
    "\n",
    "    데이터에서 패턴을 찾아내며 예측\n",
    "    연속적인 숫자를 다룸\n",
    "    통계, 머신러닝의 주요 개념 \n",
    "\n",
    "    - 그 종류 \n",
    "    선형회귀, 비선형 회귀, 로지스틱회귀 등 "
   ]
  },
  {
   "cell_type": "markdown",
   "id": "53eb3630-6932-48f5-9107-132d51c471a0",
   "metadata": {},
   "source": [
    "### 1. 선형회귀란?\n",
    "    데이터를 가장 잘 설명하는 뢰귀선을 찾아 예측하는 과정/\n",
    "\n",
    "    - 단순 선형 회귀 : 데이터를 직선형태 (하나의 독립변수)\n",
    "    - 다중 선형 회귀 : 데이터를 두 개 이상의 독립변수로 "
   ]
  },
  {
   "cell_type": "markdown",
   "id": "e3d3bc76-d72e-458c-99b8-f52ce4066f56",
   "metadata": {},
   "source": [
    "# 단순선형회귀분석 \n",
    "\n",
    "    - 하나의 독립변수만 존재 \n",
    "    - 데이터를 가장 잘 나타내는 y = aX + b 찾기 \n",
    "    - 최소제곱법, 최소자승법으로 찾을 수 있음 \n",
    "    - 잔차 제곱의 합(Sum of Squared Residuals RSS) - 최적의 회귀선 찾기 \n",
    "        - 잔차 : 실과 예측값 차이를 의미 \n",
    "        - 회귀선과 실제 데이터와의 차이 최소화 \n",
    "        - 경사하강법 "
   ]
  },
  {
   "cell_type": "markdown",
   "id": "65b6bb5f-f745-458f-a159-5d21ba1eebef",
   "metadata": {},
   "source": [
    "### 다중선형회귀분석\n",
    "\n",
    "    - 독립 변수가 2개 이상인 경우의 선형회귀\n",
    "    - 독립 변수가 2개인 경우 3차원 공간에 표현됨, 회귀선은 평면이 됨\n",
    "    - 최소제곱법 사용 -> 그 차이가 잔차 \n",
    "\n",
    "\n",
    "\n",
    "# 다중 공선성\n",
    "    회귀 분석에서 독립 변수들 간에 상관관계가 큰 경우 발생 \n",
    "    변수가 겹치는 상황 \n",
    "    다중공선성이 높은 경우 -> 어떤 독립 변수가 종속 변수에 얼마나 영향? 구분 어려움 -> 회귀분석의 정확도가 낮아짐 \n",
    "\n",
    "    - 그 확인 방법 \n",
    "    1. 상관계수\n",
    "        r은 -1과 1사이에 존재 -> 절댓값 1에 가까울수록 상관성이 높음 \n",
    "        0은 관계 없음 \n",
    "        히트맵, corr()함수 통해\n",
    "        pairplot도 가능 \n",
    "    2. VIF 지수\n",
    "        분산팽창인수 -> 회귀모델 결정계수 R square 사용하여 계산됨 \n",
    "        - VIF = 1: 해당 독립 변수는 다른 변수와 상관관계가 전혀 없음을 의미합니다.\n",
    "        - VIF < 5: 일반적으로 다중공선성 문제가 없다고 간주됩니다.\n",
    "        - VIF > 5: 다중공선성의 징후가 있을 수 있으며, 주의를 요합니다.\n",
    "        - VIF > 10: 다중공선성이 심각하다고 간주되며, 이 변수를 포함한 회귀 모델은 불안정할 가능성이 큽니다. 이 경우 해당 변수를 제거하거나, 변수 간의 상관관계를 줄이기 위한 조치가 필요할 수 있습니다.\n",
    "\n",
    "        높을수록 다중공선성 존재한다고 판단 \n",
    "\n",
    "    - 그 대처 \n",
    "    1. 변수 제거(변수 선택법) \n",
    "        독립변수로 사용할 변수 선택\n",
    "    2. 변수 변환\n",
    "        변수간 덧셈 혹은 뺄셈으로 새로운 변수 생성 (문제 없을 시)\n",
    "    3. 규제 선형 모델 활용\n",
    "        릿지, 라쏘, 엘라스틱넷\n",
    "    4. PCA 주성분 분석 \n",
    "        데이터 차원 축소에 사용되는 통계적 기법 \n",
    "        최대한 보존하며 데이터 복잡성 줄일 수 있음 "
   ]
  },
  {
   "cell_type": "markdown",
   "id": "6bfe642c-c02a-421a-ac1e-eb3031d1d80f",
   "metadata": {},
   "source": [
    "### 모델평가방법\n",
    "\n",
    "- 모델 성능 및 유의성 평가\n",
    "\n",
    "- 1. 성능 평가 지표\n",
    "     - 평균제곱오차 (오차 제곱의 평균)\n",
    "     - 평균절대오차 (절대값 오차의 평균)\n",
    "- 2. 변수 유성 평가\n",
    "     - t 검정 : 회귀계수가 0인지 아닌지로 가설\n",
    "     - p-value가 0.05보다 작다면 해당 변수는 유의하다고 판단\n"
   ]
  },
  {
   "cell_type": "code",
   "execution_count": null,
   "id": "6751e3e3-2395-42be-8a12-f1d980269150",
   "metadata": {},
   "outputs": [],
   "source": []
  }
 ],
 "metadata": {
  "kernelspec": {
   "display_name": "Python 3 (ipykernel)",
   "language": "python",
   "name": "python3"
  },
  "language_info": {
   "codemirror_mode": {
    "name": "ipython",
    "version": 3
   },
   "file_extension": ".py",
   "mimetype": "text/x-python",
   "name": "python",
   "nbconvert_exporter": "python",
   "pygments_lexer": "ipython3",
   "version": "3.12.4"
  }
 },
 "nbformat": 4,
 "nbformat_minor": 5
}
