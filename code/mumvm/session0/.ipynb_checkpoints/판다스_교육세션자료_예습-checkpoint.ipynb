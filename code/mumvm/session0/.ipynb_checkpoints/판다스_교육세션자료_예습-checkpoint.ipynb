{
 "cells": [
  {
   "cell_type": "markdown",
   "id": "95bc2a3d",
   "metadata": {},
   "source": [
    "# 판다스 교육 세션 자료 예습"
   ]
  },
  {
   "cell_type": "markdown",
   "id": "6cc1d184",
   "metadata": {},
   "source": [
    "## 1. 판다스란?\n",
    "\n",
    "- **판다스(Pandas)** : 데이터 분석에 특화된 파이썬 라이브러리.\n",
    "\t- 시리즈와 데이터프레임이라는 오브젝트를 사용.\n",
    "\t- 넘파이를 기반으로 함.\n",
    "\t\t- 넘파이(numpy) : **num**erical **py**thon. 행렬, 다차원 배열 등을 다루는 데 특화된 파이썬 라이브러리.\n",
    "\t- 데이터 분석의 기본 단계.\n",
    "\n",
    "파이썬에서 `import pandas as pd` 라는 명령을 통해 판다스 라이브러리를 불러올 수 있음.\n",
    "\n",
    "```python\n",
    "import pandas as pd\n",
    "df = pd.read_csv('파일경로')\n",
    "```"
   ]
  },
  {
   "cell_type": "markdown",
   "id": "38b810d5",
   "metadata": {},
   "source": [
    "## 2. 데이터프레임의 구성\n",
    "\n",
    "- 데이터프레임 : 판다스에서 사용하는 주요 데이터 구조.\n",
    "\t- 2차원 행렬의 행에 해당하는 index와 열에 해당하는 column으로 이뤄져 있음.\n",
    "\t- 행, 열 번호를 통해 데이터프레임 내에서 특정 데이터의 위치를 나타낼 수 있음.\n",
    "\t- 일반적으로 index는 데이터의 순서, column은 데이터의 카테고리를 의미.\n"
   ]
  },
  {
   "cell_type": "markdown",
   "id": "a8677126",
   "metadata": {},
   "source": [
    "### 데이터 프레임 구성 방법\n",
    "\n",
    "데이터, 인덱스, 컬럼을 설정함으로써 데이터프레임을 정의할 수 있음.\n",
    "\n",
    "1. 데이터, 카테고리명을 컬럼으로 하는 딕셔너리 생성\n",
    "```python\n",
    "data = {\n",
    "\t\t\"ID\" : ['df123', 'sksls', 'cjvn99'],\n",
    "\t\t\"사과 크기(cm)\" : [5.3, 8.8, 7.6],\n",
    "\t\t\"수확 지역\" : ['서울', '부산', '안동']\n",
    "}\n",
    "```\n",
    "\n",
    "2. 사용하고자 하는 인덱스, 컬럼 설정\n",
    "```python\n",
    "columns = [\"ID\", \"사과 크기(cm)\", \"수확 지역\"]\n",
    "index = [0, 1, 2]\n",
    "```\n",
    "\n",
    "3. `pd.DataFrame`을 사용해 데이터프레임 구성\n",
    "```python\n",
    "df = pd.DataFrame(data, index = index, columns = columns)\n",
    "```"
   ]
  },
  {
   "cell_type": "markdown",
   "id": "eade03ef",
   "metadata": {},
   "source": [
    "### 데이터 추출 : 인덱싱 & 슬라이싱\n",
    "\n",
    "- 인덱싱 - 1번 데이터의 사과 크기를 알고 싶어 *(지목)*\n",
    "\t- 세 가지 방법 : \n",
    "\t\t- 열 이름으로 인덱싱 ex) `df[\"사과 크기(cm)\"]`\n",
    "\t\t- 행과 열 이름(label)으로 인덱싱. `df.loc[행 인덱싱값, 열 인덱싱값]` \n",
    "\t\t- 행과 열 순서로 인덱싱. `df.iloc[행 인덱스, 열 인덱스]`\n",
    "- 슬라이싱 - 2~5번 데이터의 재배자명을 알고 싶어 *(범위 지정)*\n",
    "\t- 세 가지 방법 :\n",
    "\t\t- 행 순서로 슬라이싱. `df[시작번호:끝번호]`\n",
    "\t\t- 행과 열 이름으로 인덱싱. `df.loc[행 인덱싱값1 : 행 인덱싱값2, 열 인덱싱값1 : 열 인덱싱값2]`\n",
    "\t\t- 행과 열 순서로 인덱싱. `df.iloc[행 인덱스1 : 행 인덱스2, 열 인덱스1 : 열 인덱스2]`\n",
    "\n",
    "> `loc`, `iloc`의 차이 : iloc의 범위는 시작 인덱스 ~ (끝 인덱스 - 1)이다.\n"
   ]
  },
  {
   "cell_type": "markdown",
   "id": "d943ed78",
   "metadata": {},
   "source": [
    "### 인덱스 설정\n",
    "\n",
    "인덱스는 기본적으로 0부터 시작하나, 다음의 방법들을 통해 원하는 대로 변경이 가능.\n",
    "\n",
    "- `set_index`를 사용해서 기존의 열 중 하나를 인덱스로 설정.\n",
    "- `reset_index`를 사용해서 인덱스를 리셋하고 기존 인덱스를 열에 추가.\n",
    "- `DataFrame객체.reindex(인덱스배열)`를 사용해서 행 재배치 or 새 인덱스 추가."
   ]
  },
  {
   "cell_type": "markdown",
   "id": "015cad3c",
   "metadata": {},
   "source": [
    "## 3. 데이터 조작\n",
    "\n",
    "대부분의 경우 데이터는 셀 수 없이 많기 때문에, 일부만을 확인하거나 전체 데이터의 경향을 확인할 수 있는 함수를 사용.\n",
    "\n",
    "- 데이터프레임 간략히 확인\n",
    "\t- `df.head(n)`, `df.tail(n)` - 앞, 뒤 n개의 행 반환\n",
    "\t- `df.shape` - (행 개수, 열 개수) 반환\n",
    "- 데이터 정보 확인\n",
    "\t- `df.dtypes` (컬럼들의 데이터 타입), `df.info()` (데이터의 정보), `df.describe()` (데이터 개수, 평균, 표준편차, 최대 최소 등의 지수들), `df.isnull()` (NULL값 여부 확인)\n",
    "- 데이터 개수 세기\n",
    "\t- `df.count()` - NaN값 제외한 개수 반환\n",
    "\t- `df[컬럼명].value_counts()` - 특정 열의 값들이 몇 번 나타나는지 계산해 빈도수 반환"
   ]
  },
  {
   "cell_type": "markdown",
   "id": "1272a595",
   "metadata": {},
   "source": [
    "### 데이터 추가, 삭제\n",
    "\n",
    "- 특정 데이터셋을 열로 추가 - `df['새 열 이름'] = some_list`\n",
    "\t- ex) `df['크기 대비 무게'] = df['사과 크기(cm)'] / df['사과 무게(g)']`\n",
    "- `del df['열 이름']` - 데이터프레임 원본에서 특정 열 완전히 삭제\n",
    "- `df.drop(labels, axis)` - 데이터프레임에서 열 삭제. inplace 옵션 주의... True로 설정하면 `del`처럼 원본에서 아예 삭제됨.\n",
    "\t- `del`과 `drop`의 차이 유의하기."
   ]
  },
  {
   "cell_type": "markdown",
   "id": "39700d80",
   "metadata": {},
   "source": [
    "### 데이터 정렬\n",
    "\n",
    "- `df.sort_index` - 인덱스 기준 정렬\n",
    "- `df.sort_values[\"컬럼명\"]` - 특정 열 값 기준으로 정렬"
   ]
  },
  {
   "cell_type": "markdown",
   "id": "26496df8",
   "metadata": {},
   "source": [
    "### 데이터 변환\n",
    "\n",
    "- 특정 컬럼 내 데이터의 자료형 변환 : \n",
    "\t- `df.dtypes` 통해 변환하려는 열의 자료형 확인\n",
    "\t- `df['컬럼명'] = df['컬럼명'].astype(원하는 자료형)` 을 사용해 자료형 변환\n",
    "- `df.replace(바꾸고싶은변수, 넣을값)` - 데이터 자체를 변환"
   ]
  },
  {
   "cell_type": "markdown",
   "id": "178afec7",
   "metadata": {},
   "source": [
    "## 4. 데이터프레임 조작 (심화)\n",
    "\n",
    "- `df['컬럼명'].mean()` - 해당 컬럼의 평균 구하기.\n",
    "\t- `mean`을 median, std, sum, max, min 등으로 바꿔 다른 통계량을 구할 수 있음."
   ]
  },
  {
   "cell_type": "markdown",
   "id": "ea9d236c",
   "metadata": {},
   "source": [
    "### 그룹화\n",
    "\n",
    "- groupby 메소드를 사용해 기준을 정해 그룹을 만들고 연산을 할 수 있음.\n",
    "- `df.groupby('col1')['col2'].mean()` : col1로 그룹화하고 col2에 대한 평균 반환.\n",
    "\t- ex) `df.groupby('수확 지역')['사과 무게(g)'].mean()`"
   ]
  },
  {
   "cell_type": "markdown",
   "id": "debe4fc3",
   "metadata": {},
   "source": [
    "### 데이터프레임 합치기\n",
    "\n",
    "`concat` 또는 `merge`를 사용 가능. 둘의 차이에 유의하기.\n",
    "\n",
    "- `concat` - 단순히 두 데이터프레임을 이어붙이는 것. \n",
    "\t- 행 방향 또는 열 방향 선택\n",
    "\t- 보통 동일한 구조의 데이터프레임을 합칠 때 사용.\n",
    "\t- `df = pd.concat([df1, df2])`\n",
    "- `merge` - 공통 항목을 기준으로 병합.\n",
    "\t- 데이터프레임 간 열 또는 인덱스 중에 공통 항목이 있을 때만 가능.\n",
    "\t- 형태가 다르더라도 겹치는 데이터 기준으로 합칠 수 있음.\n",
    "\t- `pd.merge(df1, df2, how=\"inner\", on=\"~~\")`\n",
    "\t- cf. SQL의 join 연산과 유사하게 동작."
   ]
  }
 ],
 "metadata": {
  "kernelspec": {
   "display_name": "Python 3 (ipykernel)",
   "language": "python",
   "name": "python3"
  },
  "language_info": {
   "codemirror_mode": {
    "name": "ipython",
    "version": 3
   },
   "file_extension": ".py",
   "mimetype": "text/x-python",
   "name": "python",
   "nbconvert_exporter": "python",
   "pygments_lexer": "ipython3",
   "version": "3.9.7"
  }
 },
 "nbformat": 4,
 "nbformat_minor": 5
}
