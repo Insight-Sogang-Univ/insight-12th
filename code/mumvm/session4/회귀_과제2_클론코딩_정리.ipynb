{
 "cells": [
  {
   "cell_type": "markdown",
   "id": "5708d6a7-17f3-4420-8b4c-8398b79d4ee5",
   "metadata": {},
   "source": [
    "# 1. Multiple Linear Regression"
   ]
  },
  {
   "cell_type": "markdown",
   "id": "45f6fadd-ca0b-4f65-aee0-8d6239fe7a2c",
   "metadata": {},
   "source": [
    "- 공유 자전거에 대한 수요를 모델링."
   ]
  },
  {
   "cell_type": "markdown",
   "id": "32523e87-65d6-456a-8878-293c3bcb25b7",
   "metadata": {},
   "source": [
    "# 2. Data Quality Check"
   ]
  },
  {
   "cell_type": "markdown",
   "id": "ed97e7f6-6f6f-421a-8a50-08ffce751878",
   "metadata": {},
   "source": [
    "- 결측값이 있는지 체크\n",
    "    - $\\to$ 결측값 없음.\n",
    "- 중복값 체크\n",
    "    - $\\to$ 중복값 없음 - `drop_duplicate` 명령 실행 후 데이터의 shape과 원래 데이터의 shape이 같음."
   ]
  },
  {
   "cell_type": "markdown",
   "id": "4d1550a4-af38-4508-8054-de474c494793",
   "metadata": {},
   "source": [
    "## 2.4 전처리\n",
    "\n",
    "- `for`문을 통해 각 열에 대한 고유한 값의 개수를 내림차순으로 출력하도록 함.\n",
    "- `value_counts` 메소드 사용. $\\to$ junk/unknown값이 있는지 확인"
   ]
  },
  {
   "cell_type": "markdown",
   "id": "93b85e7f-40db-4ec2-9edc-cb7c3dbb2896",
   "metadata": {},
   "source": [
    "# 3. 중복 및 원하지 않는 열 제거"
   ]
  },
  {
   "cell_type": "markdown",
   "id": "2c1aa455-8dfa-4ff0-8f67-ee06a1ee61f5",
   "metadata": {},
   "source": [
    "- instant(인덱스 값), dteday(날짜) 등 필요하지 않거나 다른 열과 중복된 정보를 가지는 열을 삭제한다.\n",
    "- 열들을 제거한 새로운 데이터 프레임을 정의하여 원본 데이터셋을 보존하도록 한다."
   ]
  },
  {
   "cell_type": "markdown",
   "id": "18a975bc-c590-4804-8dbb-7792b6e207b8",
   "metadata": {},
   "source": [
    "# 4. Creating Dummy Vairables"
   ]
  },
  {
   "cell_type": "markdown",
   "id": "eecc6a1d-52c4-4294-9ab2-108df3808d05",
   "metadata": {},
   "source": [
    "- 범주형 변수를 더미 변수로 변환할 때, `drop_first=True`로 설정함으로써 다중공선성을 방지할 수 있다(생성된 각 더미 세트의 첫 번째 더미 변수를 drop함)\n",
    "    - 예를 들어, `mnth` 변수를 더미 변수로 변환할 경우 `drop_first` 옵션을 True로 설정하면 첫 번째 더미 변수인 `mnth_1`을 drop한다."
   ]
  },
  {
   "cell_type": "markdown",
   "id": "bf75d84e-272e-46ea-8db6-b7a9a4001db1",
   "metadata": {},
   "source": [
    "# 5. EDA"
   ]
  },
  {
   "cell_type": "markdown",
   "id": "eda39f57-bce1-47bc-ab27-fa65025c4049",
   "metadata": {},
   "source": [
    "- 더미 변수 만들기 전의 모든 범주형 변수들을 타겟 변수에 대해 시각화를 함으로써 각 예측 변수가 타겟 변수에 어떻게 영향을 미치는 지 확인한다.\n",
    "- EDA 과정에서 히트맵을 확인하고, 이를 이후 선형 모델 구축 과정에서 참조한다."
   ]
  },
  {
   "cell_type": "markdown",
   "id": "64025261-7af7-4d11-8c4a-504d8a645aac",
   "metadata": {},
   "source": [
    "# 6. Rescaling the Features"
   ]
  },
  {
   "cell_type": "markdown",
   "id": "d6cafb2b-6e6e-4c9d-b88d-e87a00110da0",
   "metadata": {},
   "source": [
    "- 수치형 변수들에 대해 `MinMaxScaler`를 사용해 스케일링을 진행한다."
   ]
  },
  {
   "cell_type": "markdown",
   "id": "649fdf6c-bdae-4fbf-b145-c85b0fb08ba2",
   "metadata": {},
   "source": [
    "# 7. 선형 모델 구축"
   ]
  },
  {
   "cell_type": "markdown",
   "id": "92ab5833-5635-4bbc-a629-9e8550dbcc2a",
   "metadata": {},
   "source": [
    "- sklearn의 유틸리티(RFE)를 활용하기 위해, 이 유틸리티와의 호환성을 고려하여 scikit-learn의 함수를 사용해 선형 회귀를 진행한다."
   ]
  },
  {
   "cell_type": "markdown",
   "id": "e1bab029-06b1-4273-8eeb-f247ffbc974c",
   "metadata": {},
   "source": [
    "# 8. 'STATS MODEL' 을 사용해 선형 모델 구축"
   ]
  },
  {
   "cell_type": "markdown",
   "id": "ad44b440-cfd5-46df-ab4e-1c3f79ecf61c",
   "metadata": {},
   "source": [
    "- `params` 메소드를 사용해 모델의 회귀계수를 확인할 수 있다.\n",
    "- 모델 구축 시, 기계적으로 VIF 등 지표의 값만을 확인하고 변수를 제거하는 것이 아니라 도메인에 대한 지식을 고려해 변수를 drop할 수 있다. - VIF의 값이 가장 높은 변수더라도 유지하는 선택을 할 수 있다."
   ]
  },
  {
   "cell_type": "markdown",
   "id": "d51250da-e492-4a6e-b8b7-39ff950671ef",
   "metadata": {},
   "source": [
    "# 9. 최종 모델 해석"
   ]
  },
  {
   "cell_type": "markdown",
   "id": "efef84c7-cadd-4bc6-95ef-465b368e5c61",
   "metadata": {},
   "source": [
    "> 다음과 같이 가설 설정을 할 수 있다.<br>\n",
    "> H0:B1=B2=...=Bn=0<br>\n",
    "> H1: at least one Bi!=0\n",
    "\n",
    "- 선형 회귀 모형의 계수 값을 바탕으로 $y = \\beta_1 X_1 + ... + \\beta_n X_n$ 형태의 식을 작성할 수 있다.\n",
    "- 또한 각 상관계수에 대한 해석이 가능하다.\n",
    "- 상수 값에 대한 해석 : 다른 모든 예측 변수가 없는 경우($x_1=0, ...$인 경우)에도 종속변수가 해당 상수 값 단위만큼 증가할 수 있음을 나타낸다."
   ]
  },
  {
   "cell_type": "markdown",
   "id": "97f7b226-9524-49d2-9bb4-ecccf65c3610",
   "metadata": {},
   "source": [
    "# 10. 가정"
   ]
  },
  {
   "cell_type": "markdown",
   "id": "c22cd208-f94b-4e89-bfad-c0ffd96b855a",
   "metadata": {},
   "source": [
    "- 오차항은 일반적으로 평균 0을 중심으로 분포된다.\n",
    "- pairplot을 활용해 linearity를 확인할 수 있다."
   ]
  },
  {
   "cell_type": "markdown",
   "id": "0f95fcf5-0bd9-4685-b85b-53245eed452e",
   "metadata": {},
   "source": [
    "# 11. 최종 모델을 사용한 예측"
   ]
  },
  {
   "cell_type": "markdown",
   "id": "6ba5c91a-006c-42d0-88da-217ddcbff019",
   "metadata": {},
   "source": [
    "- 테스트 셋에 스케일링을 적용, 이후 분리한 X_test에 대해 전처리 작업을 수행해야 한다.|"
   ]
  },
  {
   "cell_type": "markdown",
   "id": "b88c4ba1-e3ca-42ee-a3a5-a02aabfc99f7",
   "metadata": {},
   "source": [
    "# 12. 모델 평가"
   ]
  },
  {
   "cell_type": "markdown",
   "id": "72ae7d3b-0e1d-4072-9c3b-9701398578d1",
   "metadata": {},
   "source": [
    "- y_test와 y_pred값을 가지고 scatterplot을 그려 실제값과 예측값을 비교할 수 있다."
   ]
  },
  {
   "cell_type": "markdown",
   "id": "c53b0885-4f3c-4af6-b991-05c4a84c207c",
   "metadata": {},
   "source": [
    "# 14. Final Report"
   ]
  },
  {
   "cell_type": "markdown",
   "id": "ff2b442f-42b5-4d9f-beb6-4ed5caa04073",
   "metadata": {},
   "source": [
    "- coefficient 값을 통해 종속변수에 영향을 미치는 예측 변수들의 순위를 측정 가능."
   ]
  }
 ],
 "metadata": {
  "kernelspec": {
   "display_name": "Python 3 (ipykernel)",
   "language": "python",
   "name": "python3"
  },
  "language_info": {
   "codemirror_mode": {
    "name": "ipython",
    "version": 3
   },
   "file_extension": ".py",
   "mimetype": "text/x-python",
   "name": "python",
   "nbconvert_exporter": "python",
   "pygments_lexer": "ipython3",
   "version": "3.9.19"
  }
 },
 "nbformat": 4,
 "nbformat_minor": 5
}
