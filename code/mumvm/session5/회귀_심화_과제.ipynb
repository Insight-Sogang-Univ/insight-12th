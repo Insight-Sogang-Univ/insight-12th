{
 "cells": [
  {
   "cell_type": "markdown",
   "id": "28e58c3a-7dfe-4d86-89bb-bca17eceec70",
   "metadata": {},
   "source": [
    "# 1. House Sales in King Country, USA"
   ]
  },
  {
   "cell_type": "markdown",
   "id": "d85d3e8f-cc2f-4fde-b9f3-82c2bfbba635",
   "metadata": {},
   "source": [
    "- 사용한 패키지\n",
    "    - numpy, pandas\n",
    "    - 통계 : stats, statsmodels.api, ols\n",
    "    - 기계학습 : sklearn.linear_model, train_test_split\n",
    "    - 시각화 : matplotlib.pyplot, seaborn"
   ]
  },
  {
   "cell_type": "markdown",
   "id": "61e68c5d-a131-49b5-8d5a-faf354048123",
   "metadata": {},
   "source": [
    "- `df.index += 1`을 통해 데이터프레임 인덱스를 1부터 시작하도록 조정한다.\n",
    "- `describe()`를 통해 확인할 수 있는 기술 통계값에 더해, 중간값, 결측치, 왜도, 첨도를 추가로 확인한다. 이들 중 치우친 값에 대해 분포를 조정한다.\n",
    "    - 왜도가 양수로 왼쪽으로 치우친 것에 대해, 자연로그를 활용해 분포를 조정한다.\n",
    "        - `np.log(df['col']).hist()`\n",
    "        - 자연로그를 취한 종속변수 분포가 정규분포를 띔 -> 선형회귀 시 자연로그 적용\n",
    "- `.T` 메서드는 행렬에 대해 transpose를 수행한다.\n",
    "- `.apply(lambda x: x[0:4])` : 앞의 컬럼을 앞에서부터 4자리만 추출한다.\n",
    "- 정렬을 이용해 상관관계가 높은 변수들을 편하게 확인 가능"
   ]
  },
  {
   "cell_type": "markdown",
   "id": "8f6d7a9d-ae36-40c1-ae9d-99fd725623f5",
   "metadata": {},
   "source": [
    "---"
   ]
  },
  {
   "cell_type": "markdown",
   "id": "534a13f4-0a4e-416c-9fe7-a4e331a73980",
   "metadata": {},
   "source": [
    "- 독립변수들 간 상관관계를 확인해, 상관관계가 높게 나온 변수들의 데이터분포를 `sns.distplot`으로 확인한다.\n",
    "    - $\\to$ 변수들의 분포가 비슷한 것을 확인\n",
    "    - $\\therefore$ 다중공선성이 존재할 경우 이 중 price와 상관관계가 가장 높은 변수 `sqft_living`으로 분석.\n",
    "    - $\\to$ price와 해당 변수를 가지고 단순 선형 회귀 분석 실시\n",
    "        - 상수항 추가하기 (`X = sm.add_constant(X, has_constant=\"add\")`)"
   ]
  },
  {
   "cell_type": "markdown",
   "id": "35b7ca91-966f-45c1-b17e-ac2851e2a61c",
   "metadata": {},
   "source": [
    "**`summary()`** 함수의 항목별 설명\n",
    "\n",
    "- Dep. Variable : 종속 변수, 타겟값.\n",
    "- Model : 학습 모델 / OLS(Ordinary Least Squares), 잔차 제곱합(손실)을 최소로 하는 파라미터를 선택하는 방법\n",
    "- Method : Least Squares / 잔차 제곱합(손실)을 최소로 하는 파라미터를 선택하는 방법\n",
    "- No. Observation : 데이터셋 크기\n",
    "- Df Residuals : 데이터셋 크기 - 추정된 파라미터 수를 뺀 것\n",
    "- Df Model : 독립 변수의 숫자\n",
    "- Covariance Type : 공분산 종류 (default: nonrobust)\n",
    "- R-squared : 결정계수, 모델의 설명력(0~1 사이), 1에 가까울수록 모델의 설명력이 높음\n",
    "- Adj. R-squared : 조정된 결정계수, 조정된 모델의 설명력\n",
    "- Std. error : 계수의 표준 오차\n",
    "- F-statistic : F value\n",
    "- Prob (F-statistic): p-value\n",
    "- Log-Likelihood : 최대 로그 우도\n",
    "- AIC : 모델의 성능지표로 작을수록 좋은 모델\n",
    "- Coef : 계수값\n",
    "- P>|t| : p-value (유의수준 0.05보다 작으면 귀무가설 기각)"
   ]
  },
  {
   "cell_type": "markdown",
   "id": "7e112161-aacc-4e29-a18d-7a24b39cf2d8",
   "metadata": {},
   "source": [
    "- `model.resid.plot()`을 통해 잔차를 시각적으로 확인"
   ]
  },
  {
   "cell_type": "markdown",
   "id": "5a877f29-e992-491e-89c3-a5390d05a10a",
   "metadata": {},
   "source": [
    "# 2. 다중 선형 회귀\n",
    "\n",
    "- 연속형 반응변수 하나, 설명변수 둘 이상.\n",
    "- 다중공선성 문제(다중 선형회귀에서는 모든 변수에 대해 확인해야 함), 차원의 저주 문제 등 주의.\n",
    "- 여러가지 분석을 해보고 괜찮은 것을 고르자"
   ]
  },
  {
   "cell_type": "markdown",
   "id": "fe1f7e66-44db-4b49-a907-c2f122f5b9dc",
   "metadata": {},
   "source": [
    "---"
   ]
  },
  {
   "cell_type": "markdown",
   "id": "eda452d6-b63a-400f-ae01-361772a58828",
   "metadata": {},
   "source": [
    "- 데이터 분포가 비대칭적 $\\to$ 반응변수에 자연로그 취해 완화 후 회귀분석."
   ]
  },
  {
   "cell_type": "markdown",
   "id": "122aa928-639f-4bf1-a1e6-1dce1dd5a363",
   "metadata": {},
   "source": [
    "# 3. 회귀모형의 가정 진단"
   ]
  },
  {
   "cell_type": "markdown",
   "id": "fd774263-49b1-4201-9759-c71896fd7865",
   "metadata": {},
   "source": [
    "## 3.1 정규성 검정\n",
    "\n",
    "- Q-Q 도표 : `sm.qqplot(model.resid, line='s')`\n",
    "- 잔차 패턴 : `plt.scatter(model.predict(X), model.resid, s=3)`\n",
    "- 샤피로-윌크 검정 : `stats.shapiro(model.resid)`\n",
    "    - `stats.shapiro(model.resid)[0]` : F value\n",
    "    - `stats.shapiro(model.resid)[1]` : p-value"
   ]
  },
  {
   "cell_type": "markdown",
   "id": "12e6f287-25ca-40ef-a719-25c995b057d4",
   "metadata": {},
   "source": [
    "## 3.2 독립성 검정\n",
    "\n",
    "- 잔차 그래프 : `model.resid.plot()`\n",
    "- ACF : `sm.graphics.tsa.plot_acf(model.resid)`\n",
    "    - 0시차 제외, 구간 벗어나는 시차 존재 x이므로 독립성 만족"
   ]
  },
  {
   "cell_type": "markdown",
   "id": "389ce303-4c42-40e1-a4a0-2056e3c46284",
   "metadata": {},
   "source": [
    "## 3.3 등분산성\n",
    "\n",
    "- `sns.distplot(model.resid)`\n",
    "- `model.resid.plot()`\n",
    "\n",
    "$\\to$ 잔차 그래프를 통해 오차의 등분산성 가정 만족하는지 확인."
   ]
  }
 ],
 "metadata": {
  "kernelspec": {
   "display_name": "Python 3 (ipykernel)",
   "language": "python",
   "name": "python3"
  },
  "language_info": {
   "codemirror_mode": {
    "name": "ipython",
    "version": 3
   },
   "file_extension": ".py",
   "mimetype": "text/x-python",
   "name": "python",
   "nbconvert_exporter": "python",
   "pygments_lexer": "ipython3",
   "version": "3.9.19"
  }
 },
 "nbformat": 4,
 "nbformat_minor": 5
}
