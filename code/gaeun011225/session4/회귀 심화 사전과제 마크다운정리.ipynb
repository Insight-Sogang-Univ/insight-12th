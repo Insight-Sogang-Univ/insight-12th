{
 "cells": [
  {
   "cell_type": "markdown",
   "id": "f68354be-6d94-4675-a77d-d7bc54f08547",
   "metadata": {},
   "source": [
    "## 선형회귀\n",
    "#### 다중선형회귀의 수식적 이해\n",
    "* 선형회귀식 : 종속변수 y에 대해, 영향을 줄 것 같은 여러 설명변수를 채택해 선형적으로 식을 작성한 것\n",
    "* 설명변수에 가중치를 곱해 더함으로써 y를 얼마나 잘 설명하는지를 나타냄"
   ]
  },
  {
   "cell_type": "markdown",
   "id": "99856d39-3e46-44c7-b1f7-4b299f9828ca",
   "metadata": {},
   "source": [
    "#### 다중선형회귀의 기본가정\n",
    "1. 선형성\n",
    "2. 오차항의 평균은 0이다\n",
    "3. 독립성\n",
    "4. 등분산성\n",
    "5. 오차항은 자기상관되어 있지 않다\n",
    "6. 정규성\n"
   ]
  },
  {
   "cell_type": "markdown",
   "id": "38ae7ea8-89e4-43de-a939-1996e4cd0b2d",
   "metadata": {},
   "source": [
    "#### 회귀분석 평가방법\n",
    "시각화와 통계지표를 활용해 회귀분석 결과의 유효성을 평가\n",
    "\n",
    "* **시각화**\n",
    "  : 요약한 회귀선 중 어떤 회귀선이 데이터를 잘 요약하는지 객관적으로 비교하기가 어려움, 두 집단의 차이의 정도를 비교하기에는 통계지표를 활용하는 것이 좋음\n",
    "* **통계지표**\n",
    "  : 가장 대표적인 지표인 R-square + 보완한 몇 가지 지표\n",
    "  1. 결정계수(R-squared)\n",
    "     + 데이터의 총 변동(평균과의 차이) 중에서 설명된 비율\n",
    "     + R^2 = SSR/SST = 1-SSE/SST\n",
    "     + 0과 1 사이의 값으로 나타남, 1에 가까울수록 모델이 데이터를 잘 설명한다고 할 수 있음\n",
    "       \n",
    "  2. 조정된 결정계수(Adjusted R-squared)\n",
    "     + 변수의 개수 증가에 덜 민감하도록 조정한 지표 - 데이터와 큰 관련성이 없는 변수를 추가해도 R-squared 값은 높아지기 떄문\n",
    "     + 식에 (n-1/n-k) 곱한 것을 변수의 개수를 따른 penalty를 부여했다고 표현함\n",
    "       \n",
    "  3. AIC, BIC(SC)\n",
    "     + AIC : BIC에 비해 복잡성에 대한 패널티가 비교적 작음\n",
    "     + BIC : AIC보다 더 엄격한 기준, 데이터의 양(n)에 따라 더 강한 패널티를 부과함"
   ]
  },
  {
   "cell_type": "markdown",
   "id": "6e229cc2-8e56-421e-b8b8-e928d55d8b76",
   "metadata": {},
   "source": [
    "## 비선형회귀\n",
    "#### 다항식 회귀모델\n",
    "+ 선형 모델의 feature을 다항식으로 만들어 선형회귀를 사용함\n",
    "+ 장점: 선형 모델에 비해 회귀선을 fit하게 그릴 수 있음 / 단점: 과한 feature 사용량은 overfitting을 유발할 수 있음"
   ]
  },
  {
   "cell_type": "markdown",
   "id": "175fc58e-0292-4aee-b212-689556a39e8e",
   "metadata": {},
   "source": [
    "#### 지수/로그 회귀모델\n",
    "+ 어떤 칼럼의 증가,감소 형태가 지수적으로 or 역인 경우일 때 지수/로그 식을 이용하면 좋음\n",
    "+ 다항식의 경우처럼, 기존식에 지수/로그를 사용해 변형 "
   ]
  }
 ],
 "metadata": {
  "kernelspec": {
   "display_name": "Python 3 (ipykernel)",
   "language": "python",
   "name": "python3"
  },
  "language_info": {
   "codemirror_mode": {
    "name": "ipython",
    "version": 3
   },
   "file_extension": ".py",
   "mimetype": "text/x-python",
   "name": "python",
   "nbconvert_exporter": "python",
   "pygments_lexer": "ipython3",
   "version": "3.9.13"
  }
 },
 "nbformat": 4,
 "nbformat_minor": 5
}
