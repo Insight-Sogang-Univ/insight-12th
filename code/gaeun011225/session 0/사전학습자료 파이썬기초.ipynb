{
 "cells": [
  {
   "cell_type": "code",
   "execution_count": 202,
   "id": "f643471b-b167-4c75-a497-900a0c6c9d4e",
   "metadata": {},
   "outputs": [
    {
     "name": "stdout",
     "output_type": "stream",
     "text": [
      "89\n",
      "07\n",
      "24\n"
     ]
    }
   ],
   "source": [
    "str1 = \"890724\"\n",
    "a = str1[:2]\n",
    "b = str1[2:4]\n",
    "c = str1[4:]\n",
    "\n",
    "print(a)\n",
    "print(b)\n",
    "print(c)"
   ]
  },
  {
   "cell_type": "code",
   "execution_count": 203,
   "id": "22f5e3f9-5ccc-4b54-a6c0-7a14cfa29afc",
   "metadata": {},
   "outputs": [
    {
     "name": "stdout",
     "output_type": "stream",
     "text": [
      "01012345678\n"
     ]
    }
   ],
   "source": [
    "str2 = \"010-1234-5678\"\n",
    "A = str2[:3] + str2[4:8] + str2[9:]\n",
    "print(A)"
   ]
  },
  {
   "cell_type": "code",
   "execution_count": 204,
   "id": "d396a328-e148-4b21-bdf8-8155333f407e",
   "metadata": {},
   "outputs": [
    {
     "name": "stdin",
     "output_type": "stream",
     "text": [
      "숫자를 영어로 입력하세요 : four\n"
     ]
    },
    {
     "data": {
      "text/plain": [
       "'사'"
      ]
     },
     "execution_count": 204,
     "metadata": {},
     "output_type": "execute_result"
    }
   ],
   "source": [
    "A = input(\"숫자를 영어로 입력하세요 :\")\n",
    "dict1 = {\"one\":\"일\", \"two\":\"이\", \"three\":\"삼\", \"four\":\"사\", \"five\":\"오\", \"six\":\"육\", \"seven\":\"칠\", \"eight\":\"팔\", \"nine\":\"구\", \"ten\":\"십\"}\n",
    "dict1[A]"
   ]
  },
  {
   "cell_type": "code",
   "execution_count": 205,
   "id": "1401fb97-0a31-4516-b122-0e86178856f3",
   "metadata": {},
   "outputs": [
    {
     "name": "stdin",
     "output_type": "stream",
     "text": [
      "반지름 값을 입력하세요: 3.2\n"
     ]
    },
    {
     "data": {
      "text/plain": [
       "32.153600000000004"
      ]
     },
     "execution_count": 205,
     "metadata": {},
     "output_type": "execute_result"
    }
   ],
   "source": [
    "r = input(\"반지름 값을 입력하세요:\")\n",
    "π = 3.14\n",
    "y = π*float(r)*float(r)\n",
    "y"
   ]
  },
  {
   "cell_type": "code",
   "execution_count": null,
   "id": "170c35eb-6da1-4da4-8453-7ca4daf7431d",
   "metadata": {},
   "outputs": [],
   "source": [
    "a = input(\"금액을 입력하세요:\")\n",
    "b = input(\"상품가격을 입력하세요:\")\n",
    "\n",
    "c = int(a)-int(b)\n",
    "d = c//500\n",
    "e = (c%500)//100\n",
    "f = ((c%500)%100)//50\n",
    "g = (((c%500)%100)%50)//10\n",
    "\n",
    "print(\"잔돈 \"+str(c)+\"원 : 500원\"+str(d)+\"개, 100원\"+str(e)+\"개, 50원\"+str(f)+\"개, 10원\"+str(g)+\"개\")"
   ]
  },
  {
   "cell_type": "code",
   "execution_count": null,
   "id": "620030ea-9cb2-40a6-a143-3de3954b83ba",
   "metadata": {},
   "outputs": [],
   "source": [
    "score = int(input(\"값을 입력하세요 : \"))\n",
    "\n",
    "if score%2==0:\n",
    "    print(\"짝수입니다.\")\n",
    "else:\n",
    "    print(\"홀수입니다.\")"
   ]
  },
  {
   "cell_type": "code",
   "execution_count": null,
   "id": "d0bccc2b-9e2a-46df-901f-a8afc52f98cc",
   "metadata": {},
   "outputs": [],
   "source": [
    "for i in range(1,6):\n",
    "    print(\"*\"*i)"
   ]
  },
  {
   "cell_type": "code",
   "execution_count": null,
   "id": "683d4892-0248-47ad-83c9-f55477401a65",
   "metadata": {},
   "outputs": [],
   "source": [
    "list = [1,24,3,44,1000,0,74]\n",
    "\n",
    "for i in list:\n",
    "    if i>=max(list):\n",
    "        print(\"결과 :\",i)\n",
    "    else:\n",
    "        pass"
   ]
  },
  {
   "cell_type": "code",
   "execution_count": null,
   "id": "7798ec96-a981-47a9-9818-def2aeb234c8",
   "metadata": {},
   "outputs": [],
   "source": [
    "def average(*args):\n",
    "    total_sum=sum(args)\n",
    "    average=total_sum/len(args)\n",
    "    return average\n",
    "\n",
    "avg = average(1,5,6,7,222)\n",
    "print(\"입력한 숫자의 평균 :\",avg)"
   ]
  },
  {
   "cell_type": "code",
   "execution_count": null,
   "id": "af0d3781-f2dd-4e76-84eb-1ed3e43b4063",
   "metadata": {},
   "outputs": [],
   "source": [
    "!pip install numpy"
   ]
  },
  {
   "cell_type": "code",
   "execution_count": null,
   "id": "5bad4bfd-b287-448f-b73c-219ed688d91f",
   "metadata": {},
   "outputs": [],
   "source": [
    "import numpy as np\n",
    "arr1 = np.random.randn(5,2)\n",
    "print(arr1)\n",
    "\n",
    "print(\"전체 합 : \",arr1.sum())\n",
    "print(\"전체 평균 : \",arr1.sum()/10)\n",
    "print(\"각 열의 합 : \",arr1.sum(axis=0))\n",
    "print(\"각 행의 합 : \",arr1.sum(axis=1))\n",
    "print(\"각 열의 평균 : \",arr1.sum(axis=0)/5)\n",
    "print(\"각 행의 평균 : \",arr1.sum(axis=1)/2)\n"
   ]
  },
  {
   "cell_type": "code",
   "execution_count": null,
   "id": "e9a72e08-398d-44c9-a328-b2b1f562eef2",
   "metadata": {},
   "outputs": [],
   "source": [
    "!pip install pandas"
   ]
  },
  {
   "cell_type": "code",
   "execution_count": null,
   "id": "6572d01e-2fe2-46dd-9e80-97ad6386ea78",
   "metadata": {},
   "outputs": [],
   "source": [
    "import pandas as pd\n",
    "#1\n",
    "s1 = pd.Series([70,30,80,90], name='성적표',index=['국어','영어','수학','과학'])\n",
    "pass_index = s1[s1>=50]\n",
    "fail_index = s1[s1<50]\n",
    "\n",
    "print(\"합격\")\n",
    "print(pass_index)\n",
    "print(\"불합격\")\n",
    "print(fail_index)"
   ]
  },
  {
   "cell_type": "code",
   "execution_count": null,
   "id": "0f81cab7-18ee-445d-af0d-1f6bb1ee1a2f",
   "metadata": {},
   "outputs": [],
   "source": [
    "#2\n",
    "avg = s1.mean()\n",
    "if avg >= 70:\n",
    "    print(\"전체합격\")\n",
    "else:\n",
    "    print(\"전체불합격\")"
   ]
  }
 ],
 "metadata": {
  "kernelspec": {
   "display_name": "Python 3 (ipykernel)",
   "language": "python",
   "name": "python3"
  },
  "language_info": {
   "codemirror_mode": {
    "name": "ipython",
    "version": 3
   },
   "file_extension": ".py",
   "mimetype": "text/x-python",
   "name": "python",
   "nbconvert_exporter": "python",
   "pygments_lexer": "ipython3",
   "version": "3.9.13"
  }
 },
 "nbformat": 4,
 "nbformat_minor": 5
}
