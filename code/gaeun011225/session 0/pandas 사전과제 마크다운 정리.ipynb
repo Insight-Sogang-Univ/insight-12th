{
 "cells": [
  {
   "cell_type": "markdown",
   "id": "bf30eb79-7d96-4000-bb4d-13121dd0ef93",
   "metadata": {},
   "source": [
    "## Pandas의 정의\n",
    "\n",
    "\n",
    "#### <Pandas란?>\n",
    "+ **데이터 분석에 특화된 파이썬 라이브러리**임\n",
    "+ **데이터프레임**을 불러오는 라이브러리가 바로 **pandas**임\n",
    "+ 행과 열로 구성되어, 다양한 데이터를 다룰 수 있음\n",
    "+ pandas의 실행은 아래와 같이 실행"
   ]
  },
  {
   "cell_type": "markdown",
   "id": "c41aba19-69f9-4847-9193-aa74e5d856cc",
   "metadata": {},
   "source": [
    "    import pandas as pd"
   ]
  },
  {
   "cell_type": "markdown",
   "id": "42ae80f2-2ed8-4c48-be2e-976083c75c67",
   "metadata": {},
   "source": [
    "## 데이터프레임의 구성방법\n",
    "\n",
    "+ 데이터프레임은 **행(Index)과 열(Column)**의 기본구조로 이루어짐\n",
    "+ **데이터, 인덱스, 컬럼** 설정을 통해 데이터프레임 생성 가능함\n",
    "+ pd.DataFrame을 사용해 데이터프레임 구성 완료\n",
    "+ 데이터프레임의 구성은 아래와 같음"
   ]
  },
  {
   "cell_type": "markdown",
   "id": "b8591547-7a03-4c72-9a13-83f2602753e8",
   "metadata": {},
   "source": [
    "    #데이터와 각 카테고리를 컬럼으로 하는 딕셔너리 생성\n",
    "    data = {\"이름\":['가은','태연','수진','지우','은서'],\"키\":[168,167,166,163,161],\"나이\":[24,23,24,24,22],\"거주지역\":['서울','서울','수원','부천','안산']}\n",
    "    \n",
    "    columns = [\"이름\",\"키\",\"나이\",\"거주지역\"]\n",
    "    index = [0,1,2,3,4]\n",
    "\n",
    "    df = pd.DataFrame(data, index=index, columns=columns)"
   ]
  },
  {
   "cell_type": "markdown",
   "id": "9dc7fc07-0b8c-4b1d-a538-7922a56144ec",
   "metadata": {},
   "source": [
    "## 데이터프레임 내에서 데이터 추출\n",
    "\n",
    "+ **인덱싱(Indexing)과 슬라이싱(Slicing)** : 인덱스와 컬럼을 사용해 데이터를 추출하는 것\n",
    "   + **인덱싱** : 범위가 아닌 단순 지목으로 추출\n",
    "    1. 열 이름으로 인덱싱\n",
    "    2. df.loc[행 인덱싱값, 열 인덱싱값]\n",
    "    3. df.iloc[행 인덱스, 열 인덱스]\n",
    "\n",
    "   + **슬라이싱** : 범위를 조건으로 추출\n",
    "    1. 행 순서로 슬라이싱\n",
    "    2. df.loc[행 인덱싱값1 : 행 인덱싱값2, 열 인덱싱값1 : 열 인덱싱값2]\n",
    "    3. df.iloc[행 인덱스1 : 행 인덱스2, 열 인덱스1 : 열 인덱스2]"
   ]
  },
  {
   "cell_type": "markdown",
   "id": "6e08c0c7-0e08-46d7-a95e-220a1abb6ef1",
   "metadata": {},
   "source": [
    "    #인덱싱 - 1.열 이름을 인덱싱\n",
    "    df[\"이름\"]   #하나의 열만 인덱싱\n",
    "    df[[\"이름\",\"나이\"]]   #여러개의 열을 인덱싱\n",
    "    df[\"거주지역\"][2]   #거주지역 열에서 2번째 인덱스인 '수원' 반환\n",
    "\n",
    "    #인덱싱 - 2. 행과 열 '이름'으로 인덱싱\n",
    "    df.loc[2,'키']   #결과는 166\n",
    "\n",
    "    #인덱싱 - 3. 행과 열의 순서로 인덱싱\n",
    "    df.iloc[2,3]   #결과는 '수원'\n",
    "\n",
    "    #슬라이싱 - 1. 행 순서로 슬라이싱\n",
    "    df[2:4]   #2~3번째 데이터 셋 반환\n",
    "\n",
    "    #슬라이싱 - 2. 행과 열 '이름'으로 인덱싱\n",
    "    df.loc[0:3,\"키\":\"거주지역\"]   #키~거주지역까지의 0~2번째 데이터 셋\n",
    "\n",
    "    #슬라이싱 - 3. 행과 열의 순서로 인덱싱\n",
    "    df.iloc[0:3,1:3]   #키~나이까지의 0~2번째 데이터\n",
    "    \n"
   ]
  },
  {
   "cell_type": "markdown",
   "id": "b0211980-c8da-4f2a-9b3e-fa7f0cce440f",
   "metadata": {},
   "source": [
    "## 데이터프레임 조작\n",
    "\n",
    "+ **데이터 추가, 삭제하기**\n",
    "   + df['새로운 열 이름'] = some_list 으로 특정 리스트를 추가\n",
    "   + del df['열 이름'] 으로 특정 열 삭제\n",
    "   + df.drop(labels, axis) 으로 특정 행 또는 특정 열 삭제\n",
    "     + 예시) df.drop('키', axis=1, inplace=True)\n",
    "\n",
    "+ **데이터 정렬하기**\n",
    "   + df.sort_index 으로 인덱스 기준으로 정렬\n",
    "   + df.sort_values[\"column명\"] 으로 특정 열의 값을 기준으로 정렬\n",
    "\n",
    "+ **데이터 변환하기**\n",
    "   + df.types 으로 변환하고자 하는 열의 자로형 우선적으로 확인\n",
    "   + df['컬럼 명']=df.['컬럼 명'].astype(원하는 자료형) 으로 자료형 변환\n",
    "   + df.replace(바꾸고자 하는 변수, 넣을 값) 으로 데이터 자체의 값 변환"
   ]
  },
  {
   "cell_type": "markdown",
   "id": "f48f66aa-e4bc-46cc-bf91-43b4b2325c5e",
   "metadata": {},
   "source": [
    "    #데이터 추가와 삭제\n",
    "    df['전공'] = ['경영','경영','경제','중문','수학']\n",
    "    del df['키']\n",
    "    df.drop('거주지역', axis=1, inplace=True)\n",
    "\n",
    "    #데이터 정렬\n",
    "    df.sort_index(ascending=False)\n",
    "    df.sort_values(by='나이',ascending=True)\n",
    "\n",
    "    #데이터 변환\n",
    "    df.types\n",
    "    df.[\"나이\"]=df[\"나이\"].astype(str)\n",
    "    df.types\n",
    "    df.replace('수원','서울')"
   ]
  },
  {
   "cell_type": "markdown",
   "id": "049f936a-b5fb-431d-9d6e-c9c7a92c6753",
   "metadata": {},
   "source": []
  }
 ],
 "metadata": {
  "kernelspec": {
   "display_name": "Python 3 (ipykernel)",
   "language": "python",
   "name": "python3"
  },
  "language_info": {
   "codemirror_mode": {
    "name": "ipython",
    "version": 3
   },
   "file_extension": ".py",
   "mimetype": "text/x-python",
   "name": "python",
   "nbconvert_exporter": "python",
   "pygments_lexer": "ipython3",
   "version": "3.9.13"
  }
 },
 "nbformat": 4,
 "nbformat_minor": 5
}
