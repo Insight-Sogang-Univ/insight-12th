{
 "cells": [
  {
   "cell_type": "markdown",
   "id": "f4d46ea0-7b71-4168-8098-12b3f9b4711f",
   "metadata": {},
   "source": [
    "여기에 사전 과제를 진행합니다. 지금은 테스트용 ! "
   ]
  },
  {
   "cell_type": "code",
   "execution_count": null,
   "id": "38f9a3dd-8b9c-4b7c-80c7-d157e70758d7",
   "metadata": {},
   "outputs": [],
   "source": []
  }
 ],
 "metadata": {
  "kernelspec": {
   "display_name": "Python 3 (ipykernel)",
   "language": "python",
   "name": "python3"
  },
  "language_info": {
   "codemirror_mode": {
    "name": "ipython",
    "version": 3
   },
   "file_extension": ".py",
   "mimetype": "text/x-python",
   "name": "python",
   "nbconvert_exporter": "python",
   "pygments_lexer": "ipython3",
   "version": "3.11.3"
  }
 },
 "nbformat": 4,
 "nbformat_minor": 5
}
