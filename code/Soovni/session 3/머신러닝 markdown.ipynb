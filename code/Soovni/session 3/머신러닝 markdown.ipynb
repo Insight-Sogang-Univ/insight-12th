{
 "cells": [
  {
   "cell_type": "markdown",
   "id": "0febda0f",
   "metadata": {},
   "source": [
    "## 머신러닝\n",
    "비지도학습, 지도학습, 머신러닝 \n",
    "\n",
    "## 모델링\n",
    "훈련데이터-훈련시킬때 쓰는 데이터\n",
    "테스트데이터- 검증데이터\n",
    "unseen data 에 대해 얼마나 예측을 잘 수행하는지 공정하게 평가하기 위해 ,data 를 분리함. \n",
    "\n",
    "\n",
    "## regression 이란?\n",
    "데이터에서 패턴을 찾아내어 미래값을 예측하는것 \n",
    "연속적인 숫자를 다룸. \n",
    "선형회귀 ,비선형 회귀, 로지스틱회귀, 릿지회귀, 라쏘회귀, 다항회귀\n",
    "\n",
    "### 단순 선형 회귀\n",
    "독립변수 1개 \n",
    "데이터를 가장 잘 설명하는 직선을 찾는 과정\n",
    "\n",
    "### 다중 선형 회귀\n",
    "독립변수가 2개 이상인 경우의 선형회귀\n",
    "다중공선성 확인해야함. \n",
    "-다중공선성은 회귀분석에서 독립변수들 간에 상관관계가 큰 경우에 발생함 \n",
    "\n",
    "다중공선성 확인방법?\n",
    "- 상관계수\n",
    "-히트맵\n",
    "-VIF 지수\n",
    "\n",
    "대처법\n",
    "-변수 제거\n",
    "-변수변환\n",
    "-규제선형모델활용\n",
    "-PCA(주성분분석)\n",
    "\n",
    "## 모델 성능 및 유의성 평가\n",
    "- 평균 제곱 오차 \n",
    "- 평균 절대 오차\n",
    "-변수 유성 평가\n"
   ]
  }
 ],
 "metadata": {
  "kernelspec": {
   "display_name": "Python 3",
   "language": "python",
   "name": "python3"
  },
  "language_info": {
   "codemirror_mode": {
    "name": "ipython",
    "version": 3
   },
   "file_extension": ".py",
   "mimetype": "text/x-python",
   "name": "python",
   "nbconvert_exporter": "python",
   "pygments_lexer": "ipython3",
   "version": "3.8.8"
  }
 },
 "nbformat": 4,
 "nbformat_minor": 5
}
