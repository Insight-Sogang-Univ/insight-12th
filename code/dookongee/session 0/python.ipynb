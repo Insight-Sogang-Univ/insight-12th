{
 "cells": [
  {
   "cell_type": "code",
   "execution_count": 11,
   "id": "0e5fcd26-48e9-47d7-8111-94705fb9949e",
   "metadata": {},
   "outputs": [
    {
     "name": "stdout",
     "output_type": "stream",
     "text": [
      "1989/07/24\n"
     ]
    }
   ],
   "source": [
    "num=\"890724\"\n",
    "num=\"19\"+num\n",
    "lst=[0,4,6,8]\n",
    "date=\"/\".join([num[lst[i]:lst[i+1]] for i in range(3)])\n",
    "print(date)"
   ]
  },
  {
   "cell_type": "code",
   "execution_count": 16,
   "id": "a8321bbc-8129-431e-b4e3-fe4325861047",
   "metadata": {},
   "outputs": [
    {
     "name": "stdout",
     "output_type": "stream",
     "text": [
      "01012345678\n"
     ]
    }
   ],
   "source": [
    "num=\"010-1234-5678\"\n",
    "num=num.replace('-','')\n",
    "print(num)"
   ]
  },
  {
   "cell_type": "code",
   "execution_count": 44,
   "id": "a5f89e2f-5411-43f9-b83e-70a5f42ebed7",
   "metadata": {},
   "outputs": [
    {
     "name": "stdin",
     "output_type": "stream",
     "text": [
      "영단어를 입력하세요: one\n"
     ]
    },
    {
     "name": "stdout",
     "output_type": "stream",
     "text": [
      "one은 한국어로 일(하나)입니다.\n"
     ]
    }
   ],
   "source": [
    "eg=[\"one\",\"two\",\"three\",\"four\",\"five\",\"six\",\"seven\",\"eight\",\"nine\",\"ten\"]\n",
    "ko=[\"일(하나)\",\"이(둘)\",\"삼(셋)\",\"사(넷)\",\"오(다섯)\",\"육(여섯)\",\"칠(일곱)\",\"팔(여덟)\",\"구(아홉)\",\"십(열)\"]\n",
    "wd=input(\"영단어를 입력하세요:\")\n",
    "if wd not in eg:print(\"사전에 없는 단어입니다\")\n",
    "else:\n",
    "    dictionary=dict(zip(eg,ko))\n",
    "    print(\"{}은 한국어로 {}입니다.\".format(wd,dictionary[wd]))"
   ]
  },
  {
   "cell_type": "code",
   "execution_count": 41,
   "id": "9821de69-d15c-4e78-8f9f-07164082fd6d",
   "metadata": {},
   "outputs": [
    {
     "name": "stdin",
     "output_type": "stream",
     "text": [
      "반지름을 입력하세요: 2\n"
     ]
    },
    {
     "name": "stdout",
     "output_type": "stream",
     "text": [
      "반지름이 2인 원의 넓이= 12.56\n"
     ]
    }
   ],
   "source": [
    "r=int(input(\"반지름을 입력하세요:\"))\n",
    "c=r**2*3.14\n",
    "print(\"반지름이 {}인 원의 넓이= {}\".format(r,c))"
   ]
  },
  {
   "cell_type": "code",
   "execution_count": 86,
   "id": "461ca63a-0410-47ea-9bb3-c3f3a3c5e580",
   "metadata": {},
   "outputs": [
    {
     "name": "stdin",
     "output_type": "stream",
     "text": [
      "금액과 상품 가격을 입력하세요. 1760 1000\n"
     ]
    },
    {
     "name": "stdout",
     "output_type": "stream",
     "text": [
      "잔돈: (500원 1개) (100원 2개) (50원 1개) (10원 1개) "
     ]
    }
   ],
   "source": [
    "mon,cost=map(int,input(\"금액과 상품 가격을 입력하세요.\").split())\n",
    "res=mon-cost\n",
    "if res<0:print(\"돈을 더 지불하세요.\")\n",
    "else:\n",
    "    lst=[500,100,50,10]\n",
    "    r_lst=[]\n",
    "    for i in lst:\n",
    "        if res>=i:\n",
    "            r_lst.append(res//i)\n",
    "            res%=i\n",
    "        else:r_lst.append(0)\n",
    "    print(\"잔돈: \",end=\"\")\n",
    "    for i,j in zip(lst,r_lst):\n",
    "        print(\"({}원 {}개)\".format(i,j),end=\" \")"
   ]
  },
  {
   "cell_type": "code",
   "execution_count": 62,
   "id": "6ae9e505-4d8f-4339-b748-df0d42bcf308",
   "metadata": {},
   "outputs": [
    {
     "name": "stdin",
     "output_type": "stream",
     "text": [
      "값을 입력하세요: 12315\n"
     ]
    },
    {
     "name": "stdout",
     "output_type": "stream",
     "text": [
      "홀수\n"
     ]
    }
   ],
   "source": [
    "num=int(input(\"값을 입력하세요:\"))\n",
    "if num%2==0:print(\"짝수\")\n",
    "else:print(\"홀수\")"
   ]
  },
  {
   "cell_type": "code",
   "execution_count": 65,
   "id": "45fd33a7-aca4-4bb8-bd3b-a55c20badcb1",
   "metadata": {},
   "outputs": [
    {
     "name": "stdout",
     "output_type": "stream",
     "text": [
      "*\n",
      "**\n",
      "***\n",
      "****\n",
      "*****\n"
     ]
    }
   ],
   "source": [
    "for i in range(1,6):\n",
    "    for j in range(i):\n",
    "        print(\"*\",end=\"\")\n",
    "    print()"
   ]
  },
  {
   "cell_type": "code",
   "execution_count": 66,
   "id": "7d73f0b0-ec8b-4e39-9886-3ea18d8d19bf",
   "metadata": {},
   "outputs": [
    {
     "name": "stdout",
     "output_type": "stream",
     "text": [
      "1000\n"
     ]
    }
   ],
   "source": [
    "lst=[1,24,3,44,1000,2,0,74]\n",
    "max=0\n",
    "for i in lst:\n",
    "    if i>max:max=i\n",
    "print(max)"
   ]
  },
  {
   "cell_type": "code",
   "execution_count": 67,
   "id": "1a0964b3-beb3-46a4-9656-48d543d366e2",
   "metadata": {},
   "outputs": [
    {
     "name": "stdout",
     "output_type": "stream",
     "text": [
      "48.2\n"
     ]
    }
   ],
   "source": [
    "def means(*args):\n",
    "    return sum(args)/len(args)\n",
    "print(means(1,5,6,7,222))"
   ]
  },
  {
   "cell_type": "code",
   "execution_count": 76,
   "id": "1b060dfa-2e66-438c-ad21-3c4a871a4211",
   "metadata": {},
   "outputs": [
    {
     "name": "stdout",
     "output_type": "stream",
     "text": [
      "[[ 0.02682486  1.21171911]\n",
      " [-0.15332312 -0.18577063]\n",
      " [-0.81950483 -0.26980314]\n",
      " [ 0.6761897  -1.13390274]\n",
      " [ 1.1119862   1.10288048]]\n",
      "전체 합: 1.5672959098301624\n",
      "전체 평균: 0.15672959098301625\n",
      "각 열의 합: [0.84217282 0.72512309]\n",
      "각 행의 합: [ 1.23854397 -0.33909374 -1.08930796 -0.45771304  2.21486668]\n",
      "각 열의 평균: [0.16843456 0.14502462]\n",
      "각 향의 평균: [ 0.61927198 -0.16954687 -0.54465398 -0.22885652  1.10743334]\n"
     ]
    }
   ],
   "source": [
    "import numpy as np\n",
    "arr=np.random.randn(5,2)\n",
    "print(arr)\n",
    "print(\"전체 합: {}\".format(arr.sum()))\n",
    "print(\"전체 평균: {}\".format(arr.mean()))\n",
    "print(\"각 열의 합: {}\".format(arr.sum(axis=0)))\n",
    "print(\"각 행의 합: {}\".format(arr.sum(axis=1)))\n",
    "print(\"각 열의 평균: {}\".format(arr.mean(axis=0)))\n",
    "print(\"각 향의 평균: {}\".format(arr.mean(axis=1)))"
   ]
  },
  {
   "cell_type": "code",
   "execution_count": 81,
   "id": "4a72a78b-2f3a-4959-870e-9c97b1d958bc",
   "metadata": {},
   "outputs": [
    {
     "name": "stdout",
     "output_type": "stream",
     "text": [
      "합격\n",
      "국어    70\n",
      "수학    80\n",
      "과학    90\n",
      "Name: 성적표, dtype: int64\n",
      "불합격\n",
      "영어    30\n",
      "Name: 성적표, dtype: int64\n"
     ]
    }
   ],
   "source": [
    "import pandas as pd\n",
    "grade={\"국어\":70,\"영어\":30,\"수학\":80,\"과학\":90}\n",
    "arr=pd.Series(grade,name=\"성적표\")\n",
    "print(\"합격\")\n",
    "print(arr[arr>=50])\n",
    "print(\"불합격\")\n",
    "print(arr[arr<50])"
   ]
  },
  {
   "cell_type": "code",
   "execution_count": 85,
   "id": "b257bc9d-6625-4df2-ae69-c32ba938abf7",
   "metadata": {},
   "outputs": [
    {
     "name": "stdout",
     "output_type": "stream",
     "text": [
      "전체불합격\n"
     ]
    }
   ],
   "source": [
    "mn=arr.mean()\n",
    "if mn<70:print(\"전체불합격\")\n",
    "else:print(\"전체합격\")"
   ]
  }
 ],
 "metadata": {
  "kernelspec": {
   "display_name": "Python 3 (ipykernel)",
   "language": "python",
   "name": "python3"
  },
  "language_info": {
   "codemirror_mode": {
    "name": "ipython",
    "version": 3
   },
   "file_extension": ".py",
   "mimetype": "text/x-python",
   "name": "python",
   "nbconvert_exporter": "python",
   "pygments_lexer": "ipython3",
   "version": "3.11.5"
  }
 },
 "nbformat": 4,
 "nbformat_minor": 5
}
