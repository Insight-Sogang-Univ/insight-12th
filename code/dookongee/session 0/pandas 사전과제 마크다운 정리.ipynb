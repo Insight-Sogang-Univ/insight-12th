{
 "cells": [
  {
   "cell_type": "markdown",
   "id": "323d6000-333b-43b3-8023-08c2a01f8504",
   "metadata": {},
   "source": [
    "Pandas의 정의\n",
    "Pandas는 데이터 조작 및 분석을 위한 파이썬 언어로 작성된 소프트웨어 라이브리러입니다. \n",
    "Pandas를 사용하게 되면쉼표로 구분된 값(CSV), JSON, SQL, Excel 등의 다양한 파일 형식의 데이터를 불러올 수 있습니다. \n",
    "또한 이러한 데이터를 pandas의 dataframe을 사용하여 행과 열로 이루어진 데이터 객체를 생성할 수 있고 데이터에 포함된 많은 항목들을 한 눈에 알아보기 쉽게 정리하는데 용이합니다. "
   ]
  },
  {
   "cell_type": "markdown",
   "id": "2cf1ca38-c033-4d32-90e3-27f4ba961570",
   "metadata": {},
   "source": [
    "pandas에서 사용되는 데이터 오브젝트로는 Series와 DataFrame이 있습니다. \n",
    "Series는 1차원 배열로, 행(index)의 하나의 기준에 대해서 데이터들이 저장됩니다. \n",
    "DataFrame은 2차원 배열로, 행(index)와 열(column)의 두 가지 기준에 의해 데이터들이 저장됩니다. \n",
    "주로 DataFrame을 사용하여 데이터들의 다양한 항목들을 하나의 표로 정리할 수 있고, 해당 표에서 특정 기준만 선택하여 뽑거나, 특정 조건에 해당하는 데이터들만을 찾을 수 있습니다. "
   ]
  },
  {
   "cell_type": "markdown",
   "id": "37513d3a-0568-4013-803b-95235ee61f6b",
   "metadata": {},
   "source": [
    "DataFrame의 구성\n",
    "DataFrame은 표를 다루는 Pandas의 타입으로, Excel의 표와 동일한 역할을 수행합니다. \n",
    "row와 column으로 구성돼 있고, 이때 row는 index로 표현됩니다. \n",
    "index는 각 데이터들의 순번에 대한 정보를 저장합니다. \n",
    "column은 각 열에 대한 정보이며, 각 열에 이름값을 부여하여 데이터를 편리하게 구분할 수 있습니다. "
   ]
  },
  {
   "cell_type": "markdown",
   "id": "5ea70fed-0772-4e14-8d97-b19e53fae4d7",
   "metadata": {},
   "source": [
    "pd.DataFrame()의 ( ) 안에서 Shift+Tab을 누르게 되면 pd.DataFrame()에 대해서 초기화할 때 도움이 되는 각 속성값들에 관한 설명이 표시됩니다. 속성값들은 다음과 같습니다. \n",
    "\n",
    "pd.DataFrame(data = None, index = None, columns = None, dtype = None, copy = False)\n",
    "\n",
    "data는 DataFrame을 생성할 데이터로, dictionary 형태로 직접 생성하거나 다른 파일에서 데이터를 불러와서 DataFrame을 생성할 수 있습니다. \n",
    "index는 index에 대한 정보로, 미입력시 0부터 순차적으로 index가 부여됩니다.\n",
    "columns는 column 열의 이름값들로, 미입력시 0부터 순차적으로 column의 이름 값들이 부여됩니다. columns의 값을 설정함으로써 데이터들을 각각의 구분에 따라 분류할 수 있습니다.\n",
    "dtype은 각 column의 데이터 타입에 대한 정보로, 미입력시 입력된 데이터들의 정보를 자체적으로 판단하여 dtype 값을 부여합니다. dtype에는 int64, object 등이 있습니다.\n",
    "copy는 복사할지 여부로, copy=False를 하면 입력 데이터를 복사하지 않고 참조한다는 것을 의미합니다. 이 경우, 원본 데이터를 복사하지 않고 그대로 참조하여 DataFrame을 생성하므로, 원본 데이터가 수정되면 DataFrame도 영향을 받습니다. 반면에 copy=True가 기본값이며, 이 경우 원본 데이터를 복사하여 새로운 DataFrame을 생성하기 때문에 원본 데이터가 변경 되어도 DataFrame의 데이터는 이것에 독립적입니다. "
   ]
  },
  {
   "cell_type": "code",
   "execution_count": 3,
   "id": "75f05a27-bb1e-4aad-b392-9a3596e2bdb0",
   "metadata": {},
   "outputs": [],
   "source": [
    "import pandas as pd\n",
    "\n",
    "lst = [['민지', 15, '커뮤', 'AI', '회장'], ['다니엘', 16, '경영', '심리', '교육팀장'],\n",
    "       ['하니', 17, '경영', '빅사', '교육팀원'], ['해린', 19, '경영', '빅사', '교육팀원'],\n",
    "       ['혜인', 16, '경제', '빅사', '교육팀원']]\n",
    "\n",
    "df = pd.DataFrame(lst, columns=['이름', '학번', '전공', '복수전공', '역할'])\n",
    "df = df.set_index('이름')"
   ]
  },
  {
   "cell_type": "markdown",
   "id": "5723f8a1-e346-4929-9c47-25c0a44c5976",
   "metadata": {},
   "source": [
    "DataFrame을 생성하기 위해 먼저 pandas를 import 합니다.\n",
    "이후에 제공할 데이터에 대해 리스트 형식으로 데이터를 구성한 뒤, 해당 리스트를 제공했습니다.\n",
    "이후에 columns 변수에 값을 지정함에 따라 각 속성값들의 이름이 \"이름\", \"학번\", \"전공\", \"복수전공\", \"역할\"로 지정됩니다. \n",
    "df.set_index(\"이름\")을 통해 index열의 값을 \"이름\"으로 지정할 수 있습니다. \n",
    "이렇게 DataFrame을 생성하게 되면 columns 값들을 \"이름\", \"학번\", \"전공\", \"복수전공\", \"역할\"의 지정 값들로 하며, 이 중에서 \"이름\"은 index 값이므로 \"이름\"에 관해서 \"민지\",\"다니엘\", \"하니\", \"해린\", \"혜인\" 등의 이름이 index 0~4 대신에 할당됩니다. "
   ]
  },
  {
   "cell_type": "code",
   "execution_count": 5,
   "id": "3acacbe3-7054-4e09-8d7d-0a99bfb0b681",
   "metadata": {},
   "outputs": [],
   "source": [
    "dic = {\n",
    "    '이름': ['민지', '다니엘', '하니', '해린', '혜인'],\n",
    "    '학번': [15, 16, 17, 19, 16],\n",
    "    '전공': ['커뮤', '경영', '경영', '경영', '경제'],\n",
    "    '복수전공': ['AI', '심리', '빅사', '빅사', '빅사'],\n",
    "    '역할': ['회장', '교육팀장', '교육팀원', '교육팀원', '교육팀원']\n",
    "}\n",
    "\n",
    "df2 = pd.DataFrame(dic)\n",
    "df2 = df2.set_index('이름')"
   ]
  },
  {
   "cell_type": "markdown",
   "id": "b7e0ac96-2a19-43b1-b4dd-ed61e8ea57f9",
   "metadata": {},
   "source": [
    "리스트가 아닌 dictionary 형태로 data를 구성할 경우, columns 값들은 dictionary의 key 값들로 지정되기 때문에 따로 설정할 필요가 없고, 마찬가지로 index 값만 \"이름\"으로 설정해주면 위의 리스트로 작성된 코드와 동일한 DataFrame이 생성됩니다."
   ]
  },
  {
   "cell_type": "markdown",
   "id": "31074f20-62f1-48a3-b456-99fcfa815c6b",
   "metadata": {},
   "source": [
    "DataFrame에 저장된 정보들의 양은 방대한 경우가 대부분이며, 데이터들의 구성을 확인하기 위해 DataFrame 전체를 출력하는 것은 불필요한 작업입니다. 따라서 특정 부분만 보는 것이 필요하고 이때 head()와 tail()을 사용합니다. \n",
    "df.head()는 DataFrame의 위에서부터 지정된 개수만큼의 데이터를 출력하고, 값을 지정하지 않을시 default로 5개의 데이터를 출력합니다.\n",
    "df.tail()은 DataFrame의 아래에서부터 지정된 개수만큼의 데이터를 출력하고, 마찬가지로 값을 지정하지 않으면 default로 5개의 하위 데이터를 출력합니다."
   ]
  },
  {
   "cell_type": "markdown",
   "id": "3217b925-00ad-4cbe-b6ab-9690eb2343a4",
   "metadata": {},
   "source": [
    "DataFrame에서 특정 값을 검색할 때, DataFrame의 모든 값을 볼 필요 없이, 원하는 부분만 뽑아서 보는 것이 가능합니다. 이때 사용하는 방식이 df.loc['행명','열명']과 df.iloc['행번호','열번호'] 입니다. \n",
    "\n",
    "df.loc['행명','열명']는 행과 열의 실제 이름을 입력하여 검색하는 방식입니다. \n",
    "하나의 index에 대해서만 조회할 경우, 행명인 '다니엘'에 대한 정보를 출력하기 위해서는 df.loc['다니엘'] 혹은 df.loc['다니엘',:]을 실행시킵니다. \n",
    "행이 아닌 열명으로 정보를 조회할때는 df.loc[:,'전공'] 혹은 df['전공']의 방식을 사용합니다. "
   ]
  },
  {
   "cell_type": "code",
   "execution_count": 10,
   "id": "9573f69e-86b2-46e1-accf-6135679bad7d",
   "metadata": {},
   "outputs": [
    {
     "data": {
      "text/html": [
       "<div>\n",
       "<style scoped>\n",
       "    .dataframe tbody tr th:only-of-type {\n",
       "        vertical-align: middle;\n",
       "    }\n",
       "\n",
       "    .dataframe tbody tr th {\n",
       "        vertical-align: top;\n",
       "    }\n",
       "\n",
       "    .dataframe thead th {\n",
       "        text-align: right;\n",
       "    }\n",
       "</style>\n",
       "<table border=\"1\" class=\"dataframe\">\n",
       "  <thead>\n",
       "    <tr style=\"text-align: right;\">\n",
       "      <th></th>\n",
       "      <th>학번</th>\n",
       "      <th>전공</th>\n",
       "      <th>복수전공</th>\n",
       "      <th>역할</th>\n",
       "    </tr>\n",
       "    <tr>\n",
       "      <th>이름</th>\n",
       "      <th></th>\n",
       "      <th></th>\n",
       "      <th></th>\n",
       "      <th></th>\n",
       "    </tr>\n",
       "  </thead>\n",
       "  <tbody>\n",
       "    <tr>\n",
       "      <th>다니엘</th>\n",
       "      <td>16</td>\n",
       "      <td>경영</td>\n",
       "      <td>심리</td>\n",
       "      <td>교육팀장</td>\n",
       "    </tr>\n",
       "  </tbody>\n",
       "</table>\n",
       "</div>"
      ],
      "text/plain": [
       "     학번  전공 복수전공    역할\n",
       "이름                    \n",
       "다니엘  16  경영   심리  교육팀장"
      ]
     },
     "execution_count": 10,
     "metadata": {},
     "output_type": "execute_result"
    }
   ],
   "source": [
    "df.loc[['다니엘']]"
   ]
  },
  {
   "cell_type": "code",
   "execution_count": 11,
   "id": "c89621dd-8fe5-4940-b95a-3de4ea6b0fb3",
   "metadata": {},
   "outputs": [
    {
     "data": {
      "text/plain": [
       "학번        16\n",
       "전공        경영\n",
       "복수전공      심리\n",
       "역할      교육팀장\n",
       "Name: 다니엘, dtype: object"
      ]
     },
     "execution_count": 11,
     "metadata": {},
     "output_type": "execute_result"
    }
   ],
   "source": [
    "df.loc['다니엘']"
   ]
  },
  {
   "cell_type": "markdown",
   "id": "6185a821-063e-4649-8f3e-edeaa9b6a53b",
   "metadata": {},
   "source": [
    "이때 다음과 같이 df.loc['다니엘']이라고만 표현하면 해당되는 값들을 출력해주고, 이것에 [ ]을 한번 더 씌운 뒤 실행시키면 해당 정보에 대해서 DataFrame 형식으로 출력됩니다. 열명으로 데이터를 조회할 때도 [ ]의 유뮤에 따라 출력되는 값에 차이가 있습니다. "
   ]
  },
  {
   "cell_type": "markdown",
   "id": "c1616cd9-d7eb-472b-be89-c4e3af2732a4",
   "metadata": {},
   "source": [
    "여러 개의 index를 조회할 때는 조회하려는 값들을 [ ]로 묶어서 제공합니다. \n",
    "행명으로 조회할 때는 df.loc[['해린','혜인'],:] 혹은 df.loc[['해린', '혜인']]를 통해 index 값들 중에 \"해린\"과 \"혜인\"에 해당되는 값들을 DataFrame 형식으로 출력합니다.\n",
    "\n",
    "열명으로 조회할 때는 df.loc[:, ['전공','복수전공']] 혹은 df[['전공', '복수전공']]를 통해 columns 값들 중에 '전공'과 '복수전공'에 해당하는 데이터들을 DataFrame 형식으로 출력합니다. "
   ]
  },
  {
   "cell_type": "markdown",
   "id": "9df5a12d-cfa0-4fa8-83a8-326a79cf5324",
   "metadata": {},
   "source": [
    "조회할 index 값들이 많을 경우, 슬라이싱 기법을 사용할 수 있습니다. \n",
    "\n",
    "행명에 대해 값을 조회할 때는 df.loc['하니' : '혜인', : ], df.loc['하니' : '혜인'], df['하니' : '혜인'] 중에 하나를 택하여 진행할 수 있습니다. 이 경우 \"하니\"부터 \"혜인\"에 이르기까지의 모든 데이터들을 DataFrame 형태로 출력합니다.\n",
    "\n",
    "열명에 대해서도 마찬가지로 df.loc[:, '학번' : '복수전공']를 통해 columns 값이 '학번'인 데이터부터 '복수전공'에 이르기까지의 모든 데이터를 DataFrame 형식으로 출력합니다. "
   ]
  },
  {
   "cell_type": "markdown",
   "id": "4c4e073a-e637-43c3-b117-1a87373997f4",
   "metadata": {},
   "source": [
    "df.iloc['행번호','열번호'] 방식은 df.loc방식에서 실제 이름값 대신에 해당 값의 위치를 제공하는 방식입니다. 가령 0번 row, 3번 column에 해당하는 값을 출력하기 위해서는 df.iloc[0,3]의 표현식을 사용할 수 있고, 위의 예시에서 '회장'이 출력됩니다. \n",
    "이때 3번 column이라는 것은 column값이자 index값인 \"이름\"을 제외한, \"학번\"부터 0번째, \"전공\"이 1번째, ... 로 구성됩니다. \n",
    "그 외의 값을 조회하는 방식과 슬라이싱 기법은 loc 방식과 동일합니다. "
   ]
  },
  {
   "cell_type": "markdown",
   "id": "c5ac45ad-e23a-40a7-8aae-8ecf2a2bca4c",
   "metadata": {},
   "source": [
    "이미 DataFrame으로 생성된 데이터들에 대해서 값을 수정하는 것도 가능합니다. \n",
    "방식은 df.loc['민지', '역할'] = '인싸'를 통해 '민지' 행의, '역할' 열에 존재하는 값을 '인싸'로 변경할 수 있습니다. 또한 df.loc['민지'] = [21, '아텍', '컴공', '인싸이더']를 통해 한 줄의 값 전체를 한 번에 수정하는 것도 가능합니다. \n",
    "column에 대해서 값을 수정할 때는 df.loc[ : , '역할'] = '5기'를 통해 모든 index값들에 대해서, '역할' column의 값을 모두 '5기'라는 값으로 대체하는 것을 의미합니다. \n",
    "또한 df.loc[['민지', '다니엘']] = \"-\", df[['복수전공', '역할']] = \"?\" 등으로 여러 개의 값을 동시에 수정할 수 있습니다. \n",
    "지금까지의 수정 방식은 loc으로 index와 column의 정확한 이름값을 사용하여 수정했지만, iloc 방식을 사용하여 수정하려는 곳의 위치 번호를 제공하여 값을 수정하는 것도 가능합니다. "
   ]
  },
  {
   "cell_type": "markdown",
   "id": "c3805b0a-4ab9-43bd-ad91-85bfa352358c",
   "metadata": {},
   "source": [
    "기존에 만들어진 DataFrame에는 없는 새로운 값을 추가하는 것도 가능합니다. \n",
    "df.loc['아이유'] = [19, '수학', '-', '부회장']에 대해서, 만약 기존 DataFrame에 '아이유'라는 index 값이 존재하지 않았다면 '아이유'를 index 값으로 하고, 해당 리스트를 각 column의 값으로 하는 새로운 index가 기존의 DataFrame 가장 하단에 추가됩니다. \n",
    "새로운 column을 추가할 때는 df['기수'] = '100기'를 통해 기존 column값에는 존재하지 않았던 값을 제공하고, 해당 column의 값을 pair로 제공하여 새로운 column값을 추가할 수 있습니다. "
   ]
  },
  {
   "cell_type": "markdown",
   "id": "f96f4fbf-2d19-4d2e-9937-022892ee98e2",
   "metadata": {},
   "source": [
    "마지막으로 DataFrame에서 특정 값을 삭제하는 방법도 존재합니다. \n",
    "먼저 삭제를 행에 대해서 할지, 열에 대해서 할지에 따라 axis=1, axis=0으로 구분됩니다. \n",
    "먼저 axis=0을 하면 각 열에 대해서 특정 행동을 한다는 의미로, df.drop('아이유', axis = 0, inplace = True)의 경우, index가 '아이유'인 행에 존재하는 값들을 \"모든 열에 대해서\" 삭제한다는 것을 의미합니다. \n",
    "axis=1은 각 행에 대해서 특정 행동을 한다는 의미로, df.drop(['복수전공', '기수'], axis = 1, inplace = True)를 하면 column값 중에서 '복수전공'과 '기수'에 대한 값들을 \"모든 행에 대해서\" 삭제한다는 것을 의미합니다. "
   ]
  },
  {
   "cell_type": "markdown",
   "id": "4c9a50d6-0898-479f-be51-4ad9bc196f07",
   "metadata": {},
   "source": [
    "이때 inplace=True의 경우 삭제한 연산이 DataFrame에도 반영되고, inplace=False의 경우에는 DataFrame에 연산이 반영되지 않습니다."
   ]
  },
  {
   "cell_type": "code",
   "execution_count": 16,
   "id": "eaee925a-5412-498e-927b-f079c218054f",
   "metadata": {},
   "outputs": [
    {
     "data": {
      "text/html": [
       "<div>\n",
       "<style scoped>\n",
       "    .dataframe tbody tr th:only-of-type {\n",
       "        vertical-align: middle;\n",
       "    }\n",
       "\n",
       "    .dataframe tbody tr th {\n",
       "        vertical-align: top;\n",
       "    }\n",
       "\n",
       "    .dataframe thead th {\n",
       "        text-align: right;\n",
       "    }\n",
       "</style>\n",
       "<table border=\"1\" class=\"dataframe\">\n",
       "  <thead>\n",
       "    <tr style=\"text-align: right;\">\n",
       "      <th></th>\n",
       "      <th>학번</th>\n",
       "      <th>전공</th>\n",
       "      <th>복수전공</th>\n",
       "      <th>역할</th>\n",
       "    </tr>\n",
       "    <tr>\n",
       "      <th>이름</th>\n",
       "      <th></th>\n",
       "      <th></th>\n",
       "      <th></th>\n",
       "      <th></th>\n",
       "    </tr>\n",
       "  </thead>\n",
       "  <tbody>\n",
       "    <tr>\n",
       "      <th>민지</th>\n",
       "      <td>15</td>\n",
       "      <td>커뮤</td>\n",
       "      <td>AI</td>\n",
       "      <td>회장</td>\n",
       "    </tr>\n",
       "    <tr>\n",
       "      <th>다니엘</th>\n",
       "      <td>16</td>\n",
       "      <td>경영</td>\n",
       "      <td>심리</td>\n",
       "      <td>교육팀장</td>\n",
       "    </tr>\n",
       "    <tr>\n",
       "      <th>하니</th>\n",
       "      <td>17</td>\n",
       "      <td>경영</td>\n",
       "      <td>빅사</td>\n",
       "      <td>교육팀원</td>\n",
       "    </tr>\n",
       "    <tr>\n",
       "      <th>해린</th>\n",
       "      <td>19</td>\n",
       "      <td>경영</td>\n",
       "      <td>빅사</td>\n",
       "      <td>교육팀원</td>\n",
       "    </tr>\n",
       "    <tr>\n",
       "      <th>혜인</th>\n",
       "      <td>16</td>\n",
       "      <td>경제</td>\n",
       "      <td>빅사</td>\n",
       "      <td>교육팀원</td>\n",
       "    </tr>\n",
       "  </tbody>\n",
       "</table>\n",
       "</div>"
      ],
      "text/plain": [
       "     학번  전공 복수전공    역할\n",
       "이름                    \n",
       "민지   15  커뮤   AI    회장\n",
       "다니엘  16  경영   심리  교육팀장\n",
       "하니   17  경영   빅사  교육팀원\n",
       "해린   19  경영   빅사  교육팀원\n",
       "혜인   16  경제   빅사  교육팀원"
      ]
     },
     "execution_count": 16,
     "metadata": {},
     "output_type": "execute_result"
    }
   ],
   "source": [
    "df_new2 = df.copy()\n",
    "df_new2.drop('하니', axis = 0, inplace = False)\n",
    "df_new2"
   ]
  },
  {
   "cell_type": "markdown",
   "id": "e1e58378-74e4-4f1f-b16e-ff9e36af8146",
   "metadata": {},
   "source": [
    "inplace=False이므로 df_new2는 '하니' 행을 삭제했지만, 이후에 df_new2를 출력해보면 여전히 '하니' index에 대한 데이터들이 삭제되지 않고 존재하는 것을 확인할 수 있습니다. "
   ]
  },
  {
   "cell_type": "code",
   "execution_count": 17,
   "id": "2689c15c-3ef8-4727-b9bc-6a990f899ef0",
   "metadata": {},
   "outputs": [
    {
     "data": {
      "text/html": [
       "<div>\n",
       "<style scoped>\n",
       "    .dataframe tbody tr th:only-of-type {\n",
       "        vertical-align: middle;\n",
       "    }\n",
       "\n",
       "    .dataframe tbody tr th {\n",
       "        vertical-align: top;\n",
       "    }\n",
       "\n",
       "    .dataframe thead th {\n",
       "        text-align: right;\n",
       "    }\n",
       "</style>\n",
       "<table border=\"1\" class=\"dataframe\">\n",
       "  <thead>\n",
       "    <tr style=\"text-align: right;\">\n",
       "      <th></th>\n",
       "      <th>학번</th>\n",
       "      <th>전공</th>\n",
       "      <th>복수전공</th>\n",
       "      <th>역할</th>\n",
       "    </tr>\n",
       "    <tr>\n",
       "      <th>이름</th>\n",
       "      <th></th>\n",
       "      <th></th>\n",
       "      <th></th>\n",
       "      <th></th>\n",
       "    </tr>\n",
       "  </thead>\n",
       "  <tbody>\n",
       "    <tr>\n",
       "      <th>민지</th>\n",
       "      <td>15</td>\n",
       "      <td>커뮤</td>\n",
       "      <td>AI</td>\n",
       "      <td>회장</td>\n",
       "    </tr>\n",
       "    <tr>\n",
       "      <th>다니엘</th>\n",
       "      <td>16</td>\n",
       "      <td>경영</td>\n",
       "      <td>심리</td>\n",
       "      <td>교육팀장</td>\n",
       "    </tr>\n",
       "    <tr>\n",
       "      <th>해린</th>\n",
       "      <td>19</td>\n",
       "      <td>경영</td>\n",
       "      <td>빅사</td>\n",
       "      <td>교육팀원</td>\n",
       "    </tr>\n",
       "    <tr>\n",
       "      <th>혜인</th>\n",
       "      <td>16</td>\n",
       "      <td>경제</td>\n",
       "      <td>빅사</td>\n",
       "      <td>교육팀원</td>\n",
       "    </tr>\n",
       "  </tbody>\n",
       "</table>\n",
       "</div>"
      ],
      "text/plain": [
       "     학번  전공 복수전공    역할\n",
       "이름                    \n",
       "민지   15  커뮤   AI    회장\n",
       "다니엘  16  경영   심리  교육팀장\n",
       "해린   19  경영   빅사  교육팀원\n",
       "혜인   16  경제   빅사  교육팀원"
      ]
     },
     "execution_count": 17,
     "metadata": {},
     "output_type": "execute_result"
    }
   ],
   "source": [
    "df_new2.drop('하니', axis = 0, inplace = True)\n",
    "df_new2"
   ]
  },
  {
   "cell_type": "markdown",
   "id": "97d2d28f-9a39-415e-8438-9fa7b166f7a8",
   "metadata": {},
   "source": [
    "그러나 inplace=True를 하게 되면 df_new2에서 삭제한 연산이 df_new2 DataFrame에 적용되어 기존 DataFrame의 데이터가 변경됩니다. "
   ]
  }
 ],
 "metadata": {
  "kernelspec": {
   "display_name": "Python 3 (ipykernel)",
   "language": "python",
   "name": "python3"
  },
  "language_info": {
   "codemirror_mode": {
    "name": "ipython",
    "version": 3
   },
   "file_extension": ".py",
   "mimetype": "text/x-python",
   "name": "python",
   "nbconvert_exporter": "python",
   "pygments_lexer": "ipython3",
   "version": "3.11.5"
  }
 },
 "nbformat": 4,
 "nbformat_minor": 5
}
