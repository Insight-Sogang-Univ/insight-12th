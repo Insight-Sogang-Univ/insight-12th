{
 "cells": [
  {
   "cell_type": "markdown",
   "id": "7674e9f3-0539-41aa-8f7e-142a308a3803",
   "metadata": {},
   "source": [
    "**pd.read_csv** 를 통해 파일을 dataframe에 담을 때 **df.index+=1**을 하면 dataframe의 index를 1부터 시작하도록 할 수 있다. index는 default로 0부터 시작한다."
   ]
  },
  {
   "cell_type": "markdown",
   "id": "acea9c53-deeb-4e53-994d-d3b4981a3ea4",
   "metadata": {},
   "source": [
    "**mask = np.zeros_like(df_corr, dtype=bool)** <br>\n",
    "**mask[np.triu_indices_from(mask)] = True**<br>\n",
    "히트맵을 그릴 때, 변수의 개수가 많을 때 전체 히트맵을 그리면 너무 많은 정보가 표시돼서 파악이 어렵다. 히트맵은 symmetric이므로 우상단의 히트맵은 표시하지 않는 방법을 통해 더 깔끔한 시각화를 할 수 있다.<br>\n",
    "**mask = np.zeros_like(df_corr, dtype=bool)** 를 통해 전체 heatmap 크기와 동일한 크기를 갖지만 값들이 모두 False로 채워진 행렬을 생성한다. <br>\n",
    "**mask[np.triu_indices_from(mask)] = True** 그 뒤에 이 과정을 통해 우상단의 값들은 True로 설정한다. mask 인자는 True로 설정된 부분을 숨기도록 만들기 때문에 히트맵의 상삼각형 부분을 가리고 시각화할 수 있다."
   ]
  },
  {
   "cell_type": "markdown",
   "id": "25195702-79dd-4bad-a863-c3e2c2f51d7c",
   "metadata": {},
   "source": [
    "sns.joinplot()은 두 변수의 산점도를 시각화하고, 이것 외에도 각 변수의 분포를 히스토그램이나 kde를 통해 시각화한다. <br> \n",
    "jointplot의 인자로 kind가 있으며, 이것을 통해 시각화의 종류를 결정한다. <br>\n",
    "kind 값\n",
    "- 'scatter': 산점도(default)\n",
    "- 'reg': 선형 회귀선이 포함된 산점도\n",
    "- 'hex': 이차원 육각형 빈 히스토그램\n",
    "- 'kde': 커널 밀도 추정"
   ]
  },
  {
   "cell_type": "markdown",
   "id": "cc259f4c-a257-4dac-b230-e97e1bc695ec",
   "metadata": {},
   "source": [
    "VIF 지수를 확인했을 때 inf값이 나오게 되면 해당 변수가 다른 변수들로 완전히 설명될 수 있다는 것을 의미한다. <br>\n",
    "해결 방법으로는 \n",
    "1. 중복되거나 선형 종속적인 변수를 제거\n",
    "2. PCA를 통해 상관관계가 있는 변수를 더 적은 수의 비상관 변수로 변환\n",
    "3. 정규화 또는 변수 변환\n",
    "4. 변수 결합\n",
    "\n",
    "등이 있다."
   ]
  },
  {
   "cell_type": "markdown",
   "id": "82968630-ff12-4da4-b938-7f98b650b94d",
   "metadata": {},
   "source": [
    "변수들의 개수가 많은 경우, 변수들 간의 상관관계가 높을 수 있고, 이 경우에는 회귀의 성능이 좋지 않을 수 있다. 그러므로 VIF 지수를 확인해서 다중공선성 여부를 파악하고 다중공선성이 있다면 특정 변수들만을 선택해서 회귀 분석을 하거나 PCA를 통해 비상관된 주성분을 사용하여 모델을 학습시켜야 한다.<BR>\n",
    "데이터에 대해 모델을 학습시키기 전에 어떤 변수들을 사용해서 모델을 학습할지에 대한 단계가 매우 중요하고, 이 과정을 통해 모델의 성능이 크게 달라질 수 있다. 데이터 분석의 중요성을 깨닫게 되었다."
   ]
  }
 ],
 "metadata": {
  "kernelspec": {
   "display_name": "Python 3 (ipykernel)",
   "language": "python",
   "name": "python3"
  },
  "language_info": {
   "codemirror_mode": {
    "name": "ipython",
    "version": 3
   },
   "file_extension": ".py",
   "mimetype": "text/x-python",
   "name": "python",
   "nbconvert_exporter": "python",
   "pygments_lexer": "ipython3",
   "version": "3.11.5"
  }
 },
 "nbformat": 4,
 "nbformat_minor": 5
}
