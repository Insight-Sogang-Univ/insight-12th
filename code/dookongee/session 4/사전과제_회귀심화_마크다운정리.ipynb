{
 "cells": [
  {
   "cell_type": "markdown",
   "id": "d631da71-78dd-4647-b918-0a08c012279a",
   "metadata": {},
   "source": [
    "## 선형회귀"
   ]
  },
  {
   "cell_type": "markdown",
   "id": "ab5d006c-245e-4750-9865-e27f6f7da92f",
   "metadata": {},
   "source": [
    "#### 수식적 이해"
   ]
  },
  {
   "cell_type": "markdown",
   "id": "84192919-4e6a-400f-9dba-92c2a908021d",
   "metadata": {},
   "source": [
    "다중선형회귀는 종속변수 y에 대해 영향을 줄 것 같은 설명변수들을 선택하고 각각에 대해 독립변수 x와 가중치 w를 곱한 것을 모두 더한 형태로 표현한다."
   ]
  },
  {
   "attachments": {
    "31a7ef08-3a4b-4d98-a3c3-affafe71cb54.png": {
     "image/png": "[encoded data removed]"
    }
   },
   "cell_type": "markdown",
   "id": "bf63d350-ca62-401f-ad00-de68176ab39a",
   "metadata": {},
   "source": [
    "![image.png](attachment:31a7ef08-3a4b-4d98-a3c3-affafe71cb54.png)"
   ]
  },
  {
   "cell_type": "markdown",
   "id": "9e3ba151-db2a-4ad7-9a2c-18443a6cec3c",
   "metadata": {},
   "source": [
    "w는 가중치로, 각 x가 y에 얼마나 더 큰 영향이 있는지의 정도를 나타낸다. "
   ]
  },
  {
   "cell_type": "markdown",
   "id": "d4d92497-2c3a-4dfb-b64b-93a5b675f5c1",
   "metadata": {},
   "source": [
    "#### 다중선형회귀의 기본 가정"
   ]
  },
  {
   "cell_type": "markdown",
   "id": "43332513-bbdb-4a4d-a586-db1e8edc5ff8",
   "metadata": {},
   "source": [
    "가정 1: 선형성(linearity)<br>\n",
    "- 종속변수와 설명변수 같의 관계가 선형적이어야 한다. "
   ]
  },
  {
   "cell_type": "markdown",
   "id": "a8061af0-b257-4c1f-8c81-465f2946aad2",
   "metadata": {},
   "source": [
    "가정 2: 오차항의 평균은 0이다\n",
    "- 오차항의 평균이 0이라는 것은 회귀모델이 특정 방향으로 편향되지 않았다는 것을 의미한다.\n",
    "- 오차항의 평균이 양수라면 모델이 실제값에 비해 낮은 값을 예측하는 것이다.\n",
    "- 오차항의 평균이 음수라면 모델이 실제값에 비해 높은 값을 예측하는 것이다."
   ]
  },
  {
   "cell_type": "markdown",
   "id": "129f02fa-e8c6-43fb-888c-538f9505f8a5",
   "metadata": {},
   "source": [
    "가정 3: 독립성(independence)\n",
    "- 각각의 설명변수가 서로 선형 독립적이어야 한다.\n",
    "- 선형독립적이지 않으면 다중공선성이 발생하고, 설명변수들끼리 서로 연관이 있기 때문에 제대로 된 모델 학습에 문제가 된다."
   ]
  },
  {
   "cell_type": "markdown",
   "id": "d27a5539-0451-41a0-97a2-8bb9741565e6",
   "metadata": {},
   "source": [
    "가정 4: 등분산성(homoscedasticity)\n",
    "- 오차항의 분산이 일정해야 한다. 즉, 오차항의 분산이 독립변수의 값에 상관없이 일정해야 한다.\n",
    "- 등분산성이 성립되지 않으면 이분산성이 있다고 하고 이 경우 회귀분석의 결과가 왜곡될 수 있다.\n",
    "- 횡단면 자료에서 이분산성이 많이 나타난다.\n",
    "  - 횡단면 자료: 한 시점에서 여러 개체에 대한 정보를 수집한 데이터. ex)특정 연도에 대해 여러 개인의 소비 수준과 소득 수준을 조사한 자료.\n",
    "  - 횡단면 자료에서 각 개체가 갖는 고유한 특성들이 다르거나 독립변수와 종속변수 간의 관계가 데이터 전체 범위에서 일정하지 않은 경우 이분산성이 나타난다.\n",
    "- 등분산성은 잔차의 도표화 또는 Brown-Forsythe,Breusch-Pagan의 검정을 통해 확인할 수 있다."
   ]
  },
  {
   "cell_type": "markdown",
   "id": "d6d2c0ed-6d4c-49b9-9c48-af5fb17348cf",
   "metadata": {},
   "source": [
    "가정 5: 오차항은 자기상관되어 있지 않다(non-autocorrelation)\n",
    "- 오차항의 공분산은 항상 0이어야 한다. 공분산이 0이 아닐 경우 자기상관이 있다고 한다.\n",
    "- 자기상관: 오차항들이 시간이나 순서에 따라 상관되어 있다는 것을 의미한다. 시계열 데이터에서 많이 나타난다.\n",
    "- 자기상관이 있다: 오차항들이 독립적이지 않고 서로 상관되어 있다.\n",
    "- 자기상관은 더빗-왓슨 검정이나 ACF, PACF 함수를 통해 확인할 수 있다."
   ]
  },
  {
   "cell_type": "markdown",
   "id": "3589cb99-ecf2-4adb-88ec-a8d452a1ad51",
   "metadata": {},
   "source": [
    "가정 6: 정규성(normality)\n",
    "- 오차항이 정규분포를 따른다.\n",
    "- 가정 6은 위배되어도 다중선형 회귀분석의 결과에 큰 영향을 주지 않는다.\n",
    "- 정규성은 샤피로-윌크 검정, 자퀴-베라 검정, Q-Q plot을 통해 확인할 수 있다."
   ]
  },
  {
   "cell_type": "markdown",
   "id": "872c9c1d-6da1-4628-af8f-e4afbfe4b3c9",
   "metadata": {},
   "source": [
    "#### 회귀분석 평가방법"
   ]
  },
  {
   "cell_type": "markdown",
   "id": "bad9b721-3e6f-4eeb-96a2-c2491905a82c",
   "metadata": {},
   "source": [
    "시각화\n",
    "- 회귀선이 데이터들의 산점도와 비슷한 추세로 증가한다면 회귀선이 데이터 전반을 잘 요약한다고 할 수 있다.\n",
    "- 그러나 두 집단에 대해서 어느 회귀선이 해당 데이터를 더 잘 요약하는지 객관적으로 비교하기에는 어렵다.\n",
    "- 두 집단에 대해 객관적으로 비교하기 위해서는 통계지표를 활용한다."
   ]
  },
  {
   "cell_type": "markdown",
   "id": "8c625a85-e1c2-4e16-9a07-63ad720fba40",
   "metadata": {},
   "source": [
    "통계지표\n",
    "- R^2\n",
    "  - 결정계수의 약어로, 회귀분석에서 모델이 설명하는 데이터의 총 변동 중에서 설명된 비율을 나타낸다.\n",
    "  - 0과 1사이의 값으로, 1에 가까워질수록 모델이 데이터를 잘 설명한다는 것을 의미한다.\n",
    "  - R^2 값이 0.71인 경우 해당 모델이 데이터에 대해서 71%의 설명력이 있다고 해석한다.\n",
    "- 조정된 R^2\n",
    "  - R^2값은 독립변수의 개수가 증가할수록 값이 커지는 경향이 있으므로 데이터와 큰 관련성이 없는 변수를 추가해도 R^2 값은 높아진다.\n",
    "  - 조정된 R^2은 기존의 R^2을 변수의 개수 증가에 대해 덜 민감하도록 조정한 것이다.\n",
    "  - n이 샘플 크기이고 k가 설명 변수의 개수일때, 기존의 R^2 식에 (n-1/n-k)를 곱하여 조정된 R^2를 표현한다.\n",
    "- AIC, BIC(SC)\n",
    "  - AIC와 BIC는 정보기준이라고도 불리며, 값이 낮을수록 좋다고 평가한다.\n",
    "  - AIC(Akaike information criterion): BIC에 비해 복잡성에 대한 패널티가 비교적 작다.\n",
    "  - BIC(Bayesian information criterion)(SC, Schwarz Criterion): AIC보다 엄격한 기준으로, 데이터의 양에 따라 더 강한 패널티를 부과한다.\n",
    "  - AIC는 모델의 설명력과 복잡성을 균형있게 고려하며, 비교적 덜 엄격한 패널티를 부과해서 설명력이 더 높은 모델을 선택한다. 반면에 BIC는 설명력보다는 단순성을 더 중시한다. "
   ]
  },
  {
   "cell_type": "markdown",
   "id": "95558f05-bd2b-4f51-ac18-ee8ef5c20a00",
   "metadata": {},
   "source": [
    "## 비선형회귀"
   ]
  },
  {
   "cell_type": "markdown",
   "id": "c69f423e-29a4-42f0-9a19-da943387debb",
   "metadata": {},
   "source": [
    "데이터셋의 분포가 선형적이지 않을 경우, y=ax+b의 선형 회귀선으로는 데이터의 분포를 설명할 수 없는 경우, 비선형회귀를 사용한다. "
   ]
  },
  {
   "cell_type": "markdown",
   "id": "0d3cc8e1-bda6-4ad2-a342-102c54e72d33",
   "metadata": {},
   "source": [
    "#### 다항식 회귀모델"
   ]
  },
  {
   "cell_type": "markdown",
   "id": "8eb7c425-7a03-40b8-88f0-b8c7cd96a5ff",
   "metadata": {},
   "source": [
    "선형 모델의 feature를 다항식으로 만들어 선형 회귀를 사용한다. <br>\n",
    "기존의 선형회귀 코드에서 변수들을 다항식으로 만들고 scikit-learn의 LinearRegression 클래스를 똑같이 이용한다. <br>\n",
    "선형 모델에 비해 회귀선을 잘 fit하도록 그릴 수 있다는 장점이 있지만, 너무 많은 feature를 이용하면 결과가 overfitting 될 수 있다. 따라서 overfitting을 방지하기 위해 릿지, 라쏘 규제를 이용할 수 있다."
   ]
  },
  {
   "cell_type": "markdown",
   "id": "4792f5c4-8896-4b16-90e1-9efa5d3b581a",
   "metadata": {},
   "source": [
    "#### 지수/로그 회귀모델"
   ]
  },
  {
   "cell_type": "markdown",
   "id": "ade43ba7-370e-4d51-a65b-e4459a685634",
   "metadata": {},
   "source": [
    "데이터의 증감 형태가 지수/로그 형태인 경우 지수/로그 회귀모델을 사용한다.<br>\n",
    "다항식 회귀모델의 경우처럼 기존 선형회귀식에 지수/로그를 사용해 변형시키고 선형회귀를 사용한다."
   ]
  }
 ],
 "metadata": {
  "kernelspec": {
   "display_name": "Python 3 (ipykernel)",
   "language": "python",
   "name": "python3"
  },
  "language_info": {
   "codemirror_mode": {
    "name": "ipython",
    "version": 3
   },
   "file_extension": ".py",
   "mimetype": "text/x-python",
   "name": "python",
   "nbconvert_exporter": "python",
   "pygments_lexer": "ipython3",
   "version": "3.11.5"
  }
 },
 "nbformat": 4,
 "nbformat_minor": 5
}
