{
 "cells": [
  {
   "cell_type": "markdown",
   "id": "ba9cbed4-94b2-4571-b91f-5cae0addbd33",
   "metadata": {},
   "source": [
    "여기에 사전과제를 진행해주시면 됩니다!"
   ]
  },
  {
   "cell_type": "markdown",
   "id": "7dd00a99-9bee-4aca-ad56-5e4aff8d6819",
   "metadata": {},
   "source": [
    "# 판다스\n",
    "- **데이터 분석**에 특화 <-- 데이터 분석 시 **데이터프레임**이 기본\n",
    "- **파이썬 라이브러리**\n",
    "- **행/열**\n",
    "- _import pandas as pd_\n",
    "\n",
    "\n",
    "# 데이터 프레임의 구성\n",
    "## 기본구조(행&열)\n",
    "- **행(index)**: 몇번째 자료?\n",
    "- **열(Column)**: 어떤 카테고리?\n",
    "- (x,y)st 데이터 위치\n",
    "\n",
    "## 구성방법\n",
    "- **데이터&인덱스&컬럼 설정**\n",
    "_dict -> columns&index -> pd.DataFrame_\n",
    "\n",
    "## 데이터 추출: 인덱싱, 슬라이싱\n",
    "- 인덱스&컬럼 사용해 데이터 추출\n",
    "- **인덱싱**: 단순 **지목**\n",
    "- **슬라이싱**: **범위** 지정\n",
    "- _df.loc&df.iloc_\n",
    "\n",
    "# 데이터 프레임 조작\n",
    "## 확인\n",
    "- **간략히**: df.head/tail/shape\n",
    "- **정보**: df.dtypes/info/describe\n",
    "- **개수**: df.count\n",
    "\n",
    "## 추가, 삭제\n",
    "- **행&열**: axis=0&1\n",
    "- **추가**: df[new 열] = ~\n",
    "- **삭제**: del df[열]&df.drop(라벨,축)\n",
    "\n",
    "## 정렬\n",
    "- df.sort_index/values[열]:인덱스/특정 열 값 기준\n",
    "\n",
    "## 변환\n",
    "- 자료형: 확인 df.dtypes -> 변경 df[열]=df[열].astype(new 자료형)\n",
    "- 자체: df.replace(old,new)\n",
    "\n",
    "## 연산 메소드\n",
    "df['컬럼 이름'].mean, median, std, sum, max, min()\n",
    "\n",
    "## 그룹화\n",
    "- df.groupby -> 그룹으로 묶어 연산 처리 가능\n",
    "\n",
    "## 데이터프레임 합치기\n",
    "- concat: 이어붙이기\n",
    "- merge: 공통 항목 기준으로 병합"
   ]
  }
 ],
 "metadata": {
  "kernelspec": {
   "display_name": "Python 3 (ipykernel)",
   "language": "python",
   "name": "python3"
  },
  "language_info": {
   "codemirror_mode": {
    "name": "ipython",
    "version": 3
   },
   "file_extension": ".py",
   "mimetype": "text/x-python",
   "name": "python",
   "nbconvert_exporter": "python",
   "pygments_lexer": "ipython3",
   "version": "3.12.6"
  }
 },
 "nbformat": 4,
 "nbformat_minor": 5
}
