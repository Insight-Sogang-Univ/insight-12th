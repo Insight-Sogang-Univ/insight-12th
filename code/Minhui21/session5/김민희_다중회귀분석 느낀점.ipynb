{
 "cells": [
  {
   "cell_type": "markdown",
   "id": "12bd1449-367c-4610-89b2-b79b950f70b1",
   "metadata": {},
   "source": [
    "# 기억할 내용!! 까먹지 말기!!\n",
    "\n",
    "### describe -> 중간값, 결측치, 왜도, 첨도까지도 표현할 수 있음\n",
    "   \n",
    "`median_results = []\n",
    "skew_results = []\n",
    "kurtosis_results = []\n",
    "null_results = []\n",
    "\n",
    "for idx, val in enumerate(df_stats.index):\n",
    "    median_results.append(df[val].median())\n",
    "    skew_results.append(df[val].skew())\n",
    "    kurtosis_results.append(df[val].kurtosis())\n",
    "    null_results.append(df[val].isnull().sum())`\n",
    "\n",
    "\n",
    "### 왜도 치우침(비대칭데이터) -> 자연로그로 분포 조정 가능\n",
    "-> 데이터 분포 살피기 쉬워짐!, 회귀분석 가능!\n",
    "\n",
    "\n",
    "### summary에서 지표가 의미하는 바\n",
    "\n",
    "- Dep. Variable : 종속 변수, 타겟값.\n",
    "- Model : 학습 모델 / OLS(Ordinary Least Squares), 잔차 제곱합(손실)을 최소로 하는 파라미터를 선택하는 방법\n",
    "- Method : Least Squares / 잔차 제곱합(손실)을 최소로 하는 파라미터를 선택하는 방법\n",
    "- No. Observation : 데이터셋 크기\n",
    "- Df Residuals : 데이터셋 크기 - 추정된 파라미터 수를 뺀 것\n",
    "- Df Model : 독립 변수의 숫자\n",
    "- Covariance Type : 공분산 종류(default: nonrobust)\n",
    "- R-squared : 결정계수, 모델의 설명력(0~1 사이 값), 1에 가까울수록 모델의 설명력이 높음\n",
    "- Adj. R-squared : 조정된 결정계수, 조정된 모델의 설명력\n",
    "- Std. error : 계수의 표준 오차\n",
    "- F-statistic : F value\n",
    "- Prob (F-statistic): p-value\n",
    "- Log-Likelihood : 최대 로그 우도\n",
    "- 아카이케 정보 기준(Akaike's Information Criterion; AIC) : 모델의 성능지표로 작을수록 좋은 모델\n",
    "- Coef : 계수값\n",
    "- P>|t| : p-value\n",
    "\n",
    "\n",
    "### 선형회귀모형의 가정 중 독립성은 잔차 그래프와 ACF 그래프 모두 고려하기!!!"
   ]
  },
  {
   "cell_type": "code",
   "execution_count": null,
   "id": "21364079-40cc-4eec-8e75-93f479c71ef0",
   "metadata": {},
   "outputs": [],
   "source": []
  }
 ],
 "metadata": {
  "kernelspec": {
   "display_name": "Python 3 (ipykernel)",
   "language": "python",
   "name": "python3"
  },
  "language_info": {
   "codemirror_mode": {
    "name": "ipython",
    "version": 3
   },
   "file_extension": ".py",
   "mimetype": "text/x-python",
   "name": "python",
   "nbconvert_exporter": "python",
   "pygments_lexer": "ipython3",
   "version": "3.12.6"
  }
 },
 "nbformat": 4,
 "nbformat_minor": 5
}
