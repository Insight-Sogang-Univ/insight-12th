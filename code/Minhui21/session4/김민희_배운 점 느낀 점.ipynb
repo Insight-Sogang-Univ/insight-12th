{
 "cells": [
  {
   "cell_type": "markdown",
   "id": "1402801d-d334-4a9d-b257-436eb6e94207",
   "metadata": {},
   "source": [
    "전반적인 회귀 모델링 과정 익히기!!\n",
    "\n",
    "-> 단순히 코드 작성만 기억하지 말고 큰 틀에서 모델 구축하는 과정을 익히기!!"
   ]
  },
  {
   "cell_type": "markdown",
   "id": "38d16540-a9d2-4038-8452-f3f9a4f328ea",
   "metadata": {
    "jp-MarkdownHeadingCollapsed": true
   },
   "source": [
    "# 회귀 모델링 과정\n",
    "\n",
    "## 1. 데이터 불러오기\n",
    "import / info / describe\n",
    "\n",
    "## 2. 데이터 퀄리티 체크\n",
    "1) 결측값 확인: 열,행 모두 -> isnull().sum()\n",
    "2) 결측값 찾기\n",
    "3) 중복 확인\n",
    "4) 중복값 찾기\n",
    "5) 데이터 전처리: junk/unknown 없애기\n",
    "`for col in bike_dummy:\n",
    "print(bike_dummy[col].value_counts(ascending=False), '\\n\\n\\n') -> col = column`\n",
    "\n",
    "## 3. 중복되는 열, 필요하지 않는 열 제거하기\n",
    "열 제거, 새로운 변수로 합치기 -> new 데이터 프레임 만들기\n",
    "\n",
    "## 4. 더미 변수 만들기\n",
    "1) 범주형 데이터로 만들기: `astype(category)`\n",
    "2) 겟 더미(**drop_first=True: 다중공산성 피하기 n-1!!!!**): `pd.get_dummies(data, drop_first=True)`\n",
    "3) 데이터 분할: test, train 용 구분(난수 고정 둘다 꼭!!!)\n",
    "*`np.random.seed(0)` -> 난수 자체를 랜덤 고정\n",
    "`df_train, df_test = train_test_split(bike_new, train_size = 0.70, test_size = 0.30, random_state = 333)` -> 훈련용과 테스트용을 랜덤화*\n",
    "\n",
    "## 5. EDA-훈련용 데이터\n",
    "1) 수치형 변수 시각화-> 수치형 변수만 뽑아서 pairplot\n",
    "2)  범주형 변수 시각화 -> boxplot\n",
    "3) 상관관계 확인 -> 히트맵\n",
    "\n",
    "## 6. 수치형 데이터 리스케일링\n",
    "- MinMaxScaler -> `fit_transform`\n",
    "\n",
    "## 7. 선형 모델 구축\n",
    "1) 독립변수(X), 종속변수(y) 구분:  `y_train = df_train.pop('종속변수')` -> df_train에서 \"종속변수\"열 제거 하고 y_train에 이 열만 저장\n",
    "2) RFE -> 사이킷런: 중요한 피처만 살리는 방법\n",
    "`rfe = RFE(estimator=회귀식, n_features_to_select=피처로 쓸 개수)` \n",
    "`list(zip(X_train.columns,rfe.support_,rfe.ranking_))` -> 모든 피처, 선택여부,중요도 높은 순\n",
    "`X_train_rfe = X_train[col]`\n",
    "\n",
    "### stats model\n",
    "1) VIF 체크 -> 수치형만 가능! 아니면 수치형으로 다 바꿔줘야해\n",
    "2) 회귀 모델 학습 전에 꼭 상수항 따로 넣어줘야해! `X_train_lm1 = sm.add_constant(X_train_rfe)`\n",
    "3) 회귀 모델 학습 -> `lr1 = sm.OLS(y_train, X_train_lm1).fit()`\n",
    "4) summary\n",
    "5) 1~4 반복하면서 독립 변수 하나씩 drop(VIF 높은 애들, p-value 높은 애들)\n",
    "\n",
    "## 8. 최종 모델 해석\n",
    "1) 가설 검정: f통계로 유의성/선형모델/상관계수 해석\n",
    "\n",
    "## 9. 가정 확인\n",
    "1) 오차항: 평균0 -> 예측 오차 히스토그램\n",
    "2) x y 선형 관계 체크 -> pair plot => 인사이트 도출\n",
    "3) VIF:  다중 공선성 유무 파악\n",
    "\n",
    "## 10. 최종 모델을 사용한 예측\n",
    "1) test set에 스케일링 적용\n",
    "2) X_test, y_test 구분\n",
    "3) 데이터 전처리: 상수항 추가\n",
    "4) 예측: `y_pred = lr6.predict(X_test_lm6)`\n",
    "\n",
    "## 11. 모델 평가\n",
    "1) 산점도: `plt.scatter(y_test, y_pred, alpha=.5)`\n",
    "2) R-squared, Adjusted R-squared 구하기\n",
    "\n",
    "## 12. final report\n",
    "상위 3개 예측변수 설명 / 나머지 변수 고려사항으로 적기"
   ]
  },
  {
   "cell_type": "markdown",
   "id": "d47c2aac-7819-4751-984d-fd5f94080ff6",
   "metadata": {},
   "source": []
  }
 ],
 "metadata": {
  "kernelspec": {
   "display_name": "Python 3 (ipykernel)",
   "language": "python",
   "name": "python3"
  },
  "language_info": {
   "codemirror_mode": {
    "name": "ipython",
    "version": 3
   },
   "file_extension": ".py",
   "mimetype": "text/x-python",
   "name": "python",
   "nbconvert_exporter": "python",
   "pygments_lexer": "ipython3",
   "version": "3.12.6"
  }
 },
 "nbformat": 4,
 "nbformat_minor": 5
}
