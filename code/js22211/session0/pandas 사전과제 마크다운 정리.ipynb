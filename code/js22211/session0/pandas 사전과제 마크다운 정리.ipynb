{
 "cells": [
  {
   "cell_type": "markdown",
   "metadata": {},
   "source": [
    "# 판다스의 구성\n",
    "1차원 배열을 시리즈라고 한다\n",
    "2차원 배열의 느낌은 데이터프레임 -> 2차원 행렬이라고 보면 될듯\n",
    "2차원 행렬이므로 행과 열로 구성되어 있다. 분석의 기초\n",
    "\n",
    "# 데이터 프레임의 구성\n",
    "인덱스(행)와 칼럼(열)으로 구성되어 있다.\n",
    "행렬과 마찬가지로 데이터의 위치를 나타내는 역할을 맞는다.\n",
    "인덱스(행)은 데이터의 순서를 의미하고, 칼럼은 데이터의 값(카테고리)를 나타낸다고 볼 수 있다.\n",
    "데이터와 인덱스, 칼럼만 설정해주면 데이터프레임 생성이 가능하다. \n",
    "인덱싱은 그냥 지목이라고 보면 된다. 슬라이싱은 햄을 슬라이스 썰면 두께가 있듯이 여러개의 행을 두께가 있다고 보면 될듯\n",
    "인덱스를 설정하는 방법은 다음 3가지 방식이 있다.\n",
    "1. set_index \n",
    "2. reset_index \n",
    "3. DataFrameName.reindex(index array)\n",
    "\n",
    "# 데이터 프레임 조작\n",
    "1. 조회\n",
    "- 간략히 확인\n",
    "df.head(n), df.tail(n), df.shape \n",
    "- 데이터 정보 확인(메타데이터 확인)\n",
    "df.dtypes, df.info(), df.describe(), df.isnull()\n",
    "- 개수 세기\n",
    "df.count(), df[columnName].value_counts()\n",
    "\n",
    "2. 추가, 삭제\n",
    "- 열 추가\n",
    "df['new column name'] = some_list\n",
    "- 열 삭제\n",
    "del df['col name']\n",
    "df.drop(labels, axis)\n",
    "\n",
    "\n",
    "3. 정렬\n",
    "df.sort_index(options), df.sort_values[\"column_name\"]\n",
    "\n",
    "4. 변환\n",
    "- df.dtypes : 변환하고자 하는 자료형 확인\n",
    "- df[’컬럼 명’]=df[’컬럼 명’].astype(원하는 자료형)\n",
    "- df.replace(바꾸고 싶은 변수, 넣을 값)"
   ]
  }
 ],
 "metadata": {
  "language_info": {
   "name": "python"
  }
 },
 "nbformat": 4,
 "nbformat_minor": 2
}
