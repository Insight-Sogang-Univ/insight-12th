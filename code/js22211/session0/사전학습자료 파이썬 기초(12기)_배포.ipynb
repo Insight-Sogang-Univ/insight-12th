{
 "cells": [
  {
   "cell_type": "markdown",
   "metadata": {},
   "source": [
    "# 파이썬 기초 사전자료"
   ]
  },
  {
   "cell_type": "markdown",
   "metadata": {},
   "source": [
    "**과제는 중간중간 별표로 표시된 부분을 스스로 채워서 코드 작성한 뒤 제출하시면 됩니다.**"
   ]
  },
  {
   "cell_type": "markdown",
   "metadata": {},
   "source": [
    "## Python Programming"
   ]
  },
  {
   "cell_type": "markdown",
   "metadata": {},
   "source": [
    "### 변수와 자료형"
   ]
  },
  {
   "cell_type": "markdown",
   "metadata": {},
   "source": [
    "**변수**\n",
    "* 데이터를 특정 이름을 붙여 저장함\n",
    "* 연산을 쉽게 처리하거나, 큰 데이터를 한번에 불러올 수 있음\n",
    "* 여러 형태의 데이터를 하나 이상의 변수로 선언 가능\n",
    "* Python에서 변수명을 한글로 선언 가능"
   ]
  },
  {
   "cell_type": "markdown",
   "metadata": {},
   "source": [
    "**자료형**\n",
    "* 데이터 자료형을 규명하는 것은 프로그래밍에 있어서 가장 기본적이고 중요함\n",
    "* 파이썬에서는 데이터의 자료형을 변수 선언 시, 자동으로 지정\n",
    "* 자료형에 따라 분석의 기법이 달라질 수 있음\n",
    "* 기본적으로 3가지 자료형이 가장 많이 사용됨\n",
    "  - 정수형 int: 양의 정수, 음의 정수, 0\n",
    "  - 실수형 float: 정수를 포함한 실수, 0.n 형태로 출력\n",
    "  - 문자형 str: 영어나 기호, 또는 숫자로 구성된 문자"
   ]
  },
  {
   "cell_type": "code",
   "execution_count": 2,
   "metadata": {
    "ExecuteTime": {
     "end_time": "2024-09-09T03:40:52.679982Z",
     "start_time": "2024-09-09T03:40:52.674248Z"
    }
   },
   "outputs": [
    {
     "name": "stdout",
     "output_type": "stream",
     "text": [
      "10\n",
      "<class 'int'>\n"
     ]
    }
   ],
   "source": [
    "#파이썬에서 등호 (=) 기호는 '같다'를 의미하는 것이 아닌, '선언한다'라는 의미가 있음\n",
    "\n",
    "a = 10\n",
    "print(a)         # print(): 데이터나 변수를 출력\n",
    "print(type(a))   # type(): 데이터의 타입을 확인"
   ]
  },
  {
   "cell_type": "code",
   "execution_count": 3,
   "metadata": {
    "ExecuteTime": {
     "end_time": "2024-09-09T03:40:57.606626Z",
     "start_time": "2024-09-09T03:40:57.603558Z"
    }
   },
   "outputs": [
    {
     "name": "stdout",
     "output_type": "stream",
     "text": [
      "B\n",
      "<class 'str'>\n"
     ]
    }
   ],
   "source": [
    "b = 'B'\n",
    "print(b)\n",
    "print(type(b))"
   ]
  },
  {
   "cell_type": "code",
   "execution_count": 4,
   "metadata": {
    "ExecuteTime": {
     "end_time": "2024-09-09T03:40:59.112154Z",
     "start_time": "2024-09-09T03:40:59.105418Z"
    }
   },
   "outputs": [
    {
     "name": "stdout",
     "output_type": "stream",
     "text": [
      "23.1\n",
      "<class 'float'>\n"
     ]
    }
   ],
   "source": [
    "num = 23.1\n",
    "print(num)\n",
    "print(type(num))"
   ]
  },
  {
   "cell_type": "code",
   "execution_count": 2,
   "metadata": {
    "ExecuteTime": {
     "end_time": "2024-09-09T03:41:00.819945Z",
     "start_time": "2024-09-09T03:41:00.520485Z"
    }
   },
   "outputs": [],
   "source": [
    "a = 10\n",
    "b = 'B'\n",
    "# a + b   #자료형이 일치하지 않으면 오류 발생"
   ]
  },
  {
   "cell_type": "code",
   "execution_count": 6,
   "metadata": {
    "ExecuteTime": {
     "end_time": "2024-09-09T03:41:06.924908Z",
     "start_time": "2024-09-09T03:41:06.916919Z"
    }
   },
   "outputs": [
    {
     "data": {
      "text/plain": [
       "float"
      ]
     },
     "execution_count": 6,
     "metadata": {},
     "output_type": "execute_result"
    }
   ],
   "source": [
    "#Jupyter Notebook의 경우, print함수를 사용하지 않고 변수명만 입력해도 데이터 출력 가능\n",
    "\n",
    "a = float(10)   #자료형을 임의로 바꾸려면, 데이터 앞에 타입을 입력하여 변수 선언\n",
    "type(a)"
   ]
  },
  {
   "cell_type": "markdown",
   "metadata": {},
   "source": [
    "-----"
   ]
  },
  {
   "cell_type": "markdown",
   "metadata": {},
   "source": [
    "### 문자열 자료형 (String)"
   ]
  },
  {
   "cell_type": "markdown",
   "metadata": {},
   "source": [
    "* 프로그래밍 뿐만 아니라, 데이터 분석에 있어서 문자를 처리하는 것이 중요\n",
    "* 문자열: 문자, 단어 등으로 구성된 문자들의 집합 ex. \"단어\" / \"A\" / \"123\"\n",
    "* 문자열에는 모두 큰따옴표(\") 또는 작은따옴표(')를 이용해 선언\n",
    "* 여러 줄의 문자열을 대입할 경우 큰따옴표 또는 작은 따옴표 세 개를 사용\n",
    "* 문자열을 여러 형태로 연산이 가능함\n",
    "* 인덱싱(indexing)과 슬라이싱(Slicing) 기능이 많이 사용됨\n",
    "  - Indexing: 특정 위치의 문자를 추출\n",
    "  - Slicing: 특정 위치의 문자를 잘라냄"
   ]
  },
  {
   "cell_type": "markdown",
   "metadata": {},
   "source": [
    "#### String"
   ]
  },
  {
   "cell_type": "code",
   "execution_count": 7,
   "metadata": {
    "ExecuteTime": {
     "end_time": "2024-09-09T03:41:23.365011Z",
     "start_time": "2024-09-09T03:41:23.344038Z"
    }
   },
   "outputs": [
    {
     "ename": "NameError",
     "evalue": "name '안녕하세요' is not defined",
     "output_type": "error",
     "traceback": [
      "\u001b[0;31m---------------------------------------------------------------------------\u001b[0m",
      "\u001b[0;31mNameError\u001b[0m                                 Traceback (most recent call last)",
      "Cell \u001b[0;32mIn[7], line 3\u001b[0m\n\u001b[1;32m      1\u001b[0m \u001b[38;5;66;03m#문자를 그대로 작성하면 오류가 발생\u001b[39;00m\n\u001b[0;32m----> 3\u001b[0m 안녕하세요\n",
      "\u001b[0;31mNameError\u001b[0m: name '안녕하세요' is not defined"
     ]
    }
   ],
   "source": [
    "#문자를 그대로 작성하면 오류가 발생\n",
    "\n",
    "안녕하세요"
   ]
  },
  {
   "cell_type": "code",
   "execution_count": 8,
   "metadata": {
    "ExecuteTime": {
     "end_time": "2024-09-09T03:41:24.817418Z",
     "start_time": "2024-09-09T03:41:24.813416Z"
    }
   },
   "outputs": [
    {
     "data": {
      "text/plain": [
       "'안녕하세요'"
      ]
     },
     "execution_count": 8,
     "metadata": {},
     "output_type": "execute_result"
    }
   ],
   "source": [
    "#따옴표를 활용하여 문자형을 문자열 자료형으로 사용할 수 있음\n",
    "\n",
    "\"안녕하세요\""
   ]
  },
  {
   "cell_type": "code",
   "execution_count": 9,
   "metadata": {
    "ExecuteTime": {
     "end_time": "2024-09-09T03:41:27.643631Z",
     "start_time": "2024-09-09T03:41:27.638067Z"
    }
   },
   "outputs": [
    {
     "data": {
      "text/plain": [
       "'\\n여러문장의 경우\\n따옴표를 세 개를 사용해 주면 됩니다.\\n감사합니다.\\n'"
      ]
     },
     "execution_count": 9,
     "metadata": {},
     "output_type": "execute_result"
    }
   ],
   "source": [
    "#여러 문장을 사용할 경우\n",
    "\n",
    "\"\"\"\n",
    "여러문장의 경우\n",
    "따옴표를 세 개를 사용해 주면 됩니다.\n",
    "감사합니다.\n",
    "\"\"\""
   ]
  },
  {
   "cell_type": "code",
   "execution_count": 10,
   "metadata": {
    "ExecuteTime": {
     "end_time": "2024-09-09T03:41:30.704063Z",
     "start_time": "2024-09-09T03:41:30.699532Z"
    }
   },
   "outputs": [
    {
     "name": "stdout",
     "output_type": "stream",
     "text": [
      "안녕하세요\n",
      "저는 문자형 입니다.\n",
      "반갑습니다\n"
     ]
    },
    {
     "data": {
      "text/plain": [
       "(str, str)"
      ]
     },
     "execution_count": 10,
     "metadata": {},
     "output_type": "execute_result"
    }
   ],
   "source": [
    "#문자열도 변수로 저장 가능\n",
    "\n",
    "a = \"안녕하세요\"\n",
    "b = \"\"\"저는 문자형 입니다.\n",
    "반갑습니다\"\"\"\n",
    "\n",
    "print(a)\n",
    "print(b)\n",
    "type(a), type(b)"
   ]
  },
  {
   "cell_type": "code",
   "execution_count": 11,
   "metadata": {
    "ExecuteTime": {
     "end_time": "2024-09-09T03:44:34.595782Z",
     "start_time": "2024-09-09T03:44:34.587851Z"
    }
   },
   "outputs": [
    {
     "data": {
      "text/plain": [
       "'인사이트에 오신 여러분을 환영합니다.'"
      ]
     },
     "execution_count": 11,
     "metadata": {},
     "output_type": "execute_result"
    }
   ],
   "source": [
    "#연산자를 활용해 문자열 연산 가능 (덧셈, 곱셈)\n",
    "\n",
    "str1 = \"인사이트\"\n",
    "str2 = \"에 오신 여러분을 환영합니다.\"\n",
    "\n",
    "str1 + str2"
   ]
  },
  {
   "cell_type": "code",
   "execution_count": 12,
   "metadata": {
    "ExecuteTime": {
     "end_time": "2024-09-09T03:44:35.850848Z",
     "start_time": "2024-09-09T03:44:35.846039Z"
    }
   },
   "outputs": [
    {
     "data": {
      "text/plain": [
       "'감사합니다감사합니다감사합니다'"
      ]
     },
     "execution_count": 12,
     "metadata": {},
     "output_type": "execute_result"
    }
   ],
   "source": [
    "str3 = \"감사합니다\"\n",
    "\n",
    "str3 * 3"
   ]
  },
  {
   "cell_type": "code",
   "execution_count": 13,
   "metadata": {
    "ExecuteTime": {
     "end_time": "2024-09-09T03:44:38.055807Z",
     "start_time": "2024-09-09T03:44:38.049817Z"
    }
   },
   "outputs": [
    {
     "data": {
      "text/plain": [
       "32"
      ]
     },
     "execution_count": 13,
     "metadata": {},
     "output_type": "execute_result"
    }
   ],
   "source": [
    "#len(): 해당 문자열의 길이를 구하는 함수 (데이터의 길이나 크기를 구할 떄도 사용)\n",
    "\n",
    "str4 = \"이 문자열의 길이는 len함수를 이용해 구할 수 있습니다.\"\n",
    "\n",
    "len(str4)"
   ]
  },
  {
   "cell_type": "markdown",
   "metadata": {},
   "source": [
    "#### String Indexing\n",
    "* Indexing: 특정 위치의 글자 추출\n",
    "* 대괄호를 이용해 추출하며, 0부터 순서가 매겨짐\n",
    "* 뒷부분부터 셀 땐, 음수를 붙여 세어줄 수 있음\n",
    "* 실무에서 복잡한 문자데이터를 다룰 때 (설문, 제품명, 항목명 등) 주로 사용"
   ]
  },
  {
   "cell_type": "code",
   "execution_count": 14,
   "metadata": {
    "ExecuteTime": {
     "end_time": "2024-09-09T03:44:39.228431Z",
     "start_time": "2024-09-09T03:44:39.222269Z"
    }
   },
   "outputs": [
    {
     "data": {
      "text/plain": [
       "'너'"
      ]
     },
     "execution_count": 14,
     "metadata": {},
     "output_type": "execute_result"
    }
   ],
   "source": [
    "str5 = \"너의 삶은 짧지만, 계속 구하면 가치있는 것을 찾으리라\"\n",
    "\n",
    "str5[0]"
   ]
  },
  {
   "cell_type": "code",
   "execution_count": 15,
   "metadata": {
    "ExecuteTime": {
     "end_time": "2024-09-09T03:44:39.888213Z",
     "start_time": "2024-09-09T03:44:39.882337Z"
    }
   },
   "outputs": [
    {
     "data": {
      "text/plain": [
       "'구'"
      ]
     },
     "execution_count": 15,
     "metadata": {},
     "output_type": "execute_result"
    }
   ],
   "source": [
    "str5[14]"
   ]
  },
  {
   "cell_type": "code",
   "execution_count": 16,
   "metadata": {
    "ExecuteTime": {
     "end_time": "2024-09-09T03:44:40.370915Z",
     "start_time": "2024-09-09T03:44:40.365239Z"
    }
   },
   "outputs": [
    {
     "data": {
      "text/plain": [
       "'리'"
      ]
     },
     "execution_count": 16,
     "metadata": {},
     "output_type": "execute_result"
    }
   ],
   "source": [
    "str5[-2]"
   ]
  },
  {
   "cell_type": "code",
   "execution_count": 17,
   "metadata": {
    "ExecuteTime": {
     "end_time": "2024-09-09T03:44:41.033286Z",
     "start_time": "2024-09-09T03:44:41.026675Z"
    }
   },
   "outputs": [
    {
     "data": {
      "text/plain": [
       "'너구리'"
      ]
     },
     "execution_count": 17,
     "metadata": {},
     "output_type": "execute_result"
    }
   ],
   "source": [
    "str5[0] + str5[14] + str5[-2]"
   ]
  },
  {
   "cell_type": "code",
   "execution_count": 18,
   "metadata": {
    "ExecuteTime": {
     "end_time": "2024-09-09T03:44:41.362869Z",
     "start_time": "2024-09-09T03:44:41.357090Z"
    }
   },
   "outputs": [
    {
     "name": "stdout",
     "output_type": "stream",
     "text": [
      "<class 'str'>\n"
     ]
    },
    {
     "data": {
      "text/plain": [
       "'너구리'"
      ]
     },
     "execution_count": 18,
     "metadata": {},
     "output_type": "execute_result"
    }
   ],
   "source": [
    "str6 = str5[0] + str5[14] + str5[-2]\n",
    "print(type(str6))\n",
    "str6"
   ]
  },
  {
   "cell_type": "markdown",
   "metadata": {},
   "source": [
    "#### String Slicing\n",
    "* Slicing: 특정 글자를 잘라서 추출\n",
    "* str[n:m] : str 변수의 문자열에서, n번째 부터, m번째 글자 전까지 추출\n",
    "* str[:m] : 맨 처음부터 m 번째 글자 전 까지 추출\n",
    "* str[n:] : n 번째 글자부터 맨 끝 글자 까지 추출\n",
    "* 처음번호와 끝 번호를 생략하면 모든 문자열이 출력"
   ]
  },
  {
   "cell_type": "code",
   "execution_count": 19,
   "metadata": {
    "ExecuteTime": {
     "end_time": "2024-09-09T03:44:56.444815Z",
     "start_time": "2024-09-09T03:44:56.438556Z"
    }
   },
   "outputs": [
    {
     "data": {
      "text/plain": [
       "'발자국'"
      ]
     },
     "execution_count": 19,
     "metadata": {},
     "output_type": "execute_result"
    }
   ],
   "source": [
    "str5 = \"발자국마다 이어진 별자리 그 서투른 걸음이 새겨놓은 밑그림\"\n",
    "\n",
    "str5[0:3]"
   ]
  },
  {
   "cell_type": "code",
   "execution_count": 20,
   "metadata": {
    "ExecuteTime": {
     "end_time": "2024-09-09T03:44:56.802309Z",
     "start_time": "2024-09-09T03:44:56.798403Z"
    }
   },
   "outputs": [
    {
     "data": {
      "text/plain": [
       "'발자국마다 이어진 별자리'"
      ]
     },
     "execution_count": 20,
     "metadata": {},
     "output_type": "execute_result"
    }
   ],
   "source": [
    "str5[:13]"
   ]
  },
  {
   "cell_type": "code",
   "execution_count": 21,
   "metadata": {
    "ExecuteTime": {
     "end_time": "2024-09-09T03:44:57.138754Z",
     "start_time": "2024-09-09T03:44:57.132912Z"
    }
   },
   "outputs": [
    {
     "data": {
      "text/plain": [
       "'서투른 걸음이 새겨놓은 밑그림'"
      ]
     },
     "execution_count": 21,
     "metadata": {},
     "output_type": "execute_result"
    }
   ],
   "source": [
    "str5[16:]"
   ]
  },
  {
   "cell_type": "code",
   "execution_count": 22,
   "metadata": {
    "ExecuteTime": {
     "end_time": "2024-09-09T03:44:57.669304Z",
     "start_time": "2024-09-09T03:44:57.663562Z"
    }
   },
   "outputs": [
    {
     "data": {
      "text/plain": [
       "'발자국마다 이어진 별자리서투른 걸음이 새겨놓은 밑그림'"
      ]
     },
     "execution_count": 22,
     "metadata": {},
     "output_type": "execute_result"
    }
   ],
   "source": [
    "str5[:13] + str5[16:]"
   ]
  },
  {
   "cell_type": "code",
   "execution_count": 23,
   "metadata": {
    "ExecuteTime": {
     "end_time": "2024-09-09T03:44:58.654502Z",
     "start_time": "2024-09-09T03:44:58.648956Z"
    }
   },
   "outputs": [
    {
     "name": "stdout",
     "output_type": "stream",
     "text": [
      "2024\n",
      "파이썬기초\n"
     ]
    }
   ],
   "source": [
    "str7 = \"2024파이썬기초\"\n",
    "day = str7[:4]\n",
    "lesson = str7[4:]\n",
    "\n",
    "print(day)\n",
    "print(lesson)"
   ]
  },
  {
   "cell_type": "markdown",
   "metadata": {},
   "source": [
    "#### String Function\n",
    "* count() : 특정 문자의 개수를 출력\n",
    "* find() / index() : 특정 문자가 어디에 위치해 있는지 출력 (index 함수의 경우, 해당 문자가 없으면 오류 발생) \n",
    "* join() : 문자열에 특수기호나 특정 문자를 삽입\n",
    "* upper() / lower() : 영어 소문자를 대문자로 변경 (upper) / 영어 대문자를 소문자로 변경 (lower)\n",
    "* lstrip() / rstrip() / strip() : 문자열 좌,우 또는 전체 공백을 제거\n",
    "* replace() : 특정 문자를 다른 문자로 변환\n",
    "* split() : 문자를 공백 기준으로 리스트의 형태로 나누어 출력 (쌍반점(:) 기호 사용 시, 전체 문자열이 리스트에 하나의 객체로 출력) "
   ]
  },
  {
   "cell_type": "code",
   "execution_count": 24,
   "metadata": {
    "ExecuteTime": {
     "end_time": "2024-09-09T03:45:01.186793Z",
     "start_time": "2024-09-09T03:45:01.182327Z"
    }
   },
   "outputs": [
    {
     "data": {
      "text/plain": [
       "3"
      ]
     },
     "execution_count": 24,
     "metadata": {},
     "output_type": "execute_result"
    }
   ],
   "source": [
    "#count\n",
    "\n",
    "str8 = \"Insight Python Data Analyze\"\n",
    "str8.count('a')"
   ]
  },
  {
   "cell_type": "code",
   "execution_count": 25,
   "metadata": {
    "ExecuteTime": {
     "end_time": "2024-09-09T03:45:01.431650Z",
     "start_time": "2024-09-09T03:45:01.426958Z"
    }
   },
   "outputs": [
    {
     "data": {
      "text/plain": [
       "15"
      ]
     },
     "execution_count": 25,
     "metadata": {},
     "output_type": "execute_result"
    }
   ],
   "source": [
    "#find\n",
    "\n",
    "str8.find(\"D\")"
   ]
  },
  {
   "cell_type": "code",
   "execution_count": 26,
   "metadata": {
    "ExecuteTime": {
     "end_time": "2024-09-09T03:45:01.503310Z",
     "start_time": "2024-09-09T03:45:01.498259Z"
    }
   },
   "outputs": [
    {
     "data": {
      "text/plain": [
       "15"
      ]
     },
     "execution_count": 26,
     "metadata": {},
     "output_type": "execute_result"
    }
   ],
   "source": [
    "#index\n",
    "\n",
    "str8.index(\"D\")"
   ]
  },
  {
   "cell_type": "code",
   "execution_count": 27,
   "metadata": {
    "ExecuteTime": {
     "end_time": "2024-09-09T03:45:01.867267Z",
     "start_time": "2024-09-09T03:45:01.862957Z"
    }
   },
   "outputs": [
    {
     "data": {
      "text/plain": [
       "'가,나,다,라,마'"
      ]
     },
     "execution_count": 27,
     "metadata": {},
     "output_type": "execute_result"
    }
   ],
   "source": [
    "#join\n",
    "\n",
    "\",\".join('가나다라마')"
   ]
  },
  {
   "cell_type": "code",
   "execution_count": 28,
   "metadata": {
    "ExecuteTime": {
     "end_time": "2024-09-09T03:45:02.447102Z",
     "start_time": "2024-09-09T03:45:02.441789Z"
    }
   },
   "outputs": [
    {
     "data": {
      "text/plain": [
       "'INSIGHT PYTHON DATA ANALYZE'"
      ]
     },
     "execution_count": 28,
     "metadata": {},
     "output_type": "execute_result"
    }
   ],
   "source": [
    "#upper\n",
    "\n",
    "str8.upper()"
   ]
  },
  {
   "cell_type": "code",
   "execution_count": 29,
   "metadata": {
    "ExecuteTime": {
     "end_time": "2024-09-09T03:45:04.528983Z",
     "start_time": "2024-09-09T03:45:04.523356Z"
    }
   },
   "outputs": [
    {
     "data": {
      "text/plain": [
       "'insight python data analyze'"
      ]
     },
     "execution_count": 29,
     "metadata": {},
     "output_type": "execute_result"
    }
   ],
   "source": [
    "#lower\n",
    "\n",
    "str8.lower()"
   ]
  },
  {
   "cell_type": "code",
   "execution_count": 30,
   "metadata": {
    "ExecuteTime": {
     "end_time": "2024-09-09T03:45:05.130823Z",
     "start_time": "2024-09-09T03:45:05.125646Z"
    }
   },
   "outputs": [
    {
     "data": {
      "text/plain": [
       "'Python     '"
      ]
     },
     "execution_count": 30,
     "metadata": {},
     "output_type": "execute_result"
    }
   ],
   "source": [
    "#lstrip\n",
    "\n",
    "str9 = \"    Python     \"\n",
    "str9.lstrip()"
   ]
  },
  {
   "cell_type": "code",
   "execution_count": 31,
   "metadata": {
    "ExecuteTime": {
     "end_time": "2024-09-09T03:45:06.205843Z",
     "start_time": "2024-09-09T03:45:06.200462Z"
    }
   },
   "outputs": [
    {
     "data": {
      "text/plain": [
       "'    Python'"
      ]
     },
     "execution_count": 31,
     "metadata": {},
     "output_type": "execute_result"
    }
   ],
   "source": [
    "#rstrip\n",
    "\n",
    "str9.rstrip()"
   ]
  },
  {
   "cell_type": "code",
   "execution_count": 32,
   "metadata": {
    "ExecuteTime": {
     "end_time": "2024-09-09T03:45:26.270005Z",
     "start_time": "2024-09-09T03:45:26.264752Z"
    }
   },
   "outputs": [
    {
     "data": {
      "text/plain": [
       "'Python'"
      ]
     },
     "execution_count": 32,
     "metadata": {},
     "output_type": "execute_result"
    }
   ],
   "source": [
    "#strip\n",
    "\n",
    "str9.strip()"
   ]
  },
  {
   "cell_type": "code",
   "execution_count": 33,
   "metadata": {
    "ExecuteTime": {
     "end_time": "2024-09-09T03:45:27.074076Z",
     "start_time": "2024-09-09T03:45:27.067877Z"
    }
   },
   "outputs": [
    {
     "data": {
      "text/plain": [
       "'python Big data'"
      ]
     },
     "execution_count": 33,
     "metadata": {},
     "output_type": "execute_result"
    }
   ],
   "source": [
    "#replace\n",
    "\n",
    "str10 = \"python Big 데이터\"\n",
    "str10.replace('데이터', 'data')"
   ]
  },
  {
   "cell_type": "code",
   "execution_count": 34,
   "metadata": {
    "ExecuteTime": {
     "end_time": "2024-09-09T03:45:27.909429Z",
     "start_time": "2024-09-09T03:45:27.903350Z"
    }
   },
   "outputs": [
    {
     "data": {
      "text/plain": [
       "['python', 'Big', '데이터']"
      ]
     },
     "execution_count": 34,
     "metadata": {},
     "output_type": "execute_result"
    }
   ],
   "source": [
    "#split\n",
    "\n",
    "str10.split()"
   ]
  },
  {
   "cell_type": "code",
   "execution_count": 35,
   "metadata": {
    "ExecuteTime": {
     "end_time": "2024-09-09T03:45:29.383181Z",
     "start_time": "2024-09-09T03:45:29.379900Z"
    }
   },
   "outputs": [
    {
     "data": {
      "text/plain": [
       "['python Big 데이터']"
      ]
     },
     "execution_count": 35,
     "metadata": {},
     "output_type": "execute_result"
    }
   ],
   "source": [
    "str10.split(\":\")"
   ]
  },
  {
   "cell_type": "markdown",
   "metadata": {},
   "source": [
    "#### 과제 1~2"
   ]
  },
  {
   "cell_type": "markdown",
   "metadata": {},
   "source": [
    "1. 어떤 회원이 생년월일 입력란에 890724를 입력하였을 때, 해당 문자를 연/월/일로 각각 나누어 출력하기"
   ]
  },
  {
   "cell_type": "code",
   "execution_count": 7,
   "metadata": {},
   "outputs": [
    {
     "data": {
      "text/plain": [
       "'89/07/24'"
      ]
     },
     "execution_count": 7,
     "metadata": {},
     "output_type": "execute_result"
    }
   ],
   "source": [
    "str = \"890724\"\n",
    "str[0:2]+\"/\"+str[2:4]+\"/\"+str[4:6]"
   ]
  },
  {
   "cell_type": "markdown",
   "metadata": {},
   "source": [
    "2. 어떤 고객이 휴대전화번호를 010-1234-5678으로 입력하였을 때, 해당 문자를 01012345678으로 출력하기"
   ]
  },
  {
   "cell_type": "code",
   "execution_count": 6,
   "metadata": {},
   "outputs": [
    {
     "data": {
      "text/plain": [
       "'01012345678'"
      ]
     },
     "execution_count": 6,
     "metadata": {},
     "output_type": "execute_result"
    }
   ],
   "source": [
    "str = \"010-1234-5678\"\n",
    "str.replace('-','')"
   ]
  },
  {
   "cell_type": "markdown",
   "metadata": {},
   "source": [
    "-----"
   ]
  },
  {
   "cell_type": "markdown",
   "metadata": {},
   "source": [
    "### 리스트 (List)"
   ]
  },
  {
   "cell_type": "markdown",
   "metadata": {},
   "source": [
    "* 리스트 (list) : 여러 개의 데이터 다룰 때, 하나의 변수에 많은 값을 집어 넣을 수 있음\n",
    "* 대괄호를 이용하여, 데이터를 묶어 줌 ex) a = [1,2,3,4,5] #5개의 데이터가 a라는 변수에 모두 담겨있음\n",
    "* C 언어의 배열(array)과 유사한 List 를 이용\n",
    "* 서로 다른 데이터 타입의 값들도 하나의 List에 넣을 수 있음\n",
    "* 리스트 내 데이터 간 순서가 존재\n",
    "* 리스트 내 데이터를 삭제하거나 추가, 수정이 가능함\n",
    "* 리스트 내 데이터를 삭제하거나 추가, 수정이 가능함\n",
    "    - append() : 추가\n",
    "    - insert() : 삽입\n",
    "    - remove() : 삭제\n",
    "* Size가 정해져 있지 않고 유동성 있음"
   ]
  },
  {
   "cell_type": "code",
   "execution_count": 36,
   "metadata": {
    "ExecuteTime": {
     "end_time": "2024-09-09T03:45:34.918958Z",
     "start_time": "2024-09-09T03:45:34.913398Z"
    }
   },
   "outputs": [
    {
     "data": {
      "text/plain": [
       "[100, 200, 300, 400, 500]"
      ]
     },
     "execution_count": 36,
     "metadata": {},
     "output_type": "execute_result"
    }
   ],
   "source": [
    "list1 = [100, 200, 300, 400, 500]\n",
    "list1"
   ]
  },
  {
   "cell_type": "code",
   "execution_count": 37,
   "metadata": {
    "ExecuteTime": {
     "end_time": "2024-09-09T03:45:35.329831Z",
     "start_time": "2024-09-09T03:45:35.325992Z"
    }
   },
   "outputs": [
    {
     "data": {
      "text/plain": [
       "list"
      ]
     },
     "execution_count": 37,
     "metadata": {},
     "output_type": "execute_result"
    }
   ],
   "source": [
    "type(list1)"
   ]
  },
  {
   "cell_type": "code",
   "execution_count": 38,
   "metadata": {
    "ExecuteTime": {
     "end_time": "2024-09-09T03:45:36.133197Z",
     "start_time": "2024-09-09T03:45:36.127849Z"
    }
   },
   "outputs": [
    {
     "data": {
      "text/plain": [
       "['서울', 70, 170, '강남']"
      ]
     },
     "execution_count": 38,
     "metadata": {},
     "output_type": "execute_result"
    }
   ],
   "source": [
    "#문자열도 리스트로 선언이 가능\n",
    "\n",
    "list2 = ['서울', 70, 170, '강남']\n",
    "list2"
   ]
  },
  {
   "cell_type": "code",
   "execution_count": 39,
   "metadata": {
    "ExecuteTime": {
     "end_time": "2024-09-09T03:45:36.617033Z",
     "start_time": "2024-09-09T03:45:36.611637Z"
    }
   },
   "outputs": [
    {
     "data": {
      "text/plain": [
       "list"
      ]
     },
     "execution_count": 39,
     "metadata": {},
     "output_type": "execute_result"
    }
   ],
   "source": [
    "type(list2)"
   ]
  },
  {
   "cell_type": "code",
   "execution_count": 40,
   "metadata": {
    "ExecuteTime": {
     "end_time": "2024-09-09T03:45:37.099429Z",
     "start_time": "2024-09-09T03:45:37.094305Z"
    }
   },
   "outputs": [
    {
     "data": {
      "text/plain": [
       "100"
      ]
     },
     "execution_count": 40,
     "metadata": {},
     "output_type": "execute_result"
    }
   ],
   "source": [
    "#리스트에서 특정 값을 추출 (Indexing)\n",
    "\n",
    "list1[0]"
   ]
  },
  {
   "cell_type": "code",
   "execution_count": 41,
   "metadata": {
    "ExecuteTime": {
     "end_time": "2024-09-09T03:45:37.564998Z",
     "start_time": "2024-09-09T03:45:37.559305Z"
    }
   },
   "outputs": [
    {
     "data": {
      "text/plain": [
       "(200, 300, 400)"
      ]
     },
     "execution_count": 41,
     "metadata": {},
     "output_type": "execute_result"
    }
   ],
   "source": [
    "list1[1], list1[2], list1[3]"
   ]
  },
  {
   "cell_type": "code",
   "execution_count": 42,
   "metadata": {
    "ExecuteTime": {
     "end_time": "2024-09-09T03:45:39.669964Z",
     "start_time": "2024-09-09T03:45:39.664072Z"
    }
   },
   "outputs": [
    {
     "data": {
      "text/plain": [
       "['국어', '영어', '수학', '과학']"
      ]
     },
     "execution_count": 42,
     "metadata": {},
     "output_type": "execute_result"
    }
   ],
   "source": [
    "sub = ['국어', '영어', '수학', '과학']\n",
    "sub"
   ]
  },
  {
   "cell_type": "code",
   "execution_count": 43,
   "metadata": {
    "ExecuteTime": {
     "end_time": "2024-09-09T03:45:40.147423Z",
     "start_time": "2024-09-09T03:45:40.141613Z"
    }
   },
   "outputs": [
    {
     "data": {
      "text/plain": [
       "['국어', '영어', '수학', '과학', '사회']"
      ]
     },
     "execution_count": 43,
     "metadata": {},
     "output_type": "execute_result"
    }
   ],
   "source": [
    "#append(): 리스트에 해당 값을 추가\n",
    "\n",
    "sub.append('사회')\n",
    "sub"
   ]
  },
  {
   "cell_type": "code",
   "execution_count": 44,
   "metadata": {
    "ExecuteTime": {
     "end_time": "2024-09-09T03:45:40.651445Z",
     "start_time": "2024-09-09T03:45:40.645391Z"
    }
   },
   "outputs": [
    {
     "data": {
      "text/plain": [
       "['한국사', '국어', '영어', '수학', '과학', '사회']"
      ]
     },
     "execution_count": 44,
     "metadata": {},
     "output_type": "execute_result"
    }
   ],
   "source": [
    "#insert(): 리스트 특정위치에 해당 값을 추가\n",
    "\n",
    "sub.insert(0, '한국사')\n",
    "sub"
   ]
  },
  {
   "cell_type": "code",
   "execution_count": 45,
   "metadata": {
    "ExecuteTime": {
     "end_time": "2024-09-09T03:45:41.128240Z",
     "start_time": "2024-09-09T03:45:41.123027Z"
    }
   },
   "outputs": [
    {
     "data": {
      "text/plain": [
       "['한국사', '국어', '영어', '과학', '사회']"
      ]
     },
     "execution_count": 45,
     "metadata": {},
     "output_type": "execute_result"
    }
   ],
   "source": [
    "#remove(): 특정 값을 리스트에서 삭제\n",
    "\n",
    "sub.remove('수학')\n",
    "sub"
   ]
  },
  {
   "cell_type": "code",
   "execution_count": 46,
   "metadata": {
    "ExecuteTime": {
     "end_time": "2024-09-09T03:45:42.910647Z",
     "start_time": "2024-09-09T03:45:42.904771Z"
    }
   },
   "outputs": [
    {
     "data": {
      "text/plain": [
       "[10, 20, 30, 40]"
      ]
     },
     "execution_count": 46,
     "metadata": {},
     "output_type": "execute_result"
    }
   ],
   "source": [
    "score = [10, 20, 30, 40]\n",
    "score"
   ]
  },
  {
   "cell_type": "code",
   "execution_count": 47,
   "metadata": {
    "ExecuteTime": {
     "end_time": "2024-09-09T03:45:43.263522Z",
     "start_time": "2024-09-09T03:45:43.257739Z"
    }
   },
   "outputs": [
    {
     "data": {
      "text/plain": [
       "[10, 20, 30, 40, 10, 20, 30, 40, 10, 20, 30, 40]"
      ]
     },
     "execution_count": 47,
     "metadata": {},
     "output_type": "execute_result"
    }
   ],
   "source": [
    "#리스트 간 연산 가능\n",
    "\n",
    "score * 3"
   ]
  },
  {
   "cell_type": "code",
   "execution_count": 48,
   "metadata": {
    "ExecuteTime": {
     "end_time": "2024-09-09T03:45:43.648663Z",
     "start_time": "2024-09-09T03:45:43.643889Z"
    }
   },
   "outputs": [
    {
     "data": {
      "text/plain": [
       "[10, 20, 30, 40, '한국사', '국어', '영어', '과학', '사회']"
      ]
     },
     "execution_count": 48,
     "metadata": {},
     "output_type": "execute_result"
    }
   ],
   "source": [
    "score + sub"
   ]
  },
  {
   "cell_type": "markdown",
   "metadata": {},
   "source": [
    "-----"
   ]
  },
  {
   "cell_type": "markdown",
   "metadata": {},
   "source": [
    "### 튜플 (Tuple)\n",
    "* 튜플 (tuple) : 리스트와 같이 여러 개의 데이터를 집어넣을 수 있는 공간\n",
    "* 소괄호를 이용하여, 데이터를 묶어 줌 ex) c = (1,2,3,4,5) #5개의 데이터가 c라는 변수에 모두 담겨있음\n",
    "* 튜플 내 데이터 간 순서가 존재\n",
    "* 한번 선언된 튜플은 변경이 불가능 함\n",
    "* Packing과 Unpacking을 활용하여, 데이터를 추출하거나 튜플을 생성할 수 있음\n",
    "    - Packing : 여러 개의 데이터를 쉼표(,) 구분자를 이용해, 하나의 변수로 생성\n",
    "    - Unpacking : 하나의 튜플을 여러 개의 변수로 선언하여, 변수에 각 데이터를 선언\n",
    "* 함수와 반복문 같이 중요한 하이퍼파라미터(Hyper Parameter)들을 보호 할 때 사용 (하이퍼파라미터 : 수식 내 값이 변하지 않는 인자나 상수)"
   ]
  },
  {
   "cell_type": "code",
   "execution_count": 49,
   "metadata": {
    "ExecuteTime": {
     "end_time": "2024-09-09T03:45:46.576574Z",
     "start_time": "2024-09-09T03:45:46.569888Z"
    }
   },
   "outputs": [
    {
     "name": "stdout",
     "output_type": "stream",
     "text": [
      "<class 'tuple'>\n"
     ]
    },
    {
     "data": {
      "text/plain": [
       "(1, 2, 3, 4, 5)"
      ]
     },
     "execution_count": 49,
     "metadata": {},
     "output_type": "execute_result"
    }
   ],
   "source": [
    "#소괄호를 이용해 튜플 생성 가능\n",
    "\n",
    "t1 = (1, 2, 3, 4, 5)\n",
    "print(type(t1))\n",
    "t1"
   ]
  },
  {
   "cell_type": "code",
   "execution_count": 50,
   "metadata": {
    "ExecuteTime": {
     "end_time": "2024-09-09T03:45:46.984352Z",
     "start_time": "2024-09-09T03:45:46.960599Z"
    }
   },
   "outputs": [
    {
     "ename": "AttributeError",
     "evalue": "'tuple' object has no attribute 'append'",
     "output_type": "error",
     "traceback": [
      "\u001b[0;31m---------------------------------------------------------------------------\u001b[0m",
      "\u001b[0;31mAttributeError\u001b[0m                            Traceback (most recent call last)",
      "Cell \u001b[0;32mIn[50], line 3\u001b[0m\n\u001b[1;32m      1\u001b[0m \u001b[38;5;66;03m#튜플은 한 번 선언되면 변경이 불가능\u001b[39;00m\n\u001b[0;32m----> 3\u001b[0m t1\u001b[38;5;241m.\u001b[39mappend(\u001b[38;5;124m\"\u001b[39m\u001b[38;5;124mA\u001b[39m\u001b[38;5;124m\"\u001b[39m)\n",
      "\u001b[0;31mAttributeError\u001b[0m: 'tuple' object has no attribute 'append'"
     ]
    }
   ],
   "source": [
    "#튜플은 한 번 선언되면 변경이 불가능\n",
    "\n",
    "t1.append(\"A\")"
   ]
  },
  {
   "cell_type": "code",
   "execution_count": 51,
   "metadata": {
    "ExecuteTime": {
     "end_time": "2024-09-09T03:45:47.573398Z",
     "start_time": "2024-09-09T03:45:47.554613Z"
    }
   },
   "outputs": [
    {
     "ename": "AttributeError",
     "evalue": "'tuple' object has no attribute 'remove'",
     "output_type": "error",
     "traceback": [
      "\u001b[0;31m---------------------------------------------------------------------------\u001b[0m",
      "\u001b[0;31mAttributeError\u001b[0m                            Traceback (most recent call last)",
      "Cell \u001b[0;32mIn[51], line 1\u001b[0m\n\u001b[0;32m----> 1\u001b[0m t1\u001b[38;5;241m.\u001b[39mremove(\u001b[38;5;241m3\u001b[39m)\n",
      "\u001b[0;31mAttributeError\u001b[0m: 'tuple' object has no attribute 'remove'"
     ]
    }
   ],
   "source": [
    "t1.remove(3)"
   ]
  },
  {
   "cell_type": "code",
   "execution_count": 52,
   "metadata": {
    "ExecuteTime": {
     "end_time": "2024-09-09T03:45:49.665691Z",
     "start_time": "2024-09-09T03:45:49.659287Z"
    }
   },
   "outputs": [
    {
     "data": {
      "text/plain": [
       "'삼'"
      ]
     },
     "execution_count": 52,
     "metadata": {},
     "output_type": "execute_result"
    }
   ],
   "source": [
    "#그러나 각 데이터를 하나의 튜플로부터 추출 가능\n",
    "\n",
    "t2 = (1, 2, '삼', 4, 5)\n",
    "t2[2]"
   ]
  },
  {
   "cell_type": "code",
   "execution_count": 53,
   "metadata": {
    "ExecuteTime": {
     "end_time": "2024-09-09T03:45:50.288072Z",
     "start_time": "2024-09-09T03:45:50.279341Z"
    }
   },
   "outputs": [
    {
     "data": {
      "text/plain": [
       "tuple"
      ]
     },
     "execution_count": 53,
     "metadata": {},
     "output_type": "execute_result"
    }
   ],
   "source": [
    "#Packing: 각각의 데이터를 하나의 변수로 선언할 때, 해당 변수들을 하나의 튜플로 선언 가능\n",
    "\n",
    "pack1 = 1,2,3,4,5,6\n",
    "type(pack1)"
   ]
  },
  {
   "cell_type": "code",
   "execution_count": 54,
   "metadata": {
    "ExecuteTime": {
     "end_time": "2024-09-09T03:45:50.770974Z",
     "start_time": "2024-09-09T03:45:50.767926Z"
    }
   },
   "outputs": [
    {
     "data": {
      "text/plain": [
       "(1, 2, 3, 4, 5, 6)"
      ]
     },
     "execution_count": 54,
     "metadata": {},
     "output_type": "execute_result"
    }
   ],
   "source": [
    "pack1"
   ]
  },
  {
   "cell_type": "code",
   "execution_count": 55,
   "metadata": {
    "ExecuteTime": {
     "end_time": "2024-09-09T03:45:51.280462Z",
     "start_time": "2024-09-09T03:45:51.274014Z"
    }
   },
   "outputs": [
    {
     "data": {
      "text/plain": [
       "int"
      ]
     },
     "execution_count": 55,
     "metadata": {},
     "output_type": "execute_result"
    }
   ],
   "source": [
    "#Unpacking: 하나의 튜플 내 데이터를 각각의 변수로 선언 가능\n",
    "\n",
    "a,b,c,d,e,f = pack1\n",
    "type(a)"
   ]
  },
  {
   "cell_type": "code",
   "execution_count": 56,
   "metadata": {
    "ExecuteTime": {
     "end_time": "2024-09-09T03:45:51.564832Z",
     "start_time": "2024-09-09T03:45:51.560555Z"
    }
   },
   "outputs": [
    {
     "data": {
      "text/plain": [
       "1"
      ]
     },
     "execution_count": 56,
     "metadata": {},
     "output_type": "execute_result"
    }
   ],
   "source": [
    "a"
   ]
  },
  {
   "cell_type": "code",
   "execution_count": 57,
   "metadata": {
    "ExecuteTime": {
     "end_time": "2024-09-09T03:45:52.423597Z",
     "start_time": "2024-09-09T03:45:52.418447Z"
    }
   },
   "outputs": [
    {
     "data": {
      "text/plain": [
       "21"
      ]
     },
     "execution_count": 57,
     "metadata": {},
     "output_type": "execute_result"
    }
   ],
   "source": [
    "a + b + c + d + e + f"
   ]
  },
  {
   "cell_type": "code",
   "execution_count": 58,
   "metadata": {
    "ExecuteTime": {
     "end_time": "2024-09-09T03:45:54.324583Z",
     "start_time": "2024-09-09T03:45:54.318416Z"
    }
   },
   "outputs": [
    {
     "data": {
      "text/plain": [
       "10"
      ]
     },
     "execution_count": 58,
     "metadata": {},
     "output_type": "execute_result"
    }
   ],
   "source": [
    "#Indexing과 Slicing은 가능\n",
    "\n",
    "a = (10,20,30,40,50)\n",
    "a[0]"
   ]
  },
  {
   "cell_type": "code",
   "execution_count": 59,
   "metadata": {
    "ExecuteTime": {
     "end_time": "2024-09-09T03:45:54.595234Z",
     "start_time": "2024-09-09T03:45:54.590482Z"
    }
   },
   "outputs": [
    {
     "data": {
      "text/plain": [
       "50"
      ]
     },
     "execution_count": 59,
     "metadata": {},
     "output_type": "execute_result"
    }
   ],
   "source": [
    "a[-1]"
   ]
  },
  {
   "cell_type": "code",
   "execution_count": 60,
   "metadata": {
    "ExecuteTime": {
     "end_time": "2024-09-09T03:45:54.999754Z",
     "start_time": "2024-09-09T03:45:54.994684Z"
    }
   },
   "outputs": [
    {
     "data": {
      "text/plain": [
       "(30, 40, 50)"
      ]
     },
     "execution_count": 60,
     "metadata": {},
     "output_type": "execute_result"
    }
   ],
   "source": [
    "a[2:]"
   ]
  },
  {
   "cell_type": "code",
   "execution_count": 61,
   "metadata": {
    "ExecuteTime": {
     "end_time": "2024-09-09T03:45:55.516570Z",
     "start_time": "2024-09-09T03:45:55.510091Z"
    }
   },
   "outputs": [
    {
     "data": {
      "text/plain": [
       "(5, 6, 7, 8, 1, 2, 3, 4)"
      ]
     },
     "execution_count": 61,
     "metadata": {},
     "output_type": "execute_result"
    }
   ],
   "source": [
    "#기본 연산자를 이용한 연산 가능\n",
    "\n",
    "b = (1, 2, 3, 4)\n",
    "c = (5, 6, 7, 8)\n",
    "c + b"
   ]
  },
  {
   "cell_type": "code",
   "execution_count": 62,
   "metadata": {
    "ExecuteTime": {
     "end_time": "2024-09-09T03:45:57.451135Z",
     "start_time": "2024-09-09T03:45:57.444948Z"
    }
   },
   "outputs": [
    {
     "data": {
      "text/plain": [
       "(5, 6, 7, 8, 5, 6, 7, 8)"
      ]
     },
     "execution_count": 62,
     "metadata": {},
     "output_type": "execute_result"
    }
   ],
   "source": [
    "c * 2"
   ]
  },
  {
   "cell_type": "markdown",
   "metadata": {},
   "source": [
    "-----"
   ]
  },
  {
   "cell_type": "markdown",
   "metadata": {},
   "source": [
    "### 세트 (Set)"
   ]
  },
  {
   "cell_type": "markdown",
   "metadata": {},
   "source": [
    "* 세트 (Set) : 리스트와 같이 여러 개의 데이터를 집합의 형태로 집어넣을 수 있는 공간\n",
    "* 중괄호를 이용하여, 데이터를 묶어 줌  ex) c = {1,2,3,4,5} #5개의 데이터가 c라는 변수에 모두 담겨있음\n",
    "* 집합 내 데이터 간 순서 없음, 중복을 허용하지 않음\n",
    "* 집합 내 데이터 변경이 가능\n",
    "* 집합연산이 가능 (Van Diagram의 개념)"
   ]
  },
  {
   "cell_type": "code",
   "execution_count": 63,
   "metadata": {
    "ExecuteTime": {
     "end_time": "2024-09-09T03:46:02.128886Z",
     "start_time": "2024-09-09T03:46:02.123372Z"
    }
   },
   "outputs": [
    {
     "name": "stdout",
     "output_type": "stream",
     "text": [
      "{40, 10, 20, 30}\n",
      "<class 'set'>\n"
     ]
    }
   ],
   "source": [
    "#중복된 값은 스스로 제외하고 출력\n",
    "\n",
    "A = {10,20,30,40,10}\n",
    "print(A)\n",
    "print(type(A))"
   ]
  },
  {
   "cell_type": "code",
   "execution_count": 64,
   "metadata": {
    "ExecuteTime": {
     "end_time": "2024-09-09T03:46:02.968713Z",
     "start_time": "2024-09-09T03:46:02.963863Z"
    }
   },
   "outputs": [
    {
     "name": "stdout",
     "output_type": "stream",
     "text": [
      "{10}\n"
     ]
    }
   ],
   "source": [
    "B = {10,10,10,10,10,10}\n",
    "print(B)"
   ]
  },
  {
   "cell_type": "code",
   "execution_count": 65,
   "metadata": {
    "ExecuteTime": {
     "end_time": "2024-09-09T03:46:04.084925Z",
     "start_time": "2024-09-09T03:46:04.079321Z"
    }
   },
   "outputs": [
    {
     "name": "stdout",
     "output_type": "stream",
     "text": [
      "{1, 2, 3, 4, 5, 6}\n",
      "<class 'set'>\n"
     ]
    }
   ],
   "source": [
    "#괄호 내부에 있는 list를 set 형태로 선언\n",
    "\n",
    "S = set([1,2,3,4,5,6])\n",
    "print(S)\n",
    "print(type(S))"
   ]
  },
  {
   "cell_type": "code",
   "execution_count": 66,
   "metadata": {
    "ExecuteTime": {
     "end_time": "2024-09-09T03:46:04.812939Z",
     "start_time": "2024-09-09T03:46:04.806756Z"
    }
   },
   "outputs": [
    {
     "name": "stdout",
     "output_type": "stream",
     "text": [
      "{40, 50}\n",
      "{70, 40, 10, 50, 20, 60, 30}\n",
      "{10, 20, 30}\n",
      "{70, 10, 20, 60, 30}\n"
     ]
    }
   ],
   "source": [
    "C = {10,20,30,40,50}\n",
    "D = {40,50,60,70}\n",
    "\n",
    "#교집합 연산\n",
    "print(C&D)\n",
    "\n",
    "#합집합 연산\n",
    "print(C|D)\n",
    "\n",
    "#차집합 연산: C 집합에서 D 집합의 원소를 뺸 나머지\n",
    "print(C-D)\n",
    "\n",
    "#대상 차집합 연산: 교집합을 제외한 나머지 원소 출력\n",
    "print(C^D)"
   ]
  },
  {
   "cell_type": "markdown",
   "metadata": {},
   "source": [
    "* A.intersection(B) : A와 B의 교집합을 연산 (A&B와 같은 결과) \n",
    "* A.union(B) : A와 B의 합집합을 연산 (A|B와 같은 결과) \n",
    "* A.difference(B) : A와 B의 차집합을 연산 (A-B와 같은 결과) \n",
    "* A.add(n) : A의 Set에 n이라는 값을 추가\n",
    "* A.update([n1,n2,n3]) : A의 Set에 [n1,n2,n3]의 여러 값을 추가"
   ]
  },
  {
   "cell_type": "code",
   "execution_count": 67,
   "metadata": {
    "ExecuteTime": {
     "end_time": "2024-09-09T03:46:07.332111Z",
     "start_time": "2024-09-09T03:46:07.328796Z"
    }
   },
   "outputs": [
    {
     "name": "stdout",
     "output_type": "stream",
     "text": [
      "{40, 50}\n",
      "{70, 40, 10, 50, 20, 60, 30}\n",
      "{10, 20, 30}\n"
     ]
    }
   ],
   "source": [
    "print(C.intersection(D))\n",
    "print(C.union(D))\n",
    "print(C.difference(D))"
   ]
  },
  {
   "cell_type": "code",
   "execution_count": 68,
   "metadata": {
    "ExecuteTime": {
     "end_time": "2024-09-09T03:46:07.494179Z",
     "start_time": "2024-09-09T03:46:07.488582Z"
    }
   },
   "outputs": [
    {
     "data": {
      "text/plain": [
       "{10, 20, 30, 40, 50, 100}"
      ]
     },
     "execution_count": 68,
     "metadata": {},
     "output_type": "execute_result"
    }
   ],
   "source": [
    "C.add(100)\n",
    "C"
   ]
  },
  {
   "cell_type": "code",
   "execution_count": 69,
   "metadata": {
    "ExecuteTime": {
     "end_time": "2024-09-09T03:46:07.984906Z",
     "start_time": "2024-09-09T03:46:07.978803Z"
    }
   },
   "outputs": [
    {
     "data": {
      "text/plain": [
       "{1, 2, 3, 4, 5, 10, 20, 30, 40, 50, 100}"
      ]
     },
     "execution_count": 69,
     "metadata": {},
     "output_type": "execute_result"
    }
   ],
   "source": [
    "C.update([1,2,3,4,5])\n",
    "C"
   ]
  },
  {
   "cell_type": "markdown",
   "metadata": {},
   "source": [
    "-----"
   ]
  },
  {
   "cell_type": "markdown",
   "metadata": {},
   "source": [
    "### 딕셔너리 (Dictionary)"
   ]
  },
  {
   "cell_type": "markdown",
   "metadata": {},
   "source": [
    "* 딕셔너리 (Dictionary) : 데이터를 Key와 Value의 Pair 형태로 하나의 변수에 선언\n",
    "* 중괄호를 이용하여, key-value Pair 형태로 묶어줌  \n",
    "    ex) d = {“name” : “Kim”, “value” : 100 } -> Kim이라는 데이터가 name이라는 키값과 쌍을 이룸. 100이라는 데이터가 value라는 키값과 쌍을 이룸. \n",
    "* 매우 많이 사용되는 데이터 자료형 중 하나\n",
    "* 데이터를 구조적으로 다룰 수 있음\n",
    "* Key 값은 중복 되지 않음\n",
    "* 이후, Pandas 라이브러리의 Series 와 비슷한 개념"
   ]
  },
  {
   "cell_type": "code",
   "execution_count": 70,
   "metadata": {
    "ExecuteTime": {
     "end_time": "2024-09-09T03:46:10.138245Z",
     "start_time": "2024-09-09T03:46:10.132844Z"
    }
   },
   "outputs": [
    {
     "name": "stdout",
     "output_type": "stream",
     "text": [
      "{'A': 100, 'B': 200, 'C': 300}\n",
      "<class 'dict'>\n"
     ]
    }
   ],
   "source": [
    "D = {'A':100, 'B':200, 'C':300}\n",
    "print(D)\n",
    "print(type(D))"
   ]
  },
  {
   "cell_type": "code",
   "execution_count": 73,
   "metadata": {
    "ExecuteTime": {
     "end_time": "2024-09-09T03:46:17.982400Z",
     "start_time": "2024-09-09T03:46:17.976087Z"
    }
   },
   "outputs": [
    {
     "data": {
      "text/plain": [
       "{'이름': '제니', '전공': '경영', '학번': 21}"
      ]
     },
     "execution_count": 73,
     "metadata": {},
     "output_type": "execute_result"
    }
   ],
   "source": [
    "dict1 = {\"이름\":\"제니\", \"전공\":\"경영\", \"학번\":21}\n",
    "dict1"
   ]
  },
  {
   "cell_type": "code",
   "execution_count": 74,
   "metadata": {
    "ExecuteTime": {
     "end_time": "2024-09-09T03:46:18.701698Z",
     "start_time": "2024-09-09T03:46:18.696875Z"
    }
   },
   "outputs": [
    {
     "data": {
      "text/plain": [
       "'제니'"
      ]
     },
     "execution_count": 74,
     "metadata": {},
     "output_type": "execute_result"
    }
   ],
   "source": [
    "#D['Key']: D라는 딕셔너리의 Key값에 해당하는 Value값을 출력\n",
    "\n",
    "dict1['이름']"
   ]
  },
  {
   "cell_type": "code",
   "execution_count": 75,
   "metadata": {
    "ExecuteTime": {
     "end_time": "2024-09-09T03:46:19.449490Z",
     "start_time": "2024-09-09T03:46:19.443321Z"
    }
   },
   "outputs": [
    {
     "data": {
      "text/plain": [
       "'경영'"
      ]
     },
     "execution_count": 75,
     "metadata": {},
     "output_type": "execute_result"
    }
   ],
   "source": [
    "#D.get('Key'): D라는 딕셔너리의 Key값에 해당하는 Value값을 출력\n",
    "\n",
    "dict1.get('전공')"
   ]
  },
  {
   "cell_type": "code",
   "execution_count": 76,
   "metadata": {
    "ExecuteTime": {
     "end_time": "2024-09-09T03:46:20.265062Z",
     "start_time": "2024-09-09T03:46:20.259088Z"
    }
   },
   "outputs": [
    {
     "data": {
      "text/plain": [
       "dict_keys(['이름', '전공', '학번'])"
      ]
     },
     "execution_count": 76,
     "metadata": {},
     "output_type": "execute_result"
    }
   ],
   "source": [
    "#D.keys() : D라는 딕셔너리의 Key값을 모두 가져옴\n",
    "\n",
    "dict1.keys()"
   ]
  },
  {
   "cell_type": "code",
   "execution_count": 77,
   "metadata": {
    "ExecuteTime": {
     "end_time": "2024-09-09T03:46:20.897071Z",
     "start_time": "2024-09-09T03:46:20.891110Z"
    }
   },
   "outputs": [
    {
     "data": {
      "text/plain": [
       "dict_values(['제니', '경영', 21])"
      ]
     },
     "execution_count": 77,
     "metadata": {},
     "output_type": "execute_result"
    }
   ],
   "source": [
    "#D.value() : D라는 딕셔너리의 Value 값을 모두 가져옴\n",
    "\n",
    "dict1.values()"
   ]
  },
  {
   "cell_type": "code",
   "execution_count": 78,
   "metadata": {
    "ExecuteTime": {
     "end_time": "2024-09-09T03:46:30.171577Z",
     "start_time": "2024-09-09T03:46:30.164339Z"
    }
   },
   "outputs": [
    {
     "data": {
      "text/plain": [
       "{'이름': ['로제', '리사'], '전공': ['경영학', '수학'], '학번': [20, 22]}"
      ]
     },
     "execution_count": 78,
     "metadata": {},
     "output_type": "execute_result"
    }
   ],
   "source": [
    "#딕셔너리의 Value값도 List 형태로 넣을 수 있음\n",
    "\n",
    "dict1['이름'] = ['로제', '리사']\n",
    "dict1['전공'] = ['경영학', '수학']\n",
    "dict1['학번'] = [20, 22]\n",
    "dict1"
   ]
  },
  {
   "cell_type": "code",
   "execution_count": 79,
   "metadata": {
    "ExecuteTime": {
     "end_time": "2024-09-09T03:46:37.987508Z",
     "start_time": "2024-09-09T03:46:37.981340Z"
    }
   },
   "outputs": [
    {
     "data": {
      "text/plain": [
       "{'이름': ['제니'], '전공': ['경영'], '학번': [21]}"
      ]
     },
     "execution_count": 79,
     "metadata": {},
     "output_type": "execute_result"
    }
   ],
   "source": [
    "#딕셔너리와 리스트를 이용하여, 해당 Key 값에 Value를 계속 추가해 줄 수 있음\n",
    "\n",
    "names = [\"제니\"]\n",
    "majors = ['경영']\n",
    "classes = [21]\n",
    "\n",
    "dict3 = {\"이름\": names, '전공':majors, \"학번\": classes}\n",
    "dict3"
   ]
  },
  {
   "cell_type": "code",
   "execution_count": 80,
   "metadata": {
    "ExecuteTime": {
     "end_time": "2024-09-09T03:46:45.249775Z",
     "start_time": "2024-09-09T03:46:45.244826Z"
    }
   },
   "outputs": [],
   "source": [
    "names.append('지수')\n",
    "majors.append('경영학')\n",
    "classes.append(19)"
   ]
  },
  {
   "cell_type": "code",
   "execution_count": 81,
   "metadata": {
    "ExecuteTime": {
     "end_time": "2024-09-09T03:46:46.883218Z",
     "start_time": "2024-09-09T03:46:46.877572Z"
    }
   },
   "outputs": [
    {
     "data": {
      "text/plain": [
       "{'이름': ['제니', '지수'], '전공': ['경영', '경영학'], '학번': [21, 19]}"
      ]
     },
     "execution_count": 81,
     "metadata": {},
     "output_type": "execute_result"
    }
   ],
   "source": [
    "dict3 = {\"이름\": names, '전공':majors, \"학번\": classes}\n",
    "dict3"
   ]
  },
  {
   "cell_type": "markdown",
   "metadata": {},
   "source": [
    "#### 과제 3"
   ]
  },
  {
   "cell_type": "markdown",
   "metadata": {},
   "source": [
    "3. 간단한 영한 사전 만들기 -> 1부터 10까지 영어를 입력하면 한글로 출력되는 프로그램\n",
    "\n",
    "  (input 함수를 이용해서 값을 입력 받을 수 있음, Key-Value Pair를 이용해 프로그램 제작)"
   ]
  },
  {
   "cell_type": "code",
   "execution_count": 22,
   "metadata": {},
   "outputs": [
    {
     "data": {
      "text/plain": [
       "'하나'"
      ]
     },
     "execution_count": 22,
     "metadata": {},
     "output_type": "execute_result"
    }
   ],
   "source": [
    "NumDict = {'one':\"하나\",'two':\"둘\",'three':\"셋\",'four':\"넷\",'five':\"다섯\",'six':\"여섯\",'seven':\"일곱\",'eight':\"여덟\",'nine':\"아홉\",'ten':\"열\"}\n",
    "EngNum = input(\"Eng Num (1~10) : \")\n",
    "NumDict.get(EngNum)"
   ]
  },
  {
   "cell_type": "markdown",
   "metadata": {},
   "source": [
    "-----"
   ]
  },
  {
   "cell_type": "markdown",
   "metadata": {},
   "source": [
    "### 기본 연산자"
   ]
  },
  {
   "cell_type": "markdown",
   "metadata": {},
   "source": [
    "* 산술 연산자\n",
    "  - 연산의 우선순위 존재 : 거듭제곱 -> 곱셈 및 나눗셈 -> 나머지 및 몫 -> 덧셈 뺄셈 연산 (연산의 순위가 같을 경우, 왼쪽에서 오른쪽으로 연산 진행)\n",
    "\n",
    "* 비교 연산자\n",
    "  - 두 개의 연속형 데이터를 비교\n",
    "  - 명제가 맞는 경우 True, 틀린 경우 False의 Bool 형태 결과를 출력 (Boolean : 참 또는 거짓을 나타내는 자료형)\n",
    "  - Boolean의 경우 조건문에서 많이 사용\n",
    "\n",
    "* 논리 연산자 \n",
    "  - And / Or / Not : ~이고, 그리고 / ~이거나, 또는 / ~이 아니다"
   ]
  },
  {
   "cell_type": "code",
   "execution_count": 82,
   "metadata": {
    "ExecuteTime": {
     "end_time": "2024-09-09T03:48:12.541294Z",
     "start_time": "2024-09-09T03:48:12.536971Z"
    }
   },
   "outputs": [],
   "source": [
    "a = 100\n",
    "b = 35"
   ]
  },
  {
   "cell_type": "code",
   "execution_count": 83,
   "metadata": {
    "ExecuteTime": {
     "end_time": "2024-09-09T03:48:13.061252Z",
     "start_time": "2024-09-09T03:48:13.054694Z"
    }
   },
   "outputs": [
    {
     "data": {
      "text/plain": [
       "(135, 65)"
      ]
     },
     "execution_count": 83,
     "metadata": {},
     "output_type": "execute_result"
    }
   ],
   "source": [
    "#쉼표를 이용해, 여러 개의 결과를 동시에 출력 가능\n",
    "\n",
    "a+b, a-b"
   ]
  },
  {
   "cell_type": "code",
   "execution_count": 84,
   "metadata": {
    "ExecuteTime": {
     "end_time": "2024-09-09T03:48:13.291619Z",
     "start_time": "2024-09-09T03:48:13.286517Z"
    }
   },
   "outputs": [
    {
     "data": {
      "text/plain": [
       "(3500, 2.857142857142857)"
      ]
     },
     "execution_count": 84,
     "metadata": {},
     "output_type": "execute_result"
    }
   ],
   "source": [
    "a*b, a/b"
   ]
  },
  {
   "cell_type": "code",
   "execution_count": 85,
   "metadata": {
    "ExecuteTime": {
     "end_time": "2024-09-09T03:48:13.500599Z",
     "start_time": "2024-09-09T03:48:13.495675Z"
    }
   },
   "outputs": [
    {
     "data": {
      "text/plain": [
       "(2, 30)"
      ]
     },
     "execution_count": 85,
     "metadata": {},
     "output_type": "execute_result"
    }
   ],
   "source": [
    "a//b, a%b"
   ]
  },
  {
   "cell_type": "code",
   "execution_count": 86,
   "metadata": {
    "ExecuteTime": {
     "end_time": "2024-09-09T03:48:13.976536Z",
     "start_time": "2024-09-09T03:48:13.970936Z"
    }
   },
   "outputs": [
    {
     "data": {
      "text/plain": [
       "(False, True)"
      ]
     },
     "execution_count": 86,
     "metadata": {},
     "output_type": "execute_result"
    }
   ],
   "source": [
    "a = 50\n",
    "b = 67\n",
    "\n",
    "a>b, a<b"
   ]
  },
  {
   "cell_type": "code",
   "execution_count": 87,
   "metadata": {
    "ExecuteTime": {
     "end_time": "2024-09-09T03:48:15.772971Z",
     "start_time": "2024-09-09T03:48:15.767568Z"
    }
   },
   "outputs": [
    {
     "data": {
      "text/plain": [
       "(False, True)"
      ]
     },
     "execution_count": 87,
     "metadata": {},
     "output_type": "execute_result"
    }
   ],
   "source": [
    "a>=b, a<=b"
   ]
  },
  {
   "cell_type": "code",
   "execution_count": 88,
   "metadata": {
    "ExecuteTime": {
     "end_time": "2024-09-09T03:48:15.946539Z",
     "start_time": "2024-09-09T03:48:15.940310Z"
    }
   },
   "outputs": [
    {
     "data": {
      "text/plain": [
       "False"
      ]
     },
     "execution_count": 88,
     "metadata": {},
     "output_type": "execute_result"
    }
   ],
   "source": [
    "a==b"
   ]
  },
  {
   "cell_type": "code",
   "execution_count": 89,
   "metadata": {
    "ExecuteTime": {
     "end_time": "2024-09-09T03:48:16.147625Z",
     "start_time": "2024-09-09T03:48:16.143732Z"
    }
   },
   "outputs": [
    {
     "data": {
      "text/plain": [
       "True"
      ]
     },
     "execution_count": 89,
     "metadata": {},
     "output_type": "execute_result"
    }
   ],
   "source": [
    "a!=b"
   ]
  },
  {
   "cell_type": "code",
   "execution_count": 90,
   "metadata": {
    "ExecuteTime": {
     "end_time": "2024-09-09T03:48:16.596954Z",
     "start_time": "2024-09-09T03:48:16.592052Z"
    }
   },
   "outputs": [
    {
     "data": {
      "text/plain": [
       "bool"
      ]
     },
     "execution_count": 90,
     "metadata": {},
     "output_type": "execute_result"
    }
   ],
   "source": [
    "#결과에 대한 자료형을 type() 기능을 이용해 파악 가능\n",
    "\n",
    "type(a!=b)"
   ]
  },
  {
   "cell_type": "markdown",
   "metadata": {},
   "source": [
    "#### 과제 4~5"
   ]
  },
  {
   "cell_type": "markdown",
   "metadata": {},
   "source": [
    "4. 값을 입력 받아 원의 넓이를 구하는 프로그램 만들기 \n",
    "\n",
    " * input 함수를 이용해서 값을 입력 받을 수 있음, 입력 받은 변수를 활용해 계산식 세우기\n",
    " * 원 넓이 구하는 공식 : y = π x r² (π= 3.14 로 계산))"
   ]
  },
  {
   "cell_type": "code",
   "execution_count": 23,
   "metadata": {},
   "outputs": [
    {
     "data": {
      "text/plain": [
       "3.14"
      ]
     },
     "execution_count": 23,
     "metadata": {},
     "output_type": "execute_result"
    }
   ],
   "source": [
    "r = int(input())\n",
    "y = 3.14 * r * r\n",
    "y"
   ]
  },
  {
   "cell_type": "markdown",
   "metadata": {},
   "source": [
    "5. 금액을 입력했을 때, 상품 가격에 따른 잔돈을 반환하는 자판기 프로그램 만들기\n",
    "    - 금액과 상품가격은 input함수로 선언\n",
    "    - 잔돈은 500,100,50,10원 단위로 반환\n",
    "    - 잔돈은 가장 큰 금액부터 반환 예) 잔돈 760원 : 500원1개, 100원2개, 50원 1개, 10원 1개"
   ]
  },
  {
   "cell_type": "code",
   "execution_count": 31,
   "metadata": {},
   "outputs": [
    {
     "name": "stdout",
     "output_type": "stream",
     "text": [
      "가지고 있는 금액과 상품의 가격을 입력하세요 (공백으로 구분) \n",
      "total change :  760\n",
      "500원 개수 :  1\n",
      "100원 개수 2\n",
      "50원 개수 :  1\n",
      "10원 개수 :  1\n"
     ]
    }
   ],
   "source": [
    "print(\"가지고 있는 금액과 상품의 가격을 입력하세요 (공백으로 구분) \")\n",
    "amount, price = map(int, input().split())\n",
    "change = amount - price\n",
    "print(\"total change : \", change)\n",
    "print(\"500원 개수 : \",change // 500)\n",
    "change %= 500\n",
    "print(\"100원 개수\", change // 100)\n",
    "change %= 100\n",
    "print(\"50원 개수 : \", change // 50)\n",
    "change %= 50\n",
    "print(\"10원 개수 : \", change // 10)"
   ]
  },
  {
   "cell_type": "markdown",
   "metadata": {},
   "source": [
    "-----"
   ]
  },
  {
   "cell_type": "markdown",
   "metadata": {},
   "source": [
    "##  Statement & Function"
   ]
  },
  {
   "cell_type": "markdown",
   "metadata": {},
   "source": [
    "### 조건문 (if)"
   ]
  },
  {
   "cell_type": "markdown",
   "metadata": {
    "ExecuteTime": {
     "end_time": "2021-02-26T07:09:34.988691Z",
     "start_time": "2021-02-26T07:09:34.968207Z"
    }
   },
   "source": [
    "* 조건문 : 특정 상황에 대한 판단 또는 해당 조건에 대한 실행여부 결정\n",
    "* If문을 사용하여 구현함\n",
    "* 들여쓰기를 이용해, 해당 조건에 대한 수행문의 종속을 표현\n",
    "* 주로 비교 연산자와 함께 사용됨\n",
    "* 특히 데이터 전처리를 할 때, apply 함수와 함께 매우 많이 사용됨"
   ]
  },
  {
   "cell_type": "code",
   "execution_count": 91,
   "metadata": {
    "ExecuteTime": {
     "end_time": "2024-09-09T03:48:22.839177Z",
     "start_time": "2024-09-09T03:48:22.833171Z"
    }
   },
   "outputs": [
    {
     "name": "stdout",
     "output_type": "stream",
     "text": [
      "안녕하세요\n"
     ]
    }
   ],
   "source": [
    "#if 조건문을 이용한 연속형 변수 비교\n",
    "\n",
    "A = 100\n",
    "B = 200\n",
    "\n",
    "if A>B:\n",
    "    print(\"Hi\")\n",
    "else:\n",
    "    print(\"안녕하세요\")"
   ]
  },
  {
   "cell_type": "code",
   "execution_count": 92,
   "metadata": {
    "ExecuteTime": {
     "end_time": "2024-09-09T03:48:32.539793Z",
     "start_time": "2024-09-09T03:48:22.992861Z"
    }
   },
   "outputs": [
    {
     "name": "stdout",
     "output_type": "stream",
     "text": [
      "첫번째 정수를 입력하세요 : 12\n",
      "두번째 정수를 입력하세요 : 10\n",
      "첫번째 정수  12 가 더 큽니다.\n",
      "첫번째 정수와 두번째 정수가 다릅니다.\n"
     ]
    }
   ],
   "source": [
    "#입력 함수를 이용하여 숫자를 비교하는 프로그램\n",
    "\n",
    "C = int(input(\"첫번째 정수를 입력하세요 : \"))\n",
    "D = int(input(\"두번째 정수를 입력하세요 : \"))\n",
    "\n",
    "if C>D:\n",
    "    print(\"첫번째 정수 \",C,\"가 더 큽니다.\")\n",
    "else :\n",
    "    print(\"두번째 정수 \",D,\"가 더 큽니다.\")\n",
    "\n",
    "if C==D:\n",
    "    print(\"첫번째 정수와 두번째 정수가 같습니다.\")\n",
    "else:\n",
    "    print(\"첫번째 정수와 두번째 정수가 다릅니다.\")"
   ]
  },
  {
   "cell_type": "markdown",
   "metadata": {},
   "source": [
    "- 여러 가지 조건을 동시에 판별할 땐, elif 구문을 이용\n",
    "- elif문은 개수의 제한 없이 사용 가능\n",
    "- 특정 조건에 수행할 문장을 사용하지 않을 땐, Pass 구문을 이용"
   ]
  },
  {
   "cell_type": "code",
   "execution_count": 93,
   "metadata": {
    "ExecuteTime": {
     "end_time": "2024-09-09T03:48:39.964395Z",
     "start_time": "2024-09-09T03:48:37.786671Z"
    }
   },
   "outputs": [
    {
     "name": "stdout",
     "output_type": "stream",
     "text": [
      "성적을 입력하세요! : 98\n",
      "학생의 성적은 A+입니다.\n"
     ]
    }
   ],
   "source": [
    "#if문을 이용한 성적처리 프로그램\n",
    "\n",
    "score = int(input(\"성적을 입력하세요! : \"))\n",
    "\n",
    "if score >= 95:\n",
    "    print(\"학생의 성적은 A+입니다.\")\n",
    "elif score >= 90:\n",
    "    print(\"학생의 성적은 A입니다.\")\n",
    "elif score >=80 :\n",
    "    print(\"학생의 성적은 B입니다.\")\n",
    "elif score >=70 :\n",
    "    print(\"학생의 성적은 C입니다.\")\n",
    "else:\n",
    "    print(\"학생의 성적은 F입니다.\")"
   ]
  },
  {
   "cell_type": "code",
   "execution_count": 94,
   "metadata": {
    "ExecuteTime": {
     "end_time": "2024-09-09T03:48:45.021066Z",
     "start_time": "2024-09-09T03:48:45.016430Z"
    }
   },
   "outputs": [],
   "source": [
    "#Pass 구문의 사용\n",
    "\n",
    "A,B = 100, 20\n",
    "\n",
    "if A>B:\n",
    "    pass\n",
    "else:\n",
    "    print(\"Error\")"
   ]
  },
  {
   "cell_type": "markdown",
   "metadata": {},
   "source": [
    "#### 과제 6"
   ]
  },
  {
   "cell_type": "markdown",
   "metadata": {},
   "source": [
    "6. 값을 입력 받아 홀수인지 짝수인지 판별하는 프로그램 만들기"
   ]
  },
  {
   "cell_type": "code",
   "execution_count": 33,
   "metadata": {},
   "outputs": [
    {
     "name": "stdout",
     "output_type": "stream",
     "text": [
      "값을 입력하세요\n",
      "짝수\n"
     ]
    }
   ],
   "source": [
    "print(\"값을 입력하세요\")\n",
    "value = int(input())\n",
    "\n",
    "if value % 2:\n",
    "  print(\"홀수\")\n",
    "else:\n",
    "  print(\"짝수\")"
   ]
  },
  {
   "cell_type": "markdown",
   "metadata": {},
   "source": [
    "-----"
   ]
  },
  {
   "cell_type": "markdown",
   "metadata": {},
   "source": [
    "### 반복문 (While, For)"
   ]
  },
  {
   "cell_type": "markdown",
   "metadata": {},
   "source": [
    "* 반복문 : 특정 수식이나 기능을 반복 수행할 때 사용\n",
    "* 특정 조건이 맞을 때, 계속 반복되는 구조\n",
    "* 들여쓰기를 이용해, 반복 조건에 대한 수행문의 종속을 표현\n",
    "* 주로 수학연산에서 사용\n",
    "* 데이터 전처리를 할 때, 문자열 처리에서 많이 사용됨\n",
    "\n"
   ]
  },
  {
   "cell_type": "markdown",
   "metadata": {},
   "source": [
    "#### While문"
   ]
  },
  {
   "cell_type": "code",
   "execution_count": 95,
   "metadata": {
    "ExecuteTime": {
     "end_time": "2024-09-09T03:48:47.844290Z",
     "start_time": "2024-09-09T03:48:47.838746Z"
    }
   },
   "outputs": [
    {
     "name": "stdout",
     "output_type": "stream",
     "text": [
      "Hi Python~!\n",
      "Hi Python~!\n",
      "Hi Python~!\n",
      "Hi Python~!\n",
      "Hi Python~!\n",
      "반복종료\n"
     ]
    }
   ],
   "source": [
    "i = 0 \n",
    "\n",
    "while i <5:\n",
    "    print(\"Hi Python~!\")\n",
    "    i = i+1\n",
    "\n",
    "print(\"반복종료\")"
   ]
  },
  {
   "cell_type": "code",
   "execution_count": 96,
   "metadata": {
    "ExecuteTime": {
     "end_time": "2024-09-09T03:48:48.248800Z",
     "start_time": "2024-09-09T03:48:48.242267Z"
    }
   },
   "outputs": [
    {
     "name": "stdout",
     "output_type": "stream",
     "text": [
      "Hello\n",
      "Hello\n",
      "Hello\n",
      "강제 탈출\n",
      "반복종료\n"
     ]
    }
   ],
   "source": [
    "#While문은 일반적으로 특정 조건만 만족되면 수행문이 반복되기 때문에\n",
    "#중간에 수행문을 멈출 조건을 걸어줘야 함\n",
    "\n",
    "i=1\n",
    "while i>0:\n",
    "    print(\"Hello\")\n",
    "    i = i+1\n",
    "    \n",
    "    if i>3 :\n",
    "        print(\"강제 탈출\")\n",
    "        break             #break문을 이용하면, 바로 While문을 나올 수 있음.\n",
    "\n",
    "print(\"반복종료\")"
   ]
  },
  {
   "cell_type": "markdown",
   "metadata": {},
   "source": [
    "#### for문"
   ]
  },
  {
   "cell_type": "code",
   "execution_count": 97,
   "metadata": {
    "ExecuteTime": {
     "end_time": "2024-09-09T03:48:51.152156Z",
     "start_time": "2024-09-09T03:48:51.148130Z"
    }
   },
   "outputs": [
    {
     "name": "stdout",
     "output_type": "stream",
     "text": [
      "1\n",
      "2\n",
      "3\n",
      "4\n",
      "5\n",
      "6\n",
      "7\n",
      "8\n",
      "9\n"
     ]
    }
   ],
   "source": [
    "#For문은 기본적으로 range( ) 함수와 같이 사용이 됨\n",
    "\n",
    "for i in range(1,10):  # range(0,n+1) : 0부터 n까지의 범위를 부여한다.\n",
    "    print(i)"
   ]
  },
  {
   "cell_type": "code",
   "execution_count": 98,
   "metadata": {
    "ExecuteTime": {
     "end_time": "2024-09-09T03:48:51.344133Z",
     "start_time": "2024-09-09T03:48:51.337999Z"
    }
   },
   "outputs": [
    {
     "name": "stdout",
     "output_type": "stream",
     "text": [
      "a\n",
      "b\n",
      "c\n",
      "d\n"
     ]
    }
   ],
   "source": [
    "#여러 가지 자료형을 이용한 For 문\n",
    "\n",
    "list1 = ['a','b','c','d']\n",
    "for i in list1:\n",
    "    print(i)"
   ]
  },
  {
   "cell_type": "code",
   "execution_count": 99,
   "metadata": {
    "ExecuteTime": {
     "end_time": "2024-09-09T03:48:51.558862Z",
     "start_time": "2024-09-09T03:48:51.553203Z"
    }
   },
   "outputs": [
    {
     "name": "stdout",
     "output_type": "stream",
     "text": [
      "3\n",
      "7\n",
      "11\n"
     ]
    }
   ],
   "source": [
    "a = [(1,2),(3,4),(5,6)]\n",
    "for (n1,n2) in a:\n",
    "    print(n1+n2)"
   ]
  },
  {
   "cell_type": "code",
   "execution_count": 100,
   "metadata": {
    "ExecuteTime": {
     "end_time": "2024-09-09T03:48:51.728466Z",
     "start_time": "2024-09-09T03:48:51.723426Z"
    }
   },
   "outputs": [
    {
     "name": "stdout",
     "output_type": "stream",
     "text": [
      "합격입니다.\n",
      "불합격입니다.\n",
      "불합격입니다.\n",
      "합격입니다.\n",
      "불합격입니다.\n",
      "불합격입니다.\n"
     ]
    }
   ],
   "source": [
    "# for문과 if문을 같이 사용한 경우 (자동업무 구현에 많이 사용)\n",
    "\n",
    "score = [100,23,30,76,34,50]\n",
    "num=0\n",
    "\n",
    "for i in score:\n",
    "    num = num+1\n",
    "    if i>60:\n",
    "        print(\"합격입니다.\")\n",
    "    else:\n",
    "        print(\"불합격입니다.\")"
   ]
  },
  {
   "cell_type": "code",
   "execution_count": null,
   "metadata": {
    "ExecuteTime": {
     "end_time": "2024-09-09T06:05:43.068546Z",
     "start_time": "2024-09-09T06:05:43.062227Z"
    }
   },
   "outputs": [
    {
     "name": "stdout",
     "output_type": "stream",
     "text": [
      "5050\n"
     ]
    }
   ],
   "source": [
    "# 1부터 n-1까지 더하는 프로그램\n",
    "\n",
    "total = 0\n",
    "\n",
    "for i in range(1,101):\n",
    "    total = total+i\n",
    "\n",
    "print(total)"
   ]
  },
  {
   "cell_type": "markdown",
   "metadata": {
    "ExecuteTime": {
     "end_time": "2021-02-26T07:37:50.851215Z",
     "start_time": "2021-02-26T07:37:50.835330Z"
    }
   },
   "source": [
    "#### 과제 7~8"
   ]
  },
  {
   "cell_type": "markdown",
   "metadata": {},
   "source": [
    "7. For 반복문을 중첩하여, 아래와 같이 * 기호를 피라미드로 출력하는 프로그램 제작"
   ]
  },
  {
   "cell_type": "code",
   "execution_count": null,
   "metadata": {
    "ExecuteTime": {
     "end_time": "2021-02-26T07:39:39.217566Z",
     "start_time": "2021-02-26T07:39:39.204604Z"
    }
   },
   "outputs": [
    {
     "ename": "",
     "evalue": "",
     "output_type": "error",
     "traceback": [
      "\u001b[1;31m원격 Jupyter 서버 'http://localhost:8888/'에 연결하지 못했습니다. 서버가 실행 중이고 연결할 수 있는지 확인합니다."
     ]
    }
   ],
   "source": [
    "for i in range(1,6):\n",
    "  str = \"*\"*i\n",
    "  print(str)"
   ]
  },
  {
   "cell_type": "markdown",
   "metadata": {},
   "source": [
    "8. For문과 If문을 이용하여, 아래의 리스트의 최댓값을 구하는 프로그램 제작\n",
    "\n",
    "    list = [1,24,3,44,1000,2,0,74] / 결과 : 1000"
   ]
  },
  {
   "cell_type": "code",
   "execution_count": 2,
   "metadata": {},
   "outputs": [
    {
     "name": "stdout",
     "output_type": "stream",
     "text": [
      "1000\n"
     ]
    }
   ],
   "source": [
    "list = [1,24,3,44,1000,2,0,74]\n",
    "max_val = list[0]\n",
    "for i in list:\n",
    "  if max_val < i:\n",
    "    max_val = i\n",
    "print(max_val)\n"
   ]
  },
  {
   "cell_type": "markdown",
   "metadata": {},
   "source": [
    "-----"
   ]
  },
  {
   "cell_type": "markdown",
   "metadata": {},
   "source": [
    "### 함수\n",
    "* 함수 : 입력 X 값에 대한 결과 Y값을 반환(Return)하는 기능을 하나의 묶음으로 선언\n",
    "* Input X 와 Output Y\n",
    "* 반복적으로 사용되는 특별한 기능을 함수로 선언\n",
    "* 여러 함수들의 집합을 ‘모듈(module)’이라고 부름\n",
    "* 복잡한 데이터를 전처리할 때, 특정 기능을 반복적으로 구현하고 싶을 때 사용\n",
    "\n"
   ]
  },
  {
   "cell_type": "code",
   "execution_count": 118,
   "metadata": {
    "ExecuteTime": {
     "end_time": "2024-09-09T06:04:59.611461Z",
     "start_time": "2024-09-09T06:04:57.131678Z"
    }
   },
   "outputs": [
    {
     "name": "stdout",
     "output_type": "stream",
     "text": [
      "정수를 입력하시오 : 18\n"
     ]
    },
    {
     "data": {
      "text/plain": [
       "171.0"
      ]
     },
     "execution_count": 118,
     "metadata": {},
     "output_type": "execute_result"
    }
   ],
   "source": [
    "#함수는 코드가 진행될 때, 함수 이름이 언급되지 않으면 실행 되지 않음\n",
    "#입력 받은 수의 합을 구하는 함수\n",
    "\n",
    "def hap(num): \n",
    "    for i in range(1,num+1): \n",
    "        hap = num*(num+1)/2 \n",
    "    return hap\n",
    "\n",
    "num = int(input(\"정수를 입력하시오 : \")) \n",
    "hap(num)"
   ]
  },
  {
   "cell_type": "code",
   "execution_count": 107,
   "metadata": {
    "ExecuteTime": {
     "end_time": "2024-09-09T03:49:39.863736Z",
     "start_time": "2024-09-09T03:49:39.857376Z"
    }
   },
   "outputs": [],
   "source": [
    "#한번 선언된 함수는 다른 코드 입력 창에서 입력을 해도 사용 가능\n",
    "\n",
    "def circle_area(r):\n",
    "    return (r**2)*(3.14)"
   ]
  },
  {
   "cell_type": "code",
   "execution_count": 108,
   "metadata": {
    "ExecuteTime": {
     "end_time": "2024-09-09T03:49:40.322263Z",
     "start_time": "2024-09-09T03:49:40.315669Z"
    }
   },
   "outputs": [
    {
     "data": {
      "text/plain": [
       "3140000.0"
      ]
     },
     "execution_count": 108,
     "metadata": {},
     "output_type": "execute_result"
    }
   ],
   "source": [
    "data = 1000\n",
    "circle_area(data)"
   ]
  },
  {
   "cell_type": "code",
   "execution_count": 109,
   "metadata": {
    "ExecuteTime": {
     "end_time": "2024-09-09T03:49:40.958000Z",
     "start_time": "2024-09-09T03:49:40.950902Z"
    }
   },
   "outputs": [
    {
     "data": {
      "text/plain": [
       "6280000000.0"
      ]
     },
     "execution_count": 109,
     "metadata": {},
     "output_type": "execute_result"
    }
   ],
   "source": [
    "# 두 개의 입력 값을 받아 하나의 결과 값을 출력\n",
    "\n",
    "def cylinder_volume(r,h):\n",
    "    return (r**2)*(3.14)*h\n",
    "\n",
    "num1 = 1000\n",
    "num2 = 2000\n",
    "\n",
    "cylinder_volume(num1,num2)"
   ]
  },
  {
   "cell_type": "code",
   "execution_count": 110,
   "metadata": {
    "ExecuteTime": {
     "end_time": "2024-09-09T03:49:45.316981Z",
     "start_time": "2024-09-09T03:49:45.309126Z"
    }
   },
   "outputs": [
    {
     "data": {
      "text/plain": [
       "(5, 10, 15)"
      ]
     },
     "execution_count": 110,
     "metadata": {},
     "output_type": "execute_result"
    }
   ],
   "source": [
    "#하나의 값을 입력해 여러 개의 결과 값을 출력\n",
    "\n",
    "def timetable(data):\n",
    "    list1 = [data * 1, data * 2, data * 3]\n",
    "    return list1[0], list1[1], list1[2]\n",
    "\n",
    "timetable(5)"
   ]
  },
  {
   "cell_type": "code",
   "execution_count": 112,
   "metadata": {
    "ExecuteTime": {
     "end_time": "2024-09-09T03:49:56.675223Z",
     "start_time": "2024-09-09T03:49:56.668623Z"
    }
   },
   "outputs": [
    {
     "data": {
      "text/plain": [
       "'2024-09-09'"
      ]
     },
     "execution_count": 112,
     "metadata": {},
     "output_type": "execute_result"
    }
   ],
   "source": [
    "# 날짜 데이터를 함수를 이용해 처리\n",
    "\n",
    "def datetime(date):\n",
    "    date = str(date)\n",
    "    result1 = date[0:4]+\"-\"+date[4:6]+\"-\"+date[6:]\n",
    "    return result1\n",
    "\n",
    "datetime(20240909)"
   ]
  },
  {
   "cell_type": "markdown",
   "metadata": {},
   "source": [
    "#### 과제 9"
   ]
  },
  {
   "cell_type": "markdown",
   "metadata": {},
   "source": [
    "9. 입력하는 모든 수의 평균을 계산하는 함수 만들기"
   ]
  },
  {
   "cell_type": "code",
   "execution_count": 1,
   "metadata": {
    "ExecuteTime": {
     "end_time": "2024-09-09T06:12:23.770584Z",
     "start_time": "2024-09-09T06:12:23.737521Z"
    }
   },
   "outputs": [
    {
     "name": "stdout",
     "output_type": "stream",
     "text": [
      "5\n",
      "48.2\n"
     ]
    }
   ],
   "source": [
    "def means(*args):    #입력 개수에 상관없이 사용하기 위해, 함수 입력 값 자리에 *args를 사용\n",
    "    total = 0\n",
    "    cnt = 0\n",
    "    for i in args:\n",
    "        total+=i\n",
    "        cnt += 1\n",
    "    print(cnt)\n",
    "    return total / cnt\n",
    "\n",
    "print(means(1, 5, 6, 7, 222))"
   ]
  },
  {
   "cell_type": "markdown",
   "metadata": {},
   "source": [
    "-----"
   ]
  },
  {
   "cell_type": "markdown",
   "metadata": {
    "ExecuteTime": {
     "end_time": "2021-02-28T12:33:26.853339Z",
     "start_time": "2021-02-28T12:33:26.846357Z"
    }
   },
   "source": [
    "### 라이브러리 (Numpy & Pandas)"
   ]
  },
  {
   "cell_type": "markdown",
   "metadata": {},
   "source": [
    "* 모듈 : 여러 함수들을 모아놓은 집합\n",
    "* 라이브러리 : 특정 기능을 지원하는 모듈 및 함수를 모아놓은 집합\n",
    "* 기능에 따라 여러 가지 라이브러리가 존재 (시각화, 웹 서비스, 데이터 분석, 머신러닝, 등…) \n",
    "* 필요에 따라 라이브러리를 직접 만들기도 함\n",
    "* Anaconda를 설치하면, 데이터 분석에 필요한 기본 라이브러리들이 포함되어 설치됨\n",
    "* 데이터 분석에서 기초적으로 Numpy 와 Pandas 를 많이 사용"
   ]
  },
  {
   "cell_type": "markdown",
   "metadata": {},
   "source": [
    "#### Numpy"
   ]
  },
  {
   "cell_type": "markdown",
   "metadata": {},
   "source": [
    "- Numpy : Numeric + Python의 약자 , 수학 및 과학 연산 라이브러리\n",
    "- 배열이나 행렬계산에 필요한 함수 제공\n",
    "- 수열 데이터를 다룰 때 용이, 이후에 Pandas에서 DataFrame 형태로 사용\n",
    "- 다차원 배열(Array)를 다룰 때 주로 사용 (인공신경망, 비정형 데이터 처리, 자연어 처리 등)"
   ]
  },
  {
   "cell_type": "code",
   "execution_count": 1,
   "metadata": {
    "ExecuteTime": {
     "end_time": "2024-09-09T06:06:01.248718Z",
     "start_time": "2024-09-09T06:06:01.080297Z"
    }
   },
   "outputs": [],
   "source": [
    "#Numpy 라이브러리 호출하여, np라는 약자로 사용\n",
    "#Numpy 내에 함수를 사용할 때, 반드시 np라는 문자를 붙임\n",
    "\n",
    "import numpy as np"
   ]
  },
  {
   "cell_type": "code",
   "execution_count": 6,
   "metadata": {
    "ExecuteTime": {
     "end_time": "2024-09-09T06:06:01.480930Z",
     "start_time": "2024-09-09T06:06:01.469184Z"
    }
   },
   "outputs": [
    {
     "ename": "AttributeError",
     "evalue": "'list' object has no attribute 'mean'",
     "output_type": "error",
     "traceback": [
      "\u001b[0;31m---------------------------------------------------------------------------\u001b[0m",
      "\u001b[0;31mAttributeError\u001b[0m                            Traceback (most recent call last)",
      "\u001b[0;32m/tmp/ipykernel_6113/13861837.py\u001b[0m in \u001b[0;36m<module>\u001b[0;34m\u001b[0m\n\u001b[1;32m      2\u001b[0m \u001b[0;34m\u001b[0m\u001b[0m\n\u001b[1;32m      3\u001b[0m \u001b[0mdata\u001b[0m \u001b[0;34m=\u001b[0m \u001b[0;34m[\u001b[0m\u001b[0;36m6\u001b[0m\u001b[0;34m,\u001b[0m\u001b[0;36m5\u001b[0m\u001b[0;34m,\u001b[0m\u001b[0;36m7\u001b[0m\u001b[0;34m,\u001b[0m\u001b[0;36m3\u001b[0m\u001b[0;34m,\u001b[0m\u001b[0;36m4\u001b[0m\u001b[0;34m,\u001b[0m\u001b[0;36m2\u001b[0m\u001b[0;34m]\u001b[0m\u001b[0;34m\u001b[0m\u001b[0;34m\u001b[0m\u001b[0m\n\u001b[0;32m----> 4\u001b[0;31m \u001b[0mdata\u001b[0m\u001b[0;34m.\u001b[0m\u001b[0mmean\u001b[0m\u001b[0;34m(\u001b[0m\u001b[0;34m)\u001b[0m\u001b[0;34m\u001b[0m\u001b[0;34m\u001b[0m\u001b[0m\n\u001b[0m",
      "\u001b[0;31mAttributeError\u001b[0m: 'list' object has no attribute 'mean'"
     ]
    }
   ],
   "source": [
    "#에러 발생 - 리스트의 경우 통계연산이 불가능 \n",
    "\n",
    "data = [6,5,7,3,4,2]\n",
    "data.mean() "
   ]
  },
  {
   "cell_type": "code",
   "execution_count": 7,
   "metadata": {
    "ExecuteTime": {
     "end_time": "2024-09-09T06:06:02.073848Z",
     "start_time": "2024-09-09T06:06:02.068729Z"
    }
   },
   "outputs": [
    {
     "data": {
      "text/plain": [
       "4.5"
      ]
     },
     "execution_count": 7,
     "metadata": {},
     "output_type": "execute_result"
    }
   ],
   "source": [
    "#다차원 배열(ndarray)의 경우 통계를 포함한 모든 수학적 연산 지원\n",
    "\n",
    "arr = np.array(data) \n",
    "arr.mean()  "
   ]
  },
  {
   "cell_type": "code",
   "execution_count": 26,
   "metadata": {
    "ExecuteTime": {
     "end_time": "2024-09-09T06:06:02.431880Z",
     "start_time": "2024-09-09T06:06:02.429343Z"
    }
   },
   "outputs": [
    {
     "name": "stdout",
     "output_type": "stream",
     "text": [
      "<class 'list'>\n",
      "<class 'numpy.ndarray'>\n"
     ]
    }
   ],
   "source": [
    "#리스트와 배열의 데이터 타입\n",
    "\n",
    "print(type(data))\n",
    "print(type(arr))"
   ]
  },
  {
   "cell_type": "code",
   "execution_count": 126,
   "metadata": {
    "ExecuteTime": {
     "end_time": "2024-09-09T06:06:02.625111Z",
     "start_time": "2024-09-09T06:06:02.618960Z"
    }
   },
   "outputs": [
    {
     "data": {
      "text/plain": [
       "dtype('int64')"
      ]
     },
     "execution_count": 126,
     "metadata": {},
     "output_type": "execute_result"
    }
   ],
   "source": [
    "#배열 내부에는 여러 형태의 데이터 타입이 올 수 있음\n",
    "#변수 선언 시 자동으로 데이터 타입 결정\n",
    "\n",
    "arr1 = np.array([1,2,3,4,5])\n",
    "arr1.dtype"
   ]
  },
  {
   "cell_type": "code",
   "execution_count": 127,
   "metadata": {
    "ExecuteTime": {
     "end_time": "2024-09-09T06:06:02.797810Z",
     "start_time": "2024-09-09T06:06:02.792028Z"
    }
   },
   "outputs": [
    {
     "data": {
      "text/plain": [
       "dtype('float64')"
      ]
     },
     "execution_count": 127,
     "metadata": {},
     "output_type": "execute_result"
    }
   ],
   "source": [
    "arr2 = np.array([1.1, 2.3, 3.4, 4.5, 5.3])\n",
    "arr2.dtype"
   ]
  },
  {
   "cell_type": "code",
   "execution_count": 8,
   "metadata": {
    "ExecuteTime": {
     "end_time": "2024-09-09T06:06:02.964241Z",
     "start_time": "2024-09-09T06:06:02.957781Z"
    }
   },
   "outputs": [
    {
     "name": "stdout",
     "output_type": "stream",
     "text": [
      "['A' 'B' 'C' 'D' 'E']\n",
      "['제니' '로제' '지수' '리사']\n",
      "<U1\n",
      "<U2\n"
     ]
    }
   ],
   "source": [
    "arr3 = np.array(['A', 'B', 'C', 'D', 'E'])\n",
    "arr4 = np.array(['제니', '로제', '지수', '리사'])\n",
    "print(arr3)\n",
    "print(arr4)\n",
    "print(arr3.dtype)\n",
    "print(arr4.dtype)"
   ]
  },
  {
   "cell_type": "code",
   "execution_count": 129,
   "metadata": {
    "ExecuteTime": {
     "end_time": "2024-09-09T06:06:03.131267Z",
     "start_time": "2024-09-09T06:06:03.121635Z"
    }
   },
   "outputs": [
    {
     "name": "stdout",
     "output_type": "stream",
     "text": [
      "<class 'numpy.ndarray'>\n"
     ]
    },
    {
     "data": {
      "text/plain": [
       "array([[1, 2, 3],\n",
       "       [4, 5, 6],\n",
       "       [7, 8, 9]])"
      ]
     },
     "execution_count": 129,
     "metadata": {},
     "output_type": "execute_result"
    }
   ],
   "source": [
    "#이중 리스트를 이용해 행렬(Matrix)을 구현 가능\n",
    "# 3X3 행렬의 구현\n",
    "\n",
    "data = [\n",
    "    [1,2,3],\n",
    "    [4,5,6],\n",
    "    [7,8,9]\n",
    "]\n",
    "matrix = np.array(data)\n",
    "print(type(matrix))\n",
    "matrix"
   ]
  },
  {
   "cell_type": "code",
   "execution_count": 19,
   "metadata": {
    "ExecuteTime": {
     "end_time": "2024-09-09T06:06:03.293872Z",
     "start_time": "2024-09-09T06:06:03.287411Z"
    }
   },
   "outputs": [
    {
     "data": {
      "text/plain": [
       "array([[ 1,  2],\n",
       "       [ 2,  3],\n",
       "       [19, 30]])"
      ]
     },
     "execution_count": 19,
     "metadata": {},
     "output_type": "execute_result"
    }
   ],
   "source": [
    "# 행렬간 사칙연산\n",
    "\n",
    "matrix = np.array([[1,2],[2,3],[19,30]])\n",
    "matrix"
   ]
  },
  {
   "cell_type": "code",
   "execution_count": 131,
   "metadata": {
    "ExecuteTime": {
     "end_time": "2024-09-09T06:06:03.496445Z",
     "start_time": "2024-09-09T06:06:03.491331Z"
    }
   },
   "outputs": [
    {
     "data": {
      "text/plain": [
       "array([[3, 4],\n",
       "       [5, 6],\n",
       "       [3, 5]])"
      ]
     },
     "execution_count": 131,
     "metadata": {},
     "output_type": "execute_result"
    }
   ],
   "source": [
    "matrix_2 = np.array([[3,4],[5,6],[3,5]])\n",
    "matrix_2"
   ]
  },
  {
   "cell_type": "code",
   "execution_count": 132,
   "metadata": {
    "ExecuteTime": {
     "end_time": "2024-09-09T06:06:08.291399Z",
     "start_time": "2024-09-09T06:06:08.286225Z"
    }
   },
   "outputs": [
    {
     "name": "stdout",
     "output_type": "stream",
     "text": [
      "[[  3   8]\n",
      " [ 10  18]\n",
      " [ 57 150]]\n",
      "---------------\n",
      "[[-2 -2]\n",
      " [-3 -3]\n",
      " [16 25]]\n"
     ]
    }
   ],
   "source": [
    "# '*'는 원소별 곱셈을 나타낸다. 행렬간 곱셈이 아니다\n",
    "print(matrix * matrix_2)\n",
    "print(\"---------------\")\n",
    "print(matrix - matrix_2)"
   ]
  },
  {
   "cell_type": "code",
   "execution_count": 133,
   "metadata": {
    "ExecuteTime": {
     "end_time": "2024-09-09T06:06:08.510166Z",
     "start_time": "2024-09-09T06:06:08.504495Z"
    }
   },
   "outputs": [
    {
     "data": {
      "text/plain": [
       "array([[  1,   4],\n",
       "       [  4,   9],\n",
       "       [361, 900]])"
      ]
     },
     "execution_count": 133,
     "metadata": {},
     "output_type": "execute_result"
    }
   ],
   "source": [
    "#행렬의 제곱연산\n",
    "\n",
    "matrix **2"
   ]
  },
  {
   "cell_type": "code",
   "execution_count": 134,
   "metadata": {
    "ExecuteTime": {
     "end_time": "2024-09-09T06:06:08.681993Z",
     "start_time": "2024-09-09T06:06:08.675074Z"
    }
   },
   "outputs": [
    {
     "data": {
      "text/plain": [
       "(2, 2)"
      ]
     },
     "execution_count": 134,
     "metadata": {},
     "output_type": "execute_result"
    }
   ],
   "source": [
    "#shape: 행렬의 구조 출력, n개의 행의 m개의 열로 구성된 행렬은 (n,m)으로 출력\n",
    "\n",
    "arr_b = np.array([[1,2,],[2,3]])\n",
    "arr_b.shape"
   ]
  },
  {
   "cell_type": "markdown",
   "metadata": {},
   "source": [
    "* np.arange(n) : 0부터 n까지의 값을 가지는 배열 생성\n",
    "* np.arange(n,m) : n부터 m-1 까지 값을 갖는 배열 생성 \n",
    "* np.arrange(n,m,k) : n부터 m-1 까지 k씩 증가시켜 배열 생성 \n",
    "* np.random.randn(n) : 평균이 0이고 표준편차가 1인 n개의 데이터를 무작위로 생성\n",
    "* np.random.randn(n,m) : 평균이 0이고 표준편차가 1인 n개의 데이터를 nxm 행렬의 형태로 생성"
   ]
  },
  {
   "cell_type": "code",
   "execution_count": 9,
   "metadata": {
    "ExecuteTime": {
     "end_time": "2024-09-09T06:06:09.065637Z",
     "start_time": "2024-09-09T06:06:09.059898Z"
    }
   },
   "outputs": [
    {
     "data": {
      "text/plain": [
       "array([0, 1, 2, 3, 4, 5, 6, 7, 8, 9])"
      ]
     },
     "execution_count": 9,
     "metadata": {},
     "output_type": "execute_result"
    }
   ],
   "source": [
    "# arange함수를 이용한 데이터 자동 생성\n",
    "\n",
    "arr5 = np.arange(10)\n",
    "arr5"
   ]
  },
  {
   "cell_type": "code",
   "execution_count": 136,
   "metadata": {
    "ExecuteTime": {
     "end_time": "2024-09-09T06:06:09.264432Z",
     "start_time": "2024-09-09T06:06:09.259213Z"
    }
   },
   "outputs": [
    {
     "data": {
      "text/plain": [
       "array([1, 3, 5, 7, 9])"
      ]
     },
     "execution_count": 136,
     "metadata": {},
     "output_type": "execute_result"
    }
   ],
   "source": [
    "arr6 = np.arange(1,10,2)\n",
    "arr6"
   ]
  },
  {
   "cell_type": "code",
   "execution_count": 137,
   "metadata": {
    "ExecuteTime": {
     "end_time": "2024-09-09T06:06:09.512904Z",
     "start_time": "2024-09-09T06:06:09.504360Z"
    }
   },
   "outputs": [
    {
     "data": {
      "text/plain": [
       "array([-0.3351662 , -1.48818283, -0.11510222, -1.17677755, -0.88169812,\n",
       "        1.45719334,  0.23876684,  0.77151861,  0.4079566 ,  0.13073643])"
      ]
     },
     "execution_count": 137,
     "metadata": {},
     "output_type": "execute_result"
    }
   ],
   "source": [
    "#Random data 생성\n",
    "\n",
    "arr7 = np.random.randn(10)\n",
    "arr7"
   ]
  },
  {
   "cell_type": "code",
   "execution_count": 138,
   "metadata": {
    "ExecuteTime": {
     "end_time": "2024-09-09T06:06:09.948872Z",
     "start_time": "2024-09-09T06:06:09.941751Z"
    }
   },
   "outputs": [
    {
     "data": {
      "text/plain": [
       "array([[ 1.325814  , -0.52800037, -0.45900395,  0.22115146, -0.2945232 ],\n",
       "       [-0.5374694 , -0.12326887, -0.12330406, -0.451003  , -0.57766271],\n",
       "       [-2.03001016,  0.26411233,  0.48058896,  0.97031296, -0.76605962],\n",
       "       [-1.31548847, -0.68783327, -0.64870458,  1.19611479, -1.98326918],\n",
       "       [ 0.37592726, -0.92560641,  0.81028053,  1.65767195, -0.81454018],\n",
       "       [-1.8985328 ,  0.69203857,  0.84705052, -0.70753291,  1.97085721],\n",
       "       [-1.64285235, -0.85650281, -1.37705293,  0.53294417, -0.67755005],\n",
       "       [-1.62450588,  0.16262963, -0.09564145, -0.17708344,  1.49967461],\n",
       "       [-1.77036623,  1.31749743,  0.0651483 ,  0.03598301,  1.47815093],\n",
       "       [-0.50777598, -0.5993893 ,  0.07477755, -0.09577271,  0.0539379 ]])"
      ]
     },
     "execution_count": 138,
     "metadata": {},
     "output_type": "execute_result"
    }
   ],
   "source": [
    "arr8 = np.random.randn(10,5)\n",
    "arr8"
   ]
  },
  {
   "cell_type": "code",
   "execution_count": 174,
   "metadata": {
    "ExecuteTime": {
     "end_time": "2024-09-09T06:09:47.235993Z",
     "start_time": "2024-09-09T06:09:47.218204Z"
    }
   },
   "outputs": [
    {
     "name": "stdout",
     "output_type": "stream",
     "text": [
      "before  int64\n",
      "After  float64\n"
     ]
    },
    {
     "data": {
      "text/plain": [
       "array([1., 2., 3., 4., 5.])"
      ]
     },
     "execution_count": 174,
     "metadata": {},
     "output_type": "execute_result"
    }
   ],
   "source": [
    "#np.astype( ) : 현재 array내 데이터를 원하는 형태의 데이터 타입으로 변경\n",
    "\n",
    "arr = np.array([1,2,3,4,5])\n",
    "print(\"before \",arr.dtype)\n",
    "\n",
    "arr = arr.astype(float)\n",
    "print(\"After \",arr.dtype)\n",
    "arr"
   ]
  },
  {
   "cell_type": "code",
   "execution_count": 141,
   "metadata": {
    "ExecuteTime": {
     "end_time": "2024-09-09T06:06:25.211676Z",
     "start_time": "2024-09-09T06:06:25.197610Z"
    }
   },
   "outputs": [
    {
     "data": {
      "text/plain": [
       "array([[ 1,  2,  5],\n",
       "       [ 4,  5,  9],\n",
       "       [ 6,  7, 34]])"
      ]
     },
     "execution_count": 141,
     "metadata": {},
     "output_type": "execute_result"
    }
   ],
   "source": [
    "# 2차원 array에서 Indexing\n",
    "\n",
    "arr_1 = np. array([[1,2,5],[4,5,9],[6,7,34]])\n",
    "arr_1"
   ]
  },
  {
   "cell_type": "code",
   "execution_count": 142,
   "metadata": {
    "ExecuteTime": {
     "end_time": "2024-09-09T06:06:25.624193Z",
     "start_time": "2024-09-09T06:06:25.617489Z"
    }
   },
   "outputs": [
    {
     "data": {
      "text/plain": [
       "1"
      ]
     },
     "execution_count": 142,
     "metadata": {},
     "output_type": "execute_result"
    }
   ],
   "source": [
    "arr_1[0,0]"
   ]
  },
  {
   "cell_type": "code",
   "execution_count": 143,
   "metadata": {
    "ExecuteTime": {
     "end_time": "2024-09-09T06:06:25.841068Z",
     "start_time": "2024-09-09T06:06:25.835378Z"
    }
   },
   "outputs": [
    {
     "data": {
      "text/plain": [
       "7"
      ]
     },
     "execution_count": 143,
     "metadata": {},
     "output_type": "execute_result"
    }
   ],
   "source": [
    "arr_1[2,1]"
   ]
  },
  {
   "cell_type": "code",
   "execution_count": 144,
   "metadata": {
    "ExecuteTime": {
     "end_time": "2024-09-09T06:06:26.025408Z",
     "start_time": "2024-09-09T06:06:26.019667Z"
    }
   },
   "outputs": [
    {
     "data": {
      "text/plain": [
       "array([1, 4, 6])"
      ]
     },
     "execution_count": 144,
     "metadata": {},
     "output_type": "execute_result"
    }
   ],
   "source": [
    "arr_1[:,0]"
   ]
  },
  {
   "cell_type": "code",
   "execution_count": 145,
   "metadata": {
    "ExecuteTime": {
     "end_time": "2024-09-09T06:06:26.209767Z",
     "start_time": "2024-09-09T06:06:26.203387Z"
    }
   },
   "outputs": [
    {
     "data": {
      "text/plain": [
       "array([1, 2, 5])"
      ]
     },
     "execution_count": 145,
     "metadata": {},
     "output_type": "execute_result"
    }
   ],
   "source": [
    "arr_1[0,:]"
   ]
  },
  {
   "cell_type": "code",
   "execution_count": 146,
   "metadata": {
    "ExecuteTime": {
     "end_time": "2024-09-09T06:06:26.377020Z",
     "start_time": "2024-09-09T06:06:26.371594Z"
    }
   },
   "outputs": [
    {
     "data": {
      "text/plain": [
       "array([[1, 2, 5],\n",
       "       [4, 5, 9]])"
      ]
     },
     "execution_count": 146,
     "metadata": {},
     "output_type": "execute_result"
    }
   ],
   "source": [
    "#행 또는 열 형태로 출력\n",
    "\n",
    "arr_1[0:2, :]"
   ]
  },
  {
   "cell_type": "code",
   "execution_count": 147,
   "metadata": {
    "ExecuteTime": {
     "end_time": "2024-09-09T06:06:26.558812Z",
     "start_time": "2024-09-09T06:06:26.552968Z"
    }
   },
   "outputs": [
    {
     "data": {
      "text/plain": [
       "array([[1, 2],\n",
       "       [4, 5],\n",
       "       [6, 7]])"
      ]
     },
     "execution_count": 147,
     "metadata": {},
     "output_type": "execute_result"
    }
   ],
   "source": [
    "arr_1[:, 0:2]"
   ]
  },
  {
   "cell_type": "code",
   "execution_count": 148,
   "metadata": {
    "ExecuteTime": {
     "end_time": "2024-09-09T06:06:26.737583Z",
     "start_time": "2024-09-09T06:06:26.731581Z"
    }
   },
   "outputs": [
    {
     "data": {
      "text/plain": [
       "array([[ 1,  2,  5],\n",
       "       [ 4,  5,  9],\n",
       "       [ 6,  7, 34]])"
      ]
     },
     "execution_count": 148,
     "metadata": {},
     "output_type": "execute_result"
    }
   ],
   "source": [
    "arr_1[:,:]"
   ]
  },
  {
   "cell_type": "code",
   "execution_count": 149,
   "metadata": {
    "ExecuteTime": {
     "end_time": "2024-09-09T06:06:26.938926Z",
     "start_time": "2024-09-09T06:06:26.932889Z"
    }
   },
   "outputs": [
    {
     "name": "stdout",
     "output_type": "stream",
     "text": [
      "[[ 1  2  5]\n",
      " [ 4  5  9]\n",
      " [ 6  7 34]]\n",
      "------------\n",
      "[[ 1  2  5  4  5  9  6  7 34]]\n"
     ]
    }
   ],
   "source": [
    "# 전체 데이터 shape 변환하기\n",
    "\n",
    "print(arr_1)\n",
    "print(\"------------\")\n",
    "print(arr_1.reshape(1,9))"
   ]
  },
  {
   "cell_type": "code",
   "execution_count": 150,
   "metadata": {
    "ExecuteTime": {
     "end_time": "2024-09-09T06:06:27.146400Z",
     "start_time": "2024-09-09T06:06:27.141315Z"
    }
   },
   "outputs": [
    {
     "data": {
      "text/plain": [
       "array([[0., 0.],\n",
       "       [0., 0.]])"
      ]
     },
     "execution_count": 150,
     "metadata": {},
     "output_type": "execute_result"
    }
   ],
   "source": [
    "#값 초기화하기\n",
    "\n",
    "arr_z = np.zeros((2,2))\n",
    "arr_z"
   ]
  },
  {
   "cell_type": "code",
   "execution_count": 151,
   "metadata": {
    "ExecuteTime": {
     "end_time": "2024-09-09T06:06:27.331656Z",
     "start_time": "2024-09-09T06:06:27.326426Z"
    }
   },
   "outputs": [
    {
     "data": {
      "text/plain": [
       "array([0., 0., 0., 0., 0., 0., 0., 0., 0., 0.])"
      ]
     },
     "execution_count": 151,
     "metadata": {},
     "output_type": "execute_result"
    }
   ],
   "source": [
    "arr_x = np.zeros(10)\n",
    "arr_x"
   ]
  },
  {
   "cell_type": "code",
   "execution_count": 152,
   "metadata": {
    "ExecuteTime": {
     "end_time": "2024-09-09T06:06:27.528441Z",
     "start_time": "2024-09-09T06:06:27.522095Z"
    }
   },
   "outputs": [
    {
     "data": {
      "text/plain": [
       "array([1., 1., 1., 1., 1., 1., 1., 1., 1., 1.])"
      ]
     },
     "execution_count": 152,
     "metadata": {},
     "output_type": "execute_result"
    }
   ],
   "source": [
    "arr_c = np.ones(10)\n",
    "arr_c"
   ]
  },
  {
   "cell_type": "code",
   "execution_count": 153,
   "metadata": {
    "ExecuteTime": {
     "end_time": "2024-09-09T06:06:27.695749Z",
     "start_time": "2024-09-09T06:06:27.690398Z"
    }
   },
   "outputs": [
    {
     "data": {
      "text/plain": [
       "array([[ 1,  2],\n",
       "       [ 3,  4],\n",
       "       [ 5,  6],\n",
       "       [ 7,  8],\n",
       "       [ 9, 10]])"
      ]
     },
     "execution_count": 153,
     "metadata": {},
     "output_type": "execute_result"
    }
   ],
   "source": [
    "#배열 합 구하기 (전체합, 행 방향 합, 열 방향 합)\n",
    "\n",
    "arr1 = np.arange(1,11).reshape(5,2)\n",
    "arr1"
   ]
  },
  {
   "cell_type": "code",
   "execution_count": 23,
   "metadata": {
    "ExecuteTime": {
     "end_time": "2024-09-09T06:06:27.898458Z",
     "start_time": "2024-09-09T06:06:27.893316Z"
    }
   },
   "outputs": [
    {
     "ename": "NameError",
     "evalue": "name 'arr1' is not defined",
     "output_type": "error",
     "traceback": [
      "\u001b[0;31m---------------------------------------------------------------------------\u001b[0m",
      "\u001b[0;31mNameError\u001b[0m                                 Traceback (most recent call last)",
      "\u001b[0;32m/tmp/ipykernel_6113/2148339662.py\u001b[0m in \u001b[0;36m<module>\u001b[0;34m\u001b[0m\n\u001b[0;32m----> 1\u001b[0;31m \u001b[0marr1\u001b[0m\u001b[0;34m.\u001b[0m\u001b[0msum\u001b[0m\u001b[0;34m(\u001b[0m\u001b[0;34m)\u001b[0m  \u001b[0;31m#전체합\u001b[0m\u001b[0;34m\u001b[0m\u001b[0;34m\u001b[0m\u001b[0m\n\u001b[0m",
      "\u001b[0;31mNameError\u001b[0m: name 'arr1' is not defined"
     ]
    }
   ],
   "source": [
    "arr1.sum()  #전체합"
   ]
  },
  {
   "cell_type": "code",
   "execution_count": 155,
   "metadata": {
    "ExecuteTime": {
     "end_time": "2024-09-09T06:06:28.077997Z",
     "start_time": "2024-09-09T06:06:28.072849Z"
    }
   },
   "outputs": [
    {
     "data": {
      "text/plain": [
       "array([ 3,  7, 11, 15, 19])"
      ]
     },
     "execution_count": 155,
     "metadata": {},
     "output_type": "execute_result"
    }
   ],
   "source": [
    "arr1.sum(axis=1) #행 방향합"
   ]
  },
  {
   "cell_type": "code",
   "execution_count": 156,
   "metadata": {
    "ExecuteTime": {
     "end_time": "2024-09-09T06:06:28.243884Z",
     "start_time": "2024-09-09T06:06:28.237691Z"
    }
   },
   "outputs": [
    {
     "data": {
      "text/plain": [
       "array([25, 30])"
      ]
     },
     "execution_count": 156,
     "metadata": {},
     "output_type": "execute_result"
    }
   ],
   "source": [
    "arr1.sum(axis=0) # 열 방향합"
   ]
  },
  {
   "cell_type": "markdown",
   "metadata": {},
   "source": [
    "#### Pandas"
   ]
  },
  {
   "cell_type": "markdown",
   "metadata": {},
   "source": [
    "* Pandas : 데이터 과학에 사용되는 라이브러리로 데이터 불러오기, 전처리, 통계 분석에 사용\n",
    "* Numpy 기반으로 작성된 라이브러리\n",
    "* Series 형태와 DataFrame 형태 존재 \n",
    "* 실무에서 접하는 엑셀 파일이 DataFrame 형태\n",
    "* 데이터 분석에 있어서 필수적인 라이브러리\n",
    "* 데이터 전처리에 대부분은 Pandas로 이루어 짐\n",
    "\n",
    "⇒ 교육세션 시간에 더 자세히 살펴볼 예정"
   ]
  },
  {
   "cell_type": "code",
   "execution_count": 9,
   "metadata": {
    "ExecuteTime": {
     "end_time": "2024-09-09T06:06:30.748749Z",
     "start_time": "2024-09-09T06:06:30.210495Z"
    }
   },
   "outputs": [
    {
     "ename": "ModuleNotFoundError",
     "evalue": "No module named 'pandas'",
     "output_type": "error",
     "traceback": [
      "\u001b[0;31m---------------------------------------------------------------------------\u001b[0m",
      "\u001b[0;31mModuleNotFoundError\u001b[0m                       Traceback (most recent call last)",
      "\u001b[0;32m/tmp/ipykernel_10395/1806576873.py\u001b[0m in \u001b[0;36m<module>\u001b[0;34m\u001b[0m\n\u001b[1;32m      1\u001b[0m \u001b[0;31m#Pandas 라이브러리를 호출하여, pd라는 약자로 사용\u001b[0m\u001b[0;34m\u001b[0m\u001b[0;34m\u001b[0m\u001b[0m\n\u001b[1;32m      2\u001b[0m \u001b[0;34m\u001b[0m\u001b[0m\n\u001b[0;32m----> 3\u001b[0;31m \u001b[0;32mimport\u001b[0m \u001b[0mpandas\u001b[0m \u001b[0;32mas\u001b[0m \u001b[0mpd\u001b[0m\u001b[0;34m\u001b[0m\u001b[0;34m\u001b[0m\u001b[0m\n\u001b[0m",
      "\u001b[0;31mModuleNotFoundError\u001b[0m: No module named 'pandas'"
     ]
    }
   ],
   "source": [
    "#Pandas 라이브러리를 호출하여, pd라는 약자로 사용\n",
    "\n",
    "import pandas as pd"
   ]
  },
  {
   "cell_type": "code",
   "execution_count": 1,
   "metadata": {
    "ExecuteTime": {
     "end_time": "2024-09-09T06:06:30.753116Z",
     "start_time": "2024-09-09T06:06:30.749711Z"
    }
   },
   "outputs": [
    {
     "ename": "NameError",
     "evalue": "name 'pd' is not defined",
     "output_type": "error",
     "traceback": [
      "\u001b[0;31m---------------------------------------------------------------------------\u001b[0m",
      "\u001b[0;31mNameError\u001b[0m                                 Traceback (most recent call last)",
      "\u001b[0;32m/tmp/ipykernel_108255/1256004645.py\u001b[0m in \u001b[0;36m<module>\u001b[0;34m\u001b[0m\n\u001b[1;32m      1\u001b[0m \u001b[0;31m#Series의 기본적인 구조: 값(Value)과 순서(Index)로 구성\u001b[0m\u001b[0;34m\u001b[0m\u001b[0;34m\u001b[0m\u001b[0m\n\u001b[1;32m      2\u001b[0m \u001b[0;34m\u001b[0m\u001b[0m\n\u001b[0;32m----> 3\u001b[0;31m \u001b[0ms1\u001b[0m \u001b[0;34m=\u001b[0m \u001b[0mpd\u001b[0m\u001b[0;34m.\u001b[0m\u001b[0mSeries\u001b[0m\u001b[0;34m(\u001b[0m\u001b[0;34m[\u001b[0m\u001b[0;36m1\u001b[0m\u001b[0;34m,\u001b[0m\u001b[0;36m2\u001b[0m\u001b[0;34m,\u001b[0m\u001b[0;36m56\u001b[0m\u001b[0;34m,\u001b[0m\u001b[0;36m77\u001b[0m\u001b[0;34m,\u001b[0m\u001b[0;36m93\u001b[0m\u001b[0;34m]\u001b[0m\u001b[0;34m)\u001b[0m\u001b[0;34m\u001b[0m\u001b[0;34m\u001b[0m\u001b[0m\n\u001b[0m\u001b[1;32m      4\u001b[0m \u001b[0ms1\u001b[0m\u001b[0;34m\u001b[0m\u001b[0;34m\u001b[0m\u001b[0m\n",
      "\u001b[0;31mNameError\u001b[0m: name 'pd' is not defined"
     ]
    }
   ],
   "source": [
    "#Series의 기본적인 구조: 값(Value)과 순서(Index)로 구성\n",
    "\n",
    "s1 = pd.Series([1,2,56,77,93])\n",
    "s1"
   ]
  },
  {
   "cell_type": "code",
   "execution_count": 159,
   "metadata": {
    "ExecuteTime": {
     "end_time": "2024-09-09T06:06:31.349536Z",
     "start_time": "2024-09-09T06:06:31.343342Z"
    }
   },
   "outputs": [
    {
     "data": {
      "text/plain": [
       "array([ 1,  2, 56, 77, 93])"
      ]
     },
     "execution_count": 159,
     "metadata": {},
     "output_type": "execute_result"
    }
   ],
   "source": [
    "s1.values"
   ]
  },
  {
   "cell_type": "code",
   "execution_count": 160,
   "metadata": {
    "ExecuteTime": {
     "end_time": "2024-09-09T06:06:32.359853Z",
     "start_time": "2024-09-09T06:06:32.353503Z"
    }
   },
   "outputs": [
    {
     "data": {
      "text/plain": [
       "RangeIndex(start=0, stop=5, step=1)"
      ]
     },
     "execution_count": 160,
     "metadata": {},
     "output_type": "execute_result"
    }
   ],
   "source": [
    "s1.index"
   ]
  },
  {
   "cell_type": "code",
   "execution_count": 161,
   "metadata": {
    "ExecuteTime": {
     "end_time": "2024-09-09T06:06:32.812178Z",
     "start_time": "2024-09-09T06:06:32.804719Z"
    }
   },
   "outputs": [
    {
     "data": {
      "text/plain": [
       "45.8"
      ]
     },
     "execution_count": 161,
     "metadata": {},
     "output_type": "execute_result"
    }
   ],
   "source": [
    "#Series는 통계적 연산 가능\n",
    "\n",
    "s1.mean()"
   ]
  },
  {
   "cell_type": "code",
   "execution_count": 22,
   "metadata": {
    "ExecuteTime": {
     "end_time": "2024-09-09T06:06:34.652799Z",
     "start_time": "2024-09-09T06:06:34.638192Z"
    },
    "scrolled": true
   },
   "outputs": [
    {
     "ename": "NameError",
     "evalue": "name 'pd' is not defined",
     "output_type": "error",
     "traceback": [
      "\u001b[0;31m---------------------------------------------------------------------------\u001b[0m",
      "\u001b[0;31mNameError\u001b[0m                                 Traceback (most recent call last)",
      "\u001b[0;32m/tmp/ipykernel_6113/1009036200.py\u001b[0m in \u001b[0;36m<module>\u001b[0;34m\u001b[0m\n\u001b[1;32m      1\u001b[0m \u001b[0;31m#여러 가지 Python 데이터 타입으로 Series 생성 가능\u001b[0m\u001b[0;34m\u001b[0m\u001b[0;34m\u001b[0m\u001b[0m\n\u001b[1;32m      2\u001b[0m \u001b[0;34m\u001b[0m\u001b[0m\n\u001b[0;32m----> 3\u001b[0;31m s2 = pd.Series(['제니','로제','지수','리사'], name ='출석부', \n\u001b[0m\u001b[1;32m      4\u001b[0m                index=['일','이','삼','사'])\n\u001b[1;32m      5\u001b[0m \u001b[0ms2\u001b[0m\u001b[0;34m\u001b[0m\u001b[0;34m\u001b[0m\u001b[0m\n",
      "\u001b[0;31mNameError\u001b[0m: name 'pd' is not defined"
     ]
    }
   ],
   "source": [
    "#여러 가지 Python 데이터 타입으로 Series 생성 가능\n",
    "\n",
    "s2 = pd.Series(['제니','로제','지수','리사'], name ='출석부', \n",
    "               index=['일','이','삼','사'])\n",
    "s2"
   ]
  },
  {
   "cell_type": "code",
   "execution_count": 163,
   "metadata": {
    "ExecuteTime": {
     "end_time": "2024-09-09T06:06:58.761630Z",
     "start_time": "2024-09-09T06:06:58.750406Z"
    }
   },
   "outputs": [
    {
     "data": {
      "text/plain": [
       "name       Jenny\n",
       "age           27\n",
       "gender    female\n",
       "job       singer\n",
       "Name: Person, dtype: object"
      ]
     },
     "execution_count": 163,
     "metadata": {},
     "output_type": "execute_result"
    }
   ],
   "source": [
    "myDict = {'name':\"Jenny\",\"age\":27,\"gender\":\"female\",\"job\":\"singer\"}\n",
    "person = pd.Series(myDict, name=\"Person\")\n",
    "person"
   ]
  },
  {
   "cell_type": "code",
   "execution_count": 164,
   "metadata": {
    "ExecuteTime": {
     "end_time": "2024-09-09T06:06:59.276708Z",
     "start_time": "2024-09-09T06:06:59.270200Z"
    }
   },
   "outputs": [
    {
     "name": "stderr",
     "output_type": "stream",
     "text": [
      "/var/folders/w6/w5v7qzc97fs0__4pl944xbtm0000gn/T/ipykernel_77185/4142483352.py:3: FutureWarning: Series.__getitem__ treating keys as positions is deprecated. In a future version, integer keys will always be treated as labels (consistent with DataFrame behavior). To access a value by position, use `ser.iloc[pos]`\n",
      "  person[0]\n"
     ]
    },
    {
     "data": {
      "text/plain": [
       "'Jenny'"
      ]
     },
     "execution_count": 164,
     "metadata": {},
     "output_type": "execute_result"
    }
   ],
   "source": [
    "#Series도 [ ] 기호를 이용해 Indexing 가능\n",
    "\n",
    "person[0]"
   ]
  },
  {
   "cell_type": "code",
   "execution_count": 165,
   "metadata": {
    "ExecuteTime": {
     "end_time": "2024-09-09T06:07:19.447262Z",
     "start_time": "2024-09-09T06:07:19.440273Z"
    }
   },
   "outputs": [
    {
     "data": {
      "text/plain": [
       "'singer'"
      ]
     },
     "execution_count": 165,
     "metadata": {},
     "output_type": "execute_result"
    }
   ],
   "source": [
    "person['job']"
   ]
  },
  {
   "cell_type": "code",
   "execution_count": 166,
   "metadata": {
    "ExecuteTime": {
     "end_time": "2024-09-09T06:07:19.823791Z",
     "start_time": "2024-09-09T06:07:19.814606Z"
    }
   },
   "outputs": [
    {
     "data": {
      "text/plain": [
       "name       Jenny\n",
       "age           27\n",
       "gender    female\n",
       "job       singer\n",
       "Name: Person, dtype: object"
      ]
     },
     "execution_count": 166,
     "metadata": {},
     "output_type": "execute_result"
    }
   ],
   "source": [
    "person[:]"
   ]
  },
  {
   "cell_type": "code",
   "execution_count": 167,
   "metadata": {
    "ExecuteTime": {
     "end_time": "2024-09-09T06:07:20.334603Z",
     "start_time": "2024-09-09T06:07:20.325529Z"
    }
   },
   "outputs": [
    {
     "data": {
      "text/plain": [
       "name      False\n",
       "age       False\n",
       "gender     True\n",
       "job       False\n",
       "Name: Person, dtype: bool"
      ]
     },
     "execution_count": 167,
     "metadata": {},
     "output_type": "execute_result"
    }
   ],
   "source": [
    "#비교 연산자를 이용해, 특정 데이터의 존재 여부를 알 수 있음\n",
    "\n",
    "person == 'female'"
   ]
  },
  {
   "cell_type": "code",
   "execution_count": 168,
   "metadata": {
    "ExecuteTime": {
     "end_time": "2024-09-09T06:07:20.903726Z",
     "start_time": "2024-09-09T06:07:20.895441Z"
    }
   },
   "outputs": [
    {
     "data": {
      "text/plain": [
       "gender    female\n",
       "Name: Person, dtype: object"
      ]
     },
     "execution_count": 168,
     "metadata": {},
     "output_type": "execute_result"
    }
   ],
   "source": [
    "person[person == 'female']"
   ]
  },
  {
   "cell_type": "code",
   "execution_count": 169,
   "metadata": {
    "ExecuteTime": {
     "end_time": "2024-09-09T06:07:21.342816Z",
     "start_time": "2024-09-09T06:07:21.326346Z"
    }
   },
   "outputs": [
    {
     "data": {
      "text/plain": [
       "count    4.00000\n",
       "mean     5.00000\n",
       "std      2.94392\n",
       "min      2.00000\n",
       "25%      2.75000\n",
       "50%      5.00000\n",
       "75%      7.25000\n",
       "max      8.00000\n",
       "dtype: float64"
      ]
     },
     "execution_count": 169,
     "metadata": {},
     "output_type": "execute_result"
    }
   ],
   "source": [
    "#describe(): 다양한 통계량 요약, 데이터 파악 시 굉장히 많이 사용\n",
    "\n",
    "obj = pd.Series([2,3,7,8], index=['d','a','b','c'])\n",
    "obj.describe()"
   ]
  },
  {
   "cell_type": "code",
   "execution_count": 170,
   "metadata": {
    "ExecuteTime": {
     "end_time": "2024-09-09T06:07:23.345108Z",
     "start_time": "2024-09-09T06:07:23.338122Z"
    }
   },
   "outputs": [
    {
     "data": {
      "text/plain": [
       "d    2\n",
       "a    3\n",
       "b    7\n",
       "c    8\n",
       "dtype: int64"
      ]
     },
     "execution_count": 170,
     "metadata": {},
     "output_type": "execute_result"
    }
   ],
   "source": [
    "#sort_values로 series의 값 정렬 가능\n",
    "\n",
    "obj.sort_values()   #내림차순 정렬 시 ascending=False 설정"
   ]
  },
  {
   "cell_type": "code",
   "execution_count": 171,
   "metadata": {
    "ExecuteTime": {
     "end_time": "2024-09-09T06:07:23.545349Z",
     "start_time": "2024-09-09T06:07:23.540071Z"
    }
   },
   "outputs": [
    {
     "data": {
      "text/plain": [
       "a    3\n",
       "b    7\n",
       "c    8\n",
       "d    2\n",
       "dtype: int64"
      ]
     },
     "execution_count": 171,
     "metadata": {},
     "output_type": "execute_result"
    }
   ],
   "source": [
    "#sort_index로 series의 순서(인덱스) 정렬 가능\n",
    "\n",
    "obj.sort_index()"
   ]
  },
  {
   "cell_type": "code",
   "execution_count": 172,
   "metadata": {
    "ExecuteTime": {
     "end_time": "2024-09-09T06:07:24.016280Z",
     "start_time": "2024-09-09T06:07:24.008502Z"
    }
   },
   "outputs": [
    {
     "data": {
      "text/plain": [
       "2    1\n",
       "3    1\n",
       "7    1\n",
       "8    1\n",
       "Name: count, dtype: int64"
      ]
     },
     "execution_count": 172,
     "metadata": {},
     "output_type": "execute_result"
    }
   ],
   "source": [
    "#value_counts로 series의 unique한 값의 수 집계\n",
    "\n",
    "obj.value_counts()"
   ]
  },
  {
   "cell_type": "markdown",
   "metadata": {},
   "source": [
    "#### 과제 10~11"
   ]
  },
  {
   "cell_type": "markdown",
   "metadata": {},
   "source": [
    "10. (5,2)의 random한 Matrix를 생성하고,\n",
    "Matrix의 전체합, 전체 평균, 각 열의 합, 각행의 합, 각 열의 평균, 각 행의 평균을 계산하기"
   ]
  },
  {
   "cell_type": "code",
   "execution_count": 1,
   "metadata": {
    "ExecuteTime": {
     "end_time": "2022-08-23T12:51:46.883187Z",
     "start_time": "2022-08-23T12:51:46.865084Z"
    }
   },
   "outputs": [
    {
     "name": "stdout",
     "output_type": "stream",
     "text": [
      "전체 합 :  -1.3810385383311152\n",
      "전체 평균 :  -0.13810385383311152\n",
      "각 열의 합 :  [-2.56504409  1.18400556]\n",
      "각 행의 합 :  [ 0.27919178 -0.18351816  0.39459015  0.77663344 -2.64793575]\n",
      "각 열의 평균 :  [-0.51300882  0.23680111]\n",
      "각 행의 평균 :  [ 0.05583836 -0.03670363  0.07891803  0.15532669 -0.52958715]\n"
     ]
    }
   ],
   "source": [
    "import numpy as np\n",
    "\n",
    "mat = np.random.randn(5,2)\n",
    "print(\"전체 합 : \", mat.sum())\n",
    "print(\"전체 평균 : \", mat.sum() / 10)\n",
    "print(\"각 열의 합 : \", mat.sum(axis = 0))\n",
    "print(\"각 행의 합 : \", mat.sum(axis = 1))\n",
    "print(\"각 열의 평균 : \",mat.sum(axis = 0)/5)\n",
    "print(\"각 행의 평균 : \",mat.sum(axis = 1)/5)"
   ]
  },
  {
   "cell_type": "markdown",
   "metadata": {},
   "source": [
    "11. Series를 이용하여, 아래와 같은 성적표를 만들기\n",
    " - 1) 각 과목의 합격/불합격 여부 출력하기 (50점 이상 , 합격)\n",
    " - 2) 과목의 전체평균을 계산하여, 70점 기준으로 합격 불합격 여부 판별하기\n",
    " \n"
   ]
  },
  {
   "cell_type": "code",
   "execution_count": 12,
   "metadata": {
    "ExecuteTime": {
     "end_time": "2022-08-23T12:52:01.119947Z",
     "start_time": "2022-08-23T12:52:01.111916Z"
    }
   },
   "outputs": [
    {
     "ename": "",
     "evalue": "",
     "output_type": "error",
     "traceback": [
      "\u001b[1;31m원격 Jupyter 서버 'http://localhost:8888/'에 연결하지 못했습니다. 서버가 실행 중이고 연결할 수 있는지 확인합니다.(원격 Jupyter 서버 'http://localhost:8888/'에 연결하지 못했습니다. 서버가 실행 중이고 연결할 수 있는지 확인합니다.(request to http://localhost:8888/api/kernels?1726042129337 failed, reason: ).)."
     ]
    }
   ],
   "source": [
    "import pandas as pd\n",
    "\n",
    "# 성적표 데이터 생성 (각 과목의 성적)\n",
    "scores = pd.Series([70, 80, 90, 30], index=['국어', '수학', '과학', '영어'], name='성적표')\n",
    "\n",
    "# 1) 각 과목의 합격/불합격 여부 판단 (50점 이상 합격)\n",
    "pass_subjects = scores[scores >= 50]\n",
    "fail_subjects = scores[scores < 50]\n",
    "\n",
    "# 2) 합격/불합격된 과목 출력\n",
    "print(\"합격\")\n",
    "print(pass_subjects)\n",
    "print(\"\\n불합격\")\n",
    "print(fail_subjects)"
   ]
  },
  {
   "cell_type": "code",
   "execution_count": 21,
   "metadata": {
    "ExecuteTime": {
     "end_time": "2022-08-23T12:52:04.949552Z",
     "start_time": "2022-08-23T12:52:04.937423Z"
    }
   },
   "outputs": [
    {
     "name": "stdout",
     "output_type": "stream",
     "text": [
      "전체불합격\n"
     ]
    }
   ],
   "source": [
    "#2\n",
    "#2\n",
    "\n",
    "# 성적표 데이터 생성 (각 과목의 성적)\n",
    "scores = pd.Series([70, 80, 90, 30], index=['국어', '수학', '과학', '영어'], name='성적표')\n",
    "\n",
    "# 1) 각 과목의 합격/불합격 여부 판단 (50점 이상 합격)\n",
    "pass_subjects = scores[scores >= 50]\n",
    "fail_subjects = scores[scores < 50]\n",
    "\n",
    "# 2) 과목의 전체 평균 계산 후, 70점 기준으로 합격/불합격 여부 판단하기\n",
    "average_score = scores.mean()\n",
    "\n",
    "# 평균이 70점 미만이면 '전체불합격' 출력\n",
    "if average_score >= 70:\n",
    "    print(\"전체합격\")\n",
    "else:\n",
    "    print(\"전체불합격\")"
   ]
  }
 ],
 "metadata": {
  "hide_input": false,
  "kernelspec": {
   "display_name": "Python 3 (ipykernel)",
   "language": "python",
   "name": "python3"
  },
  "toc": {
   "base_numbering": 1,
   "nav_menu": {},
   "number_sections": true,
   "sideBar": true,
   "skip_h1_title": false,
   "title_cell": "Table of Contents",
   "title_sidebar": "Contents",
   "toc_cell": false,
   "toc_position": {
    "height": "calc(100% - 180px)",
    "left": "10px",
    "top": "150px",
    "width": "263.503px"
   },
   "toc_section_display": true,
   "toc_window_display": true
  },
  "varInspector": {
   "cols": {
    "lenName": 16,
    "lenType": 16,
    "lenVar": 40
   },
   "kernels_config": {
    "python": {
     "delete_cmd_postfix": "",
     "delete_cmd_prefix": "del ",
     "library": "var_list.py",
     "varRefreshCmd": "print(var_dic_list())"
    },
    "r": {
     "delete_cmd_postfix": ") ",
     "delete_cmd_prefix": "rm(",
     "library": "var_list.r",
     "varRefreshCmd": "cat(var_dic_list()) "
    }
   },
   "types_to_exclude": [
    "module",
    "function",
    "builtin_function_or_method",
    "instance",
    "_Feature"
   ],
   "window_display": false
  }
 },
 "nbformat": 4,
 "nbformat_minor": 4
}
