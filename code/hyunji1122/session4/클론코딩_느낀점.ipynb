{
 "cells": [
  {
   "cell_type": "markdown",
   "id": "ef8960a8-12ea-43d0-a1cd-126a16429555",
   "metadata": {},
   "source": [
    "# **회귀 과제 2: 느낀 점 및 배운 점**\n",
    "\n",
    "## 1. **복사본 활용**\n",
    "   데이터를 처리할 때, 특히 결측값이나 중복 데이터를 제거하는 과정에서 원본 데이터를 사용하는 것이 아니라 `copy()` 메서드를 사용해 데이터를 복사한 후 작업하는 것이 중요하다는 점을 다시 한번 깨달았습니다. 원본 데이터에 직접 수정이 가해질 경우 나중에 데이터가 어떻게 변형되었는지 추적하기 어렵기 때문에, 안전한 분석을 위해 항상 복사본에서 작업하는 습관을 가져야 겠다고 생각했습니다.\n",
    "```python\n",
    "bike_dup = bike.copy()\n",
    "\n",
    "# Checking for duplicates and dropping the entire duplicate row if any\n",
    "bike_dup.drop_duplicates(subset=None, inplace=True)\n",
    "```\n",
    "   뿐만 아니라 필없는 열을 지울 때에도 추후에 원본 데이터와 비교하기 위해 `bike_new`와 같이 새로운 데이터프레임을 만들어 활용하는 것을 보며 추후에 헷갈리지 않도록 원본은 그대로 유지하는 것이 중요하다고 느꼈습니다. "
   ]
  },
  {
   "cell_type": "markdown",
   "id": "afb5e73f-f251-474d-85a1-b537d1d1c7c4",
   "metadata": {},
   "source": [
    "## 2. **수치형vs범주형**\n",
    " 더미변수 생성을 위해 숫자로 이루어진 특정 열들(int형)을 범주형데이터(category)로 변환하는 과정을 보며 칼럼들의 특성을 잘 파악하고 있어야겠다고 생각했습니다. `weekday`와 같이 숫자로 표현되지만 그 숫자가 대소관계를 나타내는 수치형 데이터가 아니라는 특징을 잘 알고 있어야 범주형으로 바꿀 대상으로 결정할 수 있기 때문입니다. 또한 `wheathersit`의 경우 날씨 상황을 나타내는 것인듯 한데, 수치형으로 표현된 값들이 각각 무엇을 나타내는지 처음엔 이해하지 못하였기 때문에 데이터를 구성하고 있는 칼럼들의 특성을 잘 인지하고 있는 것이 중요하겠다고 생각하였습니다. \n",
    " ```python\n",
    "# Convert to 'category' data type\n",
    "\n",
    "bike_new['season']=bike_new['season'].astype('category')\n",
    "bike_new['weathersit']=bike_new['weathersit'].astype('category')\n",
    "bike_new['mnth']=bike_new['mnth'].astype('category')\n",
    "bike_new['weekday']=bike_new['weekday'].astype('category')\n",
    "```\n",
    "<BR>"
   ]
  },
  {
   "cell_type": "markdown",
   "id": "5ef119a1-898b-41d8-86ac-f0b70d20c772",
   "metadata": {},
   "source": [
    "## 3. **더미 변수 활용**\n",
    " 더미변수에 대한 내용을 이론적으로만 알고 있었는데 직접 더미 변수를 생성해서 활용하는 코드를 보니 흥미로웠습니다. 앞서 숫자로 이루어진 특정 열들을 범주형으로 변환하는 과정이 이렇게 더미변수를 생성하기 위함이었다는 것을 알고 코드를 보니 상당히 체계적이라고 생각했습니다. 또한 다중공산성을 피하기 위해 첫 번째 더미변수를 삭제하는 과정을 까먹지 말고 잘 알아둬야겠다 생각하였습니다.\n",
    "```python\n",
    "bike_new = pd.get_dummies(bike_new, drop_first=True)\n",
    "```\n",
    "<BR>"
   ]
  },
  {
   "cell_type": "markdown",
   "id": "7d9dca89-bf1e-4dc1-817c-d6286dafe5da",
   "metadata": {},
   "source": [
    "## 4. **EDA과정_시각화**\n",
    "데이터를 수치형과 범주형으로 분리한 뒤 각각에 맞는 시각화 방법(`pairplot`과 `boxplot`)을 선택하여 시각화를 진행하는 것을 보고 또 한번 데이터 유형 파악의 중요성을 깨달을 수 있었습니다. EDA 수업시간에 실습으로 진행했었던 시각화 코드들이 실제 분석에서 활용되는 사례를 보니 신기하면서도 직접 다뤄보고 싶다는 생각을 하였습니다.\n",
    "<BR>"
   ]
  },
  {
   "cell_type": "markdown",
   "id": "633f8161-4a5b-4600-b463-0793fbc28c8c",
   "metadata": {},
   "source": [
    "## 5. **RFE**\n",
    " RFE는 처음 접하는 것이었는데 \"반복적으로 피쳐들을 제거하면서 모델의 성능을 평가, 성능이 가장 떨어지는 feature을 제거하여 최종적으로 중요한 피쳐들을 선택\"하는 기능을 갖고 있다는 것이 놀라웠습니다. 데이터셋에서 중요한 특성들을 선택하여 최적의 특성 조합을 찾는 데 매우 유용하겠다고 생각하였습니다. 하지만 아직 어ㅓ떻게 사용하는 것인지 작동원리를 제대로 이해하지 못해 공부해봐야될 것 같습니다..\n",
    " ```python\n",
    "from sklearn.feature_selection import RFE\n",
    "from sklearn.linear_model import LinearRegression\n",
    "\n",
    "# 선형 회귀 모델 생성\n",
    "lm = LinearRegression() \n",
    "\n",
    "# 선형 회귀 모델을 학습시킴\n",
    "lm.fit(X_train, y_train)\n",
    "\n",
    "# RFE를 사용하여 15개의 중요한 피처 선택\n",
    "rfe = RFE(estimator=lm, n_features_to_select=15)  \n",
    "rfe.fit(X_train, y_train)  # RFE 학습\n",
    "\n",
    "# RFE가 선택한 피처들 확인\n",
    "selected_features = rfe.support_\n",
    "print(selected_features)\n",
    "```\n",
    "<BR>"
   ]
  },
  {
   "cell_type": "markdown",
   "id": "9540fc75-80fe-47c5-87dc-137fb8641d6e",
   "metadata": {},
   "source": [
    "## 6. **모델 선정 과정**\n",
    " 직전에 실습 마지막문제 과제를 진행했는데, 이 클론코딩에서도 VIF와 P값을 고려해 모델을 선택해나가는 과정을 보니 반가웠습니다. 실습과 달랐던 한가지는 VIF를 통해 다중공선성이 높은 변수를 하나씩 제거할 때마다 `summary()`를 통해 회귀 분석 결과를 확인한다는 것..? 이렇게 진행하면 변수 제거의 효과도 직관적으로 확인할 수 있고 변수를 제거할때마다 다른 문제는 없는지 확인할 수 있어 편리하겠다고 생각했습니다. \n",
    " 또한 model4에서 VIF값이 높은건 temp였지만 온도가 자전거 대여와 같은 사업에 중요한 요소가 될 수 있다는 일반적인 지식을 바탕으로 'temp'가 아닌 두번째로 높은 값인'season3'를 내리기로 결정하고 'temp'를 유지한 점이 인상깊었습니다. 데이터 분석을 진행할 때에도 무조건 숫자를 통해 다음단계를 결정하는 것이 아닌 사람의 직관과 선택이 필요하구나 라고 느낄 수 있었기 때문입니다. 아까 VIF값이 높은 순서대로 자동으로 변수를 제거해버리는 코드를 만들면 어떨까라는 생각을 했었는데, model4를 보고 나니 수동으로 직접 단계단계 확인하며 분석을 진행하는 것이 아무래도 좋겠구나... 생각했습니다.\n"
   ]
  },
  {
   "cell_type": "code",
   "execution_count": null,
   "id": "acc4ba08-3c00-4116-a7c9-a44dd9320c1a",
   "metadata": {},
   "outputs": [],
   "source": []
  }
 ],
 "metadata": {
  "kernelspec": {
   "display_name": "Python 3 (ipykernel)",
   "language": "python",
   "name": "python3"
  },
  "language_info": {
   "codemirror_mode": {
    "name": "ipython",
    "version": 3
   },
   "file_extension": ".py",
   "mimetype": "text/x-python",
   "name": "python",
   "nbconvert_exporter": "python",
   "pygments_lexer": "ipython3",
   "version": "3.11.7"
  }
 },
 "nbformat": 4,
 "nbformat_minor": 5
}
