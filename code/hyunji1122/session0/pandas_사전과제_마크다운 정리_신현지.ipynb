{
 "cells": [
  {
   "cell_type": "markdown",
   "id": "5e964eaa-32ea-4782-9115-393567f2a6b6",
   "metadata": {},
   "source": [
    "# pandas_사전과제_신현지"
   ]
  },
  {
   "cell_type": "markdown",
   "id": "45d507f4-2fa3-4f01-8284-0ecba9b3c8d4",
   "metadata": {},
   "source": [
    "## 1. Titanic\n",
    "### 1.1. 데이터 확인\n",
    "> * data.info()   --> DataFrame의 기본 정보를 요약하여 출력    \n",
    "> * data.describe()   --> 평균, 표준편차, 최소값, 4분위수 등의 정보가 제공    \n",
    "> * data.head()   --> 데이터셋의 상위 5개 행을 출력     \n",
    "> * titanic.shape   --> DataFrame의 크기를 (행, 열) 형식으로 반환\n",
    "> * data[\"survived\"].value_counts()   --> survived 열의 값들이 얼마나 자주 나타나는지 빈도수를 계산\n",
    "***"
   ]
  },
  {
   "cell_type": "markdown",
   "id": "2b956a33-d12a-48d4-8dee-c70a8b6e871b",
   "metadata": {},
   "source": [
    "### 1.2. 데이터프레임 만들기\n",
    "> * data[\"pclass\"] --> 하나의 열만 인덱싱하면 시리즈가 반환됨\n",
    "> * data[[\"pclass\", \"age\"]] --> 여러개의 열을 인덱싱하면 부분적인 데이터프레임이 반환됨\n",
    "> * data[[\"fare\"]] --> fare이라는 열을 반환하면서 데이터프레임 자료형을 유지"
   ]
  },
  {
   "cell_type": "markdown",
   "id": "3fe0ba8e-a072-49af-a032-3b6717927f60",
   "metadata": {},
   "source": [
    "***"
   ]
  },
  {
   "cell_type": "markdown",
   "id": "8ee776c7-a1dc-4ba5-a6a1-262998387cff",
   "metadata": {},
   "source": [
    "### 1.3. DataFrame 칼럼 데이터 세트 생성/삭제\n",
    "> 칼럼 생성 코드\n",
    "```python\n",
    "data2 = data.copy()  #data DataFrame의 복사본을 data2에 저장\n",
    "data2[\"Age_0\"]=0   #data2에 Age_0이라는 새로운 열을 추가\n",
    "data2.head()  #data2의 상위 5개 행을 출력\n",
    "```\n",
    "> 데이터프레임 연산\n",
    "\n",
    "```python\n",
    "data2['Age_0'] = data2['Age_0'] + 100\n",
    "data2.head(10)\n",
    "```\n",
    "***"
   ]
  },
  {
   "cell_type": "markdown",
   "id": "3328887a-be0c-4de0-ad76-ea19a247a4f7",
   "metadata": {},
   "source": [
    "### 1.4. 데이터 추출\n",
    "```python\n",
    "data3 = data[:]  # data의 전체 데이터를 복사하여 data3에 할당\n",
    "data3.head(2)  # data3의 상위 2개의 행을 반환\n",
    "```\n",
    "***"
   ]
  },
  {
   "cell_type": "markdown",
   "id": "42ea6dce-3fac-4b1f-8b9c-6ddea3944815",
   "metadata": {},
   "source": [
    "### 1.5. 정렬, Aggregation 함수, GroupBy 적용\n",
    "#### 1.5.1. 열 순서 변경\n",
    "> 알파벳 순서로 정렬\n",
    "```python\n",
    "columns_sorted = sorted(columns)   #columns 리스트에 있는 열 이름을 알파벳 순으로 정렬한 리스트를 만드는 코드\n",
    "data_sorted = data4[columns_sorted]  #data4 DataFrame에서 열을 columns_sorted의 순서에 따라 재배치한 새 DataFrame을 생성\n",
    "```\n",
    "\n",
    "> 역순\n",
    "```python\n",
    "columns_reversed = list(reversed(columns)) #reversed(columns)는 columns 리스트의 순서를 뒤집음\n",
    "data_reversed = data4[columns_reversed]  #data4 DataFrame에서 열을 역순으로 재배치하여 새로운 DataFrame data_reversed를 생성\n",
    "```\n",
    "\n",
    "> 원하는 순서\n",
    "```python\n",
    "columns_customed = [\"pclass\", \"sex\", \"age\", \"survived\"]  # 특정한 열 이름 순서(사용자가 정의한 순서)를 columns_customed라는 리스트로 만드는 코드.\n",
    "data_customed = data4[columns_customed]  #data4에서 columns_customed에 있는 열들만 선택하고, 그 순서대로 새로운 DataFrame을 생성\n",
    "```\n",
    "\n",
    "#### 1.5.2. Aggregation 함수\n",
    "> * count() --> 결측값이 아닌(NA/NULL이 아닌) 항목의 개수를 반환\n",
    "> * min() --> 가장 작은 값을 반환\n",
    "> * max() --> 가장 큰 값을 반환\n",
    "> * sum() --> 모두 더한 합계를 반환\n",
    "> * mean() --> 각 열이나 행의 값들의 평균을 반환\n",
    "\n",
    "#### 1.5.3. GroupBy() 적용\n",
    "```python\n",
    "data_groupby = data.groupby(by=\"pclass\") #pclass를 기준으로 그룹화\n",
    "```\n",
    "***"
   ]
  }
 ],
 "metadata": {
  "kernelspec": {
   "display_name": "Python 3 (ipykernel)",
   "language": "python",
   "name": "python3"
  },
  "language_info": {
   "codemirror_mode": {
    "name": "ipython",
    "version": 3
   },
   "file_extension": ".py",
   "mimetype": "text/x-python",
   "name": "python",
   "nbconvert_exporter": "python",
   "pygments_lexer": "ipython3",
   "version": "3.11.7"
  }
 },
 "nbformat": 4,
 "nbformat_minor": 5
}
