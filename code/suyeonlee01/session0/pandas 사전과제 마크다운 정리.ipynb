{
 "cells": [
  {
   "cell_type": "markdown",
   "metadata": {},
   "source": [
    "# 판다스의 정의 \n",
    "pandas는 데이터를 분석하고 조작하는 데 강력한 도구를 제공하는 파이썬의 라이브러리 입니다. \n",
    "주로 series와 dataframe이라는 핵심 데이터 구조를 제공합니다. series는 1차원 데이터 구조이며, dataframe은 2차원 테이블 형식의 데이터 구조입니다. \n",
    "pandas는 다양한 데이터 입출력 기능, 데이터 조작, 결측치 처리, 데이터 시각화 등의 기능을 제공합니다. \n",
    "이러한 기능으로 pandas는 데이터 과학, 데이터 분석, 머신러닝 등의 분야에서 매우 다양하고 유용하게 사용됩니다.\n",
    "\n",
    "\n",
    "# 데이터 프레임의 구성\n",
    "dataframe은 데이터를 표 형식으로 구성할 수 있는 2차원 데이터 구조입니다. \n",
    "행과 열로 이루어져있습니다. \n",
    "행은 데이터의 개별 레코드로, 인덱스에 의해 구분되고, 열은 데이터의 속성 또는 필드로 각 열은 동일한 데이터 타입을 가집니다. \n",
    "데이터는 행과 열의 교차점에 위치하는 실제값이며 인덱스는 각 행의 고유한 식별자입니다. \n",
    "\n",
    "# 데이터 프레임 조작\n",
    "dataframe에서 데이터를 선택, 추가, 수정, 삭제, 집계 등을 할 수 있습니다. \n",
    "선택은 loc, iloc 등을 사용하여 특정 행이나 열을 선택하는 것이고, 추가는 새로운 행이나 열을 추가하는 것입니다. \n",
    "행이나 열의 데이터를 수정할 수 있으며 drop 메서드를 사용하여 행이나 열을 삭제할 수 있습니다.\n",
    "describe, groupby 등을 사용하여 통계 정보를 얻고 데이터를 그룹화하여 분석할 수 있습니다. \n",
    "이러한 조작 방법을 통하여 dataframe을 효율적으로 관리하고 분석할 수 있습니다."
   ]
  },
  {
   "cell_type": "code",
   "execution_count": null,
   "metadata": {},
   "outputs": [],
   "source": []
  }
 ],
 "metadata": {
  "kernelspec": {
   "display_name": "Python 3",
   "language": "python",
   "name": "python3"
  },
  "language_info": {
   "codemirror_mode": {
    "name": "ipython",
    "version": 3
   },
   "file_extension": ".py",
   "mimetype": "text/x-python",
   "name": "python",
   "nbconvert_exporter": "python",
   "pygments_lexer": "ipython3",
   "version": "3.12.6"
  }
 },
 "nbformat": 4,
 "nbformat_minor": 2
}
