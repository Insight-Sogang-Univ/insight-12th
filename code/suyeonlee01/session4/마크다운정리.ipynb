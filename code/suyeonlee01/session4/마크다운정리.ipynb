{
 "cells": [
  {
   "cell_type": "markdown",
   "id": "c1b46dfc-e2e8-452a-98ea-d1acac5897bf",
   "metadata": {},
   "source": [
    "교육세션 때 모델링을 완벽하게 이해하지 못해서 다시 정리해보았습니다. \n",
    "ex. 집값을 예측하는 모델 만들기\n",
    "\n",
    "1. 문제 정의: 집값을 예측하려고 함. 이를 위해 어떤 데이터가 필요한지 결정\n",
    "2. 데이터 수집: 집의 크기, 방 개수, 위치 등의 정보 수집.\n",
    "3. 데이터 전처리: 수집한 데이터의 빈 값이나 오류를 해결. 불필요한 열을 제거하고 필요 없는 정보는 정리함.\n",
    "4. 특성 선택: 집값에 영향을 줄 변수 선택.\n",
    "5. 모델 선택: 여러 가지 모델 중 하나 선택. 선형 회귀 등이 있음.\n",
    "6. 모델 훈련: 선택한 모델에 데이터를 넣고, 모델이 입력 변수와 출력 변수 간의 관계를 학습하도록 함. 이 과정을 통해 모델은 패턴을 찾아냄.\n",
    "7. 모델 평가: 데이터를 훈련용과 테스트용으로 나눔. 훈련용 데이터로 모델을 학습시키고, 테스크용 데이터로 모델이 얼마나 잘 예측하는지 평가함. 예를 들어, 모델이 실제 집값과 얼마나 가까운 예측을 했는지 비교함.\n",
    "8. 예측: 모델이 훈련 되었다면 새로운 집에 대한 집값을 예측할 수 있게 됨.\n",
    "9. 모델 개선: 데이터를 더 정리하거나 더 많은 변수를 추가하거나 다른 모델을 사용해 봄으로써 모델의 정확도를 높일 수 있음."
   ]
  },
  {
   "cell_type": "code",
   "execution_count": 1,
   "id": "3f164fb2-d332-45de-855e-1ea66a1aac5b",
   "metadata": {},
   "outputs": [
    {
     "name": "stdout",
     "output_type": "stream",
     "text": [
      "모델 요약:\n",
      "                            OLS Regression Results                            \n",
      "==============================================================================\n",
      "Dep. Variable:                  price   R-squared:                       0.989\n",
      "Model:                            OLS   Adj. R-squared:                  0.981\n",
      "Method:                 Least Squares   F-statistic:                     124.5\n",
      "Date:                Sun, 29 Sep 2024   Prob (F-statistic):           0.000210\n",
      "Time:                        16:49:27   Log-Likelihood:                -27.367\n",
      "No. Observations:                   8   AIC:                             62.73\n",
      "Df Residuals:                       4   BIC:                             63.05\n",
      "Df Model:                           3                                         \n",
      "Covariance Type:            nonrobust                                         \n",
      "==============================================================================\n",
      "                 coef    std err          t      P>|t|      [0.025      0.975]\n",
      "------------------------------------------------------------------------------\n",
      "const        -38.5761     26.228     -1.471      0.215    -111.397      34.245\n",
      "size           2.6392      0.815      3.240      0.032       0.378       4.901\n",
      "rooms         -1.4563     17.839     -0.082      0.939     -50.986      48.073\n",
      "age            0.6084      0.753      0.808      0.465      -1.483       2.700\n",
      "==============================================================================\n",
      "Omnibus:                        0.582   Durbin-Watson:                   2.748\n",
      "Prob(Omnibus):                  0.747   Jarque-Bera (JB):                0.247\n",
      "Skew:                           0.363   Prob(JB):                        0.884\n",
      "Kurtosis:                       2.536   Cond. No.                         827.\n",
      "==============================================================================\n",
      "\n",
      "Notes:\n",
      "[1] Standard Errors assume that the covariance matrix of the errors is correctly specified.\n"
     ]
    },
    {
     "name": "stderr",
     "output_type": "stream",
     "text": [
      "C:\\Users\\BSLEE\\AppData\\Local\\Programs\\Python\\Python312\\Lib\\site-packages\\scipy\\stats\\_axis_nan_policy.py:418: UserWarning: `kurtosistest` p-value may be inaccurate with fewer than 20 observations; only n=8 observations were given.\n",
      "  return hypotest_fun_in(*args, **kwds)\n"
     ]
    },
    {
     "ename": "ValueError",
     "evalue": "shapes (2,3) and (4,) not aligned: 3 (dim 1) != 4 (dim 0)",
     "output_type": "error",
     "traceback": [
      "\u001b[1;31m---------------------------------------------------------------------------\u001b[0m",
      "\u001b[1;31mValueError\u001b[0m                                Traceback (most recent call last)",
      "Cell \u001b[1;32mIn[1], line 41\u001b[0m\n\u001b[0;32m     39\u001b[0m \u001b[38;5;66;03m# 테스트 데이터에 대한 예측\u001b[39;00m\n\u001b[0;32m     40\u001b[0m X_test_lm \u001b[38;5;241m=\u001b[39m sm\u001b[38;5;241m.\u001b[39madd_constant(X_test)  \u001b[38;5;66;03m# 테스트 데이터에도 상수항 추가\u001b[39;00m\n\u001b[1;32m---> 41\u001b[0m predictions \u001b[38;5;241m=\u001b[39m \u001b[43mlr_model\u001b[49m\u001b[38;5;241;43m.\u001b[39;49m\u001b[43mpredict\u001b[49m\u001b[43m(\u001b[49m\u001b[43mX_test_lm\u001b[49m\u001b[43m)\u001b[49m\n\u001b[0;32m     43\u001b[0m \u001b[38;5;66;03m# 예측 결과 출력\u001b[39;00m\n\u001b[0;32m     44\u001b[0m \u001b[38;5;28mprint\u001b[39m(\u001b[38;5;124m\"\u001b[39m\u001b[38;5;124m테스트 데이터 예측 값:\u001b[39m\u001b[38;5;124m\"\u001b[39m)\n",
      "File \u001b[1;32m~\\AppData\\Local\\Programs\\Python\\Python312\\Lib\\site-packages\\statsmodels\\base\\model.py:1174\u001b[0m, in \u001b[0;36mResults.predict\u001b[1;34m(self, exog, transform, *args, **kwargs)\u001b[0m\n\u001b[0;32m   1127\u001b[0m \u001b[38;5;250m\u001b[39m\u001b[38;5;124;03m\"\"\"\u001b[39;00m\n\u001b[0;32m   1128\u001b[0m \u001b[38;5;124;03mCall self.model.predict with self.params as the first argument.\u001b[39;00m\n\u001b[0;32m   1129\u001b[0m \n\u001b[1;32m   (...)\u001b[0m\n\u001b[0;32m   1169\u001b[0m \u001b[38;5;124;03mreturned prediction.\u001b[39;00m\n\u001b[0;32m   1170\u001b[0m \u001b[38;5;124;03m\"\"\"\u001b[39;00m\n\u001b[0;32m   1171\u001b[0m exog, exog_index \u001b[38;5;241m=\u001b[39m \u001b[38;5;28mself\u001b[39m\u001b[38;5;241m.\u001b[39m_transform_predict_exog(exog,\n\u001b[0;32m   1172\u001b[0m                                                 transform\u001b[38;5;241m=\u001b[39mtransform)\n\u001b[1;32m-> 1174\u001b[0m predict_results \u001b[38;5;241m=\u001b[39m \u001b[38;5;28;43mself\u001b[39;49m\u001b[38;5;241;43m.\u001b[39;49m\u001b[43mmodel\u001b[49m\u001b[38;5;241;43m.\u001b[39;49m\u001b[43mpredict\u001b[49m\u001b[43m(\u001b[49m\u001b[38;5;28;43mself\u001b[39;49m\u001b[38;5;241;43m.\u001b[39;49m\u001b[43mparams\u001b[49m\u001b[43m,\u001b[49m\u001b[43m \u001b[49m\u001b[43mexog\u001b[49m\u001b[43m,\u001b[49m\u001b[43m \u001b[49m\u001b[38;5;241;43m*\u001b[39;49m\u001b[43margs\u001b[49m\u001b[43m,\u001b[49m\n\u001b[0;32m   1175\u001b[0m \u001b[43m                                     \u001b[49m\u001b[38;5;241;43m*\u001b[39;49m\u001b[38;5;241;43m*\u001b[39;49m\u001b[43mkwargs\u001b[49m\u001b[43m)\u001b[49m\n\u001b[0;32m   1177\u001b[0m \u001b[38;5;28;01mif\u001b[39;00m exog_index \u001b[38;5;129;01mis\u001b[39;00m \u001b[38;5;129;01mnot\u001b[39;00m \u001b[38;5;28;01mNone\u001b[39;00m \u001b[38;5;129;01mand\u001b[39;00m \u001b[38;5;129;01mnot\u001b[39;00m \u001b[38;5;28mhasattr\u001b[39m(predict_results,\n\u001b[0;32m   1178\u001b[0m                                           \u001b[38;5;124m'\u001b[39m\u001b[38;5;124mpredicted_values\u001b[39m\u001b[38;5;124m'\u001b[39m):\n\u001b[0;32m   1179\u001b[0m     \u001b[38;5;28;01mif\u001b[39;00m predict_results\u001b[38;5;241m.\u001b[39mndim \u001b[38;5;241m==\u001b[39m \u001b[38;5;241m1\u001b[39m:\n",
      "File \u001b[1;32m~\\AppData\\Local\\Programs\\Python\\Python312\\Lib\\site-packages\\statsmodels\\regression\\linear_model.py:409\u001b[0m, in \u001b[0;36mRegressionModel.predict\u001b[1;34m(self, params, exog)\u001b[0m\n\u001b[0;32m    406\u001b[0m \u001b[38;5;28;01mif\u001b[39;00m exog \u001b[38;5;129;01mis\u001b[39;00m \u001b[38;5;28;01mNone\u001b[39;00m:\n\u001b[0;32m    407\u001b[0m     exog \u001b[38;5;241m=\u001b[39m \u001b[38;5;28mself\u001b[39m\u001b[38;5;241m.\u001b[39mexog\n\u001b[1;32m--> 409\u001b[0m \u001b[38;5;28;01mreturn\u001b[39;00m \u001b[43mnp\u001b[49m\u001b[38;5;241;43m.\u001b[39;49m\u001b[43mdot\u001b[49m\u001b[43m(\u001b[49m\u001b[43mexog\u001b[49m\u001b[43m,\u001b[49m\u001b[43m \u001b[49m\u001b[43mparams\u001b[49m\u001b[43m)\u001b[49m\n",
      "\u001b[1;31mValueError\u001b[0m: shapes (2,3) and (4,) not aligned: 3 (dim 1) != 4 (dim 0)"
     ]
    }
   ],
   "source": [
    "# 라이브러리 임포트\n",
    "import pandas as pd\n",
    "import numpy as np\n",
    "import statsmodels.api as sm\n",
    "from sklearn.model_selection import train_test_split\n",
    "\n",
    "# 데이터 생성 (예시 데이터)\n",
    "data = {\n",
    "    'size': [50, 60, 70, 80, 90, 100, 110, 120, 130, 140],  # 집의 크기(㎡)\n",
    "    'rooms': [1, 1, 2, 2, 3, 3, 4, 4, 5, 5],                # 방 개수\n",
    "    'age': [5, 10, 5, 15, 20, 5, 10, 15, 10, 20],           # 집 나이\n",
    "    'price': [100, 120, 150, 180, 200, 220, 250, 270, 300, 350]  # 집값\n",
    "}\n",
    "\n",
    "# DataFrame 생성\n",
    "df = pd.DataFrame(data)\n",
    "\n",
    "# 특성과 타겟 변수 정의\n",
    "X = df[['size', 'rooms', 'age']]  # 입력 변수\n",
    "y = df['price']                    # 출력 변수\n",
    "\n",
    "# 학습 데이터와 테스트 데이터 분할\n",
    "X_train, X_test, y_train, y_test = train_test_split(X, y, test_size=0.2, random_state=42)\n",
    "# \"test_size=0.2\": 전체 데이터의 20%를 테스트 데이터로 사용하겠다는 뜻임. 나머지 80%는 학습 데이터로 사용. \n",
    "# 테스트 데이터는 모델의 성능을 평가할 때 사용되고 학습 데이터는 모델을 학습시키는 데 사용 됨. \n",
    "# \"random_state=42\": 데이터 분할 시 난수 생성기 초기값 설정. 같은 데이터셋을 여러 번 나누더라도 같은 결과를 보장함.\n",
    "\n",
    "\n",
    "# OLS 모델 적합을 위한 상수항 추가\n",
    "X_train_lm = sm.add_constant(X_train)\n",
    "\n",
    "# OLS 모델 적합\n",
    "lr_model = sm.OLS(y_train, X_train_lm).fit()\n",
    "\n",
    "# 결과 출력\n",
    "print(\"모델 요약:\")\n",
    "print(lr_model.summary())\n",
    "\n",
    "# 테스트 데이터에 대한 예측\n",
    "X_test_lm = sm.add_constant(X_test)  # 테스트 데이터에도 상수항 추가\n",
    "predictions = lr_model.predict(X_test_lm)\n",
    "\n",
    "# 예측 결과 출력\n",
    "print(\"테스트 데이터 예측 값:\")\n",
    "print(predictions)\n",
    "\n",
    "# 실제 값과 예측 값 비교\n",
    "results = pd.DataFrame({'Actual': y_test, 'Predicted': predictions})\n",
    "print(\"실제 값과 예측 값:\")\n",
    "print(results)\n"
   ]
  },
  {
   "cell_type": "code",
   "execution_count": null,
   "id": "ab3a3b22-e630-4d1b-a66e-d6deda0c7223",
   "metadata": {},
   "outputs": [],
   "source": []
  }
 ],
 "metadata": {
  "kernelspec": {
   "display_name": "Python 3 (ipykernel)",
   "language": "python",
   "name": "python3"
  },
  "language_info": {
   "codemirror_mode": {
    "name": "ipython",
    "version": 3
   },
   "file_extension": ".py",
   "mimetype": "text/x-python",
   "name": "python",
   "nbconvert_exporter": "python",
   "pygments_lexer": "ipython3",
   "version": "3.12.6"
  }
 },
 "nbformat": 4,
 "nbformat_minor": 5
}
