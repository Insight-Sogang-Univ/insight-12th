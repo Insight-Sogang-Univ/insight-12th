{
 "cells": [
  {
   "cell_type": "markdown",
   "id": "f73278c6-b6ea-4c0b-bd99-0e138091a64d",
   "metadata": {},
   "source": [
    "# 데이터 분석 프로세스\n",
    "데이터 수집-> 데이터 탐색 (EDA)-> 데이터 전처리-> 데이터 모델링"
   ]
  },
  {
   "cell_type": "markdown",
   "id": "6da99ed8-e5db-46d1-96cb-5eade037b0fb",
   "metadata": {},
   "source": [
    "# EDA의 대상\n",
    "하나의 변수를 살펴보는 Univariate(일변량)과 여러 변수 간의 관계를 살펴보는 Multi-variate(다변량)이 있음.\n",
    "Multi-variate의 경우 변수를 동시에 확인하기 이전에 데이터 각각을 파악하는 것이 오류 대처에 용이함."
   ]
  },
  {
   "cell_type": "markdown",
   "id": "84b99b1e-5265-4091-a301-9742476d6341",
   "metadata": {},
   "source": [
    "# EDA의 개념 (Exploratory Data Analysis)\n",
    "데이터 분석을 위해 데이터를 여러 방식으로 파악하는 모든 과정\n",
    "여러 방법을 통해 데이터의 패턴을 발견하거나 특이성을 파악하는 등의 방식으로 주어진 데이터에 대한 정보를 습득하는 것을 의미함.\n",
    "데이터를 잘못 해석하는 경우 이후 과정에서 문제가 발생할 수 있으므로 EDA는 중요한 단계임."
   ]
  },
  {
   "cell_type": "markdown",
   "id": "48fb479d-4ce8-4ad7-85cf-aba0f258c859",
   "metadata": {},
   "source": [
    "# EDA의 종류 및 유형\n",
    "데이터를 시각적으로 파악하는 Graphic(시각화)와 수치적으로 파악하는 Non-Graphic(비시각화)가 있음. \n",
    "EDA의 대상과 종류에 따라 유형이 구분 됨. Uni-Non Graphic(일변량 비시각화), Uni-Graphic(일변량 시각화), Multi-Non Graphic(다변량 비시각화), Multi-Graphic(다변량 시각화)가 있음."
   ]
  },
  {
   "cell_type": "markdown",
   "id": "df05ea6b-f73e-4b27-9356-a8498f5b29ad",
   "metadata": {},
   "source": [
    "# 데이터 확인\n",
    "데이터 읽기: 작업 공간에 데이터를 불러오는 것.\n",
    "데이터 쓰기: 새로운 데이터를 만드는 것.\n",
    "데이터셋 파악하기: 데이터 프레임 보기-> 데이터 변수 확인-> 데이터 분포 확인"
   ]
  },
  {
   "cell_type": "markdown",
   "id": "79547721-d5c1-4671-a6b7-d39f7371f2e3",
   "metadata": {},
   "source": [
    "#  데이터의 종류\n",
    "몇 개의 범주로 나누어진 데이터인 범주형과 숫자로 표현되는 수치형이 있음. \n",
    "범주형에는 명목형과 순서형이, 수치형에는 이산형과 연속형이 있음. "
   ]
  },
  {
   "cell_type": "markdown",
   "id": "0ff69c00-67d9-4921-8191-ae91cd65187d",
   "metadata": {},
   "source": [
    "# 전처리의 개념\n",
    "데이터 분석(모델링)을 위해 데이터를 적절한 방식으로 손질하는 과정임. 데이터 분석의 정확도는 데이터 품질에 영향을 받음. 품질을 높이기 위해서는 오류를 수정하고, 분석 목적에 부합하게 변형하는 것이 중요함. 이 과정이 매우 중요하기 때문에 실제로 많은 시간을 차지함. 데이터 정제(Cleansing), 데이터 변환(Transforming), 데이터 필터링(Filtering), 데이터 통합(Integration)이 있음. \n",
    "데이터 확인-> 결측값 처리-> 이상값 처리-> 변수가공의 과정으로 이루어짐. "
   ]
  },
  {
   "cell_type": "markdown",
   "id": "f385699e-d6df-4c5f-8ae5-17a0acfd8446",
   "metadata": {},
   "source": [
    "# 결측값 처리\n",
    "결측값이란 데이터 수집 과정에서 측정되지 않거나 누락된 데이터를 의미함. 결측값과 관련된 pandas function에는 info(), value_counts(dropna=False), isnull(), notnull(), replace()가 있음. "
   ]
  },
  {
   "cell_type": "markdown",
   "id": "d0ca478f-c2b1-4d9c-88c7-44ed22fe10c6",
   "metadata": {},
   "source": [
    "# 이상값 처리\n",
    "이상치란 관측된 데이터의 범위에서 많이 벗어난 값을 의미함. 이상치를 처리하지 않으면 데이터 분석에 큰 영향을 미치게 되므로 알맞은 처리를 해야함. \n",
    "통계, 시각화, Z-score, Tukey Fences를 통해 이상치를 확인함. \n"
   ]
  }
 ],
 "metadata": {
  "kernelspec": {
   "display_name": "Python 3 (ipykernel)",
   "language": "python",
   "name": "python3"
  },
  "language_info": {
   "codemirror_mode": {
    "name": "ipython",
    "version": 3
   },
   "file_extension": ".py",
   "mimetype": "text/x-python",
   "name": "python",
   "nbconvert_exporter": "python",
   "pygments_lexer": "ipython3",
   "version": "3.12.6"
  }
 },
 "nbformat": 4,
 "nbformat_minor": 5
}
