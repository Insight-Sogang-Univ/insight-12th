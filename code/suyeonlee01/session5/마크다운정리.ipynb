{
 "cells": [
  {
   "cell_type": "markdown",
   "id": "69a6f8aa-76d5-44b8-bb66-57de74b1e71b",
   "metadata": {},
   "source": [
    "세션 때 배웠던 내용을 복습하며 다시 정리해보았습니다.\n",
    " # 다중선형회귀의 기본가정\n",
    " 1. 선형성\n",
    " 2. 오차항의 평균 = 0\n",
    " 3. 독립성: 각 설명변수가 서로 선형독립적이어야 함. 그렇지 않은 경우 다중공선성이 있음.\n",
    " 4. 등분산성: 오차항의 분산이 일정해야 함. 그렇지 않은 경우 이분산성이 있다고 함.\n",
    " 5. 오차항은 자기상관되어 있지 않음. : 오차항의 공분산은 항상 0.\n",
    " 6. 정규성: 오차항이 정규분포를 따른다는 가정. 위배되어도 다중선형회귀분석 결과에 큰 영향 주지 않음.\n",
    "\n",
    "# 회귀분석의 결과를 평가하는 지표: R-squared\n",
    "결정계수의 약어. 회귀 분석에서 모델이 설명하는 데이터의 총 변동 중에서 설명된 비율을 의미함. \n",
    "$$R^2 = 1 - \\frac{SS_{\\text{res}}}{SS_{\\text{tot}}}$$\n",
    "즉, 모델이 데이터를 얼마나 잘 설명해주는지 측정하는 지표임. 1에 가까울수록 잘 설명하는 것.\n",
    "\n",
    "# 비선형 회귀\n",
    "\n",
    "from sklearn.preprocessing import PolynomialFeatures\n",
    "\n",
    "poly = PolynomialFeatures() #x1,x2를 2차항화\n",
    "poly.fit([[2, 3]])\n",
    "poly = PolynomialFeatures(include_bias=False) #상수항 제외\n",
    "poly.fit(train_input) \n",
    "test_poly = poly.transform(test_input)\n",
    "#poly.get_feature_names_out()  #변수명을 출력합니다\n",
    "\n",
    "from sklearn.linear_model import LinearRegression\n",
    "\n",
    "lr = LinearRegression()\n",
    "lr.fit(train_poly, train_target)\n",
    "print(lr.score(train_poly, train_target))\n",
    "\n",
    "\n"
   ]
  },
  {
   "cell_type": "code",
   "execution_count": null,
   "id": "11e33e96-449b-42b6-854b-ca64f6110efe",
   "metadata": {},
   "outputs": [],
   "source": []
  }
 ],
 "metadata": {
  "kernelspec": {
   "display_name": "Python 3 (ipykernel)",
   "language": "python",
   "name": "python3"
  },
  "language_info": {
   "codemirror_mode": {
    "name": "ipython",
    "version": 3
   },
   "file_extension": ".py",
   "mimetype": "text/x-python",
   "name": "python",
   "nbconvert_exporter": "python",
   "pygments_lexer": "ipython3",
   "version": "3.12.6"
  }
 },
 "nbformat": 4,
 "nbformat_minor": 5
}
