{
 "cells": [
  {
   "cell_type": "markdown",
   "id": "4319e9ed-d372-4cde-87d1-2c15937a7183",
   "metadata": {},
   "source": [
    "# **Pandas_사전 과제**\n",
    "\n",
    "## ⭐**Pandas의 정의**\n",
    ": 데이터 분석에 특화된 파이썬 라이브러리. Numpy의 확장판으로서 Numpy 기능과 구조화 된 데이터 처리 기능을 제공한다.\n",
    "<br>행과 열을 다룰 수 있는 **데이터 객체(DataFrame)** 를 만들어 사용하는 것이 특징이다. **분석의 시작 단계이다.**\n",
    "\n",
    "### Series() vs DataFrame()\n",
    ">**Series()**<br>: 1차원 배열 / index 기반 데이터\n",
    "\n",
    ">**Datatframe()**<br>: 2차원 배열 / index(데이터의 순서), column(데이터의 카테고리) 기반 데이터 -> **데이터의 위치**를 나타냄."
   ]
  },
  {
   "cell_type": "markdown",
   "id": "615838c6-460d-4adc-8e8e-5446accea662",
   "metadata": {},
   "source": [
    "## ⭐**DataFrame 구성**\n",
    "```python\n",
    "import pandas as pd\n",
    "pd.DataFrame() # 괄호 안에서 Shift + Tab -> 함수 인자에 관한 설명을 확인할 수 있음.\n",
    "```"
   ]
  },
  {
   "cell_type": "markdown",
   "id": "c914ea5f-1d87-4b77-b391-6d00fbb1602e",
   "metadata": {},
   "source": [
    "#### DataFrame에 담기는 Data type별 특징\n",
    ">**List[]**\n",
    "```python\n",
    "df = pd.DataFrame(list, columns=['a', 'b', 'c']) # Column 이름을 명시적으로 넘겨 줌.\n",
    "```\n",
    ">**Dictionary{key: value}**\n",
    "```python\n",
    "df = pd.DataFrame(dictionary) # Dictionary는 Key-Value 구조로 유지되므로 Key가 자연스럽게 Column 역할을 함. columns 명시 필요 X.\n",
    "```\n",
    "\n",
    "##### 공통점\n",
    "```python\n",
    "df = df.set_index('행 이름') # DataFrame().set_index(): 행 이름을 지정하는 method\n",
    "```"
   ]
  },
  {
   "cell_type": "markdown",
   "id": "e799383f-7dbe-43dd-8041-2fd9bef3da11",
   "metadata": {},
   "source": [
    "`df.types`: Column별 데이터 타입 확인"
   ]
  },
  {
   "cell_type": "markdown",
   "id": "2ae49dd6-a2a3-4d81-b850-8d402513f871",
   "metadata": {},
   "source": [
    "## **DataFrame 접근**"
   ]
  },
  {
   "cell_type": "markdown",
   "id": "7888bf34-a253-4ff5-b4f9-e0d44be93bbb",
   "metadata": {},
   "source": [
    "`df.head(n), df.tail(n)`: 각각 위/아래서부터 n개 만큼의 데이터 출력. default: 5개\n",
    "`df.loc['행이름', '열이름']`"
   ]
  },
  {
   "cell_type": "markdown",
   "id": "e6233724-f20c-4492-a9ef-901a60db3484",
   "metadata": {},
   "source": [
    "### 인덱싱 (단순 지목인 경우)\n",
    "- 열 이름\n",
    "> `df[\"colname\"]`: Series 반환<br>\n",
    "`df[[\"colname1\", \"colname2\"]]`: 부분적인 DataFrame 반환<br>\n",
    "`df[[\"colname\"]]`: colname 단일 열(DataFrame) 반환<br>\n",
    "`df[\"colname\"][index]`: colname 열 index번째 값 반환\n",
    "- 행과 열 \"이름(label)\"로 -> `df.loc['행 이름', '열 이름']`\n",
    "-  행과 열 순서로 -> `df.iloc['행 인덱스', '열 인덱스']` \n",
    "\n",
    "### 슬라이싱 (범위가 조건인 경우)\n",
    "- 행 순서: `df[n:m]`\n",
    "- 행과 열 이름: `df.loc[n:m, \"colname1\":\"colname2\"]` ❗슬라이싱 범위 주의: **[n, m) | [colname1, colname2]**❗\n",
    "- 행과 열 순서: `df.iloc[n:m, p:q]`\n",
    "\n",
    "❓**loc[] vs iloc[]**: .loc[]은 label 기반 인덱싱, .iloc[]은 정수 기반 인덱싱.\n",
    "\n",
    "### 인덱스 설정\n",
    "- default: 0 ~\n",
    "- `df.set_index(\"colname\", inplace=True)`: 기존 열 중 하나를 인덱스로 설정\n",
    "- `df.reset_index()`: 인덱스 리셋 및 기존 인덱스를 열에 추가 ❓**inplace=True**: 원본 객체에서 직접 수행한다는 의미\n",
    "- `df.reindex(인덱스 배열)`: 행 재배치 또는 새로운 인덱스 추가. 신규 인덱스의 데이터는 NaN(Not a Number)임."
   ]
  },
  {
   "cell_type": "markdown",
   "id": "1ec190a0-bf6a-4eeb-8e86-e98468c71f45",
   "metadata": {},
   "source": [
    "## ⭐**데이터 조작**\n",
    "### **데이터 확인하기**\n",
    "#### DataFrame 훑기\n",
    "`df.head(n)`\n",
    "`df.tail(n)`\n",
    "`df.shape`\n",
    "\n",
    "#### DataFrame 정보 확인하기\n",
    "`df.dtypes`\n",
    "`df.info()`\n",
    "`df.describe()`\n",
    "`df.isnull()`\n",
    "\n",
    "#### Data 개수 세기\n",
    "`df.count()`\n",
    "`df[\"colname\"].value_counts()`\n",
    "\n",
    "### **Data 추가, 삭제**\n",
    "추가: `df['new_colname'] = data_list`, `df['new'] = df['old1'] / df['old2'] 가능`<br>\n",
    "삭제: `del df['열 이름']`, `df.drop(lables, axis)`\n",
    ">❓**del vs .drop()**: del은 무조건 원본 데이터 열 삭제. drop()은 **inplace=False**일 때 원본 데이터 삭제 X -> 새로운 df에 할당 가능!<br>\n",
    ">❓**axis**: 0 == 행, 1 == 열 -> 연산의 기준!\n",
    "\n",
    "### **데이터 정렬**\n",
    "by 인덱스: `df.sort_index(ascending=False)` # 내림차순\n",
    "by 값: `df.sort_values(by=\"colname\", ascending=False)`\n",
    "\n",
    "### **데이터 변환**\n",
    "특정 Column 내 데이터 자료형 변환하기<br>\n",
    "1. `df.dtypes` -> 변환하려고 하는 열의 자료형 확인\n",
    "2. `df[\"colname\"] = df[\"colname\"].astype(str)`<br>\n",
    "\n",
    "+) 데이터 변경: `df.replace(target, new)`"
   ]
  },
  {
   "cell_type": "markdown",
   "id": "be81c2e1-221c-4042-9987-b1c267294be1",
   "metadata": {},
   "source": [
    "## **데이터 조작 (심화)**\n",
    "\n",
    "### 연산\n",
    "`df['colname'].func()`<br>\n",
    "- `.mean()`: 평균\n",
    "- `.median()` : 중앙값\n",
    "- `.std()` : 표준편차\n",
    "- `.sum()` : 합계\n",
    "- `.max()` : 최댓값\n",
    "- `.min()` : 최솟값\n",
    "\n",
    "### 그룹화\n",
    "`df.groupby('group_name')['operand_col'].operation()`<br>\n",
    ": 특정 기준으로 그룹을 지정하여 연산을 수행할 수 있음.\n",
    "\n",
    "### 데이터프레임 합치기\n",
    "> **`concatnated_df = pd.concat([df1, df2])`**<br>\n",
    ": 동일한 구조의 DataFrame을 행 또는 열 방향으로 이어붙일 때<br>\n",
    "\n",
    "> **`pd.merge(df1, df2, how=\"inner\", on=\"~~\")`**<br>\n",
    ": 공통 항목(열 또는 인덱스)가 있는 두 DataFrame을 병합할 때 -> 형태가 달라도, 겹치는 데이터를 기준으로 df를 합칠 수 있음."
   ]
  }
 ],
 "metadata": {
  "kernelspec": {
   "display_name": "Python 3 (ipykernel)",
   "language": "python",
   "name": "python3"
  },
  "language_info": {
   "codemirror_mode": {
    "name": "ipython",
    "version": 3
   },
   "file_extension": ".py",
   "mimetype": "text/x-python",
   "name": "python",
   "nbconvert_exporter": "python",
   "pygments_lexer": "ipython3",
   "version": "3.12.4"
  }
 },
 "nbformat": 4,
 "nbformat_minor": 5
}
