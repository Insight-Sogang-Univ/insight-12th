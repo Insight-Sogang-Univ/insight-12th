{
 "cells": [
  {
   "cell_type": "markdown",
   "id": "a942a351",
   "metadata": {
    "toc": true
   },
   "source": [
    "<h1>Table of Contents<span class=\"tocSkip\"></span></h1>\n",
    "<div class=\"toc\"><ul class=\"toc-item\"><li><span><a href=\"#통계란?\" data-toc-modified-id=\"통계란?-1\"><span class=\"toc-item-num\">1&nbsp;&nbsp;</span>통계란?</a></span></li><li><span><a href=\"#기술-통계-(수치-기술-통계)\" data-toc-modified-id=\"기술-통계-(수치-기술-통계)-2\"><span class=\"toc-item-num\">2&nbsp;&nbsp;</span>기술 통계 (수치 기술 통계)</a></span><ul class=\"toc-item\"><li><span><a href=\"#중심-위치-척도\" data-toc-modified-id=\"중심-위치-척도-2.1\"><span class=\"toc-item-num\">2.1&nbsp;&nbsp;</span>중심 위치 척도</a></span></li><li><span><a href=\"#변동성-척도\" data-toc-modified-id=\"변동성-척도-2.2\"><span class=\"toc-item-num\">2.2&nbsp;&nbsp;</span>변동성 척도</a></span></li><li><span><a href=\"#연관성-척도\" data-toc-modified-id=\"연관성-척도-2.3\"><span class=\"toc-item-num\">2.3&nbsp;&nbsp;</span>연관성 척도</a></span></li></ul></li><li><span><a href=\"#추론-통계\" data-toc-modified-id=\"추론-통계-3\"><span class=\"toc-item-num\">3&nbsp;&nbsp;</span>추론 통계</a></span><ul class=\"toc-item\"><li><span><a href=\"#대수의-법칙\" data-toc-modified-id=\"대수의-법칙-3.1\"><span class=\"toc-item-num\">3.1&nbsp;&nbsp;</span>대수의 법칙</a></span></li><li><span><a href=\"#중심극한정리\" data-toc-modified-id=\"중심극한정리-3.2\"><span class=\"toc-item-num\">3.2&nbsp;&nbsp;</span>중심극한정리</a></span></li></ul></li><li><span><a href=\"#가설-검정\" data-toc-modified-id=\"가설-검정-4\"><span class=\"toc-item-num\">4&nbsp;&nbsp;</span>가설 검정</a></span><ul class=\"toc-item\"><li><span><a href=\"#피어슨-상관-분석\" data-toc-modified-id=\"피어슨-상관-분석-4.1\"><span class=\"toc-item-num\">4.1&nbsp;&nbsp;</span>피어슨 상관 분석</a></span></li><li><span><a href=\"#T-test\" data-toc-modified-id=\"T-test-4.2\"><span class=\"toc-item-num\">4.2&nbsp;&nbsp;</span>T-test</a></span></li><li><span><a href=\"#F-검정\" data-toc-modified-id=\"F-검정-4.3\"><span class=\"toc-item-num\">4.3&nbsp;&nbsp;</span>F-검정</a></span></li><li><span><a href=\"#chi2-검정\" data-toc-modified-id=\"chi2-검정-4.4\"><span class=\"toc-item-num\">4.4&nbsp;&nbsp;</span>chi2 검정</a></span></li></ul></li><li><span><a href=\"#실습\" data-toc-modified-id=\"실습-5\"><span class=\"toc-item-num\">5&nbsp;&nbsp;</span>실습</a></span></li></ul></div>"
   ]
  },
  {
   "cell_type": "markdown",
   "id": "9d18e15e",
   "metadata": {},
   "source": [
    "## 통계란?"
   ]
  },
  {
   "cell_type": "markdown",
   "id": "0b500bc9",
   "metadata": {},
   "source": [
    "통계는 **기술 통계**와 **추론 통계**의 두 세부 분야로 이루어져 있습니다."
   ]
  },
  {
   "cell_type": "code",
   "execution_count": 6,
   "id": "c141a36d",
   "metadata": {},
   "outputs": [],
   "source": [
    "import pandas as pd\n",
    "import seaborn as sns\n",
    "\n",
    "# Titanic 데이터셋을 불러오기\n",
    "df = sns.load_dataset('titanic')"
   ]
  },
  {
   "cell_type": "code",
   "execution_count": 7,
   "id": "b7e1cbaf",
   "metadata": {},
   "outputs": [
    {
     "data": {
      "text/html": [
       "<div>\n",
       "<style scoped>\n",
       "    .dataframe tbody tr th:only-of-type {\n",
       "        vertical-align: middle;\n",
       "    }\n",
       "\n",
       "    .dataframe tbody tr th {\n",
       "        vertical-align: top;\n",
       "    }\n",
       "\n",
       "    .dataframe thead th {\n",
       "        text-align: right;\n",
       "    }\n",
       "</style>\n",
       "<table border=\"1\" class=\"dataframe\">\n",
       "  <thead>\n",
       "    <tr style=\"text-align: right;\">\n",
       "      <th></th>\n",
       "      <th>survived</th>\n",
       "      <th>pclass</th>\n",
       "      <th>sex</th>\n",
       "      <th>age</th>\n",
       "      <th>sibsp</th>\n",
       "      <th>parch</th>\n",
       "      <th>fare</th>\n",
       "      <th>embarked</th>\n",
       "      <th>class</th>\n",
       "      <th>who</th>\n",
       "      <th>adult_male</th>\n",
       "      <th>deck</th>\n",
       "      <th>embark_town</th>\n",
       "      <th>alive</th>\n",
       "      <th>alone</th>\n",
       "    </tr>\n",
       "  </thead>\n",
       "  <tbody>\n",
       "    <tr>\n",
       "      <th>0</th>\n",
       "      <td>0</td>\n",
       "      <td>3</td>\n",
       "      <td>male</td>\n",
       "      <td>22.0</td>\n",
       "      <td>1</td>\n",
       "      <td>0</td>\n",
       "      <td>7.2500</td>\n",
       "      <td>S</td>\n",
       "      <td>Third</td>\n",
       "      <td>man</td>\n",
       "      <td>True</td>\n",
       "      <td>NaN</td>\n",
       "      <td>Southampton</td>\n",
       "      <td>no</td>\n",
       "      <td>False</td>\n",
       "    </tr>\n",
       "    <tr>\n",
       "      <th>1</th>\n",
       "      <td>1</td>\n",
       "      <td>1</td>\n",
       "      <td>female</td>\n",
       "      <td>38.0</td>\n",
       "      <td>1</td>\n",
       "      <td>0</td>\n",
       "      <td>71.2833</td>\n",
       "      <td>C</td>\n",
       "      <td>First</td>\n",
       "      <td>woman</td>\n",
       "      <td>False</td>\n",
       "      <td>C</td>\n",
       "      <td>Cherbourg</td>\n",
       "      <td>yes</td>\n",
       "      <td>False</td>\n",
       "    </tr>\n",
       "    <tr>\n",
       "      <th>2</th>\n",
       "      <td>1</td>\n",
       "      <td>3</td>\n",
       "      <td>female</td>\n",
       "      <td>26.0</td>\n",
       "      <td>0</td>\n",
       "      <td>0</td>\n",
       "      <td>7.9250</td>\n",
       "      <td>S</td>\n",
       "      <td>Third</td>\n",
       "      <td>woman</td>\n",
       "      <td>False</td>\n",
       "      <td>NaN</td>\n",
       "      <td>Southampton</td>\n",
       "      <td>yes</td>\n",
       "      <td>True</td>\n",
       "    </tr>\n",
       "    <tr>\n",
       "      <th>3</th>\n",
       "      <td>1</td>\n",
       "      <td>1</td>\n",
       "      <td>female</td>\n",
       "      <td>35.0</td>\n",
       "      <td>1</td>\n",
       "      <td>0</td>\n",
       "      <td>53.1000</td>\n",
       "      <td>S</td>\n",
       "      <td>First</td>\n",
       "      <td>woman</td>\n",
       "      <td>False</td>\n",
       "      <td>C</td>\n",
       "      <td>Southampton</td>\n",
       "      <td>yes</td>\n",
       "      <td>False</td>\n",
       "    </tr>\n",
       "    <tr>\n",
       "      <th>4</th>\n",
       "      <td>0</td>\n",
       "      <td>3</td>\n",
       "      <td>male</td>\n",
       "      <td>35.0</td>\n",
       "      <td>0</td>\n",
       "      <td>0</td>\n",
       "      <td>8.0500</td>\n",
       "      <td>S</td>\n",
       "      <td>Third</td>\n",
       "      <td>man</td>\n",
       "      <td>True</td>\n",
       "      <td>NaN</td>\n",
       "      <td>Southampton</td>\n",
       "      <td>no</td>\n",
       "      <td>True</td>\n",
       "    </tr>\n",
       "  </tbody>\n",
       "</table>\n",
       "</div>"
      ],
      "text/plain": [
       "   survived  pclass     sex   age  sibsp  parch     fare embarked  class  \\\n",
       "0         0       3    male  22.0      1      0   7.2500        S  Third   \n",
       "1         1       1  female  38.0      1      0  71.2833        C  First   \n",
       "2         1       3  female  26.0      0      0   7.9250        S  Third   \n",
       "3         1       1  female  35.0      1      0  53.1000        S  First   \n",
       "4         0       3    male  35.0      0      0   8.0500        S  Third   \n",
       "\n",
       "     who  adult_male deck  embark_town alive  alone  \n",
       "0    man        True  NaN  Southampton    no  False  \n",
       "1  woman       False    C    Cherbourg   yes  False  \n",
       "2  woman       False  NaN  Southampton   yes   True  \n",
       "3  woman       False    C  Southampton   yes  False  \n",
       "4    man        True  NaN  Southampton    no   True  "
      ]
     },
     "execution_count": 7,
     "metadata": {},
     "output_type": "execute_result"
    }
   ],
   "source": [
    "# head를 이용하여 데이터를 확인해볼까요?\n",
    "df.head()"
   ]
  },
  {
   "cell_type": "code",
   "execution_count": 8,
   "id": "9e7894d2",
   "metadata": {
    "scrolled": true
   },
   "outputs": [
    {
     "name": "stdout",
     "output_type": "stream",
     "text": [
      "<class 'pandas.core.frame.DataFrame'>\n",
      "RangeIndex: 891 entries, 0 to 890\n",
      "Data columns (total 15 columns):\n",
      " #   Column       Non-Null Count  Dtype   \n",
      "---  ------       --------------  -----   \n",
      " 0   survived     891 non-null    int64   \n",
      " 1   pclass       891 non-null    int64   \n",
      " 2   sex          891 non-null    object  \n",
      " 3   age          714 non-null    float64 \n",
      " 4   sibsp        891 non-null    int64   \n",
      " 5   parch        891 non-null    int64   \n",
      " 6   fare         891 non-null    float64 \n",
      " 7   embarked     889 non-null    object  \n",
      " 8   class        891 non-null    category\n",
      " 9   who          891 non-null    object  \n",
      " 10  adult_male   891 non-null    bool    \n",
      " 11  deck         203 non-null    category\n",
      " 12  embark_town  889 non-null    object  \n",
      " 13  alive        891 non-null    object  \n",
      " 14  alone        891 non-null    bool    \n",
      "dtypes: bool(2), category(2), float64(2), int64(4), object(5)\n",
      "memory usage: 80.7+ KB\n"
     ]
    }
   ],
   "source": [
    "# 아래와 같은 결과가 나오도록, info를 사용하여 각 칼럼의 데이터 형식을 확인해볼까요?\n",
    "df.info()"
   ]
  },
  {
   "attachments": {
    "image.png": {
     "image/png": "[encoded data removed]"
    }
   },
   "cell_type": "markdown",
   "id": "b1085e18",
   "metadata": {},
   "source": [
    "![image.png](attachment:image.png)"
   ]
  },
  {
   "cell_type": "markdown",
   "id": "c380fdc0",
   "metadata": {},
   "source": [
    "## 기술 통계 (수치 기술 통계)"
   ]
  },
  {
   "cell_type": "markdown",
   "id": "92b9024a",
   "metadata": {},
   "source": [
    "### 중심 위치 척도"
   ]
  },
  {
   "cell_type": "code",
   "execution_count": 12,
   "id": "1fcb039f",
   "metadata": {},
   "outputs": [
    {
     "name": "stdout",
     "output_type": "stream",
     "text": [
      "평균: 29.69911764705882\n",
      "중앙값: 28.0\n",
      "최빈값: 0    24.0\n",
      "Name: age, dtype: float64\n",
      "최빈값: 24.0\n"
     ]
    }
   ],
   "source": [
    "# 숫자로 되어있는 칼럼 중에 하나를 골라 평균, 중앙값, 최빈값을 구해봅시다.\n",
    "\n",
    "col = df['age']\n",
    "\n",
    "mean = col.mean()\n",
    "median = col.median()\n",
    "mode = col.mode()\n",
    "\n",
    "print('평균:',mean)\n",
    "print('중앙값:', median)      \n",
    "print('최빈값:',mode)\n",
    "\n",
    "# 최빈값은 float로 반환하는 평균, 중앙값과 다르게 series 형태를 반환하기 때문에, 값만 추출하고 싶다면 첫번째 값이라는 뜻의 [0]를 붙여주면 됩니다!\n",
    "print('최빈값:',mode[0])"
   ]
  },
  {
   "cell_type": "code",
   "execution_count": 13,
   "id": "78dad407",
   "metadata": {},
   "outputs": [
    {
     "data": {
      "text/plain": [
       "0.38910778230082704"
      ]
     },
     "execution_count": 13,
     "metadata": {},
     "output_type": "execute_result"
    }
   ],
   "source": [
    "# 왜도도 한 번 구해볼까요?\n",
    "col.skew()"
   ]
  },
  {
   "cell_type": "markdown",
   "id": "c4330b3b",
   "metadata": {},
   "source": [
    "Quiz) 왜도가 양수 이므로 평균과 중앙값이 최빈값보다 (작/크)다. "
   ]
  },
  {
   "cell_type": "markdown",
   "id": "8dd63ca8",
   "metadata": {},
   "source": [
    "### 변동성 척도"
   ]
  },
  {
   "cell_type": "markdown",
   "id": "93f80bf3",
   "metadata": {},
   "source": [
    "이제 변동성 척도를 하나씩 구해봅시다."
   ]
  },
  {
   "cell_type": "code",
   "execution_count": 17,
   "id": "fa2dab8a",
   "metadata": {},
   "outputs": [
    {
     "name": "stdout",
     "output_type": "stream",
     "text": [
      "Q1: nan, Q2: nan, Q3: nan\n"
     ]
    }
   ],
   "source": [
    "import numpy as np\n",
    "from scipy import stats as spst\n",
    "\n",
    "data = col.to_numpy()  # 칼럼을 1차원 배열로 변환\n",
    "\n",
    "# 사분위수 계산\n",
    "Q1 =  np.percentile(data, 25)\n",
    "Q2 =  np.percentile(data, 50)\n",
    "Q3 =  np.percentile(data, 75)\n",
    "\n",
    "# 결과 출력\n",
    "print(f\"Q1: {Q1}, Q2: {Q2}, Q3: {Q3}\")\n",
    "\n",
    "# 아니 결과가...?"
   ]
  },
  {
   "cell_type": "markdown",
   "id": "fde5eaa7",
   "metadata": {},
   "source": [
    "numpy 모듈의 대부분의 연산은, 데이터에 nan값이 포함되면 결과치를 nan으로 반환하게 됩니다.\n",
    "<br>따라서 계산하기 전에 전처리를 해주거나, 적절한 함수를 사용해주어야 합니다."
   ]
  },
  {
   "cell_type": "code",
   "execution_count": 19,
   "id": "52ad2492",
   "metadata": {},
   "outputs": [
    {
     "data": {
      "text/plain": [
       "177"
      ]
     },
     "execution_count": 19,
     "metadata": {},
     "output_type": "execute_result"
    }
   ],
   "source": [
    "# nan값이 몇 개 있는지 확인해볼까요?\n",
    "col.isnull().sum()"
   ]
  },
  {
   "cell_type": "code",
   "execution_count": 20,
   "id": "b472ea8c",
   "metadata": {},
   "outputs": [
    {
     "name": "stdout",
     "output_type": "stream",
     "text": [
      "Q1: 20.125, Q2: 28.0, Q3: 38.0\n",
      "IQR: 17.875\n",
      "Range: 79.58\n",
      "Variance: 210.72357975366617\n",
      "Standard Deviation: 14.516321150817316\n",
      "Coefficient of Variation: 48.87795429927496\n"
     ]
    }
   ],
   "source": [
    "# nan을 제거한 후에 계산\n",
    "\n",
    "col = df['age'].dropna(axis=0)\n",
    "\n",
    "data = col.to_numpy()  # 칼럼을 1차원 배열로 변환\n",
    "\n",
    "\n",
    "# 사분위수 계산\n",
    "Q1 = np.percentile(data, 25)\n",
    "Q2 = np.percentile(data, 50)\n",
    "Q3 = np.percentile(data, 75)\n",
    "\n",
    "# 사분위간 범위 계산\n",
    "IQR = Q3 - Q1\n",
    "\n",
    "# 범위 계산\n",
    "data_range = np.max(data) - np.min(data)\n",
    "\n",
    "# 분산 계산\n",
    "variance = np.var(data)\n",
    "\n",
    "# 표준편차 계산\n",
    "std_deviation = np.std(data)\n",
    "\n",
    "# 변동계수 계산\n",
    "coeff_variation = (std_deviation / col.mean()) * 100\n",
    "\n",
    "# 결과 출력\n",
    "print(f\"Q1: {Q1}, Q2: {Q2}, Q3: {Q3}\")\n",
    "print(f\"IQR: {IQR}\")\n",
    "print(f\"Range: {data_range}\")\n",
    "print(f\"Variance: {variance}\")\n",
    "print(f\"Standard Deviation: {std_deviation}\")\n",
    "print(f\"Coefficient of Variation: {coeff_variation}\")\n"
   ]
  },
  {
   "cell_type": "markdown",
   "id": "5b3d647a",
   "metadata": {},
   "source": [
    "간단한 기술 통계치들을 보여주는 함수가 있었는데 기억나시나요?"
   ]
  },
  {
   "cell_type": "code",
   "execution_count": 22,
   "id": "7e8bef43",
   "metadata": {
    "scrolled": true
   },
   "outputs": [
    {
     "data": {
      "text/html": [
       "<div>\n",
       "<style scoped>\n",
       "    .dataframe tbody tr th:only-of-type {\n",
       "        vertical-align: middle;\n",
       "    }\n",
       "\n",
       "    .dataframe tbody tr th {\n",
       "        vertical-align: top;\n",
       "    }\n",
       "\n",
       "    .dataframe thead th {\n",
       "        text-align: right;\n",
       "    }\n",
       "</style>\n",
       "<table border=\"1\" class=\"dataframe\">\n",
       "  <thead>\n",
       "    <tr style=\"text-align: right;\">\n",
       "      <th></th>\n",
       "      <th>survived</th>\n",
       "      <th>pclass</th>\n",
       "      <th>age</th>\n",
       "      <th>sibsp</th>\n",
       "      <th>parch</th>\n",
       "      <th>fare</th>\n",
       "    </tr>\n",
       "  </thead>\n",
       "  <tbody>\n",
       "    <tr>\n",
       "      <th>count</th>\n",
       "      <td>891.000000</td>\n",
       "      <td>891.000000</td>\n",
       "      <td>714.000000</td>\n",
       "      <td>891.000000</td>\n",
       "      <td>891.000000</td>\n",
       "      <td>891.000000</td>\n",
       "    </tr>\n",
       "    <tr>\n",
       "      <th>mean</th>\n",
       "      <td>0.383838</td>\n",
       "      <td>2.308642</td>\n",
       "      <td>29.699118</td>\n",
       "      <td>0.523008</td>\n",
       "      <td>0.381594</td>\n",
       "      <td>32.204208</td>\n",
       "    </tr>\n",
       "    <tr>\n",
       "      <th>std</th>\n",
       "      <td>0.486592</td>\n",
       "      <td>0.836071</td>\n",
       "      <td>14.526497</td>\n",
       "      <td>1.102743</td>\n",
       "      <td>0.806057</td>\n",
       "      <td>49.693429</td>\n",
       "    </tr>\n",
       "    <tr>\n",
       "      <th>min</th>\n",
       "      <td>0.000000</td>\n",
       "      <td>1.000000</td>\n",
       "      <td>0.420000</td>\n",
       "      <td>0.000000</td>\n",
       "      <td>0.000000</td>\n",
       "      <td>0.000000</td>\n",
       "    </tr>\n",
       "    <tr>\n",
       "      <th>25%</th>\n",
       "      <td>0.000000</td>\n",
       "      <td>2.000000</td>\n",
       "      <td>20.125000</td>\n",
       "      <td>0.000000</td>\n",
       "      <td>0.000000</td>\n",
       "      <td>7.910400</td>\n",
       "    </tr>\n",
       "    <tr>\n",
       "      <th>50%</th>\n",
       "      <td>0.000000</td>\n",
       "      <td>3.000000</td>\n",
       "      <td>28.000000</td>\n",
       "      <td>0.000000</td>\n",
       "      <td>0.000000</td>\n",
       "      <td>14.454200</td>\n",
       "    </tr>\n",
       "    <tr>\n",
       "      <th>75%</th>\n",
       "      <td>1.000000</td>\n",
       "      <td>3.000000</td>\n",
       "      <td>38.000000</td>\n",
       "      <td>1.000000</td>\n",
       "      <td>0.000000</td>\n",
       "      <td>31.000000</td>\n",
       "    </tr>\n",
       "    <tr>\n",
       "      <th>max</th>\n",
       "      <td>1.000000</td>\n",
       "      <td>3.000000</td>\n",
       "      <td>80.000000</td>\n",
       "      <td>8.000000</td>\n",
       "      <td>6.000000</td>\n",
       "      <td>512.329200</td>\n",
       "    </tr>\n",
       "  </tbody>\n",
       "</table>\n",
       "</div>"
      ],
      "text/plain": [
       "         survived      pclass         age       sibsp       parch        fare\n",
       "count  891.000000  891.000000  714.000000  891.000000  891.000000  891.000000\n",
       "mean     0.383838    2.308642   29.699118    0.523008    0.381594   32.204208\n",
       "std      0.486592    0.836071   14.526497    1.102743    0.806057   49.693429\n",
       "min      0.000000    1.000000    0.420000    0.000000    0.000000    0.000000\n",
       "25%      0.000000    2.000000   20.125000    0.000000    0.000000    7.910400\n",
       "50%      0.000000    3.000000   28.000000    0.000000    0.000000   14.454200\n",
       "75%      1.000000    3.000000   38.000000    1.000000    0.000000   31.000000\n",
       "max      1.000000    3.000000   80.000000    8.000000    6.000000  512.329200"
      ]
     },
     "execution_count": 22,
     "metadata": {},
     "output_type": "execute_result"
    }
   ],
   "source": [
    "df.describe()"
   ]
  },
  {
   "cell_type": "code",
   "execution_count": 23,
   "id": "7f4ccbfa",
   "metadata": {},
   "outputs": [
    {
     "data": {
      "text/html": [
       "<div>\n",
       "<style scoped>\n",
       "    .dataframe tbody tr th:only-of-type {\n",
       "        vertical-align: middle;\n",
       "    }\n",
       "\n",
       "    .dataframe tbody tr th {\n",
       "        vertical-align: top;\n",
       "    }\n",
       "\n",
       "    .dataframe thead th {\n",
       "        text-align: right;\n",
       "    }\n",
       "</style>\n",
       "<table border=\"1\" class=\"dataframe\">\n",
       "  <thead>\n",
       "    <tr style=\"text-align: right;\">\n",
       "      <th></th>\n",
       "      <th>survived</th>\n",
       "      <th>pclass</th>\n",
       "      <th>sex</th>\n",
       "      <th>age</th>\n",
       "      <th>sibsp</th>\n",
       "      <th>parch</th>\n",
       "      <th>fare</th>\n",
       "      <th>embarked</th>\n",
       "      <th>class</th>\n",
       "      <th>who</th>\n",
       "      <th>adult_male</th>\n",
       "      <th>deck</th>\n",
       "      <th>embark_town</th>\n",
       "      <th>alive</th>\n",
       "      <th>alone</th>\n",
       "    </tr>\n",
       "  </thead>\n",
       "  <tbody>\n",
       "    <tr>\n",
       "      <th>count</th>\n",
       "      <td>891.000000</td>\n",
       "      <td>891.000000</td>\n",
       "      <td>891</td>\n",
       "      <td>714.000000</td>\n",
       "      <td>891.000000</td>\n",
       "      <td>891.000000</td>\n",
       "      <td>891.000000</td>\n",
       "      <td>889</td>\n",
       "      <td>891</td>\n",
       "      <td>891</td>\n",
       "      <td>891</td>\n",
       "      <td>203</td>\n",
       "      <td>889</td>\n",
       "      <td>891</td>\n",
       "      <td>891</td>\n",
       "    </tr>\n",
       "    <tr>\n",
       "      <th>unique</th>\n",
       "      <td>NaN</td>\n",
       "      <td>NaN</td>\n",
       "      <td>2</td>\n",
       "      <td>NaN</td>\n",
       "      <td>NaN</td>\n",
       "      <td>NaN</td>\n",
       "      <td>NaN</td>\n",
       "      <td>3</td>\n",
       "      <td>3</td>\n",
       "      <td>3</td>\n",
       "      <td>2</td>\n",
       "      <td>7</td>\n",
       "      <td>3</td>\n",
       "      <td>2</td>\n",
       "      <td>2</td>\n",
       "    </tr>\n",
       "    <tr>\n",
       "      <th>top</th>\n",
       "      <td>NaN</td>\n",
       "      <td>NaN</td>\n",
       "      <td>male</td>\n",
       "      <td>NaN</td>\n",
       "      <td>NaN</td>\n",
       "      <td>NaN</td>\n",
       "      <td>NaN</td>\n",
       "      <td>S</td>\n",
       "      <td>Third</td>\n",
       "      <td>man</td>\n",
       "      <td>True</td>\n",
       "      <td>C</td>\n",
       "      <td>Southampton</td>\n",
       "      <td>no</td>\n",
       "      <td>True</td>\n",
       "    </tr>\n",
       "    <tr>\n",
       "      <th>freq</th>\n",
       "      <td>NaN</td>\n",
       "      <td>NaN</td>\n",
       "      <td>577</td>\n",
       "      <td>NaN</td>\n",
       "      <td>NaN</td>\n",
       "      <td>NaN</td>\n",
       "      <td>NaN</td>\n",
       "      <td>644</td>\n",
       "      <td>491</td>\n",
       "      <td>537</td>\n",
       "      <td>537</td>\n",
       "      <td>59</td>\n",
       "      <td>644</td>\n",
       "      <td>549</td>\n",
       "      <td>537</td>\n",
       "    </tr>\n",
       "    <tr>\n",
       "      <th>mean</th>\n",
       "      <td>0.383838</td>\n",
       "      <td>2.308642</td>\n",
       "      <td>NaN</td>\n",
       "      <td>29.699118</td>\n",
       "      <td>0.523008</td>\n",
       "      <td>0.381594</td>\n",
       "      <td>32.204208</td>\n",
       "      <td>NaN</td>\n",
       "      <td>NaN</td>\n",
       "      <td>NaN</td>\n",
       "      <td>NaN</td>\n",
       "      <td>NaN</td>\n",
       "      <td>NaN</td>\n",
       "      <td>NaN</td>\n",
       "      <td>NaN</td>\n",
       "    </tr>\n",
       "    <tr>\n",
       "      <th>std</th>\n",
       "      <td>0.486592</td>\n",
       "      <td>0.836071</td>\n",
       "      <td>NaN</td>\n",
       "      <td>14.526497</td>\n",
       "      <td>1.102743</td>\n",
       "      <td>0.806057</td>\n",
       "      <td>49.693429</td>\n",
       "      <td>NaN</td>\n",
       "      <td>NaN</td>\n",
       "      <td>NaN</td>\n",
       "      <td>NaN</td>\n",
       "      <td>NaN</td>\n",
       "      <td>NaN</td>\n",
       "      <td>NaN</td>\n",
       "      <td>NaN</td>\n",
       "    </tr>\n",
       "    <tr>\n",
       "      <th>min</th>\n",
       "      <td>0.000000</td>\n",
       "      <td>1.000000</td>\n",
       "      <td>NaN</td>\n",
       "      <td>0.420000</td>\n",
       "      <td>0.000000</td>\n",
       "      <td>0.000000</td>\n",
       "      <td>0.000000</td>\n",
       "      <td>NaN</td>\n",
       "      <td>NaN</td>\n",
       "      <td>NaN</td>\n",
       "      <td>NaN</td>\n",
       "      <td>NaN</td>\n",
       "      <td>NaN</td>\n",
       "      <td>NaN</td>\n",
       "      <td>NaN</td>\n",
       "    </tr>\n",
       "    <tr>\n",
       "      <th>25%</th>\n",
       "      <td>0.000000</td>\n",
       "      <td>2.000000</td>\n",
       "      <td>NaN</td>\n",
       "      <td>20.125000</td>\n",
       "      <td>0.000000</td>\n",
       "      <td>0.000000</td>\n",
       "      <td>7.910400</td>\n",
       "      <td>NaN</td>\n",
       "      <td>NaN</td>\n",
       "      <td>NaN</td>\n",
       "      <td>NaN</td>\n",
       "      <td>NaN</td>\n",
       "      <td>NaN</td>\n",
       "      <td>NaN</td>\n",
       "      <td>NaN</td>\n",
       "    </tr>\n",
       "    <tr>\n",
       "      <th>50%</th>\n",
       "      <td>0.000000</td>\n",
       "      <td>3.000000</td>\n",
       "      <td>NaN</td>\n",
       "      <td>28.000000</td>\n",
       "      <td>0.000000</td>\n",
       "      <td>0.000000</td>\n",
       "      <td>14.454200</td>\n",
       "      <td>NaN</td>\n",
       "      <td>NaN</td>\n",
       "      <td>NaN</td>\n",
       "      <td>NaN</td>\n",
       "      <td>NaN</td>\n",
       "      <td>NaN</td>\n",
       "      <td>NaN</td>\n",
       "      <td>NaN</td>\n",
       "    </tr>\n",
       "    <tr>\n",
       "      <th>75%</th>\n",
       "      <td>1.000000</td>\n",
       "      <td>3.000000</td>\n",
       "      <td>NaN</td>\n",
       "      <td>38.000000</td>\n",
       "      <td>1.000000</td>\n",
       "      <td>0.000000</td>\n",
       "      <td>31.000000</td>\n",
       "      <td>NaN</td>\n",
       "      <td>NaN</td>\n",
       "      <td>NaN</td>\n",
       "      <td>NaN</td>\n",
       "      <td>NaN</td>\n",
       "      <td>NaN</td>\n",
       "      <td>NaN</td>\n",
       "      <td>NaN</td>\n",
       "    </tr>\n",
       "    <tr>\n",
       "      <th>max</th>\n",
       "      <td>1.000000</td>\n",
       "      <td>3.000000</td>\n",
       "      <td>NaN</td>\n",
       "      <td>80.000000</td>\n",
       "      <td>8.000000</td>\n",
       "      <td>6.000000</td>\n",
       "      <td>512.329200</td>\n",
       "      <td>NaN</td>\n",
       "      <td>NaN</td>\n",
       "      <td>NaN</td>\n",
       "      <td>NaN</td>\n",
       "      <td>NaN</td>\n",
       "      <td>NaN</td>\n",
       "      <td>NaN</td>\n",
       "      <td>NaN</td>\n",
       "    </tr>\n",
       "  </tbody>\n",
       "</table>\n",
       "</div>"
      ],
      "text/plain": [
       "          survived      pclass   sex         age       sibsp       parch  \\\n",
       "count   891.000000  891.000000   891  714.000000  891.000000  891.000000   \n",
       "unique         NaN         NaN     2         NaN         NaN         NaN   \n",
       "top            NaN         NaN  male         NaN         NaN         NaN   \n",
       "freq           NaN         NaN   577         NaN         NaN         NaN   \n",
       "mean      0.383838    2.308642   NaN   29.699118    0.523008    0.381594   \n",
       "std       0.486592    0.836071   NaN   14.526497    1.102743    0.806057   \n",
       "min       0.000000    1.000000   NaN    0.420000    0.000000    0.000000   \n",
       "25%       0.000000    2.000000   NaN   20.125000    0.000000    0.000000   \n",
       "50%       0.000000    3.000000   NaN   28.000000    0.000000    0.000000   \n",
       "75%       1.000000    3.000000   NaN   38.000000    1.000000    0.000000   \n",
       "max       1.000000    3.000000   NaN   80.000000    8.000000    6.000000   \n",
       "\n",
       "              fare embarked  class  who adult_male deck  embark_town alive  \\\n",
       "count   891.000000      889    891  891        891  203          889   891   \n",
       "unique         NaN        3      3    3          2    7            3     2   \n",
       "top            NaN        S  Third  man       True    C  Southampton    no   \n",
       "freq           NaN      644    491  537        537   59          644   549   \n",
       "mean     32.204208      NaN    NaN  NaN        NaN  NaN          NaN   NaN   \n",
       "std      49.693429      NaN    NaN  NaN        NaN  NaN          NaN   NaN   \n",
       "min       0.000000      NaN    NaN  NaN        NaN  NaN          NaN   NaN   \n",
       "25%       7.910400      NaN    NaN  NaN        NaN  NaN          NaN   NaN   \n",
       "50%      14.454200      NaN    NaN  NaN        NaN  NaN          NaN   NaN   \n",
       "75%      31.000000      NaN    NaN  NaN        NaN  NaN          NaN   NaN   \n",
       "max     512.329200      NaN    NaN  NaN        NaN  NaN          NaN   NaN   \n",
       "\n",
       "       alone  \n",
       "count    891  \n",
       "unique     2  \n",
       "top     True  \n",
       "freq     537  \n",
       "mean     NaN  \n",
       "std      NaN  \n",
       "min      NaN  \n",
       "25%      NaN  \n",
       "50%      NaN  \n",
       "75%      NaN  \n",
       "max      NaN  "
      ]
     },
     "execution_count": 23,
     "metadata": {},
     "output_type": "execute_result"
    }
   ],
   "source": [
    "# 위와 같은 함수를 넣어보면!\n",
    "df.describe(percentiles=[0.05, 0.25, 0.75, 0.95])\n",
    "df.describe(include = 'all')"
   ]
  },
  {
   "cell_type": "markdown",
   "id": "be721761",
   "metadata": {},
   "source": [
    "### 연관성 척도"
   ]
  },
  {
   "cell_type": "code",
   "execution_count": 25,
   "id": "1f5193cb",
   "metadata": {},
   "outputs": [
    {
     "name": "stdout",
     "output_type": "stream",
     "text": [
      "Covariance between Pclass and Fare: [[ 6.99015120e-01 -2.28301962e+01]\n",
      " [-2.28301962e+01  2.46943685e+03]]\n",
      "Correlation between Pclass and Fare:         pclass    fare\n",
      "pclass  1.0000 -0.5495\n",
      "fare   -0.5495  1.0000\n"
     ]
    }
   ],
   "source": [
    "# 티켓 등급과 요금 사이의 공분산 계산\n",
    "covariance = np.cov(df['pclass'], df['fare'])\n",
    "\n",
    "# 티켓 등급과 요금 사이의 상관계수 계산\n",
    "correlation = df[['pclass', 'fare']].corr()\n",
    "\n",
    "# 결과 출력\n",
    "print(f\"Covariance between Pclass and Fare: {covariance}\")\n",
    "print(f\"Correlation between Pclass and Fare: {correlation}\")\n"
   ]
  },
  {
   "cell_type": "markdown",
   "id": "85c8ed07",
   "metadata": {},
   "source": [
    "## 추론 통계"
   ]
  },
  {
   "cell_type": "markdown",
   "id": "84780b8a",
   "metadata": {},
   "source": [
    "### 대수의 법칙"
   ]
  },
  {
   "cell_type": "code",
   "execution_count": 28,
   "id": "22038d58",
   "metadata": {
    "scrolled": true
   },
   "outputs": [
    {
     "data": {
      "image/png": "[encoded data removed]",
      "text/plain": [
       "<Figure size 1000x600 with 1 Axes>"
      ]
     },
     "metadata": {},
     "output_type": "display_data"
    }
   ],
   "source": [
    "# 그냥 실행!\n",
    "import matplotlib.pyplot as plt\n",
    "\n",
    "# Define the number of experiments and the number of trials per experiment\n",
    "num_experiments = 1000\n",
    "num_trials_list = [1, 10, 100, 1000, 10000]\n",
    "\n",
    "# Create a dictionary to hold the results\n",
    "results = {}\n",
    "\n",
    "# Loop through each number of trials\n",
    "for num_trials in num_trials_list:\n",
    "    averages = []  # Store the averages from each experiment\n",
    "    for _ in range(num_experiments):\n",
    "        # Conduct the experiment: flip a fair coin (0 = tails, 1 = heads)\n",
    "        trials = np.random.randint(2, size=num_trials)\n",
    "        # Calculate the average (proportion of heads)\n",
    "        average = np.mean(trials)\n",
    "        averages.append(average)\n",
    "    # Store the results\n",
    "    results[num_trials] = averages\n",
    "\n",
    "# Plotting the results\n",
    "plt.figure(figsize=(10, 6))\n",
    "for num_trials, averages in results.items():\n",
    "    plt.hist(averages, bins=30, alpha=0.5, label=f'{num_trials} trials')\n",
    "plt.axvline(x=0.5, color='black', linestyle='--')  # Expected value for a fair coin\n",
    "plt.title('Law of Large Numbers Demonstration')\n",
    "plt.xlabel('Average Outcome (Proportion of Heads)')\n",
    "plt.ylabel('Frequency')\n",
    "plt.legend()\n",
    "plt.show()\n"
   ]
  },
  {
   "cell_type": "markdown",
   "id": "c15dce84",
   "metadata": {},
   "source": [
    "### 중심극한정리"
   ]
  },
  {
   "cell_type": "code",
   "execution_count": 30,
   "id": "626e3f0f",
   "metadata": {},
   "outputs": [
    {
     "data": {
      "image/png": "[encoded data removed]",
      "text/plain": [
       "<Figure size 1200x800 with 6 Axes>"
      ]
     },
     "metadata": {},
     "output_type": "display_data"
    }
   ],
   "source": [
    "# 그냥 실행!\n",
    "\n",
    "# Define the number of experiments and the number of samples per experiment\n",
    "num_experiments = 10000\n",
    "num_samples_list = [1, 10, 30, 50, 100]\n",
    "\n",
    "# Skewed distribution: we can use an exponential distribution as an example\n",
    "lambda_ = 5  # Rate parameter for the exponential distribution\n",
    "original_distribution = np.random.exponential(1/lambda_, 10000)\n",
    "\n",
    "# Create a dictionary to hold the sample mean results\n",
    "sample_means_results = {}\n",
    "\n",
    "# Loop through each number of samples\n",
    "for num_samples in num_samples_list:\n",
    "    sample_means = []  # Store the sample means from each experiment\n",
    "    for _ in range(num_experiments):\n",
    "        # Take a sample from the original skewed distribution\n",
    "        sample = np.random.exponential(1/lambda_, num_samples)\n",
    "        # Calculate the mean of the sample\n",
    "        sample_mean = np.mean(sample)\n",
    "        sample_means.append(sample_mean)\n",
    "    # Store the results\n",
    "    sample_means_results[num_samples] = sample_means\n",
    "\n",
    "# Plotting the results\n",
    "plt.figure(figsize=(12, 8))\n",
    "\n",
    "# Plot the original distribution\n",
    "plt.subplot(2, 3, 1)\n",
    "plt.hist(original_distribution, bins=30, alpha=0.7, color='grey')\n",
    "plt.title('Original Distribution\\n(Exponential)')\n",
    "plt.xlabel('Value')\n",
    "plt.ylabel('Frequency')\n",
    "\n",
    "# Plot the distribution of sample means\n",
    "for i, (num_samples, sample_means) in enumerate(sample_means_results.items(), start=2):\n",
    "    plt.subplot(2, 3, i)\n",
    "    plt.hist(sample_means, bins=30, alpha=0.7, color='skyblue')\n",
    "    plt.title(f'Sample Means\\n(n={num_samples})')\n",
    "    plt.xlabel('Sample Mean')\n",
    "    plt.ylabel('Frequency')\n",
    "\n",
    "plt.tight_layout()\n",
    "plt.show()\n"
   ]
  },
  {
   "cell_type": "markdown",
   "id": "cff06904",
   "metadata": {},
   "source": [
    "## 가설 검정"
   ]
  },
  {
   "cell_type": "markdown",
   "id": "4b090b07",
   "metadata": {},
   "source": [
    "### 피어슨 상관 분석"
   ]
  },
  {
   "cell_type": "markdown",
   "id": "ef0c53ad",
   "metadata": {},
   "source": [
    "가설 설정\n",
    "<br>**귀무 가설(H0)**: 가족 수와 운임은 선형 상관관계가 없다.\n",
    "<br>**대립 가설(H1)**: 가족 수와 운임은 선형 상관관계가 있다."
   ]
  },
  {
   "cell_type": "code",
   "execution_count": 34,
   "id": "2c84dd59",
   "metadata": {},
   "outputs": [
    {
     "data": {
      "text/plain": [
       "PearsonRResult(statistic=0.2162249447707647, pvalue=6.915291577876931e-11)"
      ]
     },
     "execution_count": 34,
     "metadata": {},
     "output_type": "execute_result"
    }
   ],
   "source": [
    "spst.pearsonr(df['parch'], df['fare'])"
   ]
  },
  {
   "cell_type": "markdown",
   "id": "184595b2",
   "metadata": {},
   "source": [
    "**결과 해석**\n",
    "* p-값이 0.05 이하이므로, 귀무가설을 기각, 가족수와 운임 사이에는 통계적으로 유의미한 선형 상관관계가 있음\n",
    "* 절대값이 작으므로 그 상관관계의 정도가 약함."
   ]
  },
  {
   "cell_type": "markdown",
   "id": "514ee8b4",
   "metadata": {},
   "source": [
    "### T-test"
   ]
  },
  {
   "cell_type": "markdown",
   "id": "489b023e",
   "metadata": {},
   "source": [
    "가설 설정\n",
    "<br>**귀무 가설(H0)**: 남녀 승객의 평균 나이 차이가 없다. 즉, 두 그룹의 평균 나이는 같다.\n",
    "<br>**대립 가설(H1)**: 남녀 승객의 평균 나이 차이가 있다. 즉, 두 그룹의 평균 나이는 다르다."
   ]
  },
  {
   "cell_type": "code",
   "execution_count": 38,
   "id": "e6b94a72",
   "metadata": {},
   "outputs": [
    {
     "name": "stdout",
     "output_type": "stream",
     "text": [
      "T-Statistic: 2.499206354920835, P-Value: 0.012671296797013709\n"
     ]
    }
   ],
   "source": [
    "# 남녀 나이 데이터 추출(dropna 사용)\n",
    "age_m = df.loc[df['sex']=='male', 'age'].dropna(axis=0)\n",
    "age_f = df.loc[df['sex']=='female', 'age'].dropna(axis=0)\n",
    "\n",
    "# 독립 표본 T-검정 수행\n",
    "t_stat, p_value = spst.ttest_ind(age_m, age_f)  \n",
    "\n",
    "# 결과 출력\n",
    "print(f\"T-Statistic: {t_stat}, P-Value: {p_value}\")"
   ]
  },
  {
   "cell_type": "code",
   "execution_count": 39,
   "id": "e42e03d8",
   "metadata": {},
   "outputs": [
    {
     "data": {
      "text/plain": [
       "sex\n",
       "female    27.915709\n",
       "male      30.726645\n",
       "Name: age, dtype: float64"
      ]
     },
     "execution_count": 39,
     "metadata": {},
     "output_type": "execute_result"
    }
   ],
   "source": [
    "df.groupby('sex')['age'].mean()"
   ]
  },
  {
   "cell_type": "markdown",
   "id": "91163645",
   "metadata": {},
   "source": [
    "**결과 해석**\n",
    "* p-값이 0.05 이하이므로, 귀무가설을 기각, 남녀 평균 나이에는 통계적으로 유의미한 차이가 있음\n",
    "* t값 절대값이 2 이상이므로 차이나는 정도가 크다고 할 수 있음."
   ]
  },
  {
   "cell_type": "markdown",
   "id": "c3af82f3",
   "metadata": {},
   "source": [
    "### F-검정"
   ]
  },
  {
   "cell_type": "markdown",
   "id": "ecf2d527",
   "metadata": {},
   "source": [
    "가설 설정\n",
    "<br>**귀무 가설(H0)**: 타이타닉호의 1등석, 2등석, 3등석 승객의 나이 평균은 차이가 없다.\n",
    "<br>**대립 가설(H1)**: 타이타닉호의 1등석, 2등석, 3등석 승객의 나이 평균은 차이가 있다.\n",
    "<br>검정 결과 p-값이 유의 수준(예: 0.05)보다 작으면, 귀무 가설을 기각하고, **적어도 하나의** 객실 등급 그룹의 나이 평균이 나머지 그룹과 통계적으로 유의미하게 다르다는 결론을 내립니다."
   ]
  },
  {
   "cell_type": "code",
   "execution_count": 43,
   "id": "f4294287",
   "metadata": {},
   "outputs": [
    {
     "name": "stdout",
     "output_type": "stream",
     "text": [
      "F-Value: 242.34415651744814, P-Value: 1.0313763209141171e-84\n"
     ]
    }
   ],
   "source": [
    "# 객실 등급별 요금 데이터 추출(dropna 사용)\n",
    "age_class_1 = df.loc[df['pclass']==1, 'fare'].dropna(axis=0)\n",
    "age_class_2 = df.loc[df['pclass']==2, 'fare'].dropna(axis=0)\n",
    "age_class_3 = df.loc[df['pclass']==3, 'fare'].dropna(axis=0)\n",
    "\n",
    "# ANOVA 실시\n",
    "f_value, p_value = spst.f_oneway(age_class_1, age_class_2, age_class_3)\n",
    "\n",
    "# 결과 출력\n",
    "print(f\"F-Value: {f_value}, P-Value: {p_value}\")\n"
   ]
  },
  {
   "cell_type": "markdown",
   "id": "e47f44d6",
   "metadata": {},
   "source": [
    "**결과 해석**\n",
    "* p-값이 0.05 이하이므로, 객실 등급에 따라 나이의 평균에 유의미한 차이가 있음을 의미.\n",
    "* F값이 2~3 이상으로, 그 차이가 크다고 할 수 있음."
   ]
  },
  {
   "cell_type": "markdown",
   "id": "17f65f9c",
   "metadata": {},
   "source": [
    "### chi2 검정"
   ]
  },
  {
   "cell_type": "markdown",
   "id": "fc51b861",
   "metadata": {},
   "source": [
    "가설 설정\n",
    "<br>**귀무 가설(H0)**: 타이타닉호의 선실 등급과 승선 장소는 관련이 없다.(독립이다)\n",
    "<br>**대립 가설(H1)**: 타이타닉호의 선실 등급과 승선 장소는 관련이 있다.(종속이다)\n",
    "<br>검정 결과 p-값이 유의 수준(예: 0.05)보다 작으면, 귀무 가설을 기각하고, 둘은 관련이 있다는 결론을 내립니다."
   ]
  },
  {
   "cell_type": "code",
   "execution_count": 47,
   "id": "6560ad08",
   "metadata": {},
   "outputs": [
    {
     "data": {
      "text/html": [
       "<div>\n",
       "<style scoped>\n",
       "    .dataframe tbody tr th:only-of-type {\n",
       "        vertical-align: middle;\n",
       "    }\n",
       "\n",
       "    .dataframe tbody tr th {\n",
       "        vertical-align: top;\n",
       "    }\n",
       "\n",
       "    .dataframe thead th {\n",
       "        text-align: right;\n",
       "    }\n",
       "</style>\n",
       "<table border=\"1\" class=\"dataframe\">\n",
       "  <thead>\n",
       "    <tr style=\"text-align: right;\">\n",
       "      <th>embarked</th>\n",
       "      <th>C</th>\n",
       "      <th>Q</th>\n",
       "      <th>S</th>\n",
       "    </tr>\n",
       "    <tr>\n",
       "      <th>pclass</th>\n",
       "      <th></th>\n",
       "      <th></th>\n",
       "      <th></th>\n",
       "    </tr>\n",
       "  </thead>\n",
       "  <tbody>\n",
       "    <tr>\n",
       "      <th>1</th>\n",
       "      <td>85</td>\n",
       "      <td>2</td>\n",
       "      <td>127</td>\n",
       "    </tr>\n",
       "    <tr>\n",
       "      <th>2</th>\n",
       "      <td>17</td>\n",
       "      <td>3</td>\n",
       "      <td>164</td>\n",
       "    </tr>\n",
       "    <tr>\n",
       "      <th>3</th>\n",
       "      <td>66</td>\n",
       "      <td>72</td>\n",
       "      <td>353</td>\n",
       "    </tr>\n",
       "  </tbody>\n",
       "</table>\n",
       "</div>"
      ],
      "text/plain": [
       "embarked   C   Q    S\n",
       "pclass               \n",
       "1         85   2  127\n",
       "2         17   3  164\n",
       "3         66  72  353"
      ]
     },
     "metadata": {},
     "output_type": "display_data"
    },
    {
     "data": {
      "text/plain": [
       "Chi2ContingencyResult(statistic=123.75190952951289, pvalue=8.435267819894384e-26, dof=4, expected_freq=array([[ 40.44094488,  18.53543307, 155.02362205],\n",
       "       [ 34.77165354,  15.93700787, 133.29133858],\n",
       "       [ 92.78740157,  42.52755906, 355.68503937]]))"
      ]
     },
     "execution_count": 47,
     "metadata": {},
     "output_type": "execute_result"
    }
   ],
   "source": [
    "table = pd.crosstab(df['pclass'], df['embarked'])\n",
    "display(table)\n",
    "spst.chi2_contingency(table)  # 여기의 array는 위의 table과 같은 행, 열을 가짐"
   ]
  },
  {
   "cell_type": "markdown",
   "id": "21f3a51f",
   "metadata": {},
   "source": [
    "**결과 해석**\n",
    "* p-값이 0.05 이하이므로, 두 변수 사이 관련이 있음을 의미.\n",
    "* chi2값이 4\\*2 보다 크므로, 그 관련 정도가 크다고 할 수 있음."
   ]
  },
  {
   "cell_type": "markdown",
   "id": "6d4eec42",
   "metadata": {},
   "source": [
    "## 실습\n",
    "<br>이제 다른 칼럼을 가지고 각각 상관분석, t검정, F검정, chi2 검정을 진행해봅시다."
   ]
  },
  {
   "cell_type": "code",
   "execution_count": 50,
   "id": "fcf07e3f-6846-4fd7-bd02-1c7c437955ce",
   "metadata": {},
   "outputs": [
    {
     "data": {
      "text/html": [
       "<div>\n",
       "<style scoped>\n",
       "    .dataframe tbody tr th:only-of-type {\n",
       "        vertical-align: middle;\n",
       "    }\n",
       "\n",
       "    .dataframe tbody tr th {\n",
       "        vertical-align: top;\n",
       "    }\n",
       "\n",
       "    .dataframe thead th {\n",
       "        text-align: right;\n",
       "    }\n",
       "</style>\n",
       "<table border=\"1\" class=\"dataframe\">\n",
       "  <thead>\n",
       "    <tr style=\"text-align: right;\">\n",
       "      <th></th>\n",
       "      <th>survived</th>\n",
       "      <th>pclass</th>\n",
       "      <th>sex</th>\n",
       "      <th>age</th>\n",
       "      <th>sibsp</th>\n",
       "      <th>parch</th>\n",
       "      <th>fare</th>\n",
       "      <th>embarked</th>\n",
       "      <th>class</th>\n",
       "      <th>who</th>\n",
       "      <th>adult_male</th>\n",
       "      <th>deck</th>\n",
       "      <th>embark_town</th>\n",
       "      <th>alive</th>\n",
       "      <th>alone</th>\n",
       "    </tr>\n",
       "  </thead>\n",
       "  <tbody>\n",
       "    <tr>\n",
       "      <th>0</th>\n",
       "      <td>0</td>\n",
       "      <td>3</td>\n",
       "      <td>male</td>\n",
       "      <td>22.0</td>\n",
       "      <td>1</td>\n",
       "      <td>0</td>\n",
       "      <td>7.2500</td>\n",
       "      <td>S</td>\n",
       "      <td>Third</td>\n",
       "      <td>man</td>\n",
       "      <td>True</td>\n",
       "      <td>NaN</td>\n",
       "      <td>Southampton</td>\n",
       "      <td>no</td>\n",
       "      <td>False</td>\n",
       "    </tr>\n",
       "    <tr>\n",
       "      <th>1</th>\n",
       "      <td>1</td>\n",
       "      <td>1</td>\n",
       "      <td>female</td>\n",
       "      <td>38.0</td>\n",
       "      <td>1</td>\n",
       "      <td>0</td>\n",
       "      <td>71.2833</td>\n",
       "      <td>C</td>\n",
       "      <td>First</td>\n",
       "      <td>woman</td>\n",
       "      <td>False</td>\n",
       "      <td>C</td>\n",
       "      <td>Cherbourg</td>\n",
       "      <td>yes</td>\n",
       "      <td>False</td>\n",
       "    </tr>\n",
       "    <tr>\n",
       "      <th>2</th>\n",
       "      <td>1</td>\n",
       "      <td>3</td>\n",
       "      <td>female</td>\n",
       "      <td>26.0</td>\n",
       "      <td>0</td>\n",
       "      <td>0</td>\n",
       "      <td>7.9250</td>\n",
       "      <td>S</td>\n",
       "      <td>Third</td>\n",
       "      <td>woman</td>\n",
       "      <td>False</td>\n",
       "      <td>NaN</td>\n",
       "      <td>Southampton</td>\n",
       "      <td>yes</td>\n",
       "      <td>True</td>\n",
       "    </tr>\n",
       "    <tr>\n",
       "      <th>3</th>\n",
       "      <td>1</td>\n",
       "      <td>1</td>\n",
       "      <td>female</td>\n",
       "      <td>35.0</td>\n",
       "      <td>1</td>\n",
       "      <td>0</td>\n",
       "      <td>53.1000</td>\n",
       "      <td>S</td>\n",
       "      <td>First</td>\n",
       "      <td>woman</td>\n",
       "      <td>False</td>\n",
       "      <td>C</td>\n",
       "      <td>Southampton</td>\n",
       "      <td>yes</td>\n",
       "      <td>False</td>\n",
       "    </tr>\n",
       "    <tr>\n",
       "      <th>4</th>\n",
       "      <td>0</td>\n",
       "      <td>3</td>\n",
       "      <td>male</td>\n",
       "      <td>35.0</td>\n",
       "      <td>0</td>\n",
       "      <td>0</td>\n",
       "      <td>8.0500</td>\n",
       "      <td>S</td>\n",
       "      <td>Third</td>\n",
       "      <td>man</td>\n",
       "      <td>True</td>\n",
       "      <td>NaN</td>\n",
       "      <td>Southampton</td>\n",
       "      <td>no</td>\n",
       "      <td>True</td>\n",
       "    </tr>\n",
       "    <tr>\n",
       "      <th>...</th>\n",
       "      <td>...</td>\n",
       "      <td>...</td>\n",
       "      <td>...</td>\n",
       "      <td>...</td>\n",
       "      <td>...</td>\n",
       "      <td>...</td>\n",
       "      <td>...</td>\n",
       "      <td>...</td>\n",
       "      <td>...</td>\n",
       "      <td>...</td>\n",
       "      <td>...</td>\n",
       "      <td>...</td>\n",
       "      <td>...</td>\n",
       "      <td>...</td>\n",
       "      <td>...</td>\n",
       "    </tr>\n",
       "    <tr>\n",
       "      <th>886</th>\n",
       "      <td>0</td>\n",
       "      <td>2</td>\n",
       "      <td>male</td>\n",
       "      <td>27.0</td>\n",
       "      <td>0</td>\n",
       "      <td>0</td>\n",
       "      <td>13.0000</td>\n",
       "      <td>S</td>\n",
       "      <td>Second</td>\n",
       "      <td>man</td>\n",
       "      <td>True</td>\n",
       "      <td>NaN</td>\n",
       "      <td>Southampton</td>\n",
       "      <td>no</td>\n",
       "      <td>True</td>\n",
       "    </tr>\n",
       "    <tr>\n",
       "      <th>887</th>\n",
       "      <td>1</td>\n",
       "      <td>1</td>\n",
       "      <td>female</td>\n",
       "      <td>19.0</td>\n",
       "      <td>0</td>\n",
       "      <td>0</td>\n",
       "      <td>30.0000</td>\n",
       "      <td>S</td>\n",
       "      <td>First</td>\n",
       "      <td>woman</td>\n",
       "      <td>False</td>\n",
       "      <td>B</td>\n",
       "      <td>Southampton</td>\n",
       "      <td>yes</td>\n",
       "      <td>True</td>\n",
       "    </tr>\n",
       "    <tr>\n",
       "      <th>888</th>\n",
       "      <td>0</td>\n",
       "      <td>3</td>\n",
       "      <td>female</td>\n",
       "      <td>NaN</td>\n",
       "      <td>1</td>\n",
       "      <td>2</td>\n",
       "      <td>23.4500</td>\n",
       "      <td>S</td>\n",
       "      <td>Third</td>\n",
       "      <td>woman</td>\n",
       "      <td>False</td>\n",
       "      <td>NaN</td>\n",
       "      <td>Southampton</td>\n",
       "      <td>no</td>\n",
       "      <td>False</td>\n",
       "    </tr>\n",
       "    <tr>\n",
       "      <th>889</th>\n",
       "      <td>1</td>\n",
       "      <td>1</td>\n",
       "      <td>male</td>\n",
       "      <td>26.0</td>\n",
       "      <td>0</td>\n",
       "      <td>0</td>\n",
       "      <td>30.0000</td>\n",
       "      <td>C</td>\n",
       "      <td>First</td>\n",
       "      <td>man</td>\n",
       "      <td>True</td>\n",
       "      <td>C</td>\n",
       "      <td>Cherbourg</td>\n",
       "      <td>yes</td>\n",
       "      <td>True</td>\n",
       "    </tr>\n",
       "    <tr>\n",
       "      <th>890</th>\n",
       "      <td>0</td>\n",
       "      <td>3</td>\n",
       "      <td>male</td>\n",
       "      <td>32.0</td>\n",
       "      <td>0</td>\n",
       "      <td>0</td>\n",
       "      <td>7.7500</td>\n",
       "      <td>Q</td>\n",
       "      <td>Third</td>\n",
       "      <td>man</td>\n",
       "      <td>True</td>\n",
       "      <td>NaN</td>\n",
       "      <td>Queenstown</td>\n",
       "      <td>no</td>\n",
       "      <td>True</td>\n",
       "    </tr>\n",
       "  </tbody>\n",
       "</table>\n",
       "<p>891 rows × 15 columns</p>\n",
       "</div>"
      ],
      "text/plain": [
       "     survived  pclass     sex   age  sibsp  parch     fare embarked   class  \\\n",
       "0           0       3    male  22.0      1      0   7.2500        S   Third   \n",
       "1           1       1  female  38.0      1      0  71.2833        C   First   \n",
       "2           1       3  female  26.0      0      0   7.9250        S   Third   \n",
       "3           1       1  female  35.0      1      0  53.1000        S   First   \n",
       "4           0       3    male  35.0      0      0   8.0500        S   Third   \n",
       "..        ...     ...     ...   ...    ...    ...      ...      ...     ...   \n",
       "886         0       2    male  27.0      0      0  13.0000        S  Second   \n",
       "887         1       1  female  19.0      0      0  30.0000        S   First   \n",
       "888         0       3  female   NaN      1      2  23.4500        S   Third   \n",
       "889         1       1    male  26.0      0      0  30.0000        C   First   \n",
       "890         0       3    male  32.0      0      0   7.7500        Q   Third   \n",
       "\n",
       "       who  adult_male deck  embark_town alive  alone  \n",
       "0      man        True  NaN  Southampton    no  False  \n",
       "1    woman       False    C    Cherbourg   yes  False  \n",
       "2    woman       False  NaN  Southampton   yes   True  \n",
       "3    woman       False    C  Southampton   yes  False  \n",
       "4      man        True  NaN  Southampton    no   True  \n",
       "..     ...         ...  ...          ...   ...    ...  \n",
       "886    man        True  NaN  Southampton    no   True  \n",
       "887  woman       False    B  Southampton   yes   True  \n",
       "888  woman       False  NaN  Southampton    no  False  \n",
       "889    man        True    C    Cherbourg   yes   True  \n",
       "890    man        True  NaN   Queenstown    no   True  \n",
       "\n",
       "[891 rows x 15 columns]"
      ]
     },
     "execution_count": 50,
     "metadata": {},
     "output_type": "execute_result"
    }
   ],
   "source": [
    "df"
   ]
  },
  {
   "cell_type": "code",
   "execution_count": 102,
   "id": "c8e8bbb8",
   "metadata": {},
   "outputs": [
    {
     "data": {
      "text/plain": [
       "<matplotlib.collections.PathCollection at 0x18cf7e39820>"
      ]
     },
     "execution_count": 102,
     "metadata": {},
     "output_type": "execute_result"
    },
    {
     "data": {
      "image/png": "[encoded data removed]",
      "text/plain": [
       "<Figure size 640x480 with 1 Axes>"
      ]
     },
     "metadata": {},
     "output_type": "display_data"
    }
   ],
   "source": [
    "# 피어슨 -> 수치 vs 수치\n",
    "\"\"\"\n",
    "가설\n",
    "H0: 탑승객의 나이와 동승한 형제자매의 수 간 선형 상관관계가 존재하지 않는다.\n",
    "H1: 탑승객의 나이와 동승한 형제자매의 수 간 선형 상관관계가 존재한다.\n",
    "\"\"\"\n",
    "d_age = df['age'].fillna(df['age'].mean()) # NaN 값을 각 Column의 평균으로 채우기\n",
    "d_sibsp = df['sibsp'].fillna(df['sibsp'].mean())\n",
    "spst.pearsonr(d_age, d_sibsp) # 피어슨 분석은 두 column의 length가 같아야 함.\n",
    "\n",
    "plt.scatter(d_age, d_sibsp) # 산점도 시각화\n",
    "\n",
    "# 해석\n",
    "# 상관계수의 절댓값은 약 0.23으로 0.3 미만이기 때문에 두 변수 간 상관관계가 약합니다.\n",
    "# 따라서 \"탑승객의 나이와 동승한 형제자매 수 간 선형 상관관계가 존재하지 않는다\"는 결론을 내릴 수 있습니다.\n"
   ]
  },
  {
   "cell_type": "code",
   "execution_count": 92,
   "id": "a3289193",
   "metadata": {},
   "outputs": [
    {
     "data": {
      "text/plain": [
       "TtestResult(statistic=2.499206354920835, pvalue=0.012671296797013709, df=712.0)"
      ]
     },
     "execution_count": 92,
     "metadata": {},
     "output_type": "execute_result"
    }
   ],
   "source": [
    "# t검정 -> 범주 vs 수치 (범주 2개)\n",
    "\"\"\"\n",
    "H0: 남자 탑승객 나이의 평균과 여자 탑승객 나이의 평균에는 차이가 없다.\n",
    "H1: 남자 탑승객 나이의 평균과 여자 탑승객 나이의 평균에는 차이가 있다.\n",
    "\"\"\"\n",
    "male_age = df.loc[df['sex']=='male', 'age'].dropna(axis=0)\n",
    "female_age = df.loc[df['sex']=='female', 'age'].dropna(axis=0)\n",
    "\n",
    "spst.ttest_ind(male_age, female_age)\n",
    "\n",
    "# 해석\n",
    "# t값이 약 2.49로 절댓값이 2보다 크기 때문에 두 평균에는 차이가 있다고 할 수 있어 대립가설 H1을 채택할 수 있습니다.\n",
    "# pvalue 또한 약 0.01로 0.05보다 작기 때문에 신뢰할 수 있습니다.\n"
   ]
  },
  {
   "cell_type": "code",
   "execution_count": 94,
   "id": "9ba9faa9",
   "metadata": {},
   "outputs": [
    {
     "data": {
      "text/plain": [
       "F_onewayResult(statistic=15.653456448969294, pvalue=1.9822562729494488e-07)"
      ]
     },
     "execution_count": 94,
     "metadata": {},
     "output_type": "execute_result"
    }
   ],
   "source": [
    "# f검정 -> 범주 vs 수치 (범주 3개 이상)\n",
    "\"\"\"\n",
    "H0: 생존자, 객실 등급, 그리고 탑승 지역 별 승객의 나이의 평균에는 차이가 없다.\n",
    "H1: 생존자, 객실 등급, 그리고 탑승 지역 별 승객의 나이의 평균에는 차이가 있다.\n",
    "\"\"\"\n",
    "survived_age = df.loc[df['survived']==1, 'age'].dropna()\n",
    "pclass_age = df.loc[df['pclass']==3, 'age'].dropna()\n",
    "embarke_age = df.loc[df['embarked']=='male', 'age'].dropna()\n",
    "\n",
    "spst.f_oneway(survived_age, pclass_age, male_age)\n",
    "\n",
    "# 해석\n",
    "# F 값이 15.65로 2 ~ 3 이상이기 때문에 각 범주 별 평균 수명에는 큰 차이가 있다고 볼 수 있습니다.\n",
    "# pvalue가 매우 작기 때문에 귀무 가설을 기각할 수 있습니다.\n"
   ]
  },
  {
   "cell_type": "code",
   "execution_count": 104,
   "id": "b79ca5ee",
   "metadata": {},
   "outputs": [
    {
     "data": {
      "text/plain": [
       "Chi2ContingencyResult(statistic=123.75190952951289, pvalue=8.435267819894384e-26, dof=4, expected_freq=array([[ 40.44094488,  34.77165354,  92.78740157],\n",
       "       [ 18.53543307,  15.93700787,  42.52755906],\n",
       "       [155.02362205, 133.29133858, 355.68503937]]))"
      ]
     },
     "execution_count": 104,
     "metadata": {},
     "output_type": "execute_result"
    }
   ],
   "source": [
    "# chi2 검정 -> 범주 vs 범주\n",
    "\"\"\"\n",
    "H0: 탑승 지역과 객실 등급은 관련이 없다.\n",
    "H1: 탑승 지역과 객실 등급은 관련이 있다.\n",
    "\"\"\"\n",
    "table = pd.crosstab(df['embarked'], df['pclass']) # 교차표 생성\n",
    "spst.chi2_contingency(table)\n",
    "\n",
    "# 해석\n",
    "# 카이제곱 통계량은 123이고, 자유도의 2배는 8이기 때문에 의미 있는 차이가 있으며, pvalue가 매우 작기 때문에 귀무가설을 기각할 수 있습니다.\n",
    "# 기대 빈도가 5 이하인 셀이 25% 미만이기 때문에 exact_test는 사용하지 않았습니다.\n"
   ]
  }
 ],
 "metadata": {
  "kernelspec": {
   "display_name": "Python 3 (ipykernel)",
   "language": "python",
   "name": "python3"
  },
  "language_info": {
   "codemirror_mode": {
    "name": "ipython",
    "version": 3
   },
   "file_extension": ".py",
   "mimetype": "text/x-python",
   "name": "python",
   "nbconvert_exporter": "python",
   "pygments_lexer": "ipython3",
   "version": "3.12.4"
  },
  "toc": {
   "base_numbering": 1,
   "nav_menu": {},
   "number_sections": true,
   "sideBar": true,
   "skip_h1_title": true,
   "title_cell": "Table of Contents",
   "title_sidebar": "Contents",
   "toc_cell": true,
   "toc_position": {
    "height": "calc(100% - 180px)",
    "left": "10px",
    "top": "150px",
    "width": "206.161px"
   },
   "toc_section_display": true,
   "toc_window_display": true
  },
  "varInspector": {
   "cols": {
    "lenName": 16,
    "lenType": 16,
    "lenVar": 40
   },
   "kernels_config": {
    "python": {
     "delete_cmd_postfix": "",
     "delete_cmd_prefix": "del ",
     "library": "var_list.py",
     "varRefreshCmd": "print(var_dic_list())"
    },
    "r": {
     "delete_cmd_postfix": ") ",
     "delete_cmd_prefix": "rm(",
     "library": "var_list.r",
     "varRefreshCmd": "cat(var_dic_list()) "
    }
   },
   "types_to_exclude": [
    "module",
    "function",
    "builtin_function_or_method",
    "instance",
    "_Feature"
   ],
   "window_display": false
  }
 },
 "nbformat": 4,
 "nbformat_minor": 5
}
