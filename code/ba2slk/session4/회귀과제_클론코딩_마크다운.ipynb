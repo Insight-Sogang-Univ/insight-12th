{
 "cells": [
  {
   "cell_type": "markdown",
   "id": "b502480f-ce84-4b6a-a533-8af4975c6cb6",
   "metadata": {},
   "source": [
    "# 회귀 과제: 클론 코딩 \n",
    "\n",
    "간단한 EDA부터 선형 회귀 모델을 사용한 데이터 분석 및 모델링까지 지금까지 배웠던 전반적인 내용들에 대해서 복습하고, 어떤 과정으로 회귀 분석이 이루어지는지 알 수 있었습니다. \n",
    "\n",
    "## 과정\n",
    "### EDA\n",
    "1. 데이터의 형태를 확인한다.\n",
    "2. 결측값과 중복값이 있는지 확인한다.\n",
    "3. 데이터 전처리를 통해서 중복/원하지 않는 열을 삭제한다.\n",
    "4. 숫자로 이루어진 범주형 변수 값들을 범주형 데이터 타입으로 변환하여 더미변수를 만든다. (각 더미 세트의 첫 번째 더미 변수는 다중공선성을 피하기 위해 drop)\n",
    "5. 데이터 분할 -> train, test set으로\n",
    "6. 수치 변수 시각화 -> 선형 관계, 상관 관계가 나타나는 변수 확인\n",
    "7. 변수 Scaling\n",
    "\n",
    "### 선형 모델 구축\n",
    "1. 종속 변수를 데이터 프레임에서 분리 -> y_train\n",
    "2. 나머지 변수들은 독립 변수 -> X_train\n",
    "3. 재귀적 기능 제거 -> 반복적으로 피쳐들을 제거하면서 모델 성능 평가. 성능이 가장 떨어지는 변수를 제거하여 가장 중요한 변수들을 선택하는 과정.\n",
    "4. P 값과 VIF가 높은 변수들을 summary를 보고 제거 => 최적의 상태가 될 때까지 반복함.\n",
    "5. 최종 모델 해석\n",
    "6. 최종 모델과 test_set을 사용해서 올바르게 작동하는지 확인. -> 이 과정은 단 한 번만 시행되어야 함.\n",
    "7. R^2 값을 통해서 모델을 일반화할 수 있는지 최종 판단.\n",
    "\n",
    "## 정리\n",
    "- `pd.get_dummies(data, drop_first=True)`: 더미 변수를 생성.\n",
    "- `df_train, df_test = train_test_split(bike_new, train_size=0.7, test_size=0.30, random_state=333)` => Random하게 추출하면서도 분석의 재현성을 보장함.\n",
    "- `cols = df.columns`를 추출해서 `df[cols]` 로 활용\n",
    "- `sklearn.feature_selection.RFE` -> 여러 변수(피쳐) 가운데 가장 중요한 것들만을 골라내기 위해 사용. 선택 여부와 랭킹 정보를 얻을 수 있음. => 열 이름 추출, 새로운 데이터 프레임 생성\n",
    "- 이후 `VIF` 값을 계속 확인하여 다중공선성이 높은 변수들에 대응(삭제 등)하는 과정을 반복함. (VIF는 낮을수록 좋음)\n",
    "- `lrModel.params` => 회귀 계수 확인\n",
    "- `F-statistics`는 높을수록 모델의 유의성이 높음을 의미. P값은 0.05 미만인 것들이 유의.\n",
    "- `test_data set`은 마지막에 한 번만 사용한다. => 이후 y_test와 y_pred 사이의 관계가 선형으로 나타나는지 확인한다.\n",
    "\n",
    "## 느낀 점\n",
    "클론 코딩을 하는 과정에서, 메서드에 데이터를 넘겨줄 때 데이터 형식이 맞지 않아서 에러가 발생한 경우가 있었습니다. 에러 메세지를 잘 읽고, 넘겨준 데이터 값의 형식을 type()이나 .info()로 잘 확인해야겠습니다. 각 통계 지표가 무엇을 나타내는지, 그래프를 보고 직관적으로 어떤 관계가 있다고 판단할 수 있는지 많이 공부해야겠다고 생각했습니다. 회귀 심화 세션을 통해서 회귀에 대해서 더 알아가고 싶습니다."
   ]
  },
  {
   "cell_type": "code",
   "execution_count": null,
   "id": "8bddad5d-413f-48e3-8668-8a79877e56ec",
   "metadata": {},
   "outputs": [],
   "source": []
  }
 ],
 "metadata": {
  "kernelspec": {
   "display_name": "Python 3 (ipykernel)",
   "language": "python",
   "name": "python3"
  },
  "language_info": {
   "codemirror_mode": {
    "name": "ipython",
    "version": 3
   },
   "file_extension": ".py",
   "mimetype": "text/x-python",
   "name": "python",
   "nbconvert_exporter": "python",
   "pygments_lexer": "ipython3",
   "version": "3.12.4"
  }
 },
 "nbformat": 4,
 "nbformat_minor": 5
}
