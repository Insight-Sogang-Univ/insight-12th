{
 "cells": [
  {
   "cell_type": "markdown",
   "id": "aa6c6bce-01c9-4a7a-83ab-969e87e6ffa4",
   "metadata": {},
   "source": [
    "test용 파일"
   ]
  },
  {
   "cell_type": "code",
   "execution_count": null,
   "id": "0715c249-07d2-43fc-a7d2-e7d1f6ae08ab",
   "metadata": {},
   "outputs": [],
   "source": []
  }
 ],
 "metadata": {
  "kernelspec": {
   "display_name": "Python 3 (ipykernel)",
   "language": "python",
   "name": "python3"
  },
  "language_info": {
   "codemirror_mode": {
    "name": "ipython",
    "version": 3
   },
   "file_extension": ".py",
   "mimetype": "text/x-python",
   "name": "python",
   "nbconvert_exporter": "python",
   "pygments_lexer": "ipython3",
   "version": "3.11.5"
  }
 },
 "nbformat": 4,
 "nbformat_minor": 5
}
