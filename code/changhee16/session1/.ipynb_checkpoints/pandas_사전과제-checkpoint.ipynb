{
 "cells": [
  {
   "cell_type": "markdown",
   "id": "ba9cbed4-94b2-4571-b91f-5cae0addbd33",
   "metadata": {},
   "source": [
    "여기에 사전과제를 진행해주시면 됩니다!"
   ]
  },
  {
   "cell_type": "code",
   "execution_count": null,
   "id": "172bb820-6904-4497-aed6-bf7b7aaae5f5",
   "metadata": {},
   "outputs": [],
   "source": []
  }
 ],
 "metadata": {
  "kernelspec": {
   "display_name": "Python 3 (ipykernel)",
   "language": "python",
   "name": "python3"
  },
  "language_info": {
   "codemirror_mode": {
    "name": "ipython",
    "version": 3
   },
   "file_extension": ".py",
   "mimetype": "text/x-python",
   "name": "python",
   "nbconvert_exporter": "python",
   "pygments_lexer": "ipython3",
   "version": "3.11.5"
  }
 },
 "nbformat": 4,
 "nbformat_minor": 5
}
