{
 "cells": [
  {
   "cell_type": "markdown",
   "metadata": {},
   "source": [
    "session1이 시작하기 전에, 자유롭게 예습한 내용을 적어주시면 됩니다!"
   ]
  },
  {
   "cell_type": "markdown",
   "metadata": {},
   "source": []
  }
 ],
 "metadata": {
  "language_info": {
   "name": "python"
  }
 },
 "nbformat": 4,
 "nbformat_minor": 2
}
