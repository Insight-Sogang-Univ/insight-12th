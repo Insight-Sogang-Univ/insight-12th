{
 "cells": [
  {
   "cell_type": "markdown",
   "id": "ed6487f2-2efd-4127-810e-13aa23bcb514",
   "metadata": {},
   "source": [
    "1.판다스?\n",
    "\n",
    "판다스\n",
    "\n",
    "- 데이터 분석에 특화된 파이썬 라이브러리\n",
    "\n",
    "- 행과 열로 구성 -> 데이터를 더욱 용이하게 다룰 수 있음"
   ]
  },
  {
   "cell_type": "code",
   "execution_count": null,
   "id": "adba34be-e7c2-4f11-a1c7-9fdc19038532",
   "metadata": {},
   "outputs": [],
   "source": [
    "import pandas as pd # 기본적으로 파이썬에 내장, import를 통해 불러오기\n",
    "df = pd.read_csv('파일 경로') # csv 파일 외에도 엑셀, 제이슨, html, xml, sql 등 다양한 파일을 불러올 수 있는 코드 有"
   ]
  },
  {
   "cell_type": "markdown",
   "id": "7a8721cf-e58f-40a3-98b7-37569729caaf",
   "metadata": {},
   "source": [
    "2. 데이터프레임?\n",
    "\n",
    "데이터 프레임\n",
    "\n",
    "- 컴퓨터로 정보를 정리하고 저장하는 도구\n",
    "- 판다스에서 사용하는 주요 데이터 구조\n",
    "- Index(행, 몇 번째 자료인가?)과 Column(열, 어떤 자료인가?)으로 이루어져 있음\n",
    "- 마치 함수의 좌표와 같은 역할 (index, column)\n",
    "\n",
    "데이터 프레임 구성 방법\n",
    "\n",
    "- 데이터와 인덱스, 컬럼 설정하기 (기본 인덱스를 사용할 경우 생략 가능)\n",
    "- pd.DataFrame을 사용하여 데이터프레임 구성"
   ]
  },
  {
   "cell_type": "code",
   "execution_count": null,
   "id": "880a13cc-8a04-48e9-9dac-537be14dfb2e",
   "metadata": {},
   "outputs": [],
   "source": [
    "\n",
    "# 인덱싱 : 단순 지목\n",
    " ex) df[\"column의 이름\"] / df[\"column의 이름\"][index] / df.loc[행 인덱싱 값, 열 인덱싱 값]/ ... /etc\n",
    "# 슬라이싱 : 범위 지정, 조건 有\n",
    " ex) df.log[:,:] / df.loc[행 인덱싱값1 : 행 인덱싱값2, 열 인덱싱값1 : 열 인덱싱값2] / ... / etc\n",
    "#  인덱스는 0이 기본 설정값, 원하는 대로 변경 가능\n",
    " ex) set_index / reset_index / ... / etc"
   ]
  },
  {
   "cell_type": "markdown",
   "id": "88a7bbca-48dc-41fb-bdf7-aaede9474830",
   "metadata": {},
   "source": [
    "3. 데이터 조작?\n",
    "\n",
    "데이터 확인\n",
    "\n",
    "- 모든 데이터를 볼 수 있다면 좋겠지만! 현실세계에서 다루는 데이터는 대부분 크기가 매우 큼\n",
    "- 일부 혹은 데이터 전체의 경향을 볼 수 있는 함수 존재\n",
    "\n",
    "cf) axis? 축, n차원 배열을 구성하는 요소 / 우리가 주로 다루는 데이터프레임에서 0은 행 관련 연산, 1은 열 관련 연산을 의미"
   ]
  },
  {
   "cell_type": "code",
   "execution_count": null,
   "id": "ddb99112-6398-46eb-950e-9451eca65461",
   "metadata": {},
   "outputs": [],
   "source": [
    "# 데이터프레임 간략히 확인 \n",
    " ex) df.head(n) / df.tail(n) / df.shape \n",
    "# 데이터 정보 확인 \n",
    " ex) df.dtypes / df.info() / df.describe() / df.isnull()\n",
    "# 데이터 개수 세기 \n",
    " ex) df.count() / df[column명].value_counts()\n"
   ]
  },
  {
   "cell_type": "code",
   "execution_count": null,
   "id": "c5594350-414e-424a-9b11-a0224f1dec9e",
   "metadata": {},
   "outputs": [],
   "source": [
    "# 데이터 추가, 삭제\n",
    "# 특정 데이터 셋 추가 \n",
    " ex) df['새로운 열 이름'] = some_list\n",
    "# 열 삭제\n",
    " ex) del df['열 이름'] / df.drop(labels, axis)"
   ]
  },
  {
   "cell_type": "code",
   "execution_count": null,
   "id": "8d022c85-589a-41fb-b1ca-3060388edc8d",
   "metadata": {},
   "outputs": [],
   "source": [
    "# 데이터 정렬\n",
    "# 기존과 다른 새로운 방식으로..\n",
    " ex) df.sort_index / df.sort_values[\"column명\"]"
   ]
  },
  {
   "cell_type": "code",
   "execution_count": null,
   "id": "eb4f934b-b33d-4282-a72f-87071407a2cb",
   "metadata": {},
   "outputs": [],
   "source": [
    "# 데이터 변환\n",
    "\n",
    "# df.dtypes을 사용, 변환하고자 하는 열의 자료형 확인\n",
    " ex) df[’컬럼 명’]=df[’컬럼 명’].astype(원하는 자료형)\n",
    "# 데이터 자체를 변환 \n",
    " ex) df.replace(바꾸고 싶은 변수, 넣을 값)"
   ]
  },
  {
   "cell_type": "markdown",
   "id": "7259f070-a965-4600-be97-ba8bca9225e1",
   "metadata": {},
   "source": [
    "4. 데이터프레임 조작"
   ]
  },
  {
   "cell_type": "code",
   "execution_count": null,
   "id": "e7a31bac-f75d-4fa7-9bd2-8f63275d8fcf",
   "metadata": {},
   "outputs": [],
   "source": [
    "#평균\n",
    "df['컬럼 명'].mean()\n",
    "#중앙값\n",
    "df['컬럼 명'].median()\n",
    "#표준편차\n",
    "df['컬럼 명'].std()\n",
    "#합계\n",
    "df['컬럼 명'].sum()\n",
    "#최댓값\n",
    "df['컬럼 명'].max()\n",
    "#최솟값\n",
    "df['컬럼 명'].min()"
   ]
  },
  {
   "cell_type": "markdown",
   "id": "768eb7c6-b19f-451b-91b2-fdd454cd686a",
   "metadata": {},
   "source": [
    "- groupby 메소드를 통해 특정 기준은로 그룹을 묶고 연산 처리 할 수 있음"
   ]
  },
  {
   "cell_type": "code",
   "execution_count": null,
   "id": "65c511e2-634a-400e-ac34-ebfed942d329",
   "metadata": {},
   "outputs": [],
   "source": [
    "# column1으로 그룹화 -> column2에 대한 평균 반환\n",
    "df.groupby('column명1')[’column명2'].mean()"
   ]
  },
  {
   "cell_type": "markdown",
   "id": "e1ec14c6-dfb1-42c5-8e6a-953534a5566d",
   "metadata": {},
   "source": [
    "- 데이터프레임 합치기 : 여러 데이터프레임을 합쳐야 할 때..."
   ]
  },
  {
   "cell_type": "code",
   "execution_count": null,
   "id": "099cc2fe-da6a-4fb5-be12-2999c4d1cb64",
   "metadata": {},
   "outputs": [],
   "source": [
    "#단순히 두 데이터프레임 이어붙이기\n",
    "pd.concat([df1, df2])\n",
    "\n",
    "#공통 항목을 기준으로 병합, 공통 항목이 있어야 합칠 수 있음\n",
    "pd.merge(df1, df2, how =\"inner\", on=\"~~\")"
   ]
  }
 ],
 "metadata": {
  "kernelspec": {
   "display_name": "Python 3 (ipykernel)",
   "language": "python",
   "name": "python3"
  },
  "language_info": {
   "codemirror_mode": {
    "name": "ipython",
    "version": 3
   },
   "file_extension": ".py",
   "mimetype": "text/x-python",
   "name": "python",
   "nbconvert_exporter": "python",
   "pygments_lexer": "ipython3",
   "version": "3.11.9"
  }
 },
 "nbformat": 4,
 "nbformat_minor": 5
}
