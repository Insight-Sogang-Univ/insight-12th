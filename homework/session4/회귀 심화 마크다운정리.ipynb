{
 "cells": [
  {
   "attachments": {},
   "cell_type": "markdown",
   "id": "ada175fb",
   "metadata": {},
   "source": [
    "## 회귀란?\n",
    "\n",
    "연속적인 데이터에서 함수관계를 찾아내는 통계적 방법 \n",
    "\n",
    "지도학습- 정답 o\n",
    "비지도학습- 정답 x\n",
    "\n",
    "단순 선형 회귀 분석\n",
    "다중 선형 회귀 분석 \n",
    "- 설명 변수 개수에 차이가 있을 뿐, 본질적으로 같음 \n",
    "\n",
    "최소제곱법, 최소 자승법  \n",
    "- 잔차의 제곱의 합을 최소화하는 회귀선을 찾는 방법 \n",
    "\n",
    "### 선형회귀\n",
    "기본 가정 \n",
    "1. 선형성 \n",
    "2. 오차항의 평균은 0이다.\n",
    "3. 독립성 (독립적이지 않은 경우, 다중공선성이 있다고 말함)\n",
    "4. 등분산성 \n",
    "5. 오차항은 자기 상관 되어 있지 않다. \n",
    "6. 정규성 \n",
    "\n",
    "회귀 분석 평가방법\n",
    "- 회귀선을 데이터와 함께 시각화하거나 통계지표를 이용하면 됨. \n",
    "통계지표\n",
    "- R squared, adjusted R squared, AIC, BIC\n",
    "\n",
    "### 비선형 회귀 \n",
    "선형적이지 않은 데이터셋의 분포 (곡선형같은거)\n",
    "1. 다항식 회귀모델\n",
    "2. 지수/ 로그 회귀모델\n",
    "\n",
    "\n"
   ]
  }
 ],
 "metadata": {
  "kernelspec": {
   "display_name": "Python 3",
   "language": "python",
   "name": "python3"
  },
  "language_info": {
   "codemirror_mode": {
    "name": "ipython",
    "version": 3
   },
   "file_extension": ".py",
   "mimetype": "text/x-python",
   "name": "python",
   "nbconvert_exporter": "python",
   "pygments_lexer": "ipython3",
   "version": "3.8.8"
  }
 },
 "nbformat": 4,
 "nbformat_minor": 5
}
