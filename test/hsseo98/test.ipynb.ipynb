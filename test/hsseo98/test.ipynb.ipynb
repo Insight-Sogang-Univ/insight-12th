{
 "cells": [
  {
   "cell_type": "markdown",
   "id": "817cdbfe-cea9-4229-832a-b3e70db95f4f",
   "metadata": {},
   "source": [
    "## 나의 과제"
   ]
  },
  {
   "cell_type": "code",
   "execution_count": null,
   "id": "b4962545-7faf-4bcb-9515-bf2f177cb26a",
   "metadata": {},
   "outputs": [],
   "source": []
  }
 ],
 "metadata": {
  "kernelspec": {
   "display_name": "Python 3 (ipykernel)",
   "language": "python",
   "name": "python3"
  },
  "language_info": {
   "codemirror_mode": {
    "name": "ipython",
    "version": 3
   },
   "file_extension": ".py",
   "mimetype": "text/x-python",
   "name": "python",
   "nbconvert_exporter": "python",
   "pygments_lexer": "ipython3",
   "version": "3.11.7"
  }
 },
 "nbformat": 4,
 "nbformat_minor": 5
}
